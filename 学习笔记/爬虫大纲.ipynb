{
 "cells": [
  {
   "cell_type": "markdown",
   "metadata": {},
   "source": [
    "# 目录"
   ]
  },
  {
   "cell_type": "code",
   "execution_count": null,
   "metadata": {},
   "outputs": [],
   "source": [
    "1. requests\n",
    "2. re\n",
    "3. xpath\n",
    "4. 模拟登录\n",
    "5. 打码平台\n",
    "6. ip代理"
   ]
  },
  {
   "cell_type": "markdown",
   "metadata": {},
   "source": [
    "# 细节问题"
   ]
  },
  {
   "cell_type": "code",
   "execution_count": 2,
   "metadata": {},
   "outputs": [
    {
     "data": {
      "text/plain": [
       "'\\n注意事项：\\n   UA\\n   Referer\\n   Cookie\\n   编码问题\\n   通过XHR获取数据\\n   json数据\\n   m3u8 + ts\\n   application/x-javascript转为json\\n   ts文件无法用windows自带的播放器播放\\n'"
      ]
     },
     "execution_count": 2,
     "metadata": {},
     "output_type": "execute_result"
    }
   ],
   "source": [
    "\"\"\"\n",
    "遇到的问题：\n",
    "   UA\n",
    "   Referer\n",
    "   Cookie\n",
    "   编码问题\n",
    "   通过XHR获取数据\n",
    "   json数据\n",
    "   m3u8 + ts\n",
    "   application/x-javascript转为json\n",
    "   ts文件无法用windows自带的播放器播放\n",
    "   ffmpeg\n",
    "   各种音频格式相互换\n",
    "   ts转MP4\n",
    "   视频转音频\n",
    "\"\"\""
   ]
  },
  {
   "cell_type": "markdown",
   "metadata": {},
   "source": [
    "# Tips"
   ]
  },
  {
   "cell_type": "code",
   "execution_count": 10,
   "metadata": {},
   "outputs": [],
   "source": [
    "# 对于数据量大的 如视频的爬取 可以先获取视频下载地址\n",
    "# 记得保存"
   ]
  },
  {
   "cell_type": "code",
   "execution_count": null,
   "metadata": {},
   "outputs": [],
   "source": [
    "# 多线程加速很好用"
   ]
  },
  {
   "cell_type": "code",
   "execution_count": null,
   "metadata": {},
   "outputs": [],
   "source": [
    "# 先获取视频或者音频的下载地址后 多线程集中下载会比较好\n",
    "# 也容易观测进度"
   ]
  },
  {
   "cell_type": "markdown",
   "metadata": {},
   "source": [
    "# 爬虫耗时最大的是下载数据所需时间而不是分析页面"
   ]
  },
  {
   "cell_type": "markdown",
   "metadata": {},
   "source": [
    "# UA"
   ]
  },
  {
   "cell_type": "code",
   "execution_count": 6,
   "metadata": {},
   "outputs": [],
   "source": [
    "# 这个应该不用多说"
   ]
  },
  {
   "cell_type": "markdown",
   "metadata": {},
   "source": [
    "# Referer"
   ]
  },
  {
   "cell_type": "code",
   "execution_count": 7,
   "metadata": {},
   "outputs": [],
   "source": [
    "# 有时候除了UA之外还需要referer信息\n",
    "# 如懒人听书\n",
    "# 讽刺的是当你发现需要referer后 得到的音频下载地址任然只有部分有效"
   ]
  },
  {
   "cell_type": "markdown",
   "metadata": {},
   "source": [
    "# Cookie"
   ]
  },
  {
   "cell_type": "code",
   "execution_count": null,
   "metadata": {},
   "outputs": [],
   "source": [
    "# 对于需要登录的那些网站 不妨试试Cookie\n",
    "# 不过需要注意cookie的时效性"
   ]
  },
  {
   "cell_type": "markdown",
   "metadata": {},
   "source": [
    "# 所返回的json数据无法解析"
   ]
  },
  {
   "cell_type": "code",
   "execution_count": 1,
   "metadata": {},
   "outputs": [],
   "source": [
    "# 获取到的json数据无法使用response.json()解析\n",
    "# 错误原因 该网站返回的数据不符合json的格式\n",
    "# 解决方案\n",
    "page_text = getResponse(url).text\n",
    "sonObj = demjson.decode(page_text[42:-2])\n",
    "# 选取所返回的数据中数据json的部分 使用demjson解析"
   ]
  },
  {
   "cell_type": "code",
   "execution_count": null,
   "metadata": {},
   "outputs": [],
   "source": [
    "# 返回的时json列表 \n",
    "# 解析示例\n",
    "def getMoreList(url):\n",
    "    res = getResponse(url)\n",
    "    temp = res.text\n",
    "    jsonList = json.loads(temp)\n",
    "    linkList = []\n",
    "    for obj in jsonList:\n",
    "        pageUrl = 'https://www.yicai.com' + obj['url']\n",
    "        #print(pageUrl)\n",
    "        linkList.append(pageUrl)\n",
    "    return linkList"
   ]
  },
  {
   "cell_type": "markdown",
   "metadata": {},
   "source": [
    "# requests获取的网页和浏览器中看到的不一样"
   ]
  },
  {
   "cell_type": "code",
   "execution_count": null,
   "metadata": {},
   "outputs": [],
   "source": [
    "# 一般第一步就需要分析我们通过requests获取的网页HTML代码是否和浏览器中看到的网页一样\n",
    "# 如果不一样 \n",
    "# 最直接的办法就是使用selenium模拟"
   ]
  },
  {
   "cell_type": "markdown",
   "metadata": {},
   "source": [
    "# 文本爬取"
   ]
  },
  {
   "cell_type": "code",
   "execution_count": 2,
   "metadata": {},
   "outputs": [],
   "source": [
    "# 一般步骤\n",
    "# 使用浏览器HTML分析工具选取所需文本对应区域即可\n",
    "# 可用方式\n",
    "# bs4、re、xpath"
   ]
  },
  {
   "cell_type": "code",
   "execution_count": 3,
   "metadata": {},
   "outputs": [
    {
     "data": {
      "text/plain": [
       "\"\\nresponse = requests.get(...)\\nresponse.encoding = 'utf-8'\\n\""
      ]
     },
     "execution_count": 3,
     "metadata": {},
     "output_type": "execute_result"
    }
   ],
   "source": [
    "# 常见问题\n",
    "# 编码问题\n",
    "# 解决方案举例\n",
    "\"\"\"\n",
    "response = requests.get(...)\n",
    "response.encoding = 'utf-8'\n",
    "\"\"\""
   ]
  },
  {
   "cell_type": "markdown",
   "metadata": {},
   "source": [
    "# 音频爬取"
   ]
  },
  {
   "cell_type": "code",
   "execution_count": 4,
   "metadata": {},
   "outputs": [],
   "source": [
    "# 查找音频\n",
    "# 浏览器分析工具选取\n",
    "# 浏览器分析工具 ctrl+F 搜索 mp3 wav m4a\n",
    "\n",
    "# 首先查看音频播放地址是否可以直接在HTML代码中找到\n",
    "# 如果可以找到 提取 下载即可\n",
    "\n",
    "# 注意：HTML中存在的播放地址可能不完整 需要自行根据各个网站添加一部分\n",
    "\n",
    "# 找不到\n",
    "# 分析网站是否是通过XHR请求获取的音频地址\n",
    "# 打开浏览器中网页分析工具 NetWork部分 查看每一个请求以及收到的数据\n",
    "\n",
    "# 最后 可能你找了半天得到的地址还是假的 \n",
    "# 所以下载到的音频最好打开测试一下是否有效 \n",
    "# 此条适用于视频"
   ]
  },
  {
   "cell_type": "markdown",
   "metadata": {},
   "source": [
    "# 视频爬取"
   ]
  },
  {
   "cell_type": "code",
   "execution_count": 5,
   "metadata": {},
   "outputs": [],
   "source": [
    "# 查找视频\n",
    "# 寻找 mp4\n",
    "# 同音频爬取\n",
    "\n"
   ]
  },
  {
   "cell_type": "code",
   "execution_count": 8,
   "metadata": {},
   "outputs": [],
   "source": [
    "# 部分网站采用的时 ts 流媒体形式\n",
    "# 需要通过m3u8文件下载每一个ts文件再进行文件合并\n",
    "# 可以参考爬取cctv的例子 如cctv 经济半小时\n",
    "#"
   ]
  },
  {
   "cell_type": "markdown",
   "metadata": {},
   "source": [
    "# 各种不同格式的音频、视频的转换问题"
   ]
  },
  {
   "cell_type": "code",
   "execution_count": 9,
   "metadata": {},
   "outputs": [],
   "source": [
    "# 可以在转换文件夹看到\n",
    "# 可以通过多线程加速转换"
   ]
  },
  {
   "cell_type": "markdown",
   "metadata": {},
   "source": [
    "# 隐藏selenium产生的浏览器窗口"
   ]
  },
  {
   "cell_type": "code",
   "execution_count": null,
   "metadata": {},
   "outputs": [],
   "source": [
    "# 示例\n",
    "def getM3U8(url):\n",
    "    # 如下\n",
    "    chrome_options =Options()\n",
    "    chrome_options.add_argument('--headless')\n",
    "    browser = webdriver.Chrome(options=chrome_options)\n",
    "    #browser = webdriver.Chrome()\n",
    "    browser.get(url)\n",
    "    html = browser.page_source\n",
    "    tree = etree.HTML(html)\n",
    "    sourseUrl = tree.xpath('//*[@id=\"myFlash_player_html5_api\"]/source/@src')\n",
    "    if len(sourseUrl) == 0:\n",
    "        return \"\"\n",
    "    return sourseUrl[0]"
   ]
  },
  {
   "cell_type": "markdown",
   "metadata": {},
   "source": [
    "# selenium获取的page_source与浏览器看到的还是不一样"
   ]
  },
  {
   "cell_type": "code",
   "execution_count": null,
   "metadata": {},
   "outputs": [],
   "source": [
    "# 可能的解决方案是在获取page_source前sleep几秒\n",
    "url = 'https://v.jin10.com/details.html?id=14225'\n",
    "def getVideoSrc(url):\n",
    "    chrome_options =Options()\n",
    "    chrome_options.add_argument('--headless')\n",
    "    browser = webdriver.Chrome(options=chrome_options)\n",
    "    browser.get(url)\n",
    "    time.sleep(3)\n",
    "    page_text = browser.page_source\n",
    "    tree = etree.HTML(page_text)\n",
    "    src = tree.xpath('//*[@id=\"vjs_video_3_html5_api\"]/@src')\n",
    "    if len(src) == 0:\n",
    "        return \"\"\n",
    "    return src[0]"
   ]
  },
  {
   "cell_type": "markdown",
   "metadata": {},
   "source": [
    "# selenium切换iframe以及属性定位"
   ]
  },
  {
   "cell_type": "code",
   "execution_count": null,
   "metadata": {},
   "outputs": [],
   "source": [
    "def getMp4Url(url):\n",
    "    # 需要使用selenium 并且切换iframe 加上 属性定位\n",
    "    chrome_options =Options()\n",
    "    chrome_options.add_argument('--headless')\n",
    "    # 如何实现让selenium规避被检测到的风险\n",
    "    option = ChromeOptions()\n",
    "    option.add_experimental_option('excludeSwitches', ['enable-automation'])\n",
    "    browser = webdriver.Chrome(executable_path='C:/Users/Administrator/Desktop/chromedriver_win32/chromedriver.exe', chrome_options=chrome_options, options=option)\n",
    "    #browser = webdriver.Chrome(executable_path='C:/Users/Administrator/Desktop/chromedriver_win32/chromedriver.exe')\n",
    "    browser.maximize_window()\n",
    "    browser.get(url)\n",
    "    #time.sleep(1)\n",
    "    iframe = browser.find_element_by_tag_name(\"iframe\")\n",
    "    browser.switch_to.frame(iframe)\n",
    "    time.sleep(1)\n",
    "    video = browser.find_element_by_tag_name(\"video\")\n",
    "    src = video.get_attribute('origin_src')\n",
    "    browser.quit()\n",
    "    return src\n",
    "\n",
    "print(getMp4Url('https://mp.weixin.qq.com/s/q0IFSxAc3hMm9lp4-YnEmA'))"
   ]
  },
  {
   "cell_type": "markdown",
   "metadata": {},
   "source": [
    "# selenium 验证码"
   ]
  },
  {
   "cell_type": "code",
   "execution_count": null,
   "metadata": {},
   "outputs": [],
   "source": [
    "# 有的网站看起来是需要验证码 实际上只需要Enter即可\n",
    "# 针对验证码不需要对错 子需要Enter即可的情况\n",
    "# https://www.findlaw.cn/video/25990.html\n",
    "def retry(url):\n",
    "    try:\n",
    "        print('retry')\n",
    "        browser = webdriver.Chrome(executable_path='C:/Users/Administrator/Desktop/chromedriver_win32/chromedriver.exe')\n",
    "        browser.get(url)\n",
    "        time.sleep(2)\n",
    "        \"\"\"\n",
    "        inputLine = browser.find_element_by_id('vgcode')\n",
    "        inputLine.send_keys('1234')\n",
    "        btn = browser.find_element_by_id('resubimt')\n",
    "        time.sleep(20)\n",
    "        btn.click()\n",
    "        time.sleep(60)\n",
    "        \"\"\"\n",
    "        ActionChains(browser).send_keys(Keys.ENTER).perform()\n",
    "        time.sleep(2)\n",
    "        browser.quit()\n",
    "    except Exception as e:\n",
    "        return"
   ]
  },
  {
   "cell_type": "markdown",
   "metadata": {},
   "source": [
    "# 获取某个标签下所有文本内容"
   ]
  },
  {
   "cell_type": "code",
   "execution_count": null,
   "metadata": {},
   "outputs": [],
   "source": [
    "# 使用xpath定位到该标签后\n",
    "# 注意 //text()\n",
    "# /text() 获取的只是第一个文本内容\n",
    "# tree.xpath('//label//text()')"
   ]
  },
  {
   "cell_type": "code",
   "execution_count": 1,
   "metadata": {},
   "outputs": [
    {
     "name": "stdout",
     "output_type": "stream",
     "text": [
      "[1, 2, 3]\n"
     ]
    }
   ],
   "source": [
    "l = [1, 2, 3]\n",
    "for i in l:\n",
    "    i = 1\n",
    "print(l)"
   ]
  },
  {
   "cell_type": "code",
   "execution_count": null,
   "metadata": {},
   "outputs": [],
   "source": []
  }
 ],
 "metadata": {
  "kernelspec": {
   "display_name": "Python 3",
   "language": "python",
   "name": "python3"
  },
  "language_info": {
   "codemirror_mode": {
    "name": "ipython",
    "version": 3
   },
   "file_extension": ".py",
   "mimetype": "text/x-python",
   "name": "python",
   "nbconvert_exporter": "python",
   "pygments_lexer": "ipython3",
   "version": "3.8.5"
  }
 },
 "nbformat": 4,
 "nbformat_minor": 4
}
