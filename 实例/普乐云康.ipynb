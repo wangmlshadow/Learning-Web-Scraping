{
 "cells": [
  {
   "cell_type": "code",
   "execution_count": 1,
   "metadata": {},
   "outputs": [],
   "source": [
    "import requests\n",
    "from bs4 import BeautifulSoup\n",
    "import re\n",
    "import json\n",
    "from selenium import webdriver\n",
    "from lxml import etree\n",
    "import os\n",
    "from os import path\n",
    "import shutil\n",
    "import time\n",
    "import demjson"
   ]
  },
  {
   "cell_type": "code",
   "execution_count": 2,
   "metadata": {},
   "outputs": [],
   "source": [
    "def getResponse(url, param = {}):\n",
    "    headers = {\n",
    "        'User-Agent':'Mozilla/5.0 (Windows NT 10.0; Win64; x64) AppleWebKit/537.36 (KHTML, like Gecko) Chrome/89.0.4389.90 Safari/537.36'\n",
    "    }\n",
    "    response = requests.get(url=url, headers=headers, params=param)\n",
    "    return response"
   ]
  },
  {
   "cell_type": "code",
   "execution_count": 3,
   "metadata": {},
   "outputs": [],
   "source": [
    "# https://www.pule.com/voice/23260\n",
    "# https://file2.pule.com/v2a/23260.mp3"
   ]
  },
  {
   "cell_type": "code",
   "execution_count": 10,
   "metadata": {},
   "outputs": [],
   "source": [
    "# 获取音频页面的音频下载地址和对应文本\n",
    "def getAudioUrlAndText(url):\n",
    "    response = getResponse(url)\n",
    "    response.encoding = 'utf-8'\n",
    "    page_text = response.text\n",
    "    #print(page_text)\n",
    "    tree = etree.HTML(page_text)\n",
    "    temp = tree.xpath('//div[@class=\"audio-playbox\"]//source/@src')    \n",
    "    if len(temp) == 0:\n",
    "        return \"\", \"\"    \n",
    "    audioSrcUrl = temp[0]\n",
    "    text = tree.xpath('//div[@class=\"content\"]/text()')\n",
    "    return audioSrcUrl, text"
   ]
  },
  {
   "cell_type": "code",
   "execution_count": 11,
   "metadata": {},
   "outputs": [
    {
     "name": "stdout",
     "output_type": "stream",
     "text": [
      "https://file2.pule.com/v2a/23260.mp3\n",
      "['结膜炎是在眼睛的白眼球表面，以及眼皮内表面薄层结构，发生的炎症。\\n\\n结膜炎为细菌、病毒、衣原体、真菌、寄生虫等感染，风沙、烟尘、紫外线暴露以及酸碱或有毒气体化学损伤，抑或过敏性、全身性疾病包括肺结核、梅毒、甲状腺疾病等、眼睛周围组织包括角膜、巩膜、眼睑、鼻腔、鼻窦所导致结膜的炎症反应。\\n\\n结膜炎常见的症状有眼红、异物感、烧灼感、痒、怕光、流泪、分泌物增多，有时也会有眼痛。']\n"
     ]
    }
   ],
   "source": [
    "url, text = getAudioUrlAndText('https://www.pule.com/voice/23260')\n",
    "print(url)\n",
    "print(text)"
   ]
  },
  {
   "cell_type": "code",
   "execution_count": 12,
   "metadata": {},
   "outputs": [],
   "source": [
    "# 下载音频和文本\n",
    "def downloadAudioAndText(url):\n",
    "    audioUrl, text = getAudioUrlAndText(url)\n",
    "    if audioUrl == \"\":\n",
    "        print('error')\n",
    "        return\n",
    "    text = '\\n'.join(text)\n",
    "    fileName = (audioUrl.split('/')[-1]).split('.')[0]\n",
    "    with open('text/' + fileName + '.txt', 'w', encoding='utf-8') as fp:\n",
    "        fp.write(text)\n",
    "    content = getResponse(audioUrl).content\n",
    "    with open('mp3/' + fileName + '.mp3', 'wb') as fp:\n",
    "        fp.write(content)\n",
    "    print(url, \"successful\")"
   ]
  },
  {
   "cell_type": "code",
   "execution_count": 13,
   "metadata": {},
   "outputs": [
    {
     "name": "stdout",
     "output_type": "stream",
     "text": [
      "https://www.pule.com/voice/23260 successful\n"
     ]
    }
   ],
   "source": [
    "downloadAudioAndText('https://www.pule.com/voice/23260')"
   ]
  },
  {
   "cell_type": "code",
   "execution_count": 14,
   "metadata": {},
   "outputs": [],
   "source": [
    "# 获取每一页的所有音频页链接\n",
    "def getAudioUrlOfEveryPage(url):\n",
    "    response = getResponse(url)\n",
    "    response.encoding = 'utf-8'\n",
    "    page_text = response.text\n",
    "    tree = etree.HTML(page_text)\n",
    "    allPage = tree.xpath('//div[@class=\"content\"]/a')\n",
    "    linkList = []\n",
    "    for li in allPage:\n",
    "        pageLink = 'https://www.pule.com' + li.xpath('./@href')[0]\n",
    "        #print(pageLink)\n",
    "        linkList.append(pageLink)\n",
    "    return linkList"
   ]
  },
  {
   "cell_type": "code",
   "execution_count": 15,
   "metadata": {},
   "outputs": [
    {
     "name": "stdout",
     "output_type": "stream",
     "text": [
      "https://www.pule.com/voice/23260\n",
      "https://www.pule.com/voice/23764\n",
      "https://www.pule.com/voice/24285\n",
      "https://www.pule.com/voice/27259\n",
      "https://www.pule.com/voice/27345\n",
      "https://www.pule.com/voice/27394\n",
      "https://www.pule.com/voice/27432\n",
      "https://www.pule.com/voice/27841\n",
      "https://www.pule.com/voice/28037\n",
      "https://www.pule.com/voice/28067\n"
     ]
    }
   ],
   "source": [
    "for link in getAudioUrlOfEveryPage('https://www.pule.com/voice/'):\n",
    "    print(link)"
   ]
  },
  {
   "cell_type": "code",
   "execution_count": 16,
   "metadata": {},
   "outputs": [
    {
     "name": "stdout",
     "output_type": "stream",
     "text": [
      "https://www.pule.com/voice/23260 successful\n",
      "https://www.pule.com/voice/23764 successful\n",
      "https://www.pule.com/voice/24285 successful\n",
      "https://www.pule.com/voice/27259 successful\n",
      "https://www.pule.com/voice/27345 successful\n",
      "https://www.pule.com/voice/27394 successful\n",
      "https://www.pule.com/voice/27432 successful\n",
      "https://www.pule.com/voice/27841 successful\n",
      "https://www.pule.com/voice/28037 successful\n",
      "https://www.pule.com/voice/28067 successful\n"
     ]
    }
   ],
   "source": [
    "for link in getAudioUrlOfEveryPage('https://www.pule.com/voice/'):\n",
    "    downloadAudioAndText(link)"
   ]
  },
  {
   "cell_type": "code",
   "execution_count": 19,
   "metadata": {},
   "outputs": [],
   "source": [
    "# 获取视频页面的视频下载地址和对应文本\n",
    "def getVideoUrlAndText(url):\n",
    "    response = getResponse(url)\n",
    "    response.encoding = 'utf-8'\n",
    "    page_text = response.text\n",
    "    tree = etree.HTML(page_text)\n",
    "    temp = tree.xpath('//source/@src')    \n",
    "    if len(temp) == 0:\n",
    "        return \"\", \"\"    \n",
    "    audioSrcUrl = temp[0]\n",
    "    text = tree.xpath('//div[@class=\"content\"]/p/text()')\n",
    "    return audioSrcUrl, text"
   ]
  },
  {
   "cell_type": "code",
   "execution_count": 20,
   "metadata": {},
   "outputs": [
    {
     "name": "stdout",
     "output_type": "stream",
     "text": [
      "https://vod.pule.com/6c992c3bvodcq1500003583/b1bcdba55285890813370524325/f0.mp4\n",
      "['肾炎它分为急性肾炎和慢性肾炎，急性肾炎和慢性肾它的症状是不一样的，一般急性肾炎的症状它起病比较急，它有水肿、有血尿，而且有部分的有感染中毒的症状，有感冒的症状，还有比如有皮肤长脓疱疮、有发热，然后两个礼拜以后出现蛋白尿，出现血尿，一般是急性肾炎常见的症状。', '而慢性肾炎它的症状就比较复杂了，一般慢性肾炎它都有尿里面的改变，比如尿里面出现蛋白尿、出现血尿，如果这个出现蛋白尿、血尿三个月以上，我们平时所说的叫做CKD，这就是慢性肾炎，有些慢性肾炎它完全可以没有症状，它没有任何症状像正常人一样，他一发病到医院去检查肾功能就损害了，肌酐就增高，有尿毒症症状，严重的就需要透析治疗，这就是慢性肾炎和急性肾炎常见的症状。']\n"
     ]
    }
   ],
   "source": [
    "url, text = getVideoUrlAndText('https://www.pule.com/kepu/39382')\n",
    "print(url)\n",
    "print(text)"
   ]
  },
  {
   "cell_type": "code",
   "execution_count": 21,
   "metadata": {},
   "outputs": [],
   "source": [
    "# 下载视频和文本\n",
    "def downloadVideoAndText(url):\n",
    "    audioUrl, text = getVideoUrlAndText(url)\n",
    "    if audioUrl == \"\":\n",
    "        print('error')\n",
    "        return\n",
    "    text = '\\n'.join(text)\n",
    "    fileName = (audioUrl.split('/')[-1]).split('.')[0]\n",
    "    with open('video_text/' + fileName + '.txt', 'w', encoding='utf-8') as fp:\n",
    "        fp.write(text)\n",
    "    content = getResponse(audioUrl).content\n",
    "    with open('video/' + fileName + '.mp4', 'wb') as fp:\n",
    "        fp.write(content)\n",
    "    print(url, \"successful\")"
   ]
  },
  {
   "cell_type": "code",
   "execution_count": 23,
   "metadata": {},
   "outputs": [],
   "source": [
    "# 获取每一页的所有视频页链接\n",
    "def getVideoUrlOfEveryPage(url):\n",
    "    response = getResponse(url)\n",
    "    response.encoding = 'utf-8'\n",
    "    page_text = response.text\n",
    "    tree = etree.HTML(page_text)\n",
    "    allPage = tree.xpath('//div[@class=\"videoitem\"]')\n",
    "    linkList = []\n",
    "    for li in allPage:\n",
    "        pageLink = 'https://www.pule.com' + li.xpath('./a[1]/@href')[0]\n",
    "        #print(pageLink)\n",
    "        linkList.append(pageLink)\n",
    "    return linkList"
   ]
  },
  {
   "cell_type": "code",
   "execution_count": 24,
   "metadata": {},
   "outputs": [
    {
     "name": "stdout",
     "output_type": "stream",
     "text": [
      "https://www.pule.com/kepu/39382\n",
      "https://www.pule.com/kepu/35072\n",
      "https://www.pule.com/kepu/35228\n",
      "https://www.pule.com/kepu/37086\n",
      "https://www.pule.com/kepu/36228\n",
      "https://www.pule.com/kepu/35404\n",
      "https://www.pule.com/kepu/36468\n",
      "https://www.pule.com/kepu/37518\n",
      "https://www.pule.com/kepu/38374\n"
     ]
    }
   ],
   "source": [
    "for link in getVideoUrlOfEveryPage('https://www.pule.com/kepu/'):\n",
    "    print(link)"
   ]
  },
  {
   "cell_type": "code",
   "execution_count": 26,
   "metadata": {},
   "outputs": [
    {
     "name": "stdout",
     "output_type": "stream",
     "text": [
      "https://www.pule.com/kepu/39382 successful\n",
      "https://www.pule.com/kepu/35072 successful\n",
      "https://www.pule.com/kepu/35228 successful\n",
      "https://www.pule.com/kepu/37086 successful\n",
      "https://www.pule.com/kepu/36228 successful\n",
      "https://www.pule.com/kepu/35404 successful\n",
      "https://www.pule.com/kepu/36468 successful\n",
      "https://www.pule.com/kepu/37518 successful\n",
      "https://www.pule.com/kepu/38374 successful\n"
     ]
    }
   ],
   "source": [
    "for link in getVideoUrlOfEveryPage('https://www.pule.com/kepu/'):\n",
    "    downloadVideoAndText(link)"
   ]
  },
  {
   "cell_type": "code",
   "execution_count": null,
   "metadata": {},
   "outputs": [],
   "source": []
  }
 ],
 "metadata": {
  "kernelspec": {
   "display_name": "Python 3",
   "language": "python",
   "name": "python3"
  },
  "language_info": {
   "codemirror_mode": {
    "name": "ipython",
    "version": 3
   },
   "file_extension": ".py",
   "mimetype": "text/x-python",
   "name": "python",
   "nbconvert_exporter": "python",
   "pygments_lexer": "ipython3",
   "version": "3.8.5"
  }
 },
 "nbformat": 4,
 "nbformat_minor": 4
}
