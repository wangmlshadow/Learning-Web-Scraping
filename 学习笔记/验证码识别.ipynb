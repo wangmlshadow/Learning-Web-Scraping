{
 "cells": [
  {
   "cell_type": "markdown",
   "metadata": {},
   "source": [
    "# 验证码识别"
   ]
  },
  {
   "cell_type": "code",
   "execution_count": 1,
   "metadata": {},
   "outputs": [],
   "source": [
    "# 验证码和爬虫的关系：\n",
    "# 反爬机制：验证码\n",
    "# 识别验证码图片中的数据 用于模拟登录\n",
    "# \n",
    "# 识别验证码的操作：\n",
    "# 1.人工识别（不推荐）\n",
    "# 2.第三方自动识别（推荐）"
   ]
  },
  {
   "cell_type": "code",
   "execution_count": 2,
   "metadata": {},
   "outputs": [],
   "source": [
    "# 第三方平台\n",
    "# 云打码：http://www.yundama.com/demo.com 网站挂掉了\n",
    "# 超级🦅： http://www.chaojiying.com/\n"
   ]
  },
  {
   "cell_type": "code",
   "execution_count": 3,
   "metadata": {},
   "outputs": [],
   "source": [
    "# 云打码的使用流程\n",
    "# 注册登录\n"
   ]
  },
  {
   "cell_type": "code",
   "execution_count": null,
   "metadata": {},
   "outputs": [],
   "source": [
    "# 超级鹰提供的开发者文档中的代码数据\n",
    "\n",
    "#!/usr/bin/env python\n",
    "# coding:utf-8\n",
    "\n",
    "import requests\n",
    "from hashlib import md5\n",
    "\n",
    "class Chaojiying_Client(object):\n",
    "\n",
    "    def __init__(self, username, password, soft_id):\n",
    "        self.username = username\n",
    "        password =  password.encode('utf8')\n",
    "        self.password = md5(password).hexdigest()\n",
    "        self.soft_id = soft_id\n",
    "        # 用户信息 用户名 密码 软件id\n",
    "        self.base_params = {\n",
    "            'user': self.username,\n",
    "            'pass2': self.password,\n",
    "            'softid': self.soft_id,\n",
    "        }\n",
    "        self.headers = {\n",
    "            'Connection': 'Keep-Alive',\n",
    "            'User-Agent': 'Mozilla/4.0 (compatible; MSIE 8.0; Windows NT 5.1; Trident/4.0)',\n",
    "        }\n",
    "\n",
    "    def PostPic(self, im, codetype):\n",
    "        \"\"\"\n",
    "        im: 图片字节\n",
    "        codetype: 题目类型 参考 http://www.chaojiying.com/price.html\n",
    "        \"\"\"\n",
    "        params = {\n",
    "            'codetype': codetype,\n",
    "        }\n",
    "        params.update(self.base_params)\n",
    "        files = {'userfile': ('ccc.jpg', im)}\n",
    "        r = requests.post('http://upload.chaojiying.net/Upload/Processing.php', data=params, files=files, headers=self.headers)\n",
    "        return r.json()\n",
    "\n",
    "    def ReportError(self, im_id):\n",
    "        \"\"\"\n",
    "        im_id:报错题目的图片ID\n",
    "        \"\"\"\n",
    "        params = {\n",
    "            'id': im_id,\n",
    "        }\n",
    "        params.update(self.base_params)\n",
    "        r = requests.post('http://upload.chaojiying.net/Upload/ReportError.php', data=params, headers=self.headers)\n",
    "        return r.json()\n",
    "\n",
    "\n",
    "if __name__ == '__main__':\n",
    "\tchaojiying = Chaojiying_Client('超级鹰用户名', '超级鹰用户名的密码', '96001')\t#用户中心>>软件ID 生成一个替换 96001\n",
    "\tim = open('a.jpg', 'rb').read()\t\t\t\t\t\t\t\t\t\t\t\t\t#本地图片文件路径 来替换 a.jpg 有时WIN系统须要//\n",
    "\tprint chaojiying.PostPic(im, 1902)\t\t\t\t\t\t\t\t\t\t\t\t#1902 验证码类型  官方网站>>价格体系 3.4+版 print 后要加()"
   ]
  },
  {
   "cell_type": "code",
   "execution_count": 4,
   "metadata": {},
   "outputs": [],
   "source": [
    "# 使用打码平台识别验证码的编码流程\n",
    "# 将验证图片进行本地下载\n",
    "# 调用平台提供的示例代码进行图片数据识别\n",
    "# "
   ]
  },
  {
   "cell_type": "code",
   "execution_count": 5,
   "metadata": {},
   "outputs": [],
   "source": [
    "# 古诗文网验证码识别\n"
   ]
  },
  {
   "cell_type": "code",
   "execution_count": 6,
   "metadata": {},
   "outputs": [],
   "source": [
    "# 将验证码图片下载到本地\n",
    "# https://so.gushiwen.cn/user/login.aspx?from=http://so.gushiwen.cn/user/collect.aspx"
   ]
  },
  {
   "cell_type": "code",
   "execution_count": null,
   "metadata": {},
   "outputs": [],
   "source": [
    "# 封装识别验证码图片的数据\n",
    "def getCodeText(path):\n",
    "    chaojiying = Chaojiying_Client('超级鹰用户名', '超级鹰用户名的密码', '96001')\n",
    "    im = open(path, 'rb').read()\n",
    "    return chaojiying.PostPic(im, 1902)"
   ]
  },
  {
   "cell_type": "code",
   "execution_count": 7,
   "metadata": {},
   "outputs": [],
   "source": [
    "import requests\n",
    "from lxml import etree"
   ]
  },
  {
   "cell_type": "code",
   "execution_count": 8,
   "metadata": {},
   "outputs": [],
   "source": [
    "url = 'https://so.gushiwen.cn/user/login.aspx?from=http://so.gushiwen.cn/user/collect.aspx'\n",
    "headers = {\n",
    "    'User-Agent':'Mozilla/5.0 (Windows NT 10.0; Win64; x64) AppleWebKit/537.36 (KHTML, like Gecko) Chrome/88.0.4324.182 Safari/537.36'\n",
    "}\n",
    "page_text = requests.get(url=url, headers=headers).text\n",
    "# 解析验证码图片img中src的属性值\n",
    "tree = etree.HTML(page_text)\n",
    "code_img_src = 'https://so.gushiwen.cn/' + tree.xpath('//*[@id=\"imgCode\"]/@src')[0]\n",
    "# 获取图片数据\n",
    "img_data = requests.get(url=code_img_src, headers=headers).content\n",
    "# 将验证码图片保存到本地\n",
    "with open('./code.jpg', 'wb') as fp:\n",
    "    fp.write(img_data)"
   ]
  },
  {
   "cell_type": "code",
   "execution_count": 9,
   "metadata": {},
   "outputs": [],
   "source": [
    "# 调用打码平台的示例程序进行验证码图片数据识别"
   ]
  },
  {
   "cell_type": "code",
   "execution_count": null,
   "metadata": {},
   "outputs": [],
   "source": []
  }
 ],
 "metadata": {
  "kernelspec": {
   "display_name": "Python 3",
   "language": "python",
   "name": "python3"
  },
  "language_info": {
   "codemirror_mode": {
    "name": "ipython",
    "version": 3
   },
   "file_extension": ".py",
   "mimetype": "text/x-python",
   "name": "python",
   "nbconvert_exporter": "python",
   "pygments_lexer": "ipython3",
   "version": "3.8.5"
  }
 },
 "nbformat": 4,
 "nbformat_minor": 4
}
