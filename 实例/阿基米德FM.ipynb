{
 "cells": [
  {
   "cell_type": "markdown",
   "metadata": {},
   "source": [
    "# 相关链接"
   ]
  },
  {
   "cell_type": "code",
   "execution_count": 16,
   "metadata": {},
   "outputs": [],
   "source": [
    "# https://m.ajmide.com/m/audiohistorydetail?phid=52307870"
   ]
  },
  {
   "cell_type": "code",
   "execution_count": 2,
   "metadata": {},
   "outputs": [],
   "source": [
    "# <audio id=\"audioPlayer\" src=\"http://ia-cdn.ajmide.com/c_15391/20210226/15391_20210226_0900.m4a\"></audio>"
   ]
  },
  {
   "cell_type": "code",
   "execution_count": 3,
   "metadata": {},
   "outputs": [],
   "source": [
    "# https://a.ajmide.com/h5/getAudioDetail.php?phId=52307870&topicType=7&o="
   ]
  },
  {
   "cell_type": "code",
   "execution_count": 1,
   "metadata": {},
   "outputs": [],
   "source": [
    "import requests\n",
    "from bs4 import BeautifulSoup\n",
    "import re\n",
    "import json\n",
    "from selenium import webdriver"
   ]
  },
  {
   "cell_type": "code",
   "execution_count": 2,
   "metadata": {},
   "outputs": [],
   "source": [
    "def getResponse(url):\n",
    "    headers = {\n",
    "        'User-Agent':'Mozilla/5.0 (Windows NT 10.0; Win64; x64) AppleWebKit/537.36 (KHTML, like Gecko) Chrome/89.0.4389.90 Safari/537.36'\n",
    "    }\n",
    "    response = requests.get(url=url, headers=headers)\n",
    "    return response"
   ]
  },
  {
   "cell_type": "code",
   "execution_count": 3,
   "metadata": {},
   "outputs": [],
   "source": [
    "# 通过音频源地址爬取音频\n",
    "def getAudio(url):\n",
    "    response = getResponse(url)\n",
    "    path = 'audio/'\n",
    "    fileName = url.split('/')[-1]\n",
    "    with open(path + fileName, 'wb') as fp:\n",
    "        fp.write(response.content)\n",
    "    print(fileName, \"Successful\")"
   ]
  },
  {
   "cell_type": "code",
   "execution_count": 7,
   "metadata": {},
   "outputs": [],
   "source": [
    "# 获取每个音频的phid"
   ]
  },
  {
   "cell_type": "code",
   "execution_count": 8,
   "metadata": {},
   "outputs": [],
   "source": [
    "# http://a.ajmide.com/v3/getBrandContentList.php?brandId=10608731&c=20&i=0\n",
    "# http://a.ajmide.com/v3/getBrandContentList.php?brandId=10608731&c=20&i=200"
   ]
  },
  {
   "cell_type": "code",
   "execution_count": 9,
   "metadata": {},
   "outputs": [],
   "source": [
    "# \"data\"\n",
    "# \"audioAttach\"[0]\n",
    "# \"liveUrl\""
   ]
  },
  {
   "cell_type": "code",
   "execution_count": 11,
   "metadata": {},
   "outputs": [
    {
     "name": "stdout",
     "output_type": "stream",
     "text": [
      "{'code': '0', 'data': [{'userId': '10608731', 'ownerId': '10608731', 'programId': '24303', 'subject': '20210326 寻医问药', 'postTime': '2021-03-26 08:59:19', 'topicType': '7', 'subType': '0', 'viewCount': 13, 'likeCount': '0', 'pluginAttach': None, 'contentAttach': '{\"t\":\"img\",\"files\":[{\"url\":\"http:\\\\/\\\\/img-ossimg.ajmide.com\\\\/program\\\\/1DaRJ6.png\",\"subject\":\"\\\\u5bfb\\\\u533b\\\\u95ee\\\\u836f\",\"phid\":\"52816432\",\"type\":\"t\"}]}', 'contentType': 0, 'showType': 4, 'isLiked': 0, 'isFavorited': 0, 'isOwner': 1, 'shareInfo': {'aac': '', 'link': 'https://m.ajmide.com/m/audiohistorydetail?phid=52816432', 'title': '20210326 寻医问药', 'friendTitle': '20210326 寻医问药', 'content': '寻医问药', 'imgPath': 'https://img-ossimg.ajmide.com/program/1DaRJ6.png'}, 'deletedAt': '0', 'replyCount': '0', 'audioAttach': [{'imgPath': 'https://img-ossimg.ajmide.com/program/1DaRJ6.png', 'subject': '20210326 寻医问药', 'description': '', 'phId': '52816432', 'liveUrl': 'http://ia-cdn.ajmide.com/c_15391/20210326/15391_20210326_0900.m4a', 'audioTime': '3600', 'isCut': 0, 'skipHead': '0', 'count': 1}], 'schema': 'ajmide://wireless/toAudioLibraryDetail?phId=52816432&topicId=30737444&topicType=7', 'producer': '寻医问药', 'producerSchema': 'ajmide://wireless/toBrandHome?brandId=10608731', 'topicId': '30737444', 'top': 0, 'brandName': '寻医问药', 'brandImgPath': 'https://img-ossimg.ajmide.com/program/1DaRJ6.png', 'showStyle': 1, 'author_info': {'userId': '10608731', 'nick': '寻医问药', 'imgPath': 'https://img-ossimg.ajmide.com/program/1DaRJ6.png', 'utpath': 'https://img-ossimg.ajmide.com/c_up/a72c73fd2559215b3ff863584a2630b4.jpg'}, 'latelyReply': []}, {'userId': '10608731', 'ownerId': '10608731', 'programId': '24303', 'subject': '20210325 寻医问药', 'postTime': '2021-03-25 08:59:19', 'topicType': '7', 'subType': '0', 'viewCount': 8, 'likeCount': '0', 'pluginAttach': None, 'contentAttach': '{\"t\":\"img\",\"files\":[{\"url\":\"http:\\\\/\\\\/img-ossimg.ajmide.com\\\\/program\\\\/1DaRJ6.png\",\"subject\":\"\\\\u5bfb\\\\u533b\\\\u95ee\\\\u836f\",\"phid\":\"52796437\",\"type\":\"t\"}]}', 'contentType': 0, 'showType': 4, 'isLiked': 0, 'isFavorited': 0, 'isOwner': 1, 'shareInfo': {'aac': '', 'link': 'https://m.ajmide.com/m/audiohistorydetail?phid=52796437', 'title': '20210325 寻医问药', 'friendTitle': '20210325 寻医问药', 'content': '寻医问药', 'imgPath': 'https://img-ossimg.ajmide.com/program/1DaRJ6.png'}, 'deletedAt': '0', 'replyCount': '0', 'audioAttach': [{'imgPath': 'https://img-ossimg.ajmide.com/program/1DaRJ6.png', 'subject': '20210325 寻医问药', 'description': '', 'phId': '52796437', 'liveUrl': 'http://ia-cdn.ajmide.com/c_15391/20210325/15391_20210325_0900.m4a', 'audioTime': '3600', 'isCut': 0, 'skipHead': '0', 'count': 1}], 'schema': 'ajmide://wireless/toAudioLibraryDetail?phId=52796437&topicId=30723130&topicType=7', 'producer': '寻医问药', 'producerSchema': 'ajmide://wireless/toBrandHome?brandId=10608731', 'topicId': '30723130', 'top': 0, 'brandName': '寻医问药', 'brandImgPath': 'https://img-ossimg.ajmide.com/program/1DaRJ6.png', 'showStyle': 1, 'author_info': {'userId': '10608731', 'nick': '寻医问药', 'imgPath': 'https://img-ossimg.ajmide.com/program/1DaRJ6.png', 'utpath': 'https://img-ossimg.ajmide.com/c_up/a72c73fd2559215b3ff863584a2630b4.jpg'}, 'latelyReply': []}, {'userId': '10608731', 'ownerId': '10608731', 'programId': '24303', 'subject': '20210324 寻医问药', 'postTime': '2021-03-24 08:59:18', 'topicType': '7', 'subType': '0', 'viewCount': 11, 'likeCount': '0', 'pluginAttach': None, 'contentAttach': '{\"t\":\"img\",\"files\":[{\"url\":\"http:\\\\/\\\\/img-ossimg.ajmide.com\\\\/program\\\\/1DaRJ6.png\",\"subject\":\"\\\\u5bfb\\\\u533b\\\\u95ee\\\\u836f\",\"phid\":\"52776869\",\"type\":\"t\"}]}', 'contentType': 0, 'showType': 4, 'isLiked': 0, 'isFavorited': 0, 'isOwner': 1, 'shareInfo': {'aac': '', 'link': 'https://m.ajmide.com/m/audiohistorydetail?phid=52776869', 'title': '20210324 寻医问药', 'friendTitle': '20210324 寻医问药', 'content': '寻医问药', 'imgPath': 'https://img-ossimg.ajmide.com/program/1DaRJ6.png'}, 'deletedAt': '0', 'replyCount': '0', 'audioAttach': [{'imgPath': 'https://img-ossimg.ajmide.com/program/1DaRJ6.png', 'subject': '20210324 寻医问药', 'description': '', 'phId': '52776869', 'liveUrl': 'http://ia-cdn.ajmide.com/c_15391/20210324/15391_20210324_0900.m4a', 'audioTime': '3600', 'isCut': 0, 'skipHead': '0', 'count': 1}], 'schema': 'ajmide://wireless/toAudioLibraryDetail?phId=52776869&topicId=30708993&topicType=7', 'producer': '寻医问药', 'producerSchema': 'ajmide://wireless/toBrandHome?brandId=10608731', 'topicId': '30708993', 'top': 0, 'brandName': '寻医问药', 'brandImgPath': 'https://img-ossimg.ajmide.com/program/1DaRJ6.png', 'showStyle': 1, 'author_info': {'userId': '10608731', 'nick': '寻医问药', 'imgPath': 'https://img-ossimg.ajmide.com/program/1DaRJ6.png', 'utpath': 'https://img-ossimg.ajmide.com/c_up/a72c73fd2559215b3ff863584a2630b4.jpg'}, 'latelyReply': []}, {'userId': '10608731', 'ownerId': '10608731', 'programId': '24303', 'subject': '20210323 寻医问药', 'postTime': '2021-03-23 08:59:22', 'topicType': '7', 'subType': '0', 'viewCount': 26, 'likeCount': '0', 'pluginAttach': None, 'contentAttach': '{\"t\":\"img\",\"files\":[{\"url\":\"http:\\\\/\\\\/img-ossimg.ajmide.com\\\\/program\\\\/1DaRJ6.png\",\"subject\":\"\\\\u5bfb\\\\u533b\\\\u95ee\\\\u836f\",\"phid\":\"52757173\",\"type\":\"t\"}]}', 'contentType': 0, 'showType': 4, 'isLiked': 0, 'isFavorited': 0, 'isOwner': 1, 'shareInfo': {'aac': '', 'link': 'https://m.ajmide.com/m/audiohistorydetail?phid=52757173', 'title': '20210323 寻医问药', 'friendTitle': '20210323 寻医问药', 'content': '寻医问药', 'imgPath': 'https://img-ossimg.ajmide.com/program/1DaRJ6.png'}, 'deletedAt': '0', 'replyCount': '0', 'audioAttach': [{'imgPath': 'https://img-ossimg.ajmide.com/program/1DaRJ6.png', 'subject': '20210323 寻医问药', 'description': '', 'phId': '52757173', 'liveUrl': 'http://ia-cdn.ajmide.com/c_15391/20210323/15391_20210323_0900.m4a', 'audioTime': '3600', 'isCut': 0, 'skipHead': '0', 'count': 1}], 'schema': 'ajmide://wireless/toAudioLibraryDetail?phId=52757173&topicId=30695017&topicType=7', 'producer': '寻医问药', 'producerSchema': 'ajmide://wireless/toBrandHome?brandId=10608731', 'topicId': '30695017', 'top': 0, 'brandName': '寻医问药', 'brandImgPath': 'https://img-ossimg.ajmide.com/program/1DaRJ6.png', 'showStyle': 1, 'author_info': {'userId': '10608731', 'nick': '寻医问药', 'imgPath': 'https://img-ossimg.ajmide.com/program/1DaRJ6.png', 'utpath': 'https://img-ossimg.ajmide.com/c_up/a72c73fd2559215b3ff863584a2630b4.jpg'}, 'latelyReply': []}, {'userId': '10608731', 'ownerId': '10608731', 'programId': '24303', 'subject': '20210322 寻医问药', 'postTime': '2021-03-22 08:59:17', 'topicType': '7', 'subType': '0', 'viewCount': 26, 'likeCount': '0', 'pluginAttach': None, 'contentAttach': '{\"t\":\"img\",\"files\":[{\"url\":\"http:\\\\/\\\\/img-ossimg.ajmide.com\\\\/program\\\\/1DaRJ6.png\",\"subject\":\"\\\\u5bfb\\\\u533b\\\\u95ee\\\\u836f\",\"phid\":\"52740192\",\"type\":\"t\"}]}', 'contentType': 0, 'showType': 4, 'isLiked': 0, 'isFavorited': 0, 'isOwner': 1, 'shareInfo': {'aac': '', 'link': 'https://m.ajmide.com/m/audiohistorydetail?phid=52740192', 'title': '20210322 寻医问药', 'friendTitle': '20210322 寻医问药', 'content': '寻医问药', 'imgPath': 'https://img-ossimg.ajmide.com/program/1DaRJ6.png'}, 'deletedAt': '0', 'replyCount': '0', 'audioAttach': [{'imgPath': 'https://img-ossimg.ajmide.com/program/1DaRJ6.png', 'subject': '20210322 寻医问药', 'description': '', 'phId': '52740192', 'liveUrl': 'http://ia-cdn.ajmide.com/c_15391/20210322/15391_20210322_0900.m4a', 'audioTime': '3600', 'isCut': 0, 'skipHead': '0', 'count': 1}], 'schema': 'ajmide://wireless/toAudioLibraryDetail?phId=52740192&topicId=30680984&topicType=7', 'producer': '寻医问药', 'producerSchema': 'ajmide://wireless/toBrandHome?brandId=10608731', 'topicId': '30680984', 'top': 0, 'brandName': '寻医问药', 'brandImgPath': 'https://img-ossimg.ajmide.com/program/1DaRJ6.png', 'showStyle': 1, 'author_info': {'userId': '10608731', 'nick': '寻医问药', 'imgPath': 'https://img-ossimg.ajmide.com/program/1DaRJ6.png', 'utpath': 'https://img-ossimg.ajmide.com/c_up/a72c73fd2559215b3ff863584a2630b4.jpg'}, 'latelyReply': []}, {'userId': '10608731', 'ownerId': '10608731', 'programId': '24303', 'subject': '20210319 寻医问药', 'postTime': '2021-03-19 08:59:18', 'topicType': '7', 'subType': '0', 'viewCount': 21, 'likeCount': '0', 'pluginAttach': None, 'contentAttach': '{\"t\":\"img\",\"files\":[{\"url\":\"http:\\\\/\\\\/img-ossimg.ajmide.com\\\\/program\\\\/1DaRJ6.png\",\"subject\":\"\\\\u5bfb\\\\u533b\\\\u95ee\\\\u836f\",\"phid\":\"52687757\",\"type\":\"t\"}]}', 'contentType': 0, 'showType': 4, 'isLiked': 0, 'isFavorited': 0, 'isOwner': 1, 'shareInfo': {'aac': '', 'link': 'https://m.ajmide.com/m/audiohistorydetail?phid=52687757', 'title': '20210319 寻医问药', 'friendTitle': '20210319 寻医问药', 'content': '寻医问药', 'imgPath': 'https://img-ossimg.ajmide.com/program/1DaRJ6.png'}, 'deletedAt': '0', 'replyCount': '0', 'audioAttach': [{'imgPath': 'https://img-ossimg.ajmide.com/program/1DaRJ6.png', 'subject': '20210319 寻医问药', 'description': '', 'phId': '52687757', 'liveUrl': 'http://ia-cdn.ajmide.com/c_15391/20210319/15391_20210319_0900.m4a', 'audioTime': '3600', 'isCut': 0, 'skipHead': '0', 'count': 1}], 'schema': 'ajmide://wireless/toAudioLibraryDetail?phId=52687757&topicId=30645503&topicType=7', 'producer': '寻医问药', 'producerSchema': 'ajmide://wireless/toBrandHome?brandId=10608731', 'topicId': '30645503', 'top': 0, 'brandName': '寻医问药', 'brandImgPath': 'https://img-ossimg.ajmide.com/program/1DaRJ6.png', 'showStyle': 1, 'author_info': {'userId': '10608731', 'nick': '寻医问药', 'imgPath': 'https://img-ossimg.ajmide.com/program/1DaRJ6.png', 'utpath': 'https://img-ossimg.ajmide.com/c_up/a72c73fd2559215b3ff863584a2630b4.jpg'}, 'latelyReply': []}, {'userId': '10608731', 'ownerId': '10608731', 'programId': '24303', 'subject': '20210318 寻医问药', 'postTime': '2021-03-18 08:59:19', 'topicType': '7', 'subType': '0', 'viewCount': 31, 'likeCount': '0', 'pluginAttach': None, 'contentAttach': '{\"t\":\"img\",\"files\":[{\"url\":\"http:\\\\/\\\\/img-ossimg.ajmide.com\\\\/program\\\\/1DaRJ6.png\",\"subject\":\"\\\\u5bfb\\\\u533b\\\\u95ee\\\\u836f\",\"phid\":\"52668067\",\"type\":\"t\"}]}', 'contentType': 0, 'showType': 4, 'isLiked': 0, 'isFavorited': 0, 'isOwner': 1, 'shareInfo': {'aac': '', 'link': 'https://m.ajmide.com/m/audiohistorydetail?phid=52668067', 'title': '20210318 寻医问药', 'friendTitle': '20210318 寻医问药', 'content': '寻医问药', 'imgPath': 'https://img-ossimg.ajmide.com/program/1DaRJ6.png'}, 'deletedAt': '0', 'replyCount': '0', 'audioAttach': [{'imgPath': 'https://img-ossimg.ajmide.com/program/1DaRJ6.png', 'subject': '20210318 寻医问药', 'description': '', 'phId': '52668067', 'liveUrl': 'http://ia-cdn.ajmide.com/c_15391/20210318/15391_20210318_0900.m4a', 'audioTime': '3600', 'isCut': 0, 'skipHead': '0', 'count': 1}], 'schema': 'ajmide://wireless/toAudioLibraryDetail?phId=52668067&topicId=30631278&topicType=7', 'producer': '寻医问药', 'producerSchema': 'ajmide://wireless/toBrandHome?brandId=10608731', 'topicId': '30631278', 'top': 0, 'brandName': '寻医问药', 'brandImgPath': 'https://img-ossimg.ajmide.com/program/1DaRJ6.png', 'showStyle': 1, 'author_info': {'userId': '10608731', 'nick': '寻医问药', 'imgPath': 'https://img-ossimg.ajmide.com/program/1DaRJ6.png', 'utpath': 'https://img-ossimg.ajmide.com/c_up/a72c73fd2559215b3ff863584a2630b4.jpg'}, 'latelyReply': []}, {'userId': '10608731', 'ownerId': '10608731', 'programId': '24303', 'subject': '20210317 寻医问药', 'postTime': '2021-03-17 08:59:21', 'topicType': '7', 'subType': '0', 'viewCount': 13, 'likeCount': '0', 'pluginAttach': None, 'contentAttach': '{\"t\":\"img\",\"files\":[{\"url\":\"http:\\\\/\\\\/img-ossimg.ajmide.com\\\\/program\\\\/1DaRJ6.png\",\"subject\":\"\\\\u5bfb\\\\u533b\\\\u95ee\\\\u836f\",\"phid\":\"52648201\",\"type\":\"t\"}]}', 'contentType': 0, 'showType': 4, 'isLiked': 0, 'isFavorited': 0, 'isOwner': 1, 'shareInfo': {'aac': '', 'link': 'https://m.ajmide.com/m/audiohistorydetail?phid=52648201', 'title': '20210317 寻医问药', 'friendTitle': '20210317 寻医问药', 'content': '寻医问药', 'imgPath': 'https://img-ossimg.ajmide.com/program/1DaRJ6.png'}, 'deletedAt': '0', 'replyCount': '0', 'audioAttach': [{'imgPath': 'https://img-ossimg.ajmide.com/program/1DaRJ6.png', 'subject': '20210317 寻医问药', 'description': '', 'phId': '52648201', 'liveUrl': 'http://ia-cdn.ajmide.com/c_15391/20210317/15391_20210317_0900.m4a', 'audioTime': '3600', 'isCut': 0, 'skipHead': '0', 'count': 1}], 'schema': 'ajmide://wireless/toAudioLibraryDetail?phId=52648201&topicId=30617228&topicType=7', 'producer': '寻医问药', 'producerSchema': 'ajmide://wireless/toBrandHome?brandId=10608731', 'topicId': '30617228', 'top': 0, 'brandName': '寻医问药', 'brandImgPath': 'https://img-ossimg.ajmide.com/program/1DaRJ6.png', 'showStyle': 1, 'author_info': {'userId': '10608731', 'nick': '寻医问药', 'imgPath': 'https://img-ossimg.ajmide.com/program/1DaRJ6.png', 'utpath': 'https://img-ossimg.ajmide.com/c_up/a72c73fd2559215b3ff863584a2630b4.jpg'}, 'latelyReply': []}, {'userId': '10608731', 'ownerId': '10608731', 'programId': '24303', 'subject': '20210316 寻医问药', 'postTime': '2021-03-16 08:59:19', 'topicType': '7', 'subType': '0', 'viewCount': 20, 'likeCount': '0', 'pluginAttach': None, 'contentAttach': '{\"t\":\"img\",\"files\":[{\"url\":\"http:\\\\/\\\\/img-ossimg.ajmide.com\\\\/program\\\\/1DaRJ6.png\",\"subject\":\"\\\\u5bfb\\\\u533b\\\\u95ee\\\\u836f\",\"phid\":\"52629258\",\"type\":\"t\"}]}', 'contentType': 0, 'showType': 4, 'isLiked': 0, 'isFavorited': 0, 'isOwner': 1, 'shareInfo': {'aac': '', 'link': 'https://m.ajmide.com/m/audiohistorydetail?phid=52629258', 'title': '20210316 寻医问药', 'friendTitle': '20210316 寻医问药', 'content': '寻医问药', 'imgPath': 'https://img-ossimg.ajmide.com/program/1DaRJ6.png'}, 'deletedAt': '0', 'replyCount': '0', 'audioAttach': [{'imgPath': 'https://img-ossimg.ajmide.com/program/1DaRJ6.png', 'subject': '20210316 寻医问药', 'description': '', 'phId': '52629258', 'liveUrl': 'http://ia-cdn.ajmide.com/c_15391/20210316/15391_20210316_0900.m4a', 'audioTime': '3600', 'isCut': 0, 'skipHead': '0', 'count': 1}], 'schema': 'ajmide://wireless/toAudioLibraryDetail?phId=52629258&topicId=30603181&topicType=7', 'producer': '寻医问药', 'producerSchema': 'ajmide://wireless/toBrandHome?brandId=10608731', 'topicId': '30603181', 'top': 0, 'brandName': '寻医问药', 'brandImgPath': 'https://img-ossimg.ajmide.com/program/1DaRJ6.png', 'showStyle': 1, 'author_info': {'userId': '10608731', 'nick': '寻医问药', 'imgPath': 'https://img-ossimg.ajmide.com/program/1DaRJ6.png', 'utpath': 'https://img-ossimg.ajmide.com/c_up/a72c73fd2559215b3ff863584a2630b4.jpg'}, 'latelyReply': []}, {'userId': '10608731', 'ownerId': '10608731', 'programId': '24303', 'subject': '20210315 寻医问药', 'postTime': '2021-03-15 08:59:18', 'topicType': '7', 'subType': '0', 'viewCount': 18, 'likeCount': '0', 'pluginAttach': None, 'contentAttach': '{\"t\":\"img\",\"files\":[{\"url\":\"http:\\\\/\\\\/img-ossimg.ajmide.com\\\\/program\\\\/1DaRJ6.png\",\"subject\":\"\\\\u5bfb\\\\u533b\\\\u95ee\\\\u836f\",\"phid\":\"52612479\",\"type\":\"t\"}]}', 'contentType': 0, 'showType': 4, 'isLiked': 0, 'isFavorited': 0, 'isOwner': 1, 'shareInfo': {'aac': '', 'link': 'https://m.ajmide.com/m/audiohistorydetail?phid=52612479', 'title': '20210315 寻医问药', 'friendTitle': '20210315 寻医问药', 'content': '寻医问药', 'imgPath': 'https://img-ossimg.ajmide.com/program/1DaRJ6.png'}, 'deletedAt': '0', 'replyCount': '0', 'audioAttach': [{'imgPath': 'https://img-ossimg.ajmide.com/program/1DaRJ6.png', 'subject': '20210315 寻医问药', 'description': '', 'phId': '52612479', 'liveUrl': 'http://ia-cdn.ajmide.com/c_15391/20210315/15391_20210315_0900.m4a', 'audioTime': '3600', 'isCut': 0, 'skipHead': '0', 'count': 1}], 'schema': 'ajmide://wireless/toAudioLibraryDetail?phId=52612479&topicId=30589569&topicType=7', 'producer': '寻医问药', 'producerSchema': 'ajmide://wireless/toBrandHome?brandId=10608731', 'topicId': '30589569', 'top': 0, 'brandName': '寻医问药', 'brandImgPath': 'https://img-ossimg.ajmide.com/program/1DaRJ6.png', 'showStyle': 1, 'author_info': {'userId': '10608731', 'nick': '寻医问药', 'imgPath': 'https://img-ossimg.ajmide.com/program/1DaRJ6.png', 'utpath': 'https://img-ossimg.ajmide.com/c_up/a72c73fd2559215b3ff863584a2630b4.jpg'}, 'latelyReply': []}, {'userId': '10608731', 'ownerId': '10608731', 'programId': '24303', 'subject': '20210312 寻医问药', 'postTime': '2021-03-12 08:59:17', 'topicType': '7', 'subType': '0', 'viewCount': 29, 'likeCount': '0', 'pluginAttach': None, 'contentAttach': '{\"t\":\"img\",\"files\":[{\"url\":\"http:\\\\/\\\\/img-ossimg.ajmide.com\\\\/program\\\\/1DaRJ6.png\",\"subject\":\"\\\\u5bfb\\\\u533b\\\\u95ee\\\\u836f\",\"phid\":\"52561404\",\"type\":\"t\"}]}', 'contentType': 0, 'showType': 4, 'isLiked': 0, 'isFavorited': 0, 'isOwner': 1, 'shareInfo': {'aac': '', 'link': 'https://m.ajmide.com/m/audiohistorydetail?phid=52561404', 'title': '20210312 寻医问药', 'friendTitle': '20210312 寻医问药', 'content': '寻医问药', 'imgPath': 'https://img-ossimg.ajmide.com/program/1DaRJ6.png'}, 'deletedAt': '0', 'replyCount': '0', 'audioAttach': [{'imgPath': 'https://img-ossimg.ajmide.com/program/1DaRJ6.png', 'subject': '20210312 寻医问药', 'description': '', 'phId': '52561404', 'liveUrl': 'http://ia-cdn.ajmide.com/c_15391/20210312/15391_20210312_0900.m4a', 'audioTime': '3600', 'isCut': 0, 'skipHead': '0', 'count': 1}], 'schema': 'ajmide://wireless/toAudioLibraryDetail?phId=52561404&topicId=30554186&topicType=7', 'producer': '寻医问药', 'producerSchema': 'ajmide://wireless/toBrandHome?brandId=10608731', 'topicId': '30554186', 'top': 0, 'brandName': '寻医问药', 'brandImgPath': 'https://img-ossimg.ajmide.com/program/1DaRJ6.png', 'showStyle': 1, 'author_info': {'userId': '10608731', 'nick': '寻医问药', 'imgPath': 'https://img-ossimg.ajmide.com/program/1DaRJ6.png', 'utpath': 'https://img-ossimg.ajmide.com/c_up/a72c73fd2559215b3ff863584a2630b4.jpg'}, 'latelyReply': []}, {'userId': '10608731', 'ownerId': '10608731', 'programId': '24303', 'subject': '20210311 寻医问药', 'postTime': '2021-03-11 08:59:19', 'topicType': '7', 'subType': '0', 'viewCount': 38, 'likeCount': '0', 'pluginAttach': None, 'contentAttach': '{\"t\":\"img\",\"files\":[{\"url\":\"http:\\\\/\\\\/img-ossimg.ajmide.com\\\\/program\\\\/1DaRJ6.png\",\"subject\":\"\\\\u5bfb\\\\u533b\\\\u95ee\\\\u836f\",\"phid\":\"52542576\",\"type\":\"t\"}]}', 'contentType': 0, 'showType': 4, 'isLiked': 0, 'isFavorited': 0, 'isOwner': 1, 'shareInfo': {'aac': '', 'link': 'https://m.ajmide.com/m/audiohistorydetail?phid=52542576', 'title': '20210311 寻医问药', 'friendTitle': '20210311 寻医问药', 'content': '寻医问药', 'imgPath': 'https://img-ossimg.ajmide.com/program/1DaRJ6.png'}, 'deletedAt': '0', 'replyCount': '0', 'audioAttach': [{'imgPath': 'https://img-ossimg.ajmide.com/program/1DaRJ6.png', 'subject': '20210311 寻医问药', 'description': '', 'phId': '52542576', 'liveUrl': 'http://ia-cdn.ajmide.com/c_15391/20210311/15391_20210311_0900.m4a', 'audioTime': '3600', 'isCut': 0, 'skipHead': '0', 'count': 1}], 'schema': 'ajmide://wireless/toAudioLibraryDetail?phId=52542576&topicId=30540421&topicType=7', 'producer': '寻医问药', 'producerSchema': 'ajmide://wireless/toBrandHome?brandId=10608731', 'topicId': '30540421', 'top': 0, 'brandName': '寻医问药', 'brandImgPath': 'https://img-ossimg.ajmide.com/program/1DaRJ6.png', 'showStyle': 1, 'author_info': {'userId': '10608731', 'nick': '寻医问药', 'imgPath': 'https://img-ossimg.ajmide.com/program/1DaRJ6.png', 'utpath': 'https://img-ossimg.ajmide.com/c_up/a72c73fd2559215b3ff863584a2630b4.jpg'}, 'latelyReply': []}, {'userId': '10608731', 'ownerId': '10608731', 'programId': '24303', 'subject': '20210310 寻医问药', 'postTime': '2021-03-10 08:59:18', 'topicType': '7', 'subType': '0', 'viewCount': 30, 'likeCount': '0', 'pluginAttach': None, 'contentAttach': '{\"t\":\"img\",\"files\":[{\"url\":\"http:\\\\/\\\\/img-ossimg.ajmide.com\\\\/program\\\\/1DaRJ6.png\",\"subject\":\"\\\\u5bfb\\\\u533b\\\\u95ee\\\\u836f\",\"phid\":\"52523271\",\"type\":\"t\"}]}', 'contentType': 0, 'showType': 4, 'isLiked': 0, 'isFavorited': 0, 'isOwner': 1, 'shareInfo': {'aac': '', 'link': 'https://m.ajmide.com/m/audiohistorydetail?phid=52523271', 'title': '20210310 寻医问药', 'friendTitle': '20210310 寻医问药', 'content': '寻医问药', 'imgPath': 'https://img-ossimg.ajmide.com/program/1DaRJ6.png'}, 'deletedAt': '0', 'replyCount': '0', 'audioAttach': [{'imgPath': 'https://img-ossimg.ajmide.com/program/1DaRJ6.png', 'subject': '20210310 寻医问药', 'description': '', 'phId': '52523271', 'liveUrl': 'http://ia-cdn.ajmide.com/c_15391/20210310/15391_20210310_0900.m4a', 'audioTime': '3600', 'isCut': 0, 'skipHead': '0', 'count': 1}], 'schema': 'ajmide://wireless/toAudioLibraryDetail?phId=52523271&topicId=30526837&topicType=7', 'producer': '寻医问药', 'producerSchema': 'ajmide://wireless/toBrandHome?brandId=10608731', 'topicId': '30526837', 'top': 0, 'brandName': '寻医问药', 'brandImgPath': 'https://img-ossimg.ajmide.com/program/1DaRJ6.png', 'showStyle': 1, 'author_info': {'userId': '10608731', 'nick': '寻医问药', 'imgPath': 'https://img-ossimg.ajmide.com/program/1DaRJ6.png', 'utpath': 'https://img-ossimg.ajmide.com/c_up/a72c73fd2559215b3ff863584a2630b4.jpg'}, 'latelyReply': []}, {'userId': '10608731', 'ownerId': '10608731', 'programId': '24303', 'subject': '20210309 寻医问药', 'postTime': '2021-03-09 08:59:18', 'topicType': '7', 'subType': '0', 'viewCount': 21, 'likeCount': '0', 'pluginAttach': None, 'contentAttach': '{\"t\":\"img\",\"files\":[{\"url\":\"http:\\\\/\\\\/img-ossimg.ajmide.com\\\\/program\\\\/1DaRJ6.png\",\"subject\":\"\\\\u5bfb\\\\u533b\\\\u95ee\\\\u836f\",\"phid\":\"52504297\",\"type\":\"t\"}]}', 'contentType': 0, 'showType': 4, 'isLiked': 0, 'isFavorited': 0, 'isOwner': 1, 'shareInfo': {'aac': '', 'link': 'https://m.ajmide.com/m/audiohistorydetail?phid=52504297', 'title': '20210309 寻医问药', 'friendTitle': '20210309 寻医问药', 'content': '寻医问药', 'imgPath': 'https://img-ossimg.ajmide.com/program/1DaRJ6.png'}, 'deletedAt': '0', 'replyCount': '0', 'audioAttach': [{'imgPath': 'https://img-ossimg.ajmide.com/program/1DaRJ6.png', 'subject': '20210309 寻医问药', 'description': '', 'phId': '52504297', 'liveUrl': 'http://ia-cdn.ajmide.com/c_15391/20210309/15391_20210309_0900.m4a', 'audioTime': '3600', 'isCut': 0, 'skipHead': '0', 'count': 1}], 'schema': 'ajmide://wireless/toAudioLibraryDetail?phId=52504297&topicId=30512897&topicType=7', 'producer': '寻医问药', 'producerSchema': 'ajmide://wireless/toBrandHome?brandId=10608731', 'topicId': '30512897', 'top': 0, 'brandName': '寻医问药', 'brandImgPath': 'https://img-ossimg.ajmide.com/program/1DaRJ6.png', 'showStyle': 1, 'author_info': {'userId': '10608731', 'nick': '寻医问药', 'imgPath': 'https://img-ossimg.ajmide.com/program/1DaRJ6.png', 'utpath': 'https://img-ossimg.ajmide.com/c_up/a72c73fd2559215b3ff863584a2630b4.jpg'}, 'latelyReply': []}, {'userId': '10608731', 'ownerId': '10608731', 'programId': '24303', 'subject': '20210308 寻医问药', 'postTime': '2021-03-08 08:59:19', 'topicType': '7', 'subType': '0', 'viewCount': 20, 'likeCount': '0', 'pluginAttach': None, 'contentAttach': '{\"t\":\"img\",\"files\":[{\"url\":\"http:\\\\/\\\\/img-ossimg.ajmide.com\\\\/program\\\\/1DaRJ6.png\",\"subject\":\"\\\\u5bfb\\\\u533b\\\\u95ee\\\\u836f\",\"phid\":\"52487355\",\"type\":\"t\"}]}', 'contentType': 0, 'showType': 4, 'isLiked': 0, 'isFavorited': 0, 'isOwner': 1, 'shareInfo': {'aac': '', 'link': 'https://m.ajmide.com/m/audiohistorydetail?phid=52487355', 'title': '20210308 寻医问药', 'friendTitle': '20210308 寻医问药', 'content': '寻医问药', 'imgPath': 'https://img-ossimg.ajmide.com/program/1DaRJ6.png'}, 'deletedAt': '0', 'replyCount': '0', 'audioAttach': [{'imgPath': 'https://img-ossimg.ajmide.com/program/1DaRJ6.png', 'subject': '20210308 寻医问药', 'description': '', 'phId': '52487355', 'liveUrl': 'http://ia-cdn.ajmide.com/c_15391/20210308/15391_20210308_0900.m4a', 'audioTime': '3600', 'isCut': 0, 'skipHead': '0', 'count': 1}], 'schema': 'ajmide://wireless/toAudioLibraryDetail?phId=52487355&topicId=30499166&topicType=7', 'producer': '寻医问药', 'producerSchema': 'ajmide://wireless/toBrandHome?brandId=10608731', 'topicId': '30499166', 'top': 0, 'brandName': '寻医问药', 'brandImgPath': 'https://img-ossimg.ajmide.com/program/1DaRJ6.png', 'showStyle': 1, 'author_info': {'userId': '10608731', 'nick': '寻医问药', 'imgPath': 'https://img-ossimg.ajmide.com/program/1DaRJ6.png', 'utpath': 'https://img-ossimg.ajmide.com/c_up/a72c73fd2559215b3ff863584a2630b4.jpg'}, 'latelyReply': []}, {'userId': '10608731', 'ownerId': '10608731', 'programId': '24303', 'subject': '20210305 寻医问药', 'postTime': '2021-03-05 08:59:18', 'topicType': '7', 'subType': '0', 'viewCount': 21, 'likeCount': '0', 'pluginAttach': None, 'contentAttach': '{\"t\":\"img\",\"files\":[{\"url\":\"http:\\\\/\\\\/img-ossimg.ajmide.com\\\\/program\\\\/1DaRJ6.png\",\"subject\":\"\\\\u5bfb\\\\u533b\\\\u95ee\\\\u836f\",\"phid\":\"52435320\",\"type\":\"t\"}]}', 'contentType': 0, 'showType': 4, 'isLiked': 0, 'isFavorited': 0, 'isOwner': 1, 'shareInfo': {'aac': '', 'link': 'https://m.ajmide.com/m/audiohistorydetail?phid=52435320', 'title': '20210305 寻医问药', 'friendTitle': '20210305 寻医问药', 'content': '寻医问药', 'imgPath': 'https://img-ossimg.ajmide.com/program/1DaRJ6.png'}, 'deletedAt': '0', 'replyCount': '0', 'audioAttach': [{'imgPath': 'https://img-ossimg.ajmide.com/program/1DaRJ6.png', 'subject': '20210305 寻医问药', 'description': '', 'phId': '52435320', 'liveUrl': 'http://ia-cdn.ajmide.com/c_15391/20210305/15391_20210305_0900.m4a', 'audioTime': '3600', 'isCut': 0, 'skipHead': '0', 'count': 1}], 'schema': 'ajmide://wireless/toAudioLibraryDetail?phId=52435320&topicId=30463892&topicType=7', 'producer': '寻医问药', 'producerSchema': 'ajmide://wireless/toBrandHome?brandId=10608731', 'topicId': '30463892', 'top': 0, 'brandName': '寻医问药', 'brandImgPath': 'https://img-ossimg.ajmide.com/program/1DaRJ6.png', 'showStyle': 1, 'author_info': {'userId': '10608731', 'nick': '寻医问药', 'imgPath': 'https://img-ossimg.ajmide.com/program/1DaRJ6.png', 'utpath': 'https://img-ossimg.ajmide.com/c_up/a72c73fd2559215b3ff863584a2630b4.jpg'}, 'latelyReply': []}, {'userId': '10608731', 'ownerId': '10608731', 'programId': '24303', 'subject': '20210304 寻医问药', 'postTime': '2021-03-04 08:59:20', 'topicType': '7', 'subType': '0', 'viewCount': 19, 'likeCount': '0', 'pluginAttach': None, 'contentAttach': '{\"t\":\"img\",\"files\":[{\"url\":\"http:\\\\/\\\\/img-ossimg.ajmide.com\\\\/program\\\\/1DaRJ6.png\",\"subject\":\"\\\\u5bfb\\\\u533b\\\\u95ee\\\\u836f\",\"phid\":\"52415238\",\"type\":\"t\"}]}', 'contentType': 0, 'showType': 4, 'isLiked': 0, 'isFavorited': 0, 'isOwner': 1, 'shareInfo': {'aac': '', 'link': 'https://m.ajmide.com/m/audiohistorydetail?phid=52415238', 'title': '20210304 寻医问药', 'friendTitle': '20210304 寻医问药', 'content': '寻医问药', 'imgPath': 'https://img-ossimg.ajmide.com/program/1DaRJ6.png'}, 'deletedAt': '0', 'replyCount': '0', 'audioAttach': [{'imgPath': 'https://img-ossimg.ajmide.com/program/1DaRJ6.png', 'subject': '20210304 寻医问药', 'description': '', 'phId': '52415238', 'liveUrl': 'http://ia-cdn.ajmide.com/c_15391/20210304/15391_20210304_0900.m4a', 'audioTime': '3600', 'isCut': 0, 'skipHead': '0', 'count': 1}], 'schema': 'ajmide://wireless/toAudioLibraryDetail?phId=52415238&topicId=30449994&topicType=7', 'producer': '寻医问药', 'producerSchema': 'ajmide://wireless/toBrandHome?brandId=10608731', 'topicId': '30449994', 'top': 0, 'brandName': '寻医问药', 'brandImgPath': 'https://img-ossimg.ajmide.com/program/1DaRJ6.png', 'showStyle': 1, 'author_info': {'userId': '10608731', 'nick': '寻医问药', 'imgPath': 'https://img-ossimg.ajmide.com/program/1DaRJ6.png', 'utpath': 'https://img-ossimg.ajmide.com/c_up/a72c73fd2559215b3ff863584a2630b4.jpg'}, 'latelyReply': []}, {'userId': '10608731', 'ownerId': '10608731', 'programId': '24303', 'subject': '20210303 寻医问药', 'postTime': '2021-03-03 08:59:21', 'topicType': '7', 'subType': '0', 'viewCount': 20, 'likeCount': '0', 'pluginAttach': None, 'contentAttach': '{\"t\":\"img\",\"files\":[{\"url\":\"http:\\\\/\\\\/img-ossimg.ajmide.com\\\\/program\\\\/1DaRJ6.png\",\"subject\":\"\\\\u5bfb\\\\u533b\\\\u95ee\\\\u836f\",\"phid\":\"52395184\",\"type\":\"t\"}]}', 'contentType': 0, 'showType': 4, 'isLiked': 0, 'isFavorited': 0, 'isOwner': 1, 'shareInfo': {'aac': '', 'link': 'https://m.ajmide.com/m/audiohistorydetail?phid=52395184', 'title': '20210303 寻医问药', 'friendTitle': '20210303 寻医问药', 'content': '寻医问药', 'imgPath': 'https://img-ossimg.ajmide.com/program/1DaRJ6.png'}, 'deletedAt': '0', 'replyCount': '0', 'audioAttach': [{'imgPath': 'https://img-ossimg.ajmide.com/program/1DaRJ6.png', 'subject': '20210303 寻医问药', 'description': '', 'phId': '52395184', 'liveUrl': 'http://ia-cdn.ajmide.com/c_15391/20210303/15391_20210303_0900.m4a', 'audioTime': '3600', 'isCut': 0, 'skipHead': '0', 'count': 1}], 'schema': 'ajmide://wireless/toAudioLibraryDetail?phId=52395184&topicId=30436186&topicType=7', 'producer': '寻医问药', 'producerSchema': 'ajmide://wireless/toBrandHome?brandId=10608731', 'topicId': '30436186', 'top': 0, 'brandName': '寻医问药', 'brandImgPath': 'https://img-ossimg.ajmide.com/program/1DaRJ6.png', 'showStyle': 1, 'author_info': {'userId': '10608731', 'nick': '寻医问药', 'imgPath': 'https://img-ossimg.ajmide.com/program/1DaRJ6.png', 'utpath': 'https://img-ossimg.ajmide.com/c_up/a72c73fd2559215b3ff863584a2630b4.jpg'}, 'latelyReply': []}, {'userId': '10608731', 'ownerId': '10608731', 'programId': '24303', 'subject': '20210302 寻医问药', 'postTime': '2021-03-02 08:59:19', 'topicType': '7', 'subType': '0', 'viewCount': 19, 'likeCount': '0', 'pluginAttach': None, 'contentAttach': '{\"t\":\"img\",\"files\":[{\"url\":\"http:\\\\/\\\\/img-ossimg.ajmide.com\\\\/program\\\\/1DaRJ6.png\",\"subject\":\"\\\\u5bfb\\\\u533b\\\\u95ee\\\\u836f\",\"phid\":\"52376294\",\"type\":\"t\"}]}', 'contentType': 0, 'showType': 4, 'isLiked': 0, 'isFavorited': 0, 'isOwner': 1, 'shareInfo': {'aac': '', 'link': 'https://m.ajmide.com/m/audiohistorydetail?phid=52376294', 'title': '20210302 寻医问药', 'friendTitle': '20210302 寻医问药', 'content': '寻医问药', 'imgPath': 'https://img-ossimg.ajmide.com/program/1DaRJ6.png'}, 'deletedAt': '0', 'replyCount': '0', 'audioAttach': [{'imgPath': 'https://img-ossimg.ajmide.com/program/1DaRJ6.png', 'subject': '20210302 寻医问药', 'description': '', 'phId': '52376294', 'liveUrl': 'http://ia-cdn.ajmide.com/c_15391/20210302/15391_20210302_0900.m4a', 'audioTime': '3600', 'isCut': 0, 'skipHead': '0', 'count': 1}], 'schema': 'ajmide://wireless/toAudioLibraryDetail?phId=52376294&topicId=30422370&topicType=7', 'producer': '寻医问药', 'producerSchema': 'ajmide://wireless/toBrandHome?brandId=10608731', 'topicId': '30422370', 'top': 0, 'brandName': '寻医问药', 'brandImgPath': 'https://img-ossimg.ajmide.com/program/1DaRJ6.png', 'showStyle': 1, 'author_info': {'userId': '10608731', 'nick': '寻医问药', 'imgPath': 'https://img-ossimg.ajmide.com/program/1DaRJ6.png', 'utpath': 'https://img-ossimg.ajmide.com/c_up/a72c73fd2559215b3ff863584a2630b4.jpg'}, 'latelyReply': []}, {'userId': '10608731', 'ownerId': '10608731', 'programId': '24303', 'subject': '20210301 寻医问药', 'postTime': '2021-03-01 08:59:18', 'topicType': '7', 'subType': '0', 'viewCount': 28, 'likeCount': '0', 'pluginAttach': None, 'contentAttach': '{\"t\":\"img\",\"files\":[{\"url\":\"http:\\\\/\\\\/img-ossimg.ajmide.com\\\\/program\\\\/1DaRJ6.png\",\"subject\":\"\\\\u5bfb\\\\u533b\\\\u95ee\\\\u836f\",\"phid\":\"52358952\",\"type\":\"t\"}]}', 'contentType': 0, 'showType': 4, 'isLiked': 0, 'isFavorited': 0, 'isOwner': 1, 'shareInfo': {'aac': '', 'link': 'https://m.ajmide.com/m/audiohistorydetail?phid=52358952', 'title': '20210301 寻医问药', 'friendTitle': '20210301 寻医问药', 'content': '寻医问药', 'imgPath': 'https://img-ossimg.ajmide.com/program/1DaRJ6.png'}, 'deletedAt': '0', 'replyCount': '0', 'audioAttach': [{'imgPath': 'https://img-ossimg.ajmide.com/program/1DaRJ6.png', 'subject': '20210301 寻医问药', 'description': '', 'phId': '52358952', 'liveUrl': 'http://ia-cdn.ajmide.com/c_15391/20210301/15391_20210301_0900.m4a', 'audioTime': '3600', 'isCut': 0, 'skipHead': '0', 'count': 1}], 'schema': 'ajmide://wireless/toAudioLibraryDetail?phId=52358952&topicId=30408297&topicType=7', 'producer': '寻医问药', 'producerSchema': 'ajmide://wireless/toBrandHome?brandId=10608731', 'topicId': '30408297', 'top': 0, 'brandName': '寻医问药', 'brandImgPath': 'https://img-ossimg.ajmide.com/program/1DaRJ6.png', 'showStyle': 1, 'author_info': {'userId': '10608731', 'nick': '寻医问药', 'imgPath': 'https://img-ossimg.ajmide.com/program/1DaRJ6.png', 'utpath': 'https://img-ossimg.ajmide.com/c_up/a72c73fd2559215b3ff863584a2630b4.jpg'}, 'latelyReply': []}], 'message': None, 'meta': {'is_self': 1, 'programId': 24303}}\n"
     ]
    }
   ],
   "source": [
    "url = 'http://a.ajmide.com/v3/getBrandContentList.php?brandId=10608731&c=20&i=0'\n",
    "response = getResponse(url)\n",
    "jsonObj = response.json()\n",
    "print(jsonObj)"
   ]
  },
  {
   "cell_type": "code",
   "execution_count": 12,
   "metadata": {},
   "outputs": [
    {
     "name": "stdout",
     "output_type": "stream",
     "text": [
      "<class 'list'>\n"
     ]
    }
   ],
   "source": [
    "print(type(jsonObj['data']))"
   ]
  },
  {
   "cell_type": "code",
   "execution_count": 14,
   "metadata": {},
   "outputs": [
    {
     "name": "stdout",
     "output_type": "stream",
     "text": [
      "http://ia-cdn.ajmide.com/c_15391/20210326/15391_20210326_0900.m4a\n",
      "http://ia-cdn.ajmide.com/c_15391/20210325/15391_20210325_0900.m4a\n",
      "http://ia-cdn.ajmide.com/c_15391/20210324/15391_20210324_0900.m4a\n",
      "http://ia-cdn.ajmide.com/c_15391/20210323/15391_20210323_0900.m4a\n",
      "http://ia-cdn.ajmide.com/c_15391/20210322/15391_20210322_0900.m4a\n",
      "http://ia-cdn.ajmide.com/c_15391/20210319/15391_20210319_0900.m4a\n",
      "http://ia-cdn.ajmide.com/c_15391/20210318/15391_20210318_0900.m4a\n",
      "http://ia-cdn.ajmide.com/c_15391/20210317/15391_20210317_0900.m4a\n",
      "http://ia-cdn.ajmide.com/c_15391/20210316/15391_20210316_0900.m4a\n",
      "http://ia-cdn.ajmide.com/c_15391/20210315/15391_20210315_0900.m4a\n",
      "http://ia-cdn.ajmide.com/c_15391/20210312/15391_20210312_0900.m4a\n",
      "http://ia-cdn.ajmide.com/c_15391/20210311/15391_20210311_0900.m4a\n",
      "http://ia-cdn.ajmide.com/c_15391/20210310/15391_20210310_0900.m4a\n",
      "http://ia-cdn.ajmide.com/c_15391/20210309/15391_20210309_0900.m4a\n",
      "http://ia-cdn.ajmide.com/c_15391/20210308/15391_20210308_0900.m4a\n",
      "http://ia-cdn.ajmide.com/c_15391/20210305/15391_20210305_0900.m4a\n",
      "http://ia-cdn.ajmide.com/c_15391/20210304/15391_20210304_0900.m4a\n",
      "http://ia-cdn.ajmide.com/c_15391/20210303/15391_20210303_0900.m4a\n",
      "http://ia-cdn.ajmide.com/c_15391/20210302/15391_20210302_0900.m4a\n",
      "http://ia-cdn.ajmide.com/c_15391/20210301/15391_20210301_0900.m4a\n"
     ]
    }
   ],
   "source": [
    "for temp in jsonObj['data']:\n",
    "    print(temp['audioAttach'][0]['liveUrl'])"
   ]
  },
  {
   "cell_type": "code",
   "execution_count": 18,
   "metadata": {},
   "outputs": [
    {
     "name": "stdout",
     "output_type": "stream",
     "text": [
      "15391_20210326_0900.m4a Successful\n"
     ]
    }
   ],
   "source": [
    "getAudio('http://ia-cdn.ajmide.com/c_15391/20210326/15391_20210326_0900.m4a')"
   ]
  },
  {
   "cell_type": "code",
   "execution_count": 4,
   "metadata": {},
   "outputs": [],
   "source": [
    "# 获取每个页面的视频链接地址\n",
    "def getSrcUrl(url):\n",
    "    response = getResponse(url)\n",
    "    jsonObj = response.json()\n",
    "    linkList = []\n",
    "    for temp in jsonObj['data']:\n",
    "        linkList.append(temp['audioAttach'][0]['liveUrl'])\n",
    "    return linkList"
   ]
  },
  {
   "cell_type": "code",
   "execution_count": 6,
   "metadata": {},
   "outputs": [
    {
     "name": "stdout",
     "output_type": "stream",
     "text": [
      "http://ia-cdn.ajmide.com/c_15391/20210326/15391_20210326_0900.m4a\n",
      "http://ia-cdn.ajmide.com/c_15391/20210325/15391_20210325_0900.m4a\n",
      "http://ia-cdn.ajmide.com/c_15391/20210324/15391_20210324_0900.m4a\n",
      "http://ia-cdn.ajmide.com/c_15391/20210323/15391_20210323_0900.m4a\n",
      "http://ia-cdn.ajmide.com/c_15391/20210322/15391_20210322_0900.m4a\n",
      "http://ia-cdn.ajmide.com/c_15391/20210319/15391_20210319_0900.m4a\n",
      "http://ia-cdn.ajmide.com/c_15391/20210318/15391_20210318_0900.m4a\n",
      "http://ia-cdn.ajmide.com/c_15391/20210317/15391_20210317_0900.m4a\n",
      "http://ia-cdn.ajmide.com/c_15391/20210316/15391_20210316_0900.m4a\n",
      "http://ia-cdn.ajmide.com/c_15391/20210315/15391_20210315_0900.m4a\n",
      "http://ia-cdn.ajmide.com/c_15391/20210312/15391_20210312_0900.m4a\n",
      "http://ia-cdn.ajmide.com/c_15391/20210311/15391_20210311_0900.m4a\n",
      "http://ia-cdn.ajmide.com/c_15391/20210310/15391_20210310_0900.m4a\n",
      "http://ia-cdn.ajmide.com/c_15391/20210309/15391_20210309_0900.m4a\n",
      "http://ia-cdn.ajmide.com/c_15391/20210308/15391_20210308_0900.m4a\n",
      "http://ia-cdn.ajmide.com/c_15391/20210305/15391_20210305_0900.m4a\n",
      "http://ia-cdn.ajmide.com/c_15391/20210304/15391_20210304_0900.m4a\n",
      "http://ia-cdn.ajmide.com/c_15391/20210303/15391_20210303_0900.m4a\n",
      "http://ia-cdn.ajmide.com/c_15391/20210302/15391_20210302_0900.m4a\n",
      "http://ia-cdn.ajmide.com/c_15391/20210301/15391_20210301_0900.m4a\n"
     ]
    }
   ],
   "source": [
    "for link in getSrcUrl('http://a.ajmide.com/v3/getBrandContentList.php?brandId=10608731&c=20&i=0'):\n",
    "    print(link)"
   ]
  },
  {
   "cell_type": "code",
   "execution_count": 7,
   "metadata": {},
   "outputs": [
    {
     "name": "stdout",
     "output_type": "stream",
     "text": [
      "15391_20210326_0900.m4a Successful\n",
      "15391_20210325_0900.m4a Successful\n",
      "15391_20210324_0900.m4a Successful\n",
      "15391_20210323_0900.m4a Successful\n",
      "15391_20210322_0900.m4a Successful\n",
      "15391_20210319_0900.m4a Successful\n",
      "15391_20210318_0900.m4a Successful\n",
      "15391_20210317_0900.m4a Successful\n",
      "15391_20210316_0900.m4a Successful\n",
      "15391_20210315_0900.m4a Successful\n",
      "15391_20210312_0900.m4a Successful\n",
      "15391_20210311_0900.m4a Successful\n",
      "15391_20210310_0900.m4a Successful\n",
      "15391_20210309_0900.m4a Successful\n",
      "15391_20210308_0900.m4a Successful\n",
      "15391_20210305_0900.m4a Successful\n",
      "15391_20210304_0900.m4a Successful\n",
      "15391_20210303_0900.m4a Successful\n",
      "15391_20210302_0900.m4a Successful\n",
      "15391_20210301_0900.m4a Successful\n",
      "0    successful\n",
      "15391_20210226_0900.m4a Successful\n",
      "15391_20210225_0900.m4a Successful\n",
      "15391_20210224_0900.m4a Successful\n",
      "15391_20210223_0900.m4a Successful\n",
      "15391_20210222_0900.m4a Successful\n",
      "15391_20210219_0900.m4a Successful\n",
      "15391_20210218_0900.m4a Successful\n",
      "15391_20210217_0900.m4a Successful\n",
      "15391_20210216_0900.m4a Successful\n",
      "15391_20210215_0900.m4a Successful\n",
      "15391_20210212_0900.m4a Successful\n",
      "15391_20210211_0900.m4a Successful\n",
      "15391_20210210_0900.m4a Successful\n",
      "15391_20210209_0900.m4a Successful\n",
      "15391_20210208_0900.m4a Successful\n",
      "15391_20210205_0900.m4a Successful\n",
      "15391_20210204_0900.m4a Successful\n",
      "15391_20210203_0900.m4a Successful\n",
      "15391_20210202_0900.m4a Successful\n",
      "15391_20210201_0900.m4a Successful\n",
      "20    successful\n",
      "15391_20210129_0900.m4a Successful\n",
      "15391_20210128_0900.m4a Successful\n",
      "15391_20210127_0900.m4a Successful\n",
      "15391_20210126_0900.m4a Successful\n",
      "15391_20210125_0900.m4a Successful\n",
      "15391_20210122_0900.m4a Successful\n",
      "15391_20210121_0900.m4a Successful\n",
      "15391_20210120_0900.m4a Successful\n",
      "15391_20210119_0900.m4a Successful\n",
      "15391_20210118_0900.m4a Successful\n",
      "15391_20210115_0900.m4a Successful\n",
      "15391_20210114_0900.m3u8 Successful\n",
      "15391_20210113_0900.m4a Successful\n",
      "15391_20210112_0900.m3u8 Successful\n",
      "15391_20210111_0900.m3u8 Successful\n",
      "15391_20210108_0900.m3u8 Successful\n",
      "15391_20210107_0900.m4a Successful\n",
      "15391_20210106_0900.m4a Successful\n",
      "15391_20210105_0900.m4a Successful\n",
      "15391_20210104_0900.m4a Successful\n",
      "40    successful\n",
      "15391_20210101_0900.m4a Successful\n",
      "15391_20201231_0900.m4a Successful\n",
      "15391_20201230_0900.m4a Successful\n",
      "15391_20201229_0900.m4a Successful\n",
      "15391_20201228_0900.m4a Successful\n",
      "15391_20201225_0900.m4a Successful\n",
      "15391_20201224_0900.m4a Successful\n",
      "15391_20201223_0900.m4a Successful\n",
      "15391_20201222_0900.m4a Successful\n",
      "15391_20201221_0900.m4a Successful\n",
      "15391_20201218_0900.m4a Successful\n",
      "15391_20201217_0900.m4a Successful\n",
      "15391_20201216_0900.m4a Successful\n",
      "15391_20201215_0900.m4a Successful\n",
      "15391_20201214_0900.m4a Successful\n",
      "15391_20201211_0900.m4a Successful\n",
      "15391_20201210_0900.m4a Successful\n",
      "15391_20201209_0900.m4a Successful\n",
      "15391_20201208_0900.m4a Successful\n",
      "15391_20201207_0900.m4a Successful\n",
      "60    successful\n",
      "15391_20201204_0900.m4a Successful\n",
      "15391_20201203_0900.m4a Successful\n",
      "15391_20201202_0900.m4a Successful\n",
      "15391_20201201_0900.m4a Successful\n",
      "15391_20201130_0900.m4a Successful\n",
      "15391_20201127_0900.m4a Successful\n",
      "15391_20201126_0900.m4a Successful\n",
      "15391_20201125_0900.m4a Successful\n",
      "15391_20201124_0900.m4a Successful\n",
      "15391_20201123_0900.m4a Successful\n",
      "15391_20201120_0900.m4a Successful\n",
      "15391_20201119_0900.m4a Successful\n",
      "15391_20201118_0900.m4a Successful\n",
      "15391_20201117_0900.m4a Successful\n",
      "15391_20201116_0900.m4a Successful\n",
      "15391_20201113_0900.m4a Successful\n",
      "15391_20201112_0900.m4a Successful\n",
      "15391_20201111_0900.m4a Successful\n",
      "15391_20201110_0900.m4a Successful\n",
      "15391_20201109_0900.m4a Successful\n",
      "80    successful\n",
      "15391_20201106_0900.m4a Successful\n",
      "15391_20201105_0900.m4a Successful\n",
      "15391_20201104_0900.m4a Successful\n",
      "15391_20201103_0900.m4a Successful\n",
      "15391_20201102_0900.m4a Successful\n",
      "15391_20201030_0900.m4a Successful\n",
      "15391_20201029_0900.m4a Successful\n",
      "15391_20201028_0900.m4a Successful\n",
      "15391_20201027_0900.m4a Successful\n",
      "15391_20201026_0900.m4a Successful\n",
      "15391_20201023_0900.m4a Successful\n",
      "15391_20201022_0900.m4a Successful\n",
      "15391_20201021_0900.m4a Successful\n",
      "15391_20201020_0900.m4a Successful\n",
      "15391_20201019_0900.m4a Successful\n",
      "15391_20201016_0900.m4a Successful\n",
      "15391_20201015_0900.m4a Successful\n",
      "15391_20201014_0900.m4a Successful\n",
      "15391_20201013_0900.m4a Successful\n",
      "15391_20201012_0900.m4a Successful\n",
      "100    successful\n",
      "15391_20201009_0900.m4a Successful\n",
      "15391_20201008_0900.m4a Successful\n",
      "15391_20201007_0900.m4a Successful\n",
      "15391_20201006_0900.m4a Successful\n",
      "15391_20201005_0900.m4a Successful\n",
      "15391_20201002_0900.m4a Successful\n",
      "15391_20201001_0900.m4a Successful\n",
      "15391_20200930_0900.m4a Successful\n",
      "15391_20200929_0900.m4a Successful\n",
      "15391_20200928_0900.m4a Successful\n",
      "15391_20200925_0900.m4a Successful\n",
      "15391_20200924_0900.m4a Successful\n",
      "15391_20200923_0900.m4a Successful\n",
      "15391_20200922_0900.m4a Successful\n",
      "15391_20200921_0900.m4a Successful\n",
      "15391_20200918_0900.m4a Successful\n",
      "15391_20200917_0900.m4a Successful\n",
      "15391_20200916_0900.m4a Successful\n",
      "15391_20200915_0900.m4a Successful\n",
      "15391_20200914_0900.m4a Successful\n",
      "120    successful\n",
      "15391_20200911_0900.m4a Successful\n",
      "15391_20200910_0900.m4a Successful\n",
      "15391_20200909_0900.m4a Successful\n",
      "15391_20200908_0900.m4a Successful\n",
      "15391_20200907_0900.m4a Successful\n",
      "15391_20200904_0900.m4a Successful\n",
      "15391_20200903_0900.m4a Successful\n",
      "15391_20200902_0900.m4a Successful\n",
      "15391_20200901_0900.m4a Successful\n",
      "15391_20200831_0900.m4a Successful\n",
      "15391_20200828_0900.m4a Successful\n",
      "15391_20200827_0900.m4a Successful\n",
      "15391_20200826_0900.m4a Successful\n",
      "15391_20200825_0900.m4a Successful\n",
      "15391_20200824_0900.m4a Successful\n",
      "15391_20200821_0900.m4a Successful\n",
      "15391_20200820_0900.m4a Successful\n",
      "15391_20200819_0900.m4a Successful\n",
      "15391_20200818_0900.m4a Successful\n",
      "15391_20200817_0900.m4a Successful\n",
      "140    successful\n",
      "15391_20200814_0900.m4a Successful\n",
      "15391_20200813_0900.m4a Successful\n",
      "15391_20200812_0900.m4a Successful\n",
      "15391_20200811_0900.m4a Successful\n",
      "15391_20200810_0900.m4a Successful\n",
      "15391_20200807_0900.m4a Successful\n",
      "15391_20200806_0900.m4a Successful\n",
      "15391_20200805_0900.m4a Successful\n",
      "15391_20200804_0900.m4a Successful\n",
      "15391_20200803_0900.m4a Successful\n",
      "15391_20200731_0900.m4a Successful\n",
      "15391_20200730_0900.m4a Successful\n",
      "15391_20200729_0900.m4a Successful\n",
      "15391_20200728_0900.m4a Successful\n",
      "15391_20200727_0900.m4a Successful\n",
      "15391_20200724_0900.m4a Successful\n",
      "15391_20200723_0900.m4a Successful\n",
      "15391_20200722_0900.m4a Successful\n",
      "15391_20200721_0900.m4a Successful\n",
      "15391_20200720_0900.m4a Successful\n",
      "160    successful\n",
      "15391_20200717_0900.m4a Successful\n",
      "15391_20200716_0900.m4a Successful\n",
      "15391_20200715_0900.m4a Successful\n",
      "15391_20200714_0900.m4a Successful\n",
      "15391_20200713_0900.m4a Successful\n",
      "15391_20200710_0900.m4a Successful\n",
      "15391_20200709_0900.m4a Successful\n",
      "15391_20200708_0900.m4a Successful\n",
      "15391_20200707_0900.m4a Successful\n",
      "15391_20200706_0900.m4a Successful\n",
      "15391_20200703_0900.m4a Successful\n",
      "15391_20200702_0900.m4a Successful\n",
      "15391_20200701_0900.m4a Successful\n",
      "15391_20200630_0900.m4a Successful\n",
      "15391_20200629_0900.m4a Successful\n",
      "15391_20200626_0900.m4a Successful\n",
      "15391_20200625_0900.m4a Successful\n",
      "15391_20200624_0900.m4a Successful\n",
      "15391_20200623_0900.m4a Successful\n",
      "15391_20200622_0900.m4a Successful\n",
      "180    successful\n",
      "200    successful\n"
     ]
    }
   ],
   "source": [
    "for i in range(0, 201, 20):\n",
    "    url = 'http://a.ajmide.com/v3/getBrandContentList.php?brandId=10608731&c=20&i=' + str(i)\n",
    "    linkList = getSrcUrl(url)\n",
    "    for link in linkList:\n",
    "        getAudio(link)\n",
    "    print(str(i), \"   successful\")"
   ]
  },
  {
   "cell_type": "code",
   "execution_count": null,
   "metadata": {},
   "outputs": [],
   "source": []
  }
 ],
 "metadata": {
  "kernelspec": {
   "display_name": "Python 3",
   "language": "python",
   "name": "python3"
  },
  "language_info": {
   "codemirror_mode": {
    "name": "ipython",
    "version": 3
   },
   "file_extension": ".py",
   "mimetype": "text/x-python",
   "name": "python",
   "nbconvert_exporter": "python",
   "pygments_lexer": "ipython3",
   "version": "3.8.5"
  }
 },
 "nbformat": 4,
 "nbformat_minor": 4
}
