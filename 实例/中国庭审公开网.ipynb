{
 "cells": [
  {
   "cell_type": "code",
   "execution_count": null,
   "metadata": {},
   "outputs": [],
   "source": []
  },
  {
   "cell_type": "code",
   "execution_count": null,
   "metadata": {},
   "outputs": [],
   "source": [
    "# //v.videoincloud.com/zgy/20160707/NsE3eQ/NsE3eQ.m3u8?auth_key=1619188595-0-0-d40a62e2dce12a3f2a6df6591b5d1335&uid=81c006ef8587434ea2cb7622917f99b2&pid=0b03db61219d445c84038b177c498f3a&t=f7810bdc03bbd226903e42889e95c273"
   ]
  }
 ],
 "metadata": {
  "kernelspec": {
   "display_name": "Python 3",
   "language": "python",
   "name": "python3"
  },
  "language_info": {
   "codemirror_mode": {
    "name": "ipython",
    "version": 3
   },
   "file_extension": ".py",
   "mimetype": "text/x-python",
   "name": "python",
   "nbconvert_exporter": "python",
   "pygments_lexer": "ipython3",
   "version": "3.8.5"
  }
 },
 "nbformat": 4,
 "nbformat_minor": 4
}
