{
 "cells": [
  {
   "cell_type": "code",
   "execution_count": 1,
   "metadata": {},
   "outputs": [],
   "source": [
    "import requests\n",
    "from bs4 import BeautifulSoup\n",
    "import re\n",
    "import json\n",
    "from selenium import webdriver\n",
    "from lxml import etree\n",
    "import os\n",
    "from os import path\n",
    "import shutil\n",
    "import time\n",
    "import demjson"
   ]
  },
  {
   "cell_type": "code",
   "execution_count": 2,
   "metadata": {},
   "outputs": [],
   "source": [
    "def getResponse(url, param = {}):\n",
    "    headers = {\n",
    "        'User-Agent':'Mozilla/5.0 (Windows NT 10.0; Win64; x64) AppleWebKit/537.36 (KHTML, like Gecko) Chrome/89.0.4389.90 Safari/537.36'\n",
    "    }\n",
    "    response = requests.get(url=url, headers=headers, params=param)\n",
    "    return response"
   ]
  },
  {
   "cell_type": "code",
   "execution_count": 3,
   "metadata": {},
   "outputs": [],
   "source": [
    "# https://www.rxys.cn/yinpin/6184.html\n",
    "# https://img.rxys.cn/uploads/audio/202104/21040607392321.mp3"
   ]
  },
  {
   "cell_type": "code",
   "execution_count": 4,
   "metadata": {},
   "outputs": [],
   "source": [
    "# 获取音频页面的音频下载地址和对应文本\n",
    "def getAudioUrlAndText(url):\n",
    "    response = getResponse(url)\n",
    "    response.encoding = 'utf-8'\n",
    "    page_text = response.text\n",
    "    tree = etree.HTML(page_text)\n",
    "    temp = tree.xpath('//*[@id=\"audio\"]/@src')    \n",
    "    if len(temp) == 0:\n",
    "        return \"\", \"\"    \n",
    "    audioSrcUrl = 'https:' + temp[0]\n",
    "    text = tree.xpath('//div[@class=\"atcle-cont\"]/p/text()')\n",
    "    return audioSrcUrl, text"
   ]
  },
  {
   "cell_type": "code",
   "execution_count": 5,
   "metadata": {},
   "outputs": [
    {
     "name": "stdout",
     "output_type": "stream",
     "text": [
      "https://img.rxys.cn/uploads/audio/202104/21040607392321.mp3\n",
      "['\\u3000\\u3000属于正常的情况。紧急避孕药内含有大量的激素，在激素水平波动时就会出现不规则的阴道流血。这时阴道流血有时量比较少，表现为咖啡色分泌物或者是白带带血，有时阴道流血比较多，类似于月经量，但这并不一定是真正的月经，观察下次月经来潮的情况。', '\\n', '\\u3000\\u3000口服紧急避孕药有可能对月经造成影响，但是如果在正常允许的范围内，也不需要特殊的治疗，并不影响正常的工作和生活。紧急避孕药属于在无保护性生活的紧急避孕，并不建议作为常规的避孕方法。']\n"
     ]
    }
   ],
   "source": [
    "url, text = getAudioUrlAndText('https://www.hlyykp.com//yinpin/6189.html')\n",
    "print(url)\n",
    "print(text)"
   ]
  },
  {
   "cell_type": "code",
   "execution_count": null,
   "metadata": {},
   "outputs": [],
   "source": [
    "# https://www.rxys.cn/yinpin/6184.html\n",
    "# https://www.rxys.cn/jibing/getlist.json\n",
    "# "
   ]
  },
  {
   "cell_type": "code",
   "execution_count": 8,
   "metadata": {},
   "outputs": [],
   "source": [
    "# 下载音频和文本\n",
    "def downloadAudioAndText(url):\n",
    "    audioUrl, text = getAudioUrlAndText(url)\n",
    "    if audioUrl == \"\":\n",
    "        print('error')\n",
    "        return\n",
    "    text = '\\n'.join(text)\n",
    "    fileName = (audioUrl.split('/')[-1]).split('.')[0]\n",
    "    with open('text/' + fileName + '.txt', 'w', encoding='utf-8') as fp:\n",
    "        fp.write(text)\n",
    "    content = getResponse(audioUrl).content\n",
    "    with open('mp3/' + fileName + '.mp3', 'wb') as fp:\n",
    "        fp.write(content)\n",
    "    print(url, \"successful\")"
   ]
  },
  {
   "cell_type": "code",
   "execution_count": 9,
   "metadata": {},
   "outputs": [
    {
     "name": "stdout",
     "output_type": "stream",
     "text": [
      "https://www.rxys.cn/yinpin/6184.html successful\n"
     ]
    }
   ],
   "source": [
    "downloadAudioAndText('https://www.rxys.cn/yinpin/6184.html')"
   ]
  },
  {
   "cell_type": "code",
   "execution_count": 16,
   "metadata": {},
   "outputs": [],
   "source": [
    "# 获取每一页的所有音频页链接\n",
    "def getAudioUrlOfEveryPage(url):\n",
    "    response = getResponse(url)\n",
    "    response.encoding = 'utf-8'\n",
    "    page_text = response.text\n",
    "    tree = etree.HTML(page_text)\n",
    "    allPage = tree.xpath('//*[@id=\"ado2\"]/li')\n",
    "    linkList = []\n",
    "    for li in allPage:\n",
    "        pageLink = 'https://www.rxys.cn' + li.xpath('./a/@href')[0]\n",
    "        #print(pageLink)\n",
    "        linkList.append(pageLink)\n",
    "    return linkList"
   ]
  },
  {
   "cell_type": "code",
   "execution_count": 17,
   "metadata": {},
   "outputs": [
    {
     "name": "stdout",
     "output_type": "stream",
     "text": [
      "https://www.rxys.cn/yinpin/703.html\n",
      "https://www.rxys.cn/yinpin/733.html\n",
      "https://www.rxys.cn/yinpin/743.html\n",
      "https://www.rxys.cn/yinpin/742.html\n",
      "https://www.rxys.cn/yinpin/792.html\n",
      "https://www.rxys.cn/yinpin/11.html\n",
      "https://www.rxys.cn/yinpin/14.html\n",
      "https://www.rxys.cn/yinpin/20.html\n",
      "https://www.rxys.cn/yinpin/21.html\n",
      "https://www.rxys.cn/yinpin/23.html\n",
      "https://www.rxys.cn/yinpin/30.html\n",
      "https://www.rxys.cn/yinpin/38.html\n",
      "https://www.rxys.cn/yinpin/51.html\n",
      "https://www.rxys.cn/yinpin/732.html\n",
      "https://www.rxys.cn/yinpin/741.html\n"
     ]
    }
   ],
   "source": [
    "for link in getAudioUrlOfEveryPage('https://www.rxys.cn/yinpin/'):\n",
    "    print(link)"
   ]
  },
  {
   "cell_type": "code",
   "execution_count": 18,
   "metadata": {},
   "outputs": [
    {
     "name": "stdout",
     "output_type": "stream",
     "text": [
      "https://www.rxys.cn/yinpin/703.html successful\n",
      "https://www.rxys.cn/yinpin/733.html successful\n",
      "https://www.rxys.cn/yinpin/743.html successful\n",
      "https://www.rxys.cn/yinpin/742.html successful\n",
      "https://www.rxys.cn/yinpin/792.html successful\n",
      "https://www.rxys.cn/yinpin/11.html successful\n",
      "https://www.rxys.cn/yinpin/14.html successful\n",
      "https://www.rxys.cn/yinpin/20.html successful\n",
      "https://www.rxys.cn/yinpin/21.html successful\n",
      "https://www.rxys.cn/yinpin/23.html successful\n",
      "https://www.rxys.cn/yinpin/30.html successful\n",
      "https://www.rxys.cn/yinpin/38.html successful\n",
      "https://www.rxys.cn/yinpin/51.html successful\n",
      "https://www.rxys.cn/yinpin/732.html successful\n",
      "https://www.rxys.cn/yinpin/741.html successful\n"
     ]
    }
   ],
   "source": [
    "for link in getAudioUrlOfEveryPage('https://www.rxys.cn/yinpin/'):\n",
    "    downloadAudioAndText(link)"
   ]
  },
  {
   "cell_type": "code",
   "execution_count": 19,
   "metadata": {},
   "outputs": [],
   "source": [
    "# 获取视频页面的视频下载地址和对应文本\n",
    "def getVideoUrlAndText(url):\n",
    "    response = getResponse(url)\n",
    "    response.encoding = 'utf-8'\n",
    "    page_text = response.text\n",
    "    tree = etree.HTML(page_text)\n",
    "    temp = tree.xpath('//source/@src')    \n",
    "    if len(temp) == 0:\n",
    "        return \"\", \"\"    \n",
    "    audioSrcUrl = 'https:' + temp[0]\n",
    "    text = tree.xpath('//div[@class=\"atcle-cont\"]/p/text()')\n",
    "    return audioSrcUrl, text"
   ]
  },
  {
   "cell_type": "code",
   "execution_count": 20,
   "metadata": {},
   "outputs": [
    {
     "name": "stdout",
     "output_type": "stream",
     "text": [
      "https://gslb.miaopai.com/stream/i8xzCwfAsKwL5GK5arOAeyn2ahKoEDtRaVcEqw__.mp4\n",
      "['\\u3000\\u3000子宫息肉分成两种情况，宫颈息肉和子宫内膜息肉。如果是子宫内膜息肉，一般要考虑跟内分泌失调关系比较密切，特别是跟体内的雌激素水平过高有关，在单一的雌激素长期的刺激下，会导致子宫内膜出现过度的增长形成息肉，而且会导致宫腔内的息肉进一步生长引发一些症状，出现月经量的增多、月经周期变长。另外，也要考虑跟炎症刺激有关，特别是宫颈的息肉，大多数都是跟慢性的宫颈炎长期的刺激下，导致宫颈管的局部黏膜出现增生，出现病变，增生的黏膜从基底部逐渐的凸向宫颈外口就形成了息肉，而且容易出现出血，特别是同房之后容易出血。', '\\n', '\\u3000\\u3000宫颈息肉症状明显，一般需要做宫颈息肉的摘除手术。但是，慢性的宫颈炎症不容易消除，手术之后宫颈息肉很容易出现复发。如果有一些其他的伴随症状，有高血压、糖尿病、肥胖，也容易导致子宫内膜息肉的出现。']\n"
     ]
    }
   ],
   "source": [
    "url, text = getVideoUrlAndText('https://www.rxys.cn/shipin/6194.html')\n",
    "print(url)\n",
    "print(text)"
   ]
  },
  {
   "cell_type": "code",
   "execution_count": 21,
   "metadata": {},
   "outputs": [],
   "source": [
    "# 下载视频和文本\n",
    "def downloadVideoAndText(url):\n",
    "    audioUrl, text = getVideoUrlAndText(url)\n",
    "    if audioUrl == \"\":\n",
    "        print('error')\n",
    "        return\n",
    "    text = '\\n'.join(text)\n",
    "    fileName = (audioUrl.split('/')[-1]).split('.')[0]\n",
    "    with open('video_text/' + fileName + '.txt', 'w', encoding='utf-8') as fp:\n",
    "        fp.write(text)\n",
    "    content = getResponse(audioUrl).content\n",
    "    with open('video/' + fileName + '.mp4', 'wb') as fp:\n",
    "        fp.write(content)\n",
    "    print(url, \"successful\")"
   ]
  },
  {
   "cell_type": "code",
   "execution_count": 22,
   "metadata": {},
   "outputs": [],
   "source": [
    "# 获取每一页的所有视频页链接\n",
    "def getVideoUrlOfEveryPage(url):\n",
    "    response = getResponse(url)\n",
    "    response.encoding = 'utf-8'\n",
    "    page_text = response.text\n",
    "    tree = etree.HTML(page_text)\n",
    "    allPage = tree.xpath('//dl')\n",
    "    linkList = []\n",
    "    for li in allPage:\n",
    "        pageLink = 'https://www.rxys.cn/' + li.xpath('.//div[@class=\"vdo-text\"]/a/@href')[0]\n",
    "        #print(pageLink)\n",
    "        linkList.append(pageLink)\n",
    "    return linkList"
   ]
  },
  {
   "cell_type": "code",
   "execution_count": 23,
   "metadata": {},
   "outputs": [
    {
     "name": "stdout",
     "output_type": "stream",
     "text": [
      "https://www.rxys.cn//shipin/6194.html\n",
      "https://www.rxys.cn//shipin/6193.html\n",
      "https://www.rxys.cn//shipin/6192.html\n",
      "https://www.rxys.cn//shipin/6191.html\n",
      "https://www.rxys.cn//shipin/6190.html\n",
      "https://www.rxys.cn//shipin/6132.html\n",
      "https://www.rxys.cn//shipin/6131.html\n",
      "https://www.rxys.cn//shipin/6130.html\n",
      "https://www.rxys.cn//shipin/6129.html\n",
      "https://www.rxys.cn//shipin/6128.html\n",
      "https://www.rxys.cn//shipin/6127.html\n",
      "https://www.rxys.cn//shipin/6126.html\n",
      "https://www.rxys.cn//shipin/6125.html\n",
      "https://www.rxys.cn//shipin/6124.html\n",
      "https://www.rxys.cn//shipin/6123.html\n",
      "https://www.rxys.cn//shipin/6122.html\n",
      "https://www.rxys.cn//shipin/6121.html\n",
      "https://www.rxys.cn//shipin/6120.html\n",
      "https://www.rxys.cn//shipin/6119.html\n",
      "https://www.rxys.cn//shipin/6118.html\n",
      "https://www.rxys.cn//shipin/6003.html\n",
      "https://www.rxys.cn//shipin/5916.html\n",
      "https://www.rxys.cn//shipin/5909.html\n",
      "https://www.rxys.cn//shipin/5924.html\n",
      "https://www.rxys.cn//shipin/4109.html\n",
      "https://www.rxys.cn//shipin/4227.html\n",
      "https://www.rxys.cn//shipin/5245.html\n",
      "https://www.rxys.cn//shipin/5161.html\n",
      "https://www.rxys.cn//shipin/4719.html\n",
      "https://www.rxys.cn//shipin/4762.html\n",
      "https://www.rxys.cn//shipin/6000.html\n",
      "https://www.rxys.cn//shipin/3183.html\n",
      "https://www.rxys.cn//shipin/4174.html\n",
      "https://www.rxys.cn//shipin/5921.html\n",
      "https://www.rxys.cn//shipin/6023.html\n",
      "https://www.rxys.cn//shipin/6124.html\n",
      "https://www.rxys.cn//shipin/4360.html\n",
      "https://www.rxys.cn//shipin/5240.html\n",
      "https://www.rxys.cn//shipin/5243.html\n",
      "https://www.rxys.cn//shipin/5353.html\n"
     ]
    }
   ],
   "source": [
    "for link in getVideoUrlOfEveryPage('https://www.rxys.cn/shipin/'):\n",
    "    print(link)"
   ]
  },
  {
   "cell_type": "code",
   "execution_count": 25,
   "metadata": {
    "scrolled": true
   },
   "outputs": [
    {
     "name": "stdout",
     "output_type": "stream",
     "text": [
      "https://www.rxys.cn//shipin/6194.html successful\n",
      "https://www.rxys.cn//shipin/6193.html successful\n",
      "https://www.rxys.cn//shipin/6192.html successful\n",
      "https://www.rxys.cn//shipin/6191.html successful\n",
      "https://www.rxys.cn//shipin/6190.html successful\n",
      "https://www.rxys.cn//shipin/6132.html successful\n",
      "https://www.rxys.cn//shipin/6131.html successful\n",
      "https://www.rxys.cn//shipin/6130.html successful\n",
      "https://www.rxys.cn//shipin/6129.html successful\n",
      "https://www.rxys.cn//shipin/6128.html successful\n",
      "https://www.rxys.cn//shipin/6127.html successful\n",
      "https://www.rxys.cn//shipin/6126.html successful\n",
      "https://www.rxys.cn//shipin/6125.html successful\n",
      "https://www.rxys.cn//shipin/6124.html successful\n",
      "https://www.rxys.cn//shipin/6123.html successful\n",
      "https://www.rxys.cn//shipin/6122.html successful\n",
      "https://www.rxys.cn//shipin/6121.html successful\n",
      "https://www.rxys.cn//shipin/6120.html successful\n",
      "https://www.rxys.cn//shipin/6119.html successful\n",
      "https://www.rxys.cn//shipin/6118.html successful\n",
      "https://www.rxys.cn//shipin/6003.html successful\n",
      "https://www.rxys.cn//shipin/5916.html successful\n",
      "https://www.rxys.cn//shipin/5909.html successful\n",
      "https://www.rxys.cn//shipin/5924.html successful\n",
      "https://www.rxys.cn//shipin/4109.html successful\n",
      "https://www.rxys.cn//shipin/4227.html successful\n",
      "https://www.rxys.cn//shipin/5245.html successful\n",
      "https://www.rxys.cn//shipin/5161.html successful\n",
      "https://www.rxys.cn//shipin/4719.html successful\n",
      "https://www.rxys.cn//shipin/4762.html successful\n",
      "https://www.rxys.cn//shipin/6000.html successful\n",
      "https://www.rxys.cn//shipin/3183.html successful\n",
      "https://www.rxys.cn//shipin/4174.html successful\n",
      "https://www.rxys.cn//shipin/5921.html successful\n",
      "https://www.rxys.cn//shipin/6023.html successful\n",
      "https://www.rxys.cn//shipin/6124.html successful\n",
      "https://www.rxys.cn//shipin/4360.html successful\n",
      "https://www.rxys.cn//shipin/5240.html successful\n",
      "https://www.rxys.cn//shipin/5243.html successful\n",
      "https://www.rxys.cn//shipin/5353.html successful\n"
     ]
    }
   ],
   "source": [
    "for link in getVideoUrlOfEveryPage('https://www.rxys.cn/shipin/'):\n",
    "    downloadVideoAndText(link)"
   ]
  },
  {
   "cell_type": "code",
   "execution_count": null,
   "metadata": {},
   "outputs": [],
   "source": []
  }
 ],
 "metadata": {
  "kernelspec": {
   "display_name": "Python 3",
   "language": "python",
   "name": "python3"
  },
  "language_info": {
   "codemirror_mode": {
    "name": "ipython",
    "version": 3
   },
   "file_extension": ".py",
   "mimetype": "text/x-python",
   "name": "python",
   "nbconvert_exporter": "python",
   "pygments_lexer": "ipython3",
   "version": "3.8.5"
  }
 },
 "nbformat": 4,
 "nbformat_minor": 4
}
