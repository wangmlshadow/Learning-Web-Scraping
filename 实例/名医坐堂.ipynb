{
 "cells": [
  {
   "cell_type": "code",
   "execution_count": 1,
   "metadata": {},
   "outputs": [],
   "source": [
    "# http://www.radio.cn/pc-portal/sanji/detail.html?className=%25E5%2585%25BB%25E7%2594%259F&classify_id=208&columnId=1684336\n",
    "# http://www.radio.cn/pc-portal/sanji/detail.html?className=%25E5%2585%25BB%25E7%2594%259F&classify_id=208&columnId=1684336\n",
    "# http://ytmedia.radio.cn/CCYT%2F2020%2F01%2F14%2F1578981449d7a7990777a0c6344a829cd78c4cbeebl.mp3\n"
   ]
  },
  {
   "cell_type": "code",
   "execution_count": 2,
   "metadata": {},
   "outputs": [],
   "source": [
    "# http://tacc.radio.cn/pcpages/odchannelpages?callback=jQuery1122008240394148889907_1617082202121&od_id=1684336&start=1&rows=20&_=1617082202136\n",
    "# http://tacc.radio.cn/pcpages/odchannelpages?callback=jQuery1122008240394148889907_1617082202121&od_id=1684336&start=3&rows=20&_=1617082202140"
   ]
  },
  {
   "cell_type": "code",
   "execution_count": 3,
   "metadata": {},
   "outputs": [],
   "source": [
    "import requests\n",
    "from bs4 import BeautifulSoup\n",
    "import re\n",
    "import json\n",
    "from selenium import webdriver"
   ]
  },
  {
   "cell_type": "code",
   "execution_count": 4,
   "metadata": {},
   "outputs": [],
   "source": [
    "def getResponse(url):\n",
    "    headers = {\n",
    "        'User-Agent':'Mozilla/5.0 (Windows NT 10.0; Win64; x64) AppleWebKit/537.36 (KHTML, like Gecko) Chrome/89.0.4389.90 Safari/537.36'\n",
    "    }\n",
    "    response = requests.get(url=url, headers=headers)\n",
    "    return response"
   ]
  },
  {
   "cell_type": "code",
   "execution_count": 5,
   "metadata": {},
   "outputs": [],
   "source": [
    "# 通过音频源地址爬取音频\n",
    "def getAudio(url):\n",
    "    response = getResponse(url)\n",
    "    path = 'audio/'\n",
    "    fileName = url.split('/')[-1]\n",
    "    with open(path + fileName, 'wb') as fp:\n",
    "        fp.write(response.content)\n",
    "    print(fileName, \"  successful\")"
   ]
  },
  {
   "cell_type": "code",
   "execution_count": 7,
   "metadata": {},
   "outputs": [
    {
     "name": "stdout",
     "output_type": "stream",
     "text": [
      "http://ytmedia.radio.cn/CCYT%2F2019%2F12%2F09%2F57a0f806f638f156f84158a67b699c2bl.mp3\n",
      "CCYT%2F2019%2F12%2F09%2F57a0f806f638f156f84158a67b699c2bl.mp3   successful\n"
     ]
    }
   ],
   "source": [
    "url = 'http:\\/\\/ytmedia.radio.cn\\/CCYT%2F2019%2F12%2F09%2F57a0f806f638f156f84158a67b699c2bl.mp3'\n",
    "url = url.replace('\\\\', '')\n",
    "print(url)\n",
    "\n",
    "getAudio(url)"
   ]
  },
  {
   "cell_type": "code",
   "execution_count": 8,
   "metadata": {
    "collapsed": true
   },
   "outputs": [
    {
     "name": "stdout",
     "output_type": "stream",
     "text": [
      "jQuery1122008240394148889907_1617082202121({\"result_code\":0,\"result_message\":\"成功\",\"data\":{\"odchannel\":{\"updateTime\":\"2020-03-04 20:15:01\",\"onlinetime\":\"2020-03-04\",\"podcasterIcon\":\"\",\"downLoadNum\":\"15\",\"channelId\":\"\",\"collectNum\":\"0\",\"source\":\"中国广播电视总台\",\"subscriptUrl\":\"\",\"shareUrl\":\"\",\"podcaster\":\"\",\"playNum\":\"230\",\"anchorNames\":\"\",\"keyword\":\"\",\"shareNum\":\"0\",\"commissioningEditorName\":\"\",\"guest\":\"\",\"id\":\"1684336\",\"name\":\"名医坐堂\",\"channelType\":\"ondemand\",\"description\":\"名医坐堂，为您解答疑难杂症。\",\"writer\":\"\",\"imageUrl\":[{\"size\":\"big\",\"url\":\"http:\\/\\/ytmedia.radio.cn\\/CCYT%2F201911%2F25%2F09%2FFik7bDYz8W0Vu0kksUbWxUjJiq8MnnfKiB82019112509924.jpg\"},{\"size\":\"middle\",\"url\":\"http:\\/\\/ytmedia.radio.cn\\/CCYT%2F201911%2F25%2F09%2FFik7bDYz8W0Vu0kksUbWxUjJiq8MnnfKiB82019112509924.jpg\"},{\"size\":\"small\",\"url\":\"http:\\/\\/ytmedia.radio.cn\\/CCYT%2F201911%2F25%2F09%2FFik7bDYz8W0Vu0kksUbWxUjJiq8MnnfKiB82019112509924.jpg\"}],\"categoryIds\":\"350, 208\",\"editorName\":\"\",\"sub_title\":\"\",\"podcasterId\":\"\",\"anchors\":\"\"},\"label\":[],\"program\":[{\"keyword\":\"\",\"duration\":\"811\",\"podcasterId\":\"\",\"mp3Length\":\"\",\"onlinetime\":\"2020-02-14\",\"podcasterIcon\":\"\",\"odChannelIds\":\"1684336\",\"downloadUrl\":\"\",\"collectNum\":\"0\",\"time\":\"\",\"mp3Size\":\"\",\"programId\":\"1807542\",\"shareUrl\":\"\",\"podcaster\":\"\",\"playNum\":\"0\",\"anchorNames\":\"\",\"type\":\"\",\"shareNum\":\"0\",\"mp3Url\":\"\",\"id\":\"1807542\",\"name\":\"有小婴儿的家庭怎样选择消毒产品\",\"description\":\"正确戴口罩的步骤是什么？自制口罩能起到防护作用吗？七步洗手法具体该怎么做？有小婴儿的家庭怎样选择消毒产品？名医为您答疑解惑，精彩内容尽在本期节目，敬请关注。\",\"imageUrl\":[{\"size\":\"big\",\"url\":\"\"},{\"size\":\"middle\",\"url\":\"\"},{\"size\":\"small\",\"url\":\"\"}],\"streams\":[{\"bitstreamType\":\"0\",\"resolution\":\"0\",\"url\":\"http:\\/\\/ytmedia.radio.cn\\/CCYT%2F2020%2F02%2F14%2F15816607252f6cd2c1876e31cab5dc07cb3eeabf06l.mp3\"},{\"bitstreamType\":\"0\",\"resolution\":\"0\",\"url\":\"http:\\/\\/ytmedia.radio.cn\\/CCYT%2F2020%2F02%2F14%2F15816607252f6cd2c1876e31cab5dc07cb3eeabf06l.mp3\"},{\"bitstreamType\":\"0\",\"resolution\":\"0\",\"url\":\"http:\\/\\/ytmedia.radio.cn\\/CCYT%2F2020%2F02%2F14%2F15816607252f6cd2c1876e31cab5dc07cb3eeabf06l.mp3\"}],\"size\":\"\",\"programWord\":\"\"},{\"keyword\":\"\",\"duration\":\"843\",\"podcasterId\":\"\",\"mp3Length\":\"\",\"onlinetime\":\"2020-02-11\",\"podcasterIcon\":\"\",\"odChannelIds\":\"1684336\",\"downloadUrl\":\"\",\"collectNum\":\"0\",\"time\":\"\",\"mp3Size\":\"\",\"programId\":\"1807541\",\"shareUrl\":\"\",\"podcaster\":\"\",\"playNum\":\"0\",\"anchorNames\":\"\",\"type\":\"\",\"shareNum\":\"0\",\"mp3Url\":\"\",\"id\":\"1807541\",\"name\":\"宝宝睡觉满床滚是缺钙吗？\",\"description\":\"8个月大的孩子开始练习站立，会不会影响将来腿部的发育，在床上练习可以吗？宝宝睡觉满床滚是缺钙吗？名医为您答疑解惑，精彩内容尽在本期节目，敬请关注。\",\"imageUrl\":[{\"size\":\"big\",\"url\":\"\"},{\"size\":\"middle\",\"url\":\"\"},{\"size\":\"small\",\"url\":\"\"}],\"streams\":[{\"bitstreamType\":\"0\",\"resolution\":\"0\",\"url\":\"http:\\/\\/ytmedia.radio.cn\\/CCYT%2F2020%2F02%2F11%2F1581397922fdb8f760dc374437b7e20f49e9464130l.mp3\"},{\"bitstreamType\":\"0\",\"resolution\":\"0\",\"url\":\"http:\\/\\/ytmedia.radio.cn\\/CCYT%2F2020%2F02%2F11%2F1581397922fdb8f760dc374437b7e20f49e9464130l.mp3\"},{\"bitstreamType\":\"0\",\"resolution\":\"0\",\"url\":\"http:\\/\\/ytmedia.radio.cn\\/CCYT%2F2020%2F02%2F11%2F1581397922fdb8f760dc374437b7e20f49e9464130l.mp3\"}],\"size\":\"\",\"programWord\":\"\"},{\"keyword\":\"\",\"duration\":\"639\",\"podcasterId\":\"\",\"mp3Length\":\"\",\"onlinetime\":\"2020-02-11\",\"podcasterIcon\":\"\",\"odChannelIds\":\"1684336\",\"downloadUrl\":\"\",\"collectNum\":\"0\",\"time\":\"\",\"mp3Size\":\"\",\"programId\":\"1807540\",\"shareUrl\":\"\",\"podcaster\":\"\",\"playNum\":\"0\",\"anchorNames\":\"\",\"type\":\"\",\"shareNum\":\"0\",\"mp3Url\":\"\",\"id\":\"1807540\",\"name\":\"早产儿喂养时该注意什么？\",\"description\":\"宝宝属于早产儿，在医院保温箱里待了一个月终于出院了，喂养孩子的时候该注意什么？名医为您答疑解惑，精彩内容尽在本期节目，敬请关注。\",\"imageUrl\":[{\"size\":\"big\",\"url\":\"\"},{\"size\":\"middle\",\"url\":\"\"},{\"size\":\"small\",\"url\":\"\"}],\"streams\":[{\"bitstreamType\":\"0\",\"resolution\":\"0\",\"url\":\"http:\\/\\/ytmedia.radio.cn\\/CCYT%2F2020%2F02%2F11%2F1581397853e1ac5b4bced42fca280f390ebab44789l.mp3\"},{\"bitstreamType\":\"0\",\"resolution\":\"0\",\"url\":\"http:\\/\\/ytmedia.radio.cn\\/CCYT%2F2020%2F02%2F11%2F1581397853e1ac5b4bced42fca280f390ebab44789l.mp3\"},{\"bitstreamType\":\"0\",\"resolution\":\"0\",\"url\":\"http:\\/\\/ytmedia.radio.cn\\/CCYT%2F2020%2F02%2F11%2F1581397853e1ac5b4bced42fca280f390ebab44789l.mp3\"}],\"size\":\"\",\"programWord\":\"\"},{\"keyword\":\"\",\"duration\":\"333\",\"podcasterId\":\"\",\"mp3Length\":\"\",\"onlinetime\":\"2020-01-14\",\"podcasterIcon\":\"\",\"odChannelIds\":\"1684336\",\"downloadUrl\":\"\",\"collectNum\":\"0\",\"time\":\"\",\"mp3Size\":\"\",\"programId\":\"1807539\",\"shareUrl\":\"\",\"podcaster\":\"\",\"playNum\":\"0\",\"anchorNames\":\"\",\"type\":\"\",\"shareNum\":\"0\",\"mp3Url\":\"\",\"id\":\"1807539\",\"name\":\"增稠剂常年给老人用有什么副作用吗？\",\"description\":\"增稠剂常年给老人用会有什么副作用吗？老人卒中刚出院，很抵触康复训练，现在只吃流食偶有吞咽困难，做些什么康复会有效？名医为您答疑解惑，精彩内容尽在本期节目，敬请关注。\",\"imageUrl\":[{\"size\":\"big\",\"url\":\"\"},{\"size\":\"middle\",\"url\":\"\"},{\"size\":\"small\",\"url\":\"\"}],\"streams\":[{\"bitstreamType\":\"0\",\"resolution\":\"0\",\"url\":\"http:\\/\\/ytmedia.radio.cn\\/CCYT%2F2020%2F01%2F14%2F15789814906c4a0d472a733a469ce99aca1ec94929l.mp3\"},{\"bitstreamType\":\"0\",\"resolution\":\"0\",\"url\":\"http:\\/\\/ytmedia.radio.cn\\/CCYT%2F2020%2F01%2F14%2F15789814906c4a0d472a733a469ce99aca1ec94929l.mp3\"},{\"bitstreamType\":\"0\",\"resolution\":\"0\",\"url\":\"http:\\/\\/ytmedia.radio.cn\\/CCYT%2F2020%2F01%2F14%2F15789814906c4a0d472a733a469ce99aca1ec94929l.mp3\"}],\"size\":\"\",\"programWord\":\"\"},{\"keyword\":\"\",\"duration\":\"487\",\"podcasterId\":\"\",\"mp3Length\":\"\",\"onlinetime\":\"2020-01-14\",\"podcasterIcon\":\"\",\"odChannelIds\":\"1684336\",\"downloadUrl\":\"\",\"collectNum\":\"0\",\"time\":\"\",\"mp3Size\":\"\",\"programId\":\"1807538\",\"shareUrl\":\"\",\"podcaster\":\"\",\"playNum\":\"0\",\"anchorNames\":\"\",\"type\":\"\",\"shareNum\":\"0\",\"mp3Url\":\"\",\"id\":\"1807538\",\"name\":\"月经不调没有任何不舒服，还需要治疗吗？\",\"description\":\"服用几次紧急避孕药后月经不准了，有事吗？月经不调没有任何不舒服，还需要治疗吗？名医为您答疑解惑，精彩内容尽在本期节目，敬请关注。\",\"imageUrl\":[{\"size\":\"big\",\"url\":\"\"},{\"size\":\"middle\",\"url\":\"\"},{\"size\":\"small\",\"url\":\"\"}],\"streams\":[{\"bitstreamType\":\"0\",\"resolution\":\"0\",\"url\":\"http:\\/\\/ytmedia.radio.cn\\/CCYT%2F2020%2F01%2F14%2F1578981449d7a7990777a0c6344a829cd78c4cbeebl.mp3\"},{\"bitstreamType\":\"0\",\"resolution\":\"0\",\"url\":\"http:\\/\\/ytmedia.radio.cn\\/CCYT%2F2020%2F01%2F14%2F1578981449d7a7990777a0c6344a829cd78c4cbeebl.mp3\"},{\"bitstreamType\":\"0\",\"resolution\":\"0\",\"url\":\"http:\\/\\/ytmedia.radio.cn\\/CCYT%2F2020%2F01%2F14%2F1578981449d7a7990777a0c6344a829cd78c4cbeebl.mp3\"}],\"size\":\"\",\"programWord\":\"\"},{\"keyword\":\"\",\"duration\":\"804\",\"podcasterId\":\"\",\"mp3Length\":\"\",\"onlinetime\":\"2020-01-13\",\"podcasterIcon\":\"\",\"odChannelIds\":\"1684336\",\"downloadUrl\":\"\",\"collectNum\":\"0\",\"time\":\"\",\"mp3Size\":\"\",\"programId\":\"1807537\",\"shareUrl\":\"\",\"podcaster\":\"\",\"playNum\":\"0\",\"anchorNames\":\"\",\"type\":\"\",\"shareNum\":\"0\",\"mp3Url\":\"\",\"id\":\"1807537\",\"name\":\"重病患者可以住进ICU吗？\",\"description\":\"重病患者都可以住ICU吗？ICU的花费大吗，是不是纯自费？名医为您答疑解惑，精彩内容尽在本期节目，敬请关注。\",\"imageUrl\":[{\"size\":\"big\",\"url\":\"\"},{\"size\":\"middle\",\"url\":\"\"},{\"size\":\"small\",\"url\":\"\"}],\"streams\":[{\"bitstreamType\":\"0\",\"resolution\":\"0\",\"url\":\"http:\\/\\/ytmedia.radio.cn\\/CCYT%2F2020%2F01%2F13%2F15788877261c596c4bdbfbf96c20b9e05903ce79e9l.mp3\"},{\"bitstreamType\":\"0\",\"resolution\":\"0\",\"url\":\"http:\\/\\/ytmedia.radio.cn\\/CCYT%2F2020%2F01%2F13%2F15788877261c596c4bdbfbf96c20b9e05903ce79e9l.mp3\"},{\"bitstreamType\":\"0\",\"resolution\":\"0\",\"url\":\"http:\\/\\/ytmedia.radio.cn\\/CCYT%2F2020%2F01%2F13%2F15788877261c596c4bdbfbf96c20b9e05903ce79e9l.mp3\"}],\"size\":\"\",\"programWord\":\"\"},{\"keyword\":\"\",\"duration\":\"869\",\"podcasterId\":\"\",\"mp3Length\":\"\",\"onlinetime\":\"2020-01-13\",\"podcasterIcon\":\"\",\"odChannelIds\":\"1684336\",\"downloadUrl\":\"\",\"collectNum\":\"0\",\"time\":\"\",\"mp3Size\":\"\",\"programId\":\"1807536\",\"shareUrl\":\"\",\"podcaster\":\"\",\"playNum\":\"0\",\"anchorNames\":\"\",\"type\":\"\",\"shareNum\":\"0\",\"mp3Url\":\"\",\"id\":\"1807536\",\"name\":\"更年期综合征，停经两个月出汗严重、失眠，这种情况需要服药吗？\",\"description\":\"更年期综合征去医院开药服用后出现血压不稳、咽部充血，这些症状和服用该药物有关系吗？更年期综合征，停经两个月出汗严重、失眠，需要服药吗？名医为您答疑解惑，精彩内容尽在本期节目，敬请关注。\",\"imageUrl\":[{\"size\":\"big\",\"url\":\"\"},{\"size\":\"middle\",\"url\":\"\"},{\"size\":\"small\",\"url\":\"\"}],\"streams\":[{\"bitstreamType\":\"0\",\"resolution\":\"0\",\"url\":\"http:\\/\\/ytmedia.radio.cn\\/CCYT%2F2020%2F01%2F13%2F15788876503e1a92176bfe2d6253673292f1b609fbl.mp3\"},{\"bitstreamType\":\"0\",\"resolution\":\"0\",\"url\":\"http:\\/\\/ytmedia.radio.cn\\/CCYT%2F2020%2F01%2F13%2F15788876503e1a92176bfe2d6253673292f1b609fbl.mp3\"},{\"bitstreamType\":\"0\",\"resolution\":\"0\",\"url\":\"http:\\/\\/ytmedia.radio.cn\\/CCYT%2F2020%2F01%2F13%2F15788876503e1a92176bfe2d6253673292f1b609fbl.mp3\"}],\"size\":\"\",\"programWord\":\"\"},{\"keyword\":\"\",\"duration\":\"203\",\"podcasterId\":\"\",\"mp3Length\":\"\",\"onlinetime\":\"2020-01-08\",\"podcasterIcon\":\"\",\"odChannelIds\":\"1684336\",\"downloadUrl\":\"\",\"collectNum\":\"0\",\"time\":\"\",\"mp3Size\":\"\",\"programId\":\"1807535\",\"shareUrl\":\"\",\"podcaster\":\"\",\"playNum\":\"0\",\"anchorNames\":\"\",\"type\":\"\",\"shareNum\":\"0\",\"mp3Url\":\"\",\"id\":\"1807535\",\"name\":\"牙线棒需要每餐饭后都用吗？\",\"description\":\"每餐饭后都需要用牙线棒吗？牙线棒刷牙前用还是刷牙后用？名医为您答疑解惑，精彩内容尽在本期节目，敬请关注。\",\"imageUrl\":[{\"size\":\"big\",\"url\":\"\"},{\"size\":\"middle\",\"url\":\"\"},{\"size\":\"small\",\"url\":\"\"}],\"streams\":[{\"bitstreamType\":\"0\",\"resolution\":\"0\",\"url\":\"http:\\/\\/ytmedia.radio.cn\\/CCYT%2F2020%2F01%2F08%2F15784621660ead61b81f4e87857afcbeb291a651dcl.mp3\"},{\"bitstreamType\":\"0\",\"resolution\":\"0\",\"url\":\"http:\\/\\/ytmedia.radio.cn\\/CCYT%2F2020%2F01%2F08%2F15784621660ead61b81f4e87857afcbeb291a651dcl.mp3\"},{\"bitstreamType\":\"0\",\"resolution\":\"0\",\"url\":\"http:\\/\\/ytmedia.radio.cn\\/CCYT%2F2020%2F01%2F08%2F15784621660ead61b81f4e87857afcbeb291a651dcl.mp3\"}],\"size\":\"\",\"programWord\":\"\"},{\"keyword\":\"\",\"duration\":\"535\",\"podcasterId\":\"\",\"mp3Length\":\"\",\"onlinetime\":\"2020-01-08\",\"podcasterIcon\":\"\",\"odChannelIds\":\"1684336\",\"downloadUrl\":\"\",\"collectNum\":\"0\",\"time\":\"\",\"mp3Size\":\"\",\"programId\":\"1807534\",\"shareUrl\":\"\",\"podcaster\":\"\",\"playNum\":\"0\",\"anchorNames\":\"\",\"type\":\"\",\"shareNum\":\"0\",\"mp3Url\":\"\",\"id\":\"1807534\",\"name\":\"吸盘治疗漏斗胸效果怎么样，有什么要求？\",\"description\":\"漏斗胸患者不做手术活不过四十岁，是真的吗？吸盘治疗漏斗胸效果怎么样，有什么要求？名医为您答疑解惑，精彩内容尽在本期节目，敬请关注。\",\"imageUrl\":[{\"size\":\"big\",\"url\":\"\"},{\"size\":\"middle\",\"url\":\"\"},{\"size\":\"small\",\"url\":\"\"}],\"streams\":[{\"bitstreamType\":\"0\",\"resolution\":\"0\",\"url\":\"http:\\/\\/ytmedia.radio.cn\\/CCYT%2F2020%2F01%2F08%2F15784621208c10ee2a38c7e8d4a9f8eb621698da11l.mp3\"},{\"bitstreamType\":\"0\",\"resolution\":\"0\",\"url\":\"http:\\/\\/ytmedia.radio.cn\\/CCYT%2F2020%2F01%2F08%2F15784621208c10ee2a38c7e8d4a9f8eb621698da11l.mp3\"},{\"bitstreamType\":\"0\",\"resolution\":\"0\",\"url\":\"http:\\/\\/ytmedia.radio.cn\\/CCYT%2F2020%2F01%2F08%2F15784621208c10ee2a38c7e8d4a9f8eb621698da11l.mp3\"}],\"size\":\"\",\"programWord\":\"\"},{\"keyword\":\"\",\"duration\":\"456\",\"podcasterId\":\"\",\"mp3Length\":\"\",\"onlinetime\":\"2020-01-07\",\"podcasterIcon\":\"\",\"odChannelIds\":\"1684336\",\"downloadUrl\":\"\",\"collectNum\":\"0\",\"time\":\"\",\"mp3Size\":\"\",\"programId\":\"1807533\",\"shareUrl\":\"\",\"podcaster\":\"\",\"playNum\":\"0\",\"anchorNames\":\"\",\"type\":\"\",\"shareNum\":\"0\",\"mp3Url\":\"\",\"id\":\"1807533\",\"name\":\"窝沟封闭必须做吗，几岁做比较好？\",\"description\":\"孩子能做到认真刷牙、不吃糖，还要做窝沟封闭吗，几岁做比较好？窝沟封闭和涂氟是一个道理吗？名医为您答疑解惑，精彩内容尽在本期节目，敬请关注。\",\"imageUrl\":[{\"size\":\"big\",\"url\":\"\"},{\"size\":\"middle\",\"url\":\"\"},{\"size\":\"small\",\"url\":\"\"}],\"streams\":[{\"bitstreamType\":\"0\",\"resolution\":\"0\",\"url\":\"http:\\/\\/ytmedia.radio.cn\\/CCYT%2F2020%2F01%2F07%2F29309451ec58c60c49d3c4c3bae81064l.mp3\"},{\"bitstreamType\":\"0\",\"resolution\":\"0\",\"url\":\"http:\\/\\/ytmedia.radio.cn\\/CCYT%2F2020%2F01%2F07%2F29309451ec58c60c49d3c4c3bae81064l.mp3\"},{\"bitstreamType\":\"0\",\"resolution\":\"0\",\"url\":\"http:\\/\\/ytmedia.radio.cn\\/CCYT%2F2020%2F01%2F07%2F29309451ec58c60c49d3c4c3bae81064l.mp3\"}],\"size\":\"\",\"programWord\":\"\"},{\"keyword\":\"\",\"duration\":\"651\",\"podcasterId\":\"\",\"mp3Length\":\"\",\"onlinetime\":\"2020-01-07\",\"podcasterIcon\":\"\",\"odChannelIds\":\"1684336\",\"downloadUrl\":\"\",\"collectNum\":\"0\",\"time\":\"\",\"mp3Size\":\"\",\"programId\":\"1807532\",\"shareUrl\":\"\",\"podcaster\":\"\",\"playNum\":\"0\",\"anchorNames\":\"\",\"type\":\"\",\"shareNum\":\"0\",\"mp3Url\":\"\",\"id\":\"1807532\",\"name\":\"胃镜、肠镜做无痛的好还是普通的好？\",\"description\":\"胶囊内镜可以替代胃镜吗？胃肠镜检查有没有什么禁忌症，哪些人群是不能做的？名医为您答疑解惑，精彩内容尽在本期节目，敬请关注。\",\"imageUrl\":[{\"size\":\"big\",\"url\":\"\"},{\"size\":\"middle\",\"url\":\"\"},{\"size\":\"small\",\"url\":\"\"}],\"streams\":[{\"bitstreamType\":\"0\",\"resolution\":\"0\",\"url\":\"http:\\/\\/ytmedia.radio.cn\\/CCYT%2F2020%2F01%2F07%2F4ce3dfb2f506305b04506a1ed0f58693l.mp3\"},{\"bitstreamType\":\"0\",\"resolution\":\"0\",\"url\":\"http:\\/\\/ytmedia.radio.cn\\/CCYT%2F2020%2F01%2F07%2F4ce3dfb2f506305b04506a1ed0f58693l.mp3\"},{\"bitstreamType\":\"0\",\"resolution\":\"0\",\"url\":\"http:\\/\\/ytmedia.radio.cn\\/CCYT%2F2020%2F01%2F07%2F4ce3dfb2f506305b04506a1ed0f58693l.mp3\"}],\"size\":\"\",\"programWord\":\"\"},{\"keyword\":\"\",\"duration\":\"763\",\"podcasterId\":\"\",\"mp3Length\":\"\",\"onlinetime\":\"2020-01-07\",\"podcasterIcon\":\"\",\"odChannelIds\":\"1684336\",\"downloadUrl\":\"\",\"collectNum\":\"0\",\"time\":\"\",\"mp3Size\":\"\",\"programId\":\"1807531\",\"shareUrl\":\"\",\"podcaster\":\"\",\"playNum\":\"0\",\"anchorNames\":\"\",\"type\":\"\",\"shareNum\":\"0\",\"mp3Url\":\"\",\"id\":\"1807531\",\"name\":\"体检显示窦性心动过缓有什么危害，需要治疗吗？\",\"description\":\"心血管狭窄有什么症状？体检显示窦性心律过缓有什么危害，需要治疗吗？名医为您答疑解惑，精彩内容尽在本期节目，敬请关注。\",\"imageUrl\":[{\"size\":\"big\",\"url\":\"\"},{\"size\":\"middle\",\"url\":\"\"},{\"size\":\"small\",\"url\":\"\"}],\"streams\":[{\"bitstreamType\":\"0\",\"resolution\":\"0\",\"url\":\"http:\\/\\/ytmedia.radio.cn\\/CCYT%2F2020%2F01%2F06%2Fd9c82a955f1a16afd6650bdef52c9c55l.mp3\"},{\"bitstreamType\":\"0\",\"resolution\":\"0\",\"url\":\"http:\\/\\/ytmedia.radio.cn\\/CCYT%2F2020%2F01%2F06%2Fd9c82a955f1a16afd6650bdef52c9c55l.mp3\"},{\"bitstreamType\":\"0\",\"resolution\":\"0\",\"url\":\"http:\\/\\/ytmedia.radio.cn\\/CCYT%2F2020%2F01%2F06%2Fd9c82a955f1a16afd6650bdef52c9c55l.mp3\"}],\"size\":\"\",\"programWord\":\"\"},{\"keyword\":\"\",\"duration\":\"534\",\"podcasterId\":\"\",\"mp3Length\":\"\",\"onlinetime\":\"2020-01-07\",\"podcasterIcon\":\"\",\"odChannelIds\":\"1684336\",\"downloadUrl\":\"\",\"collectNum\":\"0\",\"time\":\"\",\"mp3Size\":\"\",\"programId\":\"1807530\",\"shareUrl\":\"\",\"podcaster\":\"\",\"playNum\":\"0\",\"anchorNames\":\"\",\"type\":\"\",\"shareNum\":\"0\",\"mp3Url\":\"\",\"id\":\"1807530\",\"name\":\"胆囊多发结石怎么治疗才好呢？\",\"description\":\"患有胆结石却因心脏病而不能手术，还有什么治疗办法？体外碎石对胆结石有作用吗？名医为您答疑解惑，精彩内容尽在本期节目，敬请关注。\",\"imageUrl\":[{\"size\":\"big\",\"url\":\"\"},{\"size\":\"middle\",\"url\":\"\"},{\"size\":\"small\",\"url\":\"\"}],\"streams\":[{\"bitstreamType\":\"0\",\"resolution\":\"0\",\"url\":\"http:\\/\\/ytmedia.radio.cn\\/CCYT%2F2020%2F01%2F06%2Fb608b4ee876ba580deb687186d37a2e7l.mp3\"},{\"bitstreamType\":\"0\",\"resolution\":\"0\",\"url\":\"http:\\/\\/ytmedia.radio.cn\\/CCYT%2F2020%2F01%2F06%2Fb608b4ee876ba580deb687186d37a2e7l.mp3\"},{\"bitstreamType\":\"0\",\"resolution\":\"0\",\"url\":\"http:\\/\\/ytmedia.radio.cn\\/CCYT%2F2020%2F01%2F06%2Fb608b4ee876ba580deb687186d37a2e7l.mp3\"}],\"size\":\"\",\"programWord\":\"\"},{\"keyword\":\"\",\"duration\":\"641\",\"podcasterId\":\"\",\"mp3Length\":\"\",\"onlinetime\":\"2020-01-07\",\"podcasterIcon\":\"\",\"odChannelIds\":\"1684336\",\"downloadUrl\":\"\",\"collectNum\":\"0\",\"time\":\"\",\"mp3Size\":\"\",\"programId\":\"1807529\",\"shareUrl\":\"\",\"podcaster\":\"\",\"playNum\":\"0\",\"anchorNames\":\"\",\"type\":\"\",\"shareNum\":\"0\",\"mp3Url\":\"\",\"id\":\"1807529\",\"name\":\"煤气中毒该怎么急救，喝酸菜汤有用吗？\",\"description\":\"中风的发病率较高，早期识别非常重要，我们如何在早期识别中风呢？煤气中毒该怎么急救，喝酸菜汤有用吗？名医为您答疑解惑，精彩内容尽在本期节目，敬请关注。\",\"imageUrl\":[{\"size\":\"big\",\"url\":\"\"},{\"size\":\"middle\",\"url\":\"\"},{\"size\":\"small\",\"url\":\"\"}],\"streams\":[{\"bitstreamType\":\"0\",\"resolution\":\"0\",\"url\":\"http:\\/\\/ytmedia.radio.cn\\/CCYT%2F2020%2F01%2F05%2F8bfcf96fd4b093685a0aaab261c5e52al.mp3\"},{\"bitstreamType\":\"0\",\"resolution\":\"0\",\"url\":\"http:\\/\\/ytmedia.radio.cn\\/CCYT%2F2020%2F01%2F05%2F8bfcf96fd4b093685a0aaab261c5e52al.mp3\"},{\"bitstreamType\":\"0\",\"resolution\":\"0\",\"url\":\"http:\\/\\/ytmedia.radio.cn\\/CCYT%2F2020%2F01%2F05%2F8bfcf96fd4b093685a0aaab261c5e52al.mp3\"}],\"size\":\"\",\"programWord\":\"\"},{\"keyword\":\"\",\"duration\":\"610\",\"podcasterId\":\"\",\"mp3Length\":\"\",\"onlinetime\":\"2020-01-07\",\"podcasterIcon\":\"\",\"odChannelIds\":\"1684336\",\"downloadUrl\":\"\",\"collectNum\":\"0\",\"time\":\"\",\"mp3Size\":\"\",\"programId\":\"1807528\",\"shareUrl\":\"\",\"podcaster\":\"\",\"playNum\":\"0\",\"anchorNames\":\"\",\"type\":\"\",\"shareNum\":\"0\",\"mp3Url\":\"\",\"id\":\"1807528\",\"name\":\"常用吗啡、羟考酮会成瘾吗？\",\"description\":\"总打升白针会伤害骨髓吗，有什么副作用吗？常用吗啡、羟考酮会成瘾吗？名医为您答疑解惑，精彩内容尽在本期节目，敬请关注。\",\"imageUrl\":[{\"size\":\"big\",\"url\":\"\"},{\"size\":\"middle\",\"url\":\"\"},{\"size\":\"small\",\"url\":\"\"}],\"streams\":[{\"bitstreamType\":\"0\",\"resolution\":\"0\",\"url\":\"http:\\/\\/ytmedia.radio.cn\\/CCYT%2F2020%2F01%2F05%2F93cd26d4e60848bfc9654ec829620291l.mp3\"},{\"bitstreamType\":\"0\",\"resolution\":\"0\",\"url\":\"http:\\/\\/ytmedia.radio.cn\\/CCYT%2F2020%2F01%2F05%2F93cd26d4e60848bfc9654ec829620291l.mp3\"},{\"bitstreamType\":\"0\",\"resolution\":\"0\",\"url\":\"http:\\/\\/ytmedia.radio.cn\\/CCYT%2F2020%2F01%2F05%2F93cd26d4e60848bfc9654ec829620291l.mp3\"}],\"size\":\"\",\"programWord\":\"\"},{\"keyword\":\"\",\"duration\":\"575\",\"podcasterId\":\"\",\"mp3Length\":\"\",\"onlinetime\":\"2020-01-07\",\"podcasterIcon\":\"\",\"odChannelIds\":\"1684336\",\"downloadUrl\":\"\",\"collectNum\":\"0\",\"time\":\"\",\"mp3Size\":\"\",\"programId\":\"1807527\",\"shareUrl\":\"\",\"podcaster\":\"\",\"playNum\":\"0\",\"anchorNames\":\"\",\"type\":\"\",\"shareNum\":\"0\",\"mp3Url\":\"\",\"id\":\"1807527\",\"name\":\"预防流感喝点什么泡茶饮品比较好？\",\"description\":\"老人爱感冒，偏瘦，贫血，预防流感喝点什么泡茶饮比较好？常年脾虚，但不想喝汤药，改成丸药会影响效果吗？名医为您答疑解惑，精彩内容尽在本期节目，敬请关注。\",\"imageUrl\":[{\"size\":\"big\",\"url\":\"\"},{\"size\":\"middle\",\"url\":\"\"},{\"size\":\"small\",\"url\":\"\"}],\"streams\":[{\"bitstreamType\":\"0\",\"resolution\":\"0\",\"url\":\"http:\\/\\/ytmedia.radio.cn\\/CCYT%2F2020%2F01%2F03%2Ffc84a93c469e38785918b8b4ac13078el.mp3\"},{\"bitstreamType\":\"0\",\"resolution\":\"0\",\"url\":\"http:\\/\\/ytmedia.radio.cn\\/CCYT%2F2020%2F01%2F03%2Ffc84a93c469e38785918b8b4ac13078el.mp3\"},{\"bitstreamType\":\"0\",\"resolution\":\"0\",\"url\":\"http:\\/\\/ytmedia.radio.cn\\/CCYT%2F2020%2F01%2F03%2Ffc84a93c469e38785918b8b4ac13078el.mp3\"}],\"size\":\"\",\"programWord\":\"\"},{\"keyword\":\"\",\"duration\":\"968\",\"podcasterId\":\"\",\"mp3Length\":\"\",\"onlinetime\":\"2020-01-07\",\"podcasterIcon\":\"\",\"odChannelIds\":\"1684336\",\"downloadUrl\":\"\",\"collectNum\":\"0\",\"time\":\"\",\"mp3Size\":\"\",\"programId\":\"1807526\",\"shareUrl\":\"\",\"podcaster\":\"\",\"playNum\":\"0\",\"anchorNames\":\"\",\"type\":\"\",\"shareNum\":\"0\",\"mp3Url\":\"\",\"id\":\"1807526\",\"name\":\"一遇到冷空气就流清水鼻涕该怎么办？\",\"description\":\"老人爱感冒，偏瘦，贫血，预防流感喝点什么泡茶饮比较好？常年脾虚，但不想喝汤药，改成丸药会影响效果吗？名医为您答疑解惑，精彩内容尽在本期节目，敬请关注。\",\"imageUrl\":[{\"size\":\"big\",\"url\":\"\"},{\"size\":\"middle\",\"url\":\"\"},{\"size\":\"small\",\"url\":\"\"}],\"streams\":[{\"bitstreamType\":\"0\",\"resolution\":\"0\",\"url\":\"http:\\/\\/ytmedia.radio.cn\\/CCYT%2F2020%2F01%2F03%2Ff9ba349dbb0a8e3bc73c05db5af43c42l.mp3\"},{\"bitstreamType\":\"0\",\"resolution\":\"0\",\"url\":\"http:\\/\\/ytmedia.radio.cn\\/CCYT%2F2020%2F01%2F03%2Ff9ba349dbb0a8e3bc73c05db5af43c42l.mp3\"},{\"bitstreamType\":\"0\",\"resolution\":\"0\",\"url\":\"http:\\/\\/ytmedia.radio.cn\\/CCYT%2F2020%2F01%2F03%2Ff9ba349dbb0a8e3bc73c05db5af43c42l.mp3\"}],\"size\":\"\",\"programWord\":\"\"},{\"keyword\":\"\",\"duration\":\"732\",\"podcasterId\":\"\",\"mp3Length\":\"\",\"onlinetime\":\"2020-01-07\",\"podcasterIcon\":\"\",\"odChannelIds\":\"1684336\",\"downloadUrl\":\"\",\"collectNum\":\"0\",\"time\":\"\",\"mp3Size\":\"\",\"programId\":\"1807525\",\"shareUrl\":\"\",\"podcaster\":\"\",\"playNum\":\"0\",\"anchorNames\":\"\",\"type\":\"\",\"shareNum\":\"0\",\"mp3Url\":\"\",\"id\":\"1807525\",\"name\":\"天冷就容易情绪低落是怎么回事？\",\"description\":\"老人到秋冬换季总是皮肤发痒，抹了身体乳也没有作用，这是怎么回事？天冷为什么容易情绪低落？名医为您答疑解惑，精彩内容尽在本期节目，敬请关注。\",\"imageUrl\":[{\"size\":\"big\",\"url\":\"\"},{\"size\":\"middle\",\"url\":\"\"},{\"size\":\"small\",\"url\":\"\"}],\"streams\":[{\"bitstreamType\":\"0\",\"resolution\":\"0\",\"url\":\"http:\\/\\/ytmedia.radio.cn\\/CCYT%2F2019%2F12%2F31%2F8084ae995961a595f7d4c65a6d4e3582l.mp3\"},{\"bitstreamType\":\"0\",\"resolution\":\"0\",\"url\":\"http:\\/\\/ytmedia.radio.cn\\/CCYT%2F2019%2F12%2F31%2F8084ae995961a595f7d4c65a6d4e3582l.mp3\"},{\"bitstreamType\":\"0\",\"resolution\":\"0\",\"url\":\"http:\\/\\/ytmedia.radio.cn\\/CCYT%2F2019%2F12%2F31%2F8084ae995961a595f7d4c65a6d4e3582l.mp3\"}],\"size\":\"\",\"programWord\":\"\"},{\"keyword\":\"\",\"duration\":\"841\",\"podcasterId\":\"\",\"mp3Length\":\"\",\"onlinetime\":\"2020-01-07\",\"podcasterIcon\":\"\",\"odChannelIds\":\"1684336\",\"downloadUrl\":\"\",\"collectNum\":\"0\",\"time\":\"\",\"mp3Size\":\"\",\"programId\":\"1807524\",\"shareUrl\":\"\",\"podcaster\":\"\",\"playNum\":\"0\",\"anchorNames\":\"\",\"type\":\"\",\"shareNum\":\"0\",\"mp3Url\":\"\",\"id\":\"1807524\",\"name\":\"流感爆发时如何增强免疫力？\",\"description\":\"预防流感的代茶饮有哪些？流感爆发时如何增强免疫力？名医为您答疑解惑，精彩内容尽在本期节目，敬请关注。\",\"imageUrl\":[{\"size\":\"big\",\"url\":\"\"},{\"size\":\"middle\",\"url\":\"\"},{\"size\":\"small\",\"url\":\"\"}],\"streams\":[{\"bitstreamType\":\"0\",\"resolution\":\"0\",\"url\":\"http:\\/\\/ytmedia.radio.cn\\/CCYT%2F2019%2F12%2F31%2F046672b4fa3704adadbbacd71053e6cel.mp3\"},{\"bitstreamType\":\"0\",\"resolution\":\"0\",\"url\":\"http:\\/\\/ytmedia.radio.cn\\/CCYT%2F2019%2F12%2F31%2F046672b4fa3704adadbbacd71053e6cel.mp3\"},{\"bitstreamType\":\"0\",\"resolution\":\"0\",\"url\":\"http:\\/\\/ytmedia.radio.cn\\/CCYT%2F2019%2F12%2F31%2F046672b4fa3704adadbbacd71053e6cel.mp3\"}],\"size\":\"\",\"programWord\":\"\"},{\"keyword\":\"\",\"duration\":\"395\",\"podcasterId\":\"\",\"mp3Length\":\"\",\"onlinetime\":\"2020-01-06\",\"podcasterIcon\":\"\",\"odChannelIds\":\"1684336\",\"downloadUrl\":\"\",\"collectNum\":\"0\",\"time\":\"\",\"mp3Size\":\"\",\"programId\":\"1807523\",\"shareUrl\":\"\",\"podcaster\":\"\",\"playNum\":\"0\",\"anchorNames\":\"\",\"type\":\"\",\"shareNum\":\"0\",\"mp3Url\":\"\",\"id\":\"1807523\",\"name\":\"喝水都长胖是湿气过重吗，有没有代茶饮可以祛湿气？\",\"description\":\"喝水都长肉是湿气过重吗，有没有代茶饮可以祛湿气？名医为您答疑解惑，精彩内容尽在本期节目，敬请关注。\",\"imageUrl\":[{\"size\":\"big\",\"url\":\"\"},{\"size\":\"middle\",\"url\":\"\"},{\"size\":\"small\",\"url\":\"\"}],\"streams\":[{\"bitstreamType\":\"0\",\"resolution\":\"0\",\"url\":\"http:\\/\\/ytmedia.radio.cn\\/CCYT%2F2019%2F12%2F31%2F84607875a364fb7152854ca4502faa5dl.mp3\"},{\"bitstreamType\":\"0\",\"resolution\":\"0\",\"url\":\"http:\\/\\/ytmedia.radio.cn\\/CCYT%2F2019%2F12%2F31%2F84607875a364fb7152854ca4502faa5dl.mp3\"},{\"bitstreamType\":\"0\",\"resolution\":\"0\",\"url\":\"http:\\/\\/ytmedia.radio.cn\\/CCYT%2F2019%2F12%2F31%2F84607875a364fb7152854ca4502faa5dl.mp3\"}],\"size\":\"\",\"programWord\":\"\"}]},\"total\":\"50\"})\n"
     ]
    }
   ],
   "source": [
    "url = 'http://tacc.radio.cn/pcpages/odchannelpages?callback=jQuery1122008240394148889907_1617082202121&od_id=1684336&start=1&rows=20&_=1617082202136'\n",
    "html = getResponse(url).text\n",
    "#print(html)"
   ]
  },
  {
   "cell_type": "code",
   "execution_count": 17,
   "metadata": {
    "collapsed": true
   },
   "outputs": [
    {
     "name": "stdout",
     "output_type": "stream",
     "text": [
      "jQuery1122008240394148889907_1617082202121({\"result_code\":0,\"result_message\":\"成功\",\"data\":{\"odchannel\":{\"updateTime\":\"2020-03-04 20:15:01\",\"onlinetime\":\"2020-03-04\",\"podcasterIcon\":\"\",\"downLoadNum\":\"15\",\"channelId\":\"\",\"collectNum\":\"0\",\"source\":\"中国广播电视总台\",\"subscriptUrl\":\"\",\"shareUrl\":\"\",\"podcaster\":\"\",\"playNum\":\"230\",\"anchorNames\":\"\",\"keyword\":\"\",\"shareNum\":\"0\",\"commissioningEditorName\":\"\",\"guest\":\"\",\"id\":\"1684336\",\"name\":\"名医坐堂\",\"channelType\":\"ondemand\",\"description\":\"名医坐堂，为您解答疑难杂症。\",\"writer\":\"\",\"imageUrl\":[{\"size\":\"big\",\"url\":\"http://ytmedia.radio.cn/CCYT%2F201911%2F25%2F09%2FFik7bDYz8W0Vu0kksUbWxUjJiq8MnnfKiB82019112509924.jpg\"},{\"size\":\"middle\",\"url\":\"http://ytmedia.radio.cn/CCYT%2F201911%2F25%2F09%2FFik7bDYz8W0Vu0kksUbWxUjJiq8MnnfKiB82019112509924.jpg\"},{\"size\":\"small\",\"url\":\"http://ytmedia.radio.cn/CCYT%2F201911%2F25%2F09%2FFik7bDYz8W0Vu0kksUbWxUjJiq8MnnfKiB82019112509924.jpg\"}],\"categoryIds\":\"350, 208\",\"editorName\":\"\",\"sub_title\":\"\",\"podcasterId\":\"\",\"anchors\":\"\"},\"label\":[],\"program\":[{\"keyword\":\"\",\"duration\":\"811\",\"podcasterId\":\"\",\"mp3Length\":\"\",\"onlinetime\":\"2020-02-14\",\"podcasterIcon\":\"\",\"odChannelIds\":\"1684336\",\"downloadUrl\":\"\",\"collectNum\":\"0\",\"time\":\"\",\"mp3Size\":\"\",\"programId\":\"1807542\",\"shareUrl\":\"\",\"podcaster\":\"\",\"playNum\":\"0\",\"anchorNames\":\"\",\"type\":\"\",\"shareNum\":\"0\",\"mp3Url\":\"\",\"id\":\"1807542\",\"name\":\"有小婴儿的家庭怎样选择消毒产品\",\"description\":\"正确戴口罩的步骤是什么？自制口罩能起到防护作用吗？七步洗手法具体该怎么做？有小婴儿的家庭怎样选择消毒产品？名医为您答疑解惑，精彩内容尽在本期节目，敬请关注。\",\"imageUrl\":[{\"size\":\"big\",\"url\":\"\"},{\"size\":\"middle\",\"url\":\"\"},{\"size\":\"small\",\"url\":\"\"}],\"streams\":[{\"bitstreamType\":\"0\",\"resolution\":\"0\",\"url\":\"http://ytmedia.radio.cn/CCYT%2F2020%2F02%2F14%2F15816607252f6cd2c1876e31cab5dc07cb3eeabf06l.mp3\"},{\"bitstreamType\":\"0\",\"resolution\":\"0\",\"url\":\"http://ytmedia.radio.cn/CCYT%2F2020%2F02%2F14%2F15816607252f6cd2c1876e31cab5dc07cb3eeabf06l.mp3\"},{\"bitstreamType\":\"0\",\"resolution\":\"0\",\"url\":\"http://ytmedia.radio.cn/CCYT%2F2020%2F02%2F14%2F15816607252f6cd2c1876e31cab5dc07cb3eeabf06l.mp3\"}],\"size\":\"\",\"programWord\":\"\"},{\"keyword\":\"\",\"duration\":\"843\",\"podcasterId\":\"\",\"mp3Length\":\"\",\"onlinetime\":\"2020-02-11\",\"podcasterIcon\":\"\",\"odChannelIds\":\"1684336\",\"downloadUrl\":\"\",\"collectNum\":\"0\",\"time\":\"\",\"mp3Size\":\"\",\"programId\":\"1807541\",\"shareUrl\":\"\",\"podcaster\":\"\",\"playNum\":\"0\",\"anchorNames\":\"\",\"type\":\"\",\"shareNum\":\"0\",\"mp3Url\":\"\",\"id\":\"1807541\",\"name\":\"宝宝睡觉满床滚是缺钙吗？\",\"description\":\"8个月大的孩子开始练习站立，会不会影响将来腿部的发育，在床上练习可以吗？宝宝睡觉满床滚是缺钙吗？名医为您答疑解惑，精彩内容尽在本期节目，敬请关注。\",\"imageUrl\":[{\"size\":\"big\",\"url\":\"\"},{\"size\":\"middle\",\"url\":\"\"},{\"size\":\"small\",\"url\":\"\"}],\"streams\":[{\"bitstreamType\":\"0\",\"resolution\":\"0\",\"url\":\"http://ytmedia.radio.cn/CCYT%2F2020%2F02%2F11%2F1581397922fdb8f760dc374437b7e20f49e9464130l.mp3\"},{\"bitstreamType\":\"0\",\"resolution\":\"0\",\"url\":\"http://ytmedia.radio.cn/CCYT%2F2020%2F02%2F11%2F1581397922fdb8f760dc374437b7e20f49e9464130l.mp3\"},{\"bitstreamType\":\"0\",\"resolution\":\"0\",\"url\":\"http://ytmedia.radio.cn/CCYT%2F2020%2F02%2F11%2F1581397922fdb8f760dc374437b7e20f49e9464130l.mp3\"}],\"size\":\"\",\"programWord\":\"\"},{\"keyword\":\"\",\"duration\":\"639\",\"podcasterId\":\"\",\"mp3Length\":\"\",\"onlinetime\":\"2020-02-11\",\"podcasterIcon\":\"\",\"odChannelIds\":\"1684336\",\"downloadUrl\":\"\",\"collectNum\":\"0\",\"time\":\"\",\"mp3Size\":\"\",\"programId\":\"1807540\",\"shareUrl\":\"\",\"podcaster\":\"\",\"playNum\":\"0\",\"anchorNames\":\"\",\"type\":\"\",\"shareNum\":\"0\",\"mp3Url\":\"\",\"id\":\"1807540\",\"name\":\"早产儿喂养时该注意什么？\",\"description\":\"宝宝属于早产儿，在医院保温箱里待了一个月终于出院了，喂养孩子的时候该注意什么？名医为您答疑解惑，精彩内容尽在本期节目，敬请关注。\",\"imageUrl\":[{\"size\":\"big\",\"url\":\"\"},{\"size\":\"middle\",\"url\":\"\"},{\"size\":\"small\",\"url\":\"\"}],\"streams\":[{\"bitstreamType\":\"0\",\"resolution\":\"0\",\"url\":\"http://ytmedia.radio.cn/CCYT%2F2020%2F02%2F11%2F1581397853e1ac5b4bced42fca280f390ebab44789l.mp3\"},{\"bitstreamType\":\"0\",\"resolution\":\"0\",\"url\":\"http://ytmedia.radio.cn/CCYT%2F2020%2F02%2F11%2F1581397853e1ac5b4bced42fca280f390ebab44789l.mp3\"},{\"bitstreamType\":\"0\",\"resolution\":\"0\",\"url\":\"http://ytmedia.radio.cn/CCYT%2F2020%2F02%2F11%2F1581397853e1ac5b4bced42fca280f390ebab44789l.mp3\"}],\"size\":\"\",\"programWord\":\"\"},{\"keyword\":\"\",\"duration\":\"333\",\"podcasterId\":\"\",\"mp3Length\":\"\",\"onlinetime\":\"2020-01-14\",\"podcasterIcon\":\"\",\"odChannelIds\":\"1684336\",\"downloadUrl\":\"\",\"collectNum\":\"0\",\"time\":\"\",\"mp3Size\":\"\",\"programId\":\"1807539\",\"shareUrl\":\"\",\"podcaster\":\"\",\"playNum\":\"0\",\"anchorNames\":\"\",\"type\":\"\",\"shareNum\":\"0\",\"mp3Url\":\"\",\"id\":\"1807539\",\"name\":\"增稠剂常年给老人用有什么副作用吗？\",\"description\":\"增稠剂常年给老人用会有什么副作用吗？老人卒中刚出院，很抵触康复训练，现在只吃流食偶有吞咽困难，做些什么康复会有效？名医为您答疑解惑，精彩内容尽在本期节目，敬请关注。\",\"imageUrl\":[{\"size\":\"big\",\"url\":\"\"},{\"size\":\"middle\",\"url\":\"\"},{\"size\":\"small\",\"url\":\"\"}],\"streams\":[{\"bitstreamType\":\"0\",\"resolution\":\"0\",\"url\":\"http://ytmedia.radio.cn/CCYT%2F2020%2F01%2F14%2F15789814906c4a0d472a733a469ce99aca1ec94929l.mp3\"},{\"bitstreamType\":\"0\",\"resolution\":\"0\",\"url\":\"http://ytmedia.radio.cn/CCYT%2F2020%2F01%2F14%2F15789814906c4a0d472a733a469ce99aca1ec94929l.mp3\"},{\"bitstreamType\":\"0\",\"resolution\":\"0\",\"url\":\"http://ytmedia.radio.cn/CCYT%2F2020%2F01%2F14%2F15789814906c4a0d472a733a469ce99aca1ec94929l.mp3\"}],\"size\":\"\",\"programWord\":\"\"},{\"keyword\":\"\",\"duration\":\"487\",\"podcasterId\":\"\",\"mp3Length\":\"\",\"onlinetime\":\"2020-01-14\",\"podcasterIcon\":\"\",\"odChannelIds\":\"1684336\",\"downloadUrl\":\"\",\"collectNum\":\"0\",\"time\":\"\",\"mp3Size\":\"\",\"programId\":\"1807538\",\"shareUrl\":\"\",\"podcaster\":\"\",\"playNum\":\"0\",\"anchorNames\":\"\",\"type\":\"\",\"shareNum\":\"0\",\"mp3Url\":\"\",\"id\":\"1807538\",\"name\":\"月经不调没有任何不舒服，还需要治疗吗？\",\"description\":\"服用几次紧急避孕药后月经不准了，有事吗？月经不调没有任何不舒服，还需要治疗吗？名医为您答疑解惑，精彩内容尽在本期节目，敬请关注。\",\"imageUrl\":[{\"size\":\"big\",\"url\":\"\"},{\"size\":\"middle\",\"url\":\"\"},{\"size\":\"small\",\"url\":\"\"}],\"streams\":[{\"bitstreamType\":\"0\",\"resolution\":\"0\",\"url\":\"http://ytmedia.radio.cn/CCYT%2F2020%2F01%2F14%2F1578981449d7a7990777a0c6344a829cd78c4cbeebl.mp3\"},{\"bitstreamType\":\"0\",\"resolution\":\"0\",\"url\":\"http://ytmedia.radio.cn/CCYT%2F2020%2F01%2F14%2F1578981449d7a7990777a0c6344a829cd78c4cbeebl.mp3\"},{\"bitstreamType\":\"0\",\"resolution\":\"0\",\"url\":\"http://ytmedia.radio.cn/CCYT%2F2020%2F01%2F14%2F1578981449d7a7990777a0c6344a829cd78c4cbeebl.mp3\"}],\"size\":\"\",\"programWord\":\"\"},{\"keyword\":\"\",\"duration\":\"804\",\"podcasterId\":\"\",\"mp3Length\":\"\",\"onlinetime\":\"2020-01-13\",\"podcasterIcon\":\"\",\"odChannelIds\":\"1684336\",\"downloadUrl\":\"\",\"collectNum\":\"0\",\"time\":\"\",\"mp3Size\":\"\",\"programId\":\"1807537\",\"shareUrl\":\"\",\"podcaster\":\"\",\"playNum\":\"0\",\"anchorNames\":\"\",\"type\":\"\",\"shareNum\":\"0\",\"mp3Url\":\"\",\"id\":\"1807537\",\"name\":\"重病患者可以住进ICU吗？\",\"description\":\"重病患者都可以住ICU吗？ICU的花费大吗，是不是纯自费？名医为您答疑解惑，精彩内容尽在本期节目，敬请关注。\",\"imageUrl\":[{\"size\":\"big\",\"url\":\"\"},{\"size\":\"middle\",\"url\":\"\"},{\"size\":\"small\",\"url\":\"\"}],\"streams\":[{\"bitstreamType\":\"0\",\"resolution\":\"0\",\"url\":\"http://ytmedia.radio.cn/CCYT%2F2020%2F01%2F13%2F15788877261c596c4bdbfbf96c20b9e05903ce79e9l.mp3\"},{\"bitstreamType\":\"0\",\"resolution\":\"0\",\"url\":\"http://ytmedia.radio.cn/CCYT%2F2020%2F01%2F13%2F15788877261c596c4bdbfbf96c20b9e05903ce79e9l.mp3\"},{\"bitstreamType\":\"0\",\"resolution\":\"0\",\"url\":\"http://ytmedia.radio.cn/CCYT%2F2020%2F01%2F13%2F15788877261c596c4bdbfbf96c20b9e05903ce79e9l.mp3\"}],\"size\":\"\",\"programWord\":\"\"},{\"keyword\":\"\",\"duration\":\"869\",\"podcasterId\":\"\",\"mp3Length\":\"\",\"onlinetime\":\"2020-01-13\",\"podcasterIcon\":\"\",\"odChannelIds\":\"1684336\",\"downloadUrl\":\"\",\"collectNum\":\"0\",\"time\":\"\",\"mp3Size\":\"\",\"programId\":\"1807536\",\"shareUrl\":\"\",\"podcaster\":\"\",\"playNum\":\"0\",\"anchorNames\":\"\",\"type\":\"\",\"shareNum\":\"0\",\"mp3Url\":\"\",\"id\":\"1807536\",\"name\":\"更年期综合征，停经两个月出汗严重、失眠，这种情况需要服药吗？\",\"description\":\"更年期综合征去医院开药服用后出现血压不稳、咽部充血，这些症状和服用该药物有关系吗？更年期综合征，停经两个月出汗严重、失眠，需要服药吗？名医为您答疑解惑，精彩内容尽在本期节目，敬请关注。\",\"imageUrl\":[{\"size\":\"big\",\"url\":\"\"},{\"size\":\"middle\",\"url\":\"\"},{\"size\":\"small\",\"url\":\"\"}],\"streams\":[{\"bitstreamType\":\"0\",\"resolution\":\"0\",\"url\":\"http://ytmedia.radio.cn/CCYT%2F2020%2F01%2F13%2F15788876503e1a92176bfe2d6253673292f1b609fbl.mp3\"},{\"bitstreamType\":\"0\",\"resolution\":\"0\",\"url\":\"http://ytmedia.radio.cn/CCYT%2F2020%2F01%2F13%2F15788876503e1a92176bfe2d6253673292f1b609fbl.mp3\"},{\"bitstreamType\":\"0\",\"resolution\":\"0\",\"url\":\"http://ytmedia.radio.cn/CCYT%2F2020%2F01%2F13%2F15788876503e1a92176bfe2d6253673292f1b609fbl.mp3\"}],\"size\":\"\",\"programWord\":\"\"},{\"keyword\":\"\",\"duration\":\"203\",\"podcasterId\":\"\",\"mp3Length\":\"\",\"onlinetime\":\"2020-01-08\",\"podcasterIcon\":\"\",\"odChannelIds\":\"1684336\",\"downloadUrl\":\"\",\"collectNum\":\"0\",\"time\":\"\",\"mp3Size\":\"\",\"programId\":\"1807535\",\"shareUrl\":\"\",\"podcaster\":\"\",\"playNum\":\"0\",\"anchorNames\":\"\",\"type\":\"\",\"shareNum\":\"0\",\"mp3Url\":\"\",\"id\":\"1807535\",\"name\":\"牙线棒需要每餐饭后都用吗？\",\"description\":\"每餐饭后都需要用牙线棒吗？牙线棒刷牙前用还是刷牙后用？名医为您答疑解惑，精彩内容尽在本期节目，敬请关注。\",\"imageUrl\":[{\"size\":\"big\",\"url\":\"\"},{\"size\":\"middle\",\"url\":\"\"},{\"size\":\"small\",\"url\":\"\"}],\"streams\":[{\"bitstreamType\":\"0\",\"resolution\":\"0\",\"url\":\"http://ytmedia.radio.cn/CCYT%2F2020%2F01%2F08%2F15784621660ead61b81f4e87857afcbeb291a651dcl.mp3\"},{\"bitstreamType\":\"0\",\"resolution\":\"0\",\"url\":\"http://ytmedia.radio.cn/CCYT%2F2020%2F01%2F08%2F15784621660ead61b81f4e87857afcbeb291a651dcl.mp3\"},{\"bitstreamType\":\"0\",\"resolution\":\"0\",\"url\":\"http://ytmedia.radio.cn/CCYT%2F2020%2F01%2F08%2F15784621660ead61b81f4e87857afcbeb291a651dcl.mp3\"}],\"size\":\"\",\"programWord\":\"\"},{\"keyword\":\"\",\"duration\":\"535\",\"podcasterId\":\"\",\"mp3Length\":\"\",\"onlinetime\":\"2020-01-08\",\"podcasterIcon\":\"\",\"odChannelIds\":\"1684336\",\"downloadUrl\":\"\",\"collectNum\":\"0\",\"time\":\"\",\"mp3Size\":\"\",\"programId\":\"1807534\",\"shareUrl\":\"\",\"podcaster\":\"\",\"playNum\":\"0\",\"anchorNames\":\"\",\"type\":\"\",\"shareNum\":\"0\",\"mp3Url\":\"\",\"id\":\"1807534\",\"name\":\"吸盘治疗漏斗胸效果怎么样，有什么要求？\",\"description\":\"漏斗胸患者不做手术活不过四十岁，是真的吗？吸盘治疗漏斗胸效果怎么样，有什么要求？名医为您答疑解惑，精彩内容尽在本期节目，敬请关注。\",\"imageUrl\":[{\"size\":\"big\",\"url\":\"\"},{\"size\":\"middle\",\"url\":\"\"},{\"size\":\"small\",\"url\":\"\"}],\"streams\":[{\"bitstreamType\":\"0\",\"resolution\":\"0\",\"url\":\"http://ytmedia.radio.cn/CCYT%2F2020%2F01%2F08%2F15784621208c10ee2a38c7e8d4a9f8eb621698da11l.mp3\"},{\"bitstreamType\":\"0\",\"resolution\":\"0\",\"url\":\"http://ytmedia.radio.cn/CCYT%2F2020%2F01%2F08%2F15784621208c10ee2a38c7e8d4a9f8eb621698da11l.mp3\"},{\"bitstreamType\":\"0\",\"resolution\":\"0\",\"url\":\"http://ytmedia.radio.cn/CCYT%2F2020%2F01%2F08%2F15784621208c10ee2a38c7e8d4a9f8eb621698da11l.mp3\"}],\"size\":\"\",\"programWord\":\"\"},{\"keyword\":\"\",\"duration\":\"456\",\"podcasterId\":\"\",\"mp3Length\":\"\",\"onlinetime\":\"2020-01-07\",\"podcasterIcon\":\"\",\"odChannelIds\":\"1684336\",\"downloadUrl\":\"\",\"collectNum\":\"0\",\"time\":\"\",\"mp3Size\":\"\",\"programId\":\"1807533\",\"shareUrl\":\"\",\"podcaster\":\"\",\"playNum\":\"0\",\"anchorNames\":\"\",\"type\":\"\",\"shareNum\":\"0\",\"mp3Url\":\"\",\"id\":\"1807533\",\"name\":\"窝沟封闭必须做吗，几岁做比较好？\",\"description\":\"孩子能做到认真刷牙、不吃糖，还要做窝沟封闭吗，几岁做比较好？窝沟封闭和涂氟是一个道理吗？名医为您答疑解惑，精彩内容尽在本期节目，敬请关注。\",\"imageUrl\":[{\"size\":\"big\",\"url\":\"\"},{\"size\":\"middle\",\"url\":\"\"},{\"size\":\"small\",\"url\":\"\"}],\"streams\":[{\"bitstreamType\":\"0\",\"resolution\":\"0\",\"url\":\"http://ytmedia.radio.cn/CCYT%2F2020%2F01%2F07%2F29309451ec58c60c49d3c4c3bae81064l.mp3\"},{\"bitstreamType\":\"0\",\"resolution\":\"0\",\"url\":\"http://ytmedia.radio.cn/CCYT%2F2020%2F01%2F07%2F29309451ec58c60c49d3c4c3bae81064l.mp3\"},{\"bitstreamType\":\"0\",\"resolution\":\"0\",\"url\":\"http://ytmedia.radio.cn/CCYT%2F2020%2F01%2F07%2F29309451ec58c60c49d3c4c3bae81064l.mp3\"}],\"size\":\"\",\"programWord\":\"\"},{\"keyword\":\"\",\"duration\":\"651\",\"podcasterId\":\"\",\"mp3Length\":\"\",\"onlinetime\":\"2020-01-07\",\"podcasterIcon\":\"\",\"odChannelIds\":\"1684336\",\"downloadUrl\":\"\",\"collectNum\":\"0\",\"time\":\"\",\"mp3Size\":\"\",\"programId\":\"1807532\",\"shareUrl\":\"\",\"podcaster\":\"\",\"playNum\":\"0\",\"anchorNames\":\"\",\"type\":\"\",\"shareNum\":\"0\",\"mp3Url\":\"\",\"id\":\"1807532\",\"name\":\"胃镜、肠镜做无痛的好还是普通的好？\",\"description\":\"胶囊内镜可以替代胃镜吗？胃肠镜检查有没有什么禁忌症，哪些人群是不能做的？名医为您答疑解惑，精彩内容尽在本期节目，敬请关注。\",\"imageUrl\":[{\"size\":\"big\",\"url\":\"\"},{\"size\":\"middle\",\"url\":\"\"},{\"size\":\"small\",\"url\":\"\"}],\"streams\":[{\"bitstreamType\":\"0\",\"resolution\":\"0\",\"url\":\"http://ytmedia.radio.cn/CCYT%2F2020%2F01%2F07%2F4ce3dfb2f506305b04506a1ed0f58693l.mp3\"},{\"bitstreamType\":\"0\",\"resolution\":\"0\",\"url\":\"http://ytmedia.radio.cn/CCYT%2F2020%2F01%2F07%2F4ce3dfb2f506305b04506a1ed0f58693l.mp3\"},{\"bitstreamType\":\"0\",\"resolution\":\"0\",\"url\":\"http://ytmedia.radio.cn/CCYT%2F2020%2F01%2F07%2F4ce3dfb2f506305b04506a1ed0f58693l.mp3\"}],\"size\":\"\",\"programWord\":\"\"},{\"keyword\":\"\",\"duration\":\"763\",\"podcasterId\":\"\",\"mp3Length\":\"\",\"onlinetime\":\"2020-01-07\",\"podcasterIcon\":\"\",\"odChannelIds\":\"1684336\",\"downloadUrl\":\"\",\"collectNum\":\"0\",\"time\":\"\",\"mp3Size\":\"\",\"programId\":\"1807531\",\"shareUrl\":\"\",\"podcaster\":\"\",\"playNum\":\"0\",\"anchorNames\":\"\",\"type\":\"\",\"shareNum\":\"0\",\"mp3Url\":\"\",\"id\":\"1807531\",\"name\":\"体检显示窦性心动过缓有什么危害，需要治疗吗？\",\"description\":\"心血管狭窄有什么症状？体检显示窦性心律过缓有什么危害，需要治疗吗？名医为您答疑解惑，精彩内容尽在本期节目，敬请关注。\",\"imageUrl\":[{\"size\":\"big\",\"url\":\"\"},{\"size\":\"middle\",\"url\":\"\"},{\"size\":\"small\",\"url\":\"\"}],\"streams\":[{\"bitstreamType\":\"0\",\"resolution\":\"0\",\"url\":\"http://ytmedia.radio.cn/CCYT%2F2020%2F01%2F06%2Fd9c82a955f1a16afd6650bdef52c9c55l.mp3\"},{\"bitstreamType\":\"0\",\"resolution\":\"0\",\"url\":\"http://ytmedia.radio.cn/CCYT%2F2020%2F01%2F06%2Fd9c82a955f1a16afd6650bdef52c9c55l.mp3\"},{\"bitstreamType\":\"0\",\"resolution\":\"0\",\"url\":\"http://ytmedia.radio.cn/CCYT%2F2020%2F01%2F06%2Fd9c82a955f1a16afd6650bdef52c9c55l.mp3\"}],\"size\":\"\",\"programWord\":\"\"},{\"keyword\":\"\",\"duration\":\"534\",\"podcasterId\":\"\",\"mp3Length\":\"\",\"onlinetime\":\"2020-01-07\",\"podcasterIcon\":\"\",\"odChannelIds\":\"1684336\",\"downloadUrl\":\"\",\"collectNum\":\"0\",\"time\":\"\",\"mp3Size\":\"\",\"programId\":\"1807530\",\"shareUrl\":\"\",\"podcaster\":\"\",\"playNum\":\"0\",\"anchorNames\":\"\",\"type\":\"\",\"shareNum\":\"0\",\"mp3Url\":\"\",\"id\":\"1807530\",\"name\":\"胆囊多发结石怎么治疗才好呢？\",\"description\":\"患有胆结石却因心脏病而不能手术，还有什么治疗办法？体外碎石对胆结石有作用吗？名医为您答疑解惑，精彩内容尽在本期节目，敬请关注。\",\"imageUrl\":[{\"size\":\"big\",\"url\":\"\"},{\"size\":\"middle\",\"url\":\"\"},{\"size\":\"small\",\"url\":\"\"}],\"streams\":[{\"bitstreamType\":\"0\",\"resolution\":\"0\",\"url\":\"http://ytmedia.radio.cn/CCYT%2F2020%2F01%2F06%2Fb608b4ee876ba580deb687186d37a2e7l.mp3\"},{\"bitstreamType\":\"0\",\"resolution\":\"0\",\"url\":\"http://ytmedia.radio.cn/CCYT%2F2020%2F01%2F06%2Fb608b4ee876ba580deb687186d37a2e7l.mp3\"},{\"bitstreamType\":\"0\",\"resolution\":\"0\",\"url\":\"http://ytmedia.radio.cn/CCYT%2F2020%2F01%2F06%2Fb608b4ee876ba580deb687186d37a2e7l.mp3\"}],\"size\":\"\",\"programWord\":\"\"},{\"keyword\":\"\",\"duration\":\"641\",\"podcasterId\":\"\",\"mp3Length\":\"\",\"onlinetime\":\"2020-01-07\",\"podcasterIcon\":\"\",\"odChannelIds\":\"1684336\",\"downloadUrl\":\"\",\"collectNum\":\"0\",\"time\":\"\",\"mp3Size\":\"\",\"programId\":\"1807529\",\"shareUrl\":\"\",\"podcaster\":\"\",\"playNum\":\"0\",\"anchorNames\":\"\",\"type\":\"\",\"shareNum\":\"0\",\"mp3Url\":\"\",\"id\":\"1807529\",\"name\":\"煤气中毒该怎么急救，喝酸菜汤有用吗？\",\"description\":\"中风的发病率较高，早期识别非常重要，我们如何在早期识别中风呢？煤气中毒该怎么急救，喝酸菜汤有用吗？名医为您答疑解惑，精彩内容尽在本期节目，敬请关注。\",\"imageUrl\":[{\"size\":\"big\",\"url\":\"\"},{\"size\":\"middle\",\"url\":\"\"},{\"size\":\"small\",\"url\":\"\"}],\"streams\":[{\"bitstreamType\":\"0\",\"resolution\":\"0\",\"url\":\"http://ytmedia.radio.cn/CCYT%2F2020%2F01%2F05%2F8bfcf96fd4b093685a0aaab261c5e52al.mp3\"},{\"bitstreamType\":\"0\",\"resolution\":\"0\",\"url\":\"http://ytmedia.radio.cn/CCYT%2F2020%2F01%2F05%2F8bfcf96fd4b093685a0aaab261c5e52al.mp3\"},{\"bitstreamType\":\"0\",\"resolution\":\"0\",\"url\":\"http://ytmedia.radio.cn/CCYT%2F2020%2F01%2F05%2F8bfcf96fd4b093685a0aaab261c5e52al.mp3\"}],\"size\":\"\",\"programWord\":\"\"},{\"keyword\":\"\",\"duration\":\"610\",\"podcasterId\":\"\",\"mp3Length\":\"\",\"onlinetime\":\"2020-01-07\",\"podcasterIcon\":\"\",\"odChannelIds\":\"1684336\",\"downloadUrl\":\"\",\"collectNum\":\"0\",\"time\":\"\",\"mp3Size\":\"\",\"programId\":\"1807528\",\"shareUrl\":\"\",\"podcaster\":\"\",\"playNum\":\"0\",\"anchorNames\":\"\",\"type\":\"\",\"shareNum\":\"0\",\"mp3Url\":\"\",\"id\":\"1807528\",\"name\":\"常用吗啡、羟考酮会成瘾吗？\",\"description\":\"总打升白针会伤害骨髓吗，有什么副作用吗？常用吗啡、羟考酮会成瘾吗？名医为您答疑解惑，精彩内容尽在本期节目，敬请关注。\",\"imageUrl\":[{\"size\":\"big\",\"url\":\"\"},{\"size\":\"middle\",\"url\":\"\"},{\"size\":\"small\",\"url\":\"\"}],\"streams\":[{\"bitstreamType\":\"0\",\"resolution\":\"0\",\"url\":\"http://ytmedia.radio.cn/CCYT%2F2020%2F01%2F05%2F93cd26d4e60848bfc9654ec829620291l.mp3\"},{\"bitstreamType\":\"0\",\"resolution\":\"0\",\"url\":\"http://ytmedia.radio.cn/CCYT%2F2020%2F01%2F05%2F93cd26d4e60848bfc9654ec829620291l.mp3\"},{\"bitstreamType\":\"0\",\"resolution\":\"0\",\"url\":\"http://ytmedia.radio.cn/CCYT%2F2020%2F01%2F05%2F93cd26d4e60848bfc9654ec829620291l.mp3\"}],\"size\":\"\",\"programWord\":\"\"},{\"keyword\":\"\",\"duration\":\"575\",\"podcasterId\":\"\",\"mp3Length\":\"\",\"onlinetime\":\"2020-01-07\",\"podcasterIcon\":\"\",\"odChannelIds\":\"1684336\",\"downloadUrl\":\"\",\"collectNum\":\"0\",\"time\":\"\",\"mp3Size\":\"\",\"programId\":\"1807527\",\"shareUrl\":\"\",\"podcaster\":\"\",\"playNum\":\"0\",\"anchorNames\":\"\",\"type\":\"\",\"shareNum\":\"0\",\"mp3Url\":\"\",\"id\":\"1807527\",\"name\":\"预防流感喝点什么泡茶饮品比较好？\",\"description\":\"老人爱感冒，偏瘦，贫血，预防流感喝点什么泡茶饮比较好？常年脾虚，但不想喝汤药，改成丸药会影响效果吗？名医为您答疑解惑，精彩内容尽在本期节目，敬请关注。\",\"imageUrl\":[{\"size\":\"big\",\"url\":\"\"},{\"size\":\"middle\",\"url\":\"\"},{\"size\":\"small\",\"url\":\"\"}],\"streams\":[{\"bitstreamType\":\"0\",\"resolution\":\"0\",\"url\":\"http://ytmedia.radio.cn/CCYT%2F2020%2F01%2F03%2Ffc84a93c469e38785918b8b4ac13078el.mp3\"},{\"bitstreamType\":\"0\",\"resolution\":\"0\",\"url\":\"http://ytmedia.radio.cn/CCYT%2F2020%2F01%2F03%2Ffc84a93c469e38785918b8b4ac13078el.mp3\"},{\"bitstreamType\":\"0\",\"resolution\":\"0\",\"url\":\"http://ytmedia.radio.cn/CCYT%2F2020%2F01%2F03%2Ffc84a93c469e38785918b8b4ac13078el.mp3\"}],\"size\":\"\",\"programWord\":\"\"},{\"keyword\":\"\",\"duration\":\"968\",\"podcasterId\":\"\",\"mp3Length\":\"\",\"onlinetime\":\"2020-01-07\",\"podcasterIcon\":\"\",\"odChannelIds\":\"1684336\",\"downloadUrl\":\"\",\"collectNum\":\"0\",\"time\":\"\",\"mp3Size\":\"\",\"programId\":\"1807526\",\"shareUrl\":\"\",\"podcaster\":\"\",\"playNum\":\"0\",\"anchorNames\":\"\",\"type\":\"\",\"shareNum\":\"0\",\"mp3Url\":\"\",\"id\":\"1807526\",\"name\":\"一遇到冷空气就流清水鼻涕该怎么办？\",\"description\":\"老人爱感冒，偏瘦，贫血，预防流感喝点什么泡茶饮比较好？常年脾虚，但不想喝汤药，改成丸药会影响效果吗？名医为您答疑解惑，精彩内容尽在本期节目，敬请关注。\",\"imageUrl\":[{\"size\":\"big\",\"url\":\"\"},{\"size\":\"middle\",\"url\":\"\"},{\"size\":\"small\",\"url\":\"\"}],\"streams\":[{\"bitstreamType\":\"0\",\"resolution\":\"0\",\"url\":\"http://ytmedia.radio.cn/CCYT%2F2020%2F01%2F03%2Ff9ba349dbb0a8e3bc73c05db5af43c42l.mp3\"},{\"bitstreamType\":\"0\",\"resolution\":\"0\",\"url\":\"http://ytmedia.radio.cn/CCYT%2F2020%2F01%2F03%2Ff9ba349dbb0a8e3bc73c05db5af43c42l.mp3\"},{\"bitstreamType\":\"0\",\"resolution\":\"0\",\"url\":\"http://ytmedia.radio.cn/CCYT%2F2020%2F01%2F03%2Ff9ba349dbb0a8e3bc73c05db5af43c42l.mp3\"}],\"size\":\"\",\"programWord\":\"\"},{\"keyword\":\"\",\"duration\":\"732\",\"podcasterId\":\"\",\"mp3Length\":\"\",\"onlinetime\":\"2020-01-07\",\"podcasterIcon\":\"\",\"odChannelIds\":\"1684336\",\"downloadUrl\":\"\",\"collectNum\":\"0\",\"time\":\"\",\"mp3Size\":\"\",\"programId\":\"1807525\",\"shareUrl\":\"\",\"podcaster\":\"\",\"playNum\":\"0\",\"anchorNames\":\"\",\"type\":\"\",\"shareNum\":\"0\",\"mp3Url\":\"\",\"id\":\"1807525\",\"name\":\"天冷就容易情绪低落是怎么回事？\",\"description\":\"老人到秋冬换季总是皮肤发痒，抹了身体乳也没有作用，这是怎么回事？天冷为什么容易情绪低落？名医为您答疑解惑，精彩内容尽在本期节目，敬请关注。\",\"imageUrl\":[{\"size\":\"big\",\"url\":\"\"},{\"size\":\"middle\",\"url\":\"\"},{\"size\":\"small\",\"url\":\"\"}],\"streams\":[{\"bitstreamType\":\"0\",\"resolution\":\"0\",\"url\":\"http://ytmedia.radio.cn/CCYT%2F2019%2F12%2F31%2F8084ae995961a595f7d4c65a6d4e3582l.mp3\"},{\"bitstreamType\":\"0\",\"resolution\":\"0\",\"url\":\"http://ytmedia.radio.cn/CCYT%2F2019%2F12%2F31%2F8084ae995961a595f7d4c65a6d4e3582l.mp3\"},{\"bitstreamType\":\"0\",\"resolution\":\"0\",\"url\":\"http://ytmedia.radio.cn/CCYT%2F2019%2F12%2F31%2F8084ae995961a595f7d4c65a6d4e3582l.mp3\"}],\"size\":\"\",\"programWord\":\"\"},{\"keyword\":\"\",\"duration\":\"841\",\"podcasterId\":\"\",\"mp3Length\":\"\",\"onlinetime\":\"2020-01-07\",\"podcasterIcon\":\"\",\"odChannelIds\":\"1684336\",\"downloadUrl\":\"\",\"collectNum\":\"0\",\"time\":\"\",\"mp3Size\":\"\",\"programId\":\"1807524\",\"shareUrl\":\"\",\"podcaster\":\"\",\"playNum\":\"0\",\"anchorNames\":\"\",\"type\":\"\",\"shareNum\":\"0\",\"mp3Url\":\"\",\"id\":\"1807524\",\"name\":\"流感爆发时如何增强免疫力？\",\"description\":\"预防流感的代茶饮有哪些？流感爆发时如何增强免疫力？名医为您答疑解惑，精彩内容尽在本期节目，敬请关注。\",\"imageUrl\":[{\"size\":\"big\",\"url\":\"\"},{\"size\":\"middle\",\"url\":\"\"},{\"size\":\"small\",\"url\":\"\"}],\"streams\":[{\"bitstreamType\":\"0\",\"resolution\":\"0\",\"url\":\"http://ytmedia.radio.cn/CCYT%2F2019%2F12%2F31%2F046672b4fa3704adadbbacd71053e6cel.mp3\"},{\"bitstreamType\":\"0\",\"resolution\":\"0\",\"url\":\"http://ytmedia.radio.cn/CCYT%2F2019%2F12%2F31%2F046672b4fa3704adadbbacd71053e6cel.mp3\"},{\"bitstreamType\":\"0\",\"resolution\":\"0\",\"url\":\"http://ytmedia.radio.cn/CCYT%2F2019%2F12%2F31%2F046672b4fa3704adadbbacd71053e6cel.mp3\"}],\"size\":\"\",\"programWord\":\"\"},{\"keyword\":\"\",\"duration\":\"395\",\"podcasterId\":\"\",\"mp3Length\":\"\",\"onlinetime\":\"2020-01-06\",\"podcasterIcon\":\"\",\"odChannelIds\":\"1684336\",\"downloadUrl\":\"\",\"collectNum\":\"0\",\"time\":\"\",\"mp3Size\":\"\",\"programId\":\"1807523\",\"shareUrl\":\"\",\"podcaster\":\"\",\"playNum\":\"0\",\"anchorNames\":\"\",\"type\":\"\",\"shareNum\":\"0\",\"mp3Url\":\"\",\"id\":\"1807523\",\"name\":\"喝水都长胖是湿气过重吗，有没有代茶饮可以祛湿气？\",\"description\":\"喝水都长肉是湿气过重吗，有没有代茶饮可以祛湿气？名医为您答疑解惑，精彩内容尽在本期节目，敬请关注。\",\"imageUrl\":[{\"size\":\"big\",\"url\":\"\"},{\"size\":\"middle\",\"url\":\"\"},{\"size\":\"small\",\"url\":\"\"}],\"streams\":[{\"bitstreamType\":\"0\",\"resolution\":\"0\",\"url\":\"http://ytmedia.radio.cn/CCYT%2F2019%2F12%2F31%2F84607875a364fb7152854ca4502faa5dl.mp3\"},{\"bitstreamType\":\"0\",\"resolution\":\"0\",\"url\":\"http://ytmedia.radio.cn/CCYT%2F2019%2F12%2F31%2F84607875a364fb7152854ca4502faa5dl.mp3\"},{\"bitstreamType\":\"0\",\"resolution\":\"0\",\"url\":\"http://ytmedia.radio.cn/CCYT%2F2019%2F12%2F31%2F84607875a364fb7152854ca4502faa5dl.mp3\"}],\"size\":\"\",\"programWord\":\"\"}]},\"total\":\"50\"})\n"
     ]
    }
   ],
   "source": [
    "html = html.replace('\\\\', '')\n",
    "#print(html)"
   ]
  },
  {
   "cell_type": "code",
   "execution_count": 28,
   "metadata": {},
   "outputs": [],
   "source": [
    "# http:\\/\\/ytmedia.radio.cn\\/CCYT%2F2019%2F12%2F09%2F57a0f806f638f156f84158a67b699c2bl.mp3\n",
    "ex = '\"url\":\"http://ytmedia.radio.cn/(.*?).mp3\"'\n",
    "src_list = re.findall(ex, html, re.S)\n",
    "src_list.pop(0)\n",
    "src_list = list(set(src_list))"
   ]
  },
  {
   "cell_type": "code",
   "execution_count": 29,
   "metadata": {},
   "outputs": [
    {
     "name": "stdout",
     "output_type": "stream",
     "text": [
      "CCYT%2F2020%2F01%2F13%2F15788877261c596c4bdbfbf96c20b9e05903ce79e9l\n",
      "CCYT%2F2020%2F01%2F07%2F29309451ec58c60c49d3c4c3bae81064l\n",
      "CCYT%2F2020%2F01%2F05%2F93cd26d4e60848bfc9654ec829620291l\n",
      "CCYT%2F2020%2F01%2F13%2F15788876503e1a92176bfe2d6253673292f1b609fbl\n",
      "CCYT%2F2020%2F01%2F03%2Ffc84a93c469e38785918b8b4ac13078el\n",
      "CCYT%2F2019%2F12%2F31%2F84607875a364fb7152854ca4502faa5dl\n",
      "CCYT%2F2020%2F01%2F08%2F15784621660ead61b81f4e87857afcbeb291a651dcl\n",
      "CCYT%2F2019%2F12%2F31%2F8084ae995961a595f7d4c65a6d4e3582l\n",
      "CCYT%2F2020%2F01%2F07%2F4ce3dfb2f506305b04506a1ed0f58693l\n",
      "CCYT%2F2020%2F01%2F14%2F15789814906c4a0d472a733a469ce99aca1ec94929l\n",
      "CCYT%2F2020%2F02%2F11%2F1581397922fdb8f760dc374437b7e20f49e9464130l\n",
      "CCYT%2F2020%2F01%2F05%2F8bfcf96fd4b093685a0aaab261c5e52al\n",
      "CCYT%2F2020%2F01%2F08%2F15784621208c10ee2a38c7e8d4a9f8eb621698da11l\n",
      "CCYT%2F2020%2F01%2F06%2Fd9c82a955f1a16afd6650bdef52c9c55l\n",
      "CCYT%2F2020%2F01%2F03%2Ff9ba349dbb0a8e3bc73c05db5af43c42l\n",
      "CCYT%2F2020%2F01%2F06%2Fb608b4ee876ba580deb687186d37a2e7l\n",
      "CCYT%2F2020%2F02%2F14%2F15816607252f6cd2c1876e31cab5dc07cb3eeabf06l\n",
      "CCYT%2F2020%2F02%2F11%2F1581397853e1ac5b4bced42fca280f390ebab44789l\n",
      "CCYT%2F2020%2F01%2F14%2F1578981449d7a7990777a0c6344a829cd78c4cbeebl\n",
      "CCYT%2F2019%2F12%2F31%2F046672b4fa3704adadbbacd71053e6cel\n"
     ]
    }
   ],
   "source": [
    "for src in src_list:\n",
    "    print(src)"
   ]
  },
  {
   "cell_type": "code",
   "execution_count": 30,
   "metadata": {},
   "outputs": [],
   "source": [
    "def getAllUrlOfEveryPage(url):\n",
    "    html = getResponse(url).text\n",
    "    html = html.replace('\\\\', '')\n",
    "    ex = '\"url\":\"http://ytmedia.radio.cn/(.*?).mp3\"'\n",
    "    src_list = re.findall(ex, html, re.S)\n",
    "    src_list.pop(0)\n",
    "    src_list = list(set(src_list))\n",
    "    linkList = []\n",
    "    \n",
    "    for src in src_list:\n",
    "        linkList.append('http://ytmedia.radio.cn/' + src + '.mp3')\n",
    "        \n",
    "    return linkList"
   ]
  },
  {
   "cell_type": "code",
   "execution_count": 31,
   "metadata": {},
   "outputs": [
    {
     "name": "stdout",
     "output_type": "stream",
     "text": [
      "http://ytmedia.radio.cn/CCYT%2F2020%2F01%2F13%2F15788877261c596c4bdbfbf96c20b9e05903ce79e9l.mp3\n",
      "http://ytmedia.radio.cn/CCYT%2F2020%2F01%2F07%2F29309451ec58c60c49d3c4c3bae81064l.mp3\n",
      "http://ytmedia.radio.cn/CCYT%2F2020%2F01%2F05%2F93cd26d4e60848bfc9654ec829620291l.mp3\n",
      "http://ytmedia.radio.cn/CCYT%2F2020%2F01%2F13%2F15788876503e1a92176bfe2d6253673292f1b609fbl.mp3\n",
      "http://ytmedia.radio.cn/CCYT%2F2020%2F01%2F03%2Ffc84a93c469e38785918b8b4ac13078el.mp3\n",
      "http://ytmedia.radio.cn/CCYT%2F2019%2F12%2F31%2F84607875a364fb7152854ca4502faa5dl.mp3\n",
      "http://ytmedia.radio.cn/CCYT%2F2020%2F01%2F08%2F15784621660ead61b81f4e87857afcbeb291a651dcl.mp3\n",
      "http://ytmedia.radio.cn/CCYT%2F2019%2F12%2F31%2F8084ae995961a595f7d4c65a6d4e3582l.mp3\n",
      "http://ytmedia.radio.cn/CCYT%2F2020%2F01%2F07%2F4ce3dfb2f506305b04506a1ed0f58693l.mp3\n",
      "http://ytmedia.radio.cn/CCYT%2F2020%2F01%2F14%2F15789814906c4a0d472a733a469ce99aca1ec94929l.mp3\n",
      "http://ytmedia.radio.cn/CCYT%2F2020%2F02%2F11%2F1581397922fdb8f760dc374437b7e20f49e9464130l.mp3\n",
      "http://ytmedia.radio.cn/CCYT%2F2020%2F01%2F05%2F8bfcf96fd4b093685a0aaab261c5e52al.mp3\n",
      "http://ytmedia.radio.cn/CCYT%2F2020%2F01%2F08%2F15784621208c10ee2a38c7e8d4a9f8eb621698da11l.mp3\n",
      "http://ytmedia.radio.cn/CCYT%2F2020%2F01%2F06%2Fd9c82a955f1a16afd6650bdef52c9c55l.mp3\n",
      "http://ytmedia.radio.cn/CCYT%2F2020%2F01%2F03%2Ff9ba349dbb0a8e3bc73c05db5af43c42l.mp3\n",
      "http://ytmedia.radio.cn/CCYT%2F2020%2F01%2F06%2Fb608b4ee876ba580deb687186d37a2e7l.mp3\n",
      "http://ytmedia.radio.cn/CCYT%2F2020%2F02%2F14%2F15816607252f6cd2c1876e31cab5dc07cb3eeabf06l.mp3\n",
      "http://ytmedia.radio.cn/CCYT%2F2020%2F02%2F11%2F1581397853e1ac5b4bced42fca280f390ebab44789l.mp3\n",
      "http://ytmedia.radio.cn/CCYT%2F2020%2F01%2F14%2F1578981449d7a7990777a0c6344a829cd78c4cbeebl.mp3\n",
      "http://ytmedia.radio.cn/CCYT%2F2019%2F12%2F31%2F046672b4fa3704adadbbacd71053e6cel.mp3\n"
     ]
    }
   ],
   "source": [
    "for link in getAllUrlOfEveryPage('http://tacc.radio.cn/pcpages/odchannelpages?callback=jQuery1122008240394148889907_1617082202121&od_id=1684336&start=1&rows=20&_=1617082202136'):\n",
    "    print(link)"
   ]
  },
  {
   "cell_type": "code",
   "execution_count": 32,
   "metadata": {},
   "outputs": [
    {
     "name": "stdout",
     "output_type": "stream",
     "text": [
      "CCYT%2F2020%2F01%2F13%2F15788877261c596c4bdbfbf96c20b9e05903ce79e9l.mp3   successful\n",
      "CCYT%2F2020%2F01%2F07%2F29309451ec58c60c49d3c4c3bae81064l.mp3   successful\n",
      "CCYT%2F2020%2F01%2F05%2F93cd26d4e60848bfc9654ec829620291l.mp3   successful\n",
      "CCYT%2F2020%2F01%2F13%2F15788876503e1a92176bfe2d6253673292f1b609fbl.mp3   successful\n",
      "CCYT%2F2020%2F01%2F03%2Ffc84a93c469e38785918b8b4ac13078el.mp3   successful\n",
      "CCYT%2F2019%2F12%2F31%2F84607875a364fb7152854ca4502faa5dl.mp3   successful\n",
      "CCYT%2F2020%2F01%2F08%2F15784621660ead61b81f4e87857afcbeb291a651dcl.mp3   successful\n",
      "CCYT%2F2019%2F12%2F31%2F8084ae995961a595f7d4c65a6d4e3582l.mp3   successful\n",
      "CCYT%2F2020%2F01%2F07%2F4ce3dfb2f506305b04506a1ed0f58693l.mp3   successful\n",
      "CCYT%2F2020%2F01%2F14%2F15789814906c4a0d472a733a469ce99aca1ec94929l.mp3   successful\n",
      "CCYT%2F2020%2F02%2F11%2F1581397922fdb8f760dc374437b7e20f49e9464130l.mp3   successful\n",
      "CCYT%2F2020%2F01%2F05%2F8bfcf96fd4b093685a0aaab261c5e52al.mp3   successful\n",
      "CCYT%2F2020%2F01%2F08%2F15784621208c10ee2a38c7e8d4a9f8eb621698da11l.mp3   successful\n",
      "CCYT%2F2020%2F01%2F06%2Fd9c82a955f1a16afd6650bdef52c9c55l.mp3   successful\n",
      "CCYT%2F2020%2F01%2F03%2Ff9ba349dbb0a8e3bc73c05db5af43c42l.mp3   successful\n",
      "CCYT%2F2020%2F01%2F06%2Fb608b4ee876ba580deb687186d37a2e7l.mp3   successful\n",
      "CCYT%2F2020%2F02%2F14%2F15816607252f6cd2c1876e31cab5dc07cb3eeabf06l.mp3   successful\n",
      "CCYT%2F2020%2F02%2F11%2F1581397853e1ac5b4bced42fca280f390ebab44789l.mp3   successful\n",
      "CCYT%2F2020%2F01%2F14%2F1578981449d7a7990777a0c6344a829cd78c4cbeebl.mp3   successful\n",
      "CCYT%2F2019%2F12%2F31%2F046672b4fa3704adadbbacd71053e6cel.mp3   successful\n",
      "page 1 successful\n",
      "CCYT%2F2019%2F12%2F23%2Ff039b986c11cde5d46d82612f5ffd5b1l.mp3   successful\n",
      "CCYT%2F2019%2F12%2F27%2Fa2e3f47365718793c622c1c8b2dead5dl.mp3   successful\n",
      "CCYT%2F2019%2F12%2F17%2Ffa09ac6dd8a79aea8532f1e5b90446a3l.mp3   successful\n",
      "CCYT%2F2019%2F12%2F18%2F38d1038487314467ba1d99ddb622209cl.mp3   successful\n",
      "CCYT%2F2019%2F12%2F19%2Fdc67872e8a373e00f5e486ea260d0076l.mp3   successful\n",
      "CCYT%2F2019%2F12%2F24%2Fd3e0b9113a7503a2f9ddea634d687c5bl.mp3   successful\n",
      "CCYT%2F2019%2F12%2F24%2F36e6f182c39d1b8d9350170588d015afl.mp3   successful\n",
      "CCYT%2F2019%2F12%2F27%2Fd89ca0c73ca27332488bb1567ea838b4l.mp3   successful\n",
      "CCYT%2F2019%2F12%2F17%2F1bb6c14b0eb194eebb7fc6c528b20d5al.mp3   successful\n",
      "CCYT%2F2019%2F12%2F09%2Fbaf8209e805b5c6133fe66f9c3e9f698l.mp3   successful\n",
      "CCYT%2F2019%2F12%2F24%2F36e6f182c39d1b8d9350170588d015afl.mp3   successful\n",
      "CCYT%2F2019%2F12%2F17%2Ffa09ac6dd8a79aea8532f1e5b90446a3l.mp3   successful\n",
      "CCYT%2F2019%2F12%2F27%2Fb413677cf4f3c2278ad23745aa4e28d3l.mp3   successful\n",
      "CCYT%2F2019%2F12%2F27%2Fa2e3f47365718793c622c1c8b2dead5dl.mp3   successful\n",
      "CCYT%2F2019%2F12%2F10%2F37f6ce17d5000e3e5f1d7d3039d8f910l.mp3   successful\n",
      "CCYT%2F2019%2F12%2F19%2Fdc67872e8a373e00f5e486ea260d0076l.mp3   successful\n",
      "CCYT%2F2019%2F12%2F17%2F1bb6c14b0eb194eebb7fc6c528b20d5al.mp3   successful\n",
      "CCYT%2F2019%2F12%2F17%2F871306767759179c0c0bb9eb65ddf3d5l.mp3   successful\n",
      "CCYT%2F2019%2F12%2F10%2F37f6ce17d5000e3e5f1d7d3039d8f910l.mp3   successful\n",
      "CCYT%2F2019%2F12%2F30%2Fafd292f3d625d3c97d825c9a7c94b490l.mp3   successful\n",
      "CCYT%2F2019%2F12%2F24%2Fd3e0b9113a7503a2f9ddea634d687c5bl.mp3   successful\n",
      "CCYT%2F2019%2F12%2F27%2Fd89ca0c73ca27332488bb1567ea838b4l.mp3   successful\n",
      "CCYT%2F2019%2F12%2F18%2Fff334d6e1d0cc8748e76c83bf1de4f52l.mp3   successful\n",
      "CCYT%2F2019%2F12%2F30%2Fafd292f3d625d3c97d825c9a7c94b490l.mp3   successful\n",
      "CCYT%2F2019%2F12%2F27%2Fb413677cf4f3c2278ad23745aa4e28d3l.mp3   successful\n",
      "CCYT%2F2019%2F12%2F30%2Ff334b2ca1d4390d6330a5fbcaf2187e6l.mp3   successful\n",
      "CCYT%2F2019%2F12%2F30%2Ff334b2ca1d4390d6330a5fbcaf2187e6l.mp3   successful\n",
      "CCYT%2F2019%2F12%2F23%2Fc4f4b96b8247d1e16c27b15f8e27b67dl.mp3   successful\n",
      "CCYT%2F2019%2F12%2F09%2Fbaf8209e805b5c6133fe66f9c3e9f698l.mp3   successful\n",
      "CCYT%2F2019%2F12%2F17%2F871306767759179c0c0bb9eb65ddf3d5l.mp3   successful\n",
      "CCYT%2F2019%2F12%2F23%2Fc4f4b96b8247d1e16c27b15f8e27b67dl.mp3   successful\n",
      "CCYT%2F2019%2F12%2F10%2F2c4593c397b073f2304db4e79d408437l.mp3   successful\n",
      "CCYT%2F2019%2F12%2F18%2Fff334d6e1d0cc8748e76c83bf1de4f52l.mp3   successful\n",
      "CCYT%2F2019%2F12%2F23%2Ff039b986c11cde5d46d82612f5ffd5b1l.mp3   successful\n",
      "CCYT%2F2019%2F12%2F19%2F5e04ec24178844f90a60a5211d9ade5fl.mp3   successful\n",
      "CCYT%2F2019%2F12%2F19%2F5e04ec24178844f90a60a5211d9ade5fl.mp3   successful\n",
      "CCYT%2F2019%2F12%2F18%2F38d1038487314467ba1d99ddb622209cl.mp3   successful\n",
      "CCYT%2F2019%2F12%2F10%2F2c4593c397b073f2304db4e79d408437l.mp3   successful\n",
      "CCYT%2F2019%2F12%2F31%2Fdff02fbc88c455a6a458e2e9a8b1371el.mp3   successful\n",
      "page 2 successful\n",
      "CCYT%2F2019%2F12%2F09%2F57a0f806f638f156f84158a67b699c2bl.mp3   successful\n",
      "CCYT%2F2019%2F12%2F09%2Fcda4f543f00913af1bc4e31160bf8d28l.mp3   successful\n",
      "CCYT%2F2019%2F12%2F06%2F0c9c1ea4c96e2a43cb2d73bb198cf19cl.mp3   successful\n",
      "CCYT%2F2019%2F12%2F06%2Fccd12addfbaa3abe9b7541b59971e091l.mp3   successful\n",
      "CCYT%2F2019%2F12%2F09%2F0749a6dcb1268a1d21ffeb9f7dc32498l.mp3   successful\n",
      "CCYT%2F2019%2F12%2F06%2Fe8862f1a0b027a04f8347a1a1538c8c7l.mp3   successful\n",
      "CCYT%2F2019%2F12%2F09%2F0749a6dcb1268a1d21ffeb9f7dc32498l.mp3   successful\n",
      "CCYT%2F2019%2F12%2F06%2F0c9c1ea4c96e2a43cb2d73bb198cf19cl.mp3   successful\n",
      "CCYT%2F2019%2F12%2F09%2Fcda4f543f00913af1bc4e31160bf8d28l.mp3   successful\n",
      "CCYT%2F2019%2F12%2F06%2Fccd12addfbaa3abe9b7541b59971e091l.mp3   successful\n",
      "CCYT%2F2019%2F12%2F06%2Fe8862f1a0b027a04f8347a1a1538c8c7l.mp3   successful\n",
      "page 3 successful\n"
     ]
    }
   ],
   "source": [
    "for i in range(1, 4):\n",
    "    url = f'http://tacc.radio.cn/pcpages/odchannelpages?callback=jQuery1122008240394148889907_1617082202121&od_id=1684336&start={i}&rows=20&_=1617082202136'\n",
    "    for link in getAllUrlOfEveryPage(url):\n",
    "        getAudio(link)\n",
    "    print(f'page {i} successful')"
   ]
  },
  {
   "cell_type": "code",
   "execution_count": null,
   "metadata": {},
   "outputs": [],
   "source": []
  }
 ],
 "metadata": {
  "kernelspec": {
   "display_name": "Python 3",
   "language": "python",
   "name": "python3"
  },
  "language_info": {
   "codemirror_mode": {
    "name": "ipython",
    "version": 3
   },
   "file_extension": ".py",
   "mimetype": "text/x-python",
   "name": "python",
   "nbconvert_exporter": "python",
   "pygments_lexer": "ipython3",
   "version": "3.8.5"
  }
 },
 "nbformat": 4,
 "nbformat_minor": 4
}
