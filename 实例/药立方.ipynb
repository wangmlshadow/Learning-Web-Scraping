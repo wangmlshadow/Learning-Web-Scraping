{
 "cells": [
  {
   "cell_type": "code",
   "execution_count": 1,
   "metadata": {},
   "outputs": [],
   "source": [
    "import requests\n",
    "from bs4 import BeautifulSoup\n",
    "import re\n",
    "import json\n",
    "from selenium import webdriver\n",
    "from lxml import etree\n",
    "import os\n",
    "from os import path\n",
    "import shutil\n",
    "import time\n",
    "import demjson"
   ]
  },
  {
   "cell_type": "code",
   "execution_count": 2,
   "metadata": {},
   "outputs": [],
   "source": [
    "def getResponse(url, param = {}):\n",
    "    headers = {\n",
    "        'User-Agent':'Mozilla/5.0 (Windows NT 10.0; Win64; x64) AppleWebKit/537.36 (KHTML, like Gecko) Chrome/89.0.4389.90 Safari/537.36'\n",
    "    }\n",
    "    response = requests.get(url=url, headers=headers, params=param)\n",
    "    return response"
   ]
  },
  {
   "cell_type": "code",
   "execution_count": 3,
   "metadata": {},
   "outputs": [],
   "source": [
    "# https://www.hlyykp.com/details/23/audio\n",
    "# https://ylf-audio.oss-cn-beijing.aliyuncs.com/20190705193037.mp3"
   ]
  },
  {
   "cell_type": "code",
   "execution_count": 6,
   "metadata": {},
   "outputs": [],
   "source": [
    "# 获取音频页面的音频下载地址和对应文本\n",
    "def getAudioUrlAndText(url):\n",
    "    response = getResponse(url)\n",
    "    response.encoding = 'utf-8'\n",
    "    page_text = response.text\n",
    "    tree = etree.HTML(page_text)\n",
    "    temp = tree.xpath('//*[@id=\"audio\"]/@src')    \n",
    "    if len(temp) == 0:\n",
    "        return \"\", \"\"    \n",
    "    audioSrcUrl = temp[0]\n",
    "    text = tree.xpath('//div[@class=\"p_text\"]/p/text()')\n",
    "    return audioSrcUrl, text"
   ]
  },
  {
   "cell_type": "code",
   "execution_count": 7,
   "metadata": {},
   "outputs": [
    {
     "name": "stdout",
     "output_type": "stream",
     "text": [
      "https://ylf-audio.oss-cn-beijing.aliyuncs.com/20190705193037.mp3\n",
      "['肉蔻五味丸，成份：肉豆蔻、土木香、木香、广枣、荜茇。 祛心“赫依”病。用于心烦失眠，心神不安。对心“赫依”病尤为有效。 常见用法为：口服，一次9～15粒，一日1～3次。 本品为中成药，疗效及安全性未经循证医学验证，请遵医嘱谨慎使用。 具体用药请遵医嘱，如需了解更多请咨询药师。 \\xa0']\n"
     ]
    }
   ],
   "source": [
    "url, text = getAudioUrlAndText('https://www.hlyykp.com/details/23/audio')\n",
    "print(url)\n",
    "print(text)"
   ]
  },
  {
   "cell_type": "code",
   "execution_count": 8,
   "metadata": {},
   "outputs": [],
   "source": [
    "# 下载音频和文本\n",
    "def downloadAudioAndText(url):\n",
    "    audioUrl, text = getAudioUrlAndText(url)\n",
    "    if audioUrl == \"\":\n",
    "        print('error')\n",
    "        return\n",
    "    text = '\\n'.join(text)\n",
    "    fileName = (audioUrl.split('/')[-1]).split('.')[0]\n",
    "    with open('text/' + fileName + '.txt', 'w', encoding='utf-8') as fp:\n",
    "        fp.write(text)\n",
    "    content = getResponse(audioUrl).content\n",
    "    with open('mp3/' + fileName + '.mp3', 'wb') as fp:\n",
    "        fp.write(content)\n",
    "    print(url, \"successful\")"
   ]
  },
  {
   "cell_type": "code",
   "execution_count": 10,
   "metadata": {},
   "outputs": [
    {
     "name": "stdout",
     "output_type": "stream",
     "text": [
      "https://www.hlyykp.com/details/23/audio successful\n"
     ]
    }
   ],
   "source": [
    "downloadAudioAndText('https://www.hlyykp.com/details/23/audio')"
   ]
  },
  {
   "cell_type": "code",
   "execution_count": 11,
   "metadata": {},
   "outputs": [],
   "source": [
    "# 获取每一页的所有音频页链接\n",
    "def getAudioUrlOfEveryPage(url):\n",
    "    response = getResponse(url)\n",
    "    response.encoding = 'utf-8'\n",
    "    page_text = response.text\n",
    "    tree = etree.HTML(page_text)\n",
    "    allPage = tree.xpath('//*[@id=\"message\"]/ul/li')\n",
    "    linkList = []\n",
    "    for li in allPage:\n",
    "        pageLink = 'https://www.hlyykp.com/' + li.xpath('./a/@href')[0]\n",
    "        #print(pageLink)\n",
    "        linkList.append(pageLink)\n",
    "    return linkList"
   ]
  },
  {
   "cell_type": "code",
   "execution_count": 12,
   "metadata": {},
   "outputs": [
    {
     "name": "stdout",
     "output_type": "stream",
     "text": [
      "https://www.hlyykp.com/details/22/audio\n",
      "https://www.hlyykp.com/details/23/audio\n",
      "https://www.hlyykp.com/details/24/audio\n",
      "https://www.hlyykp.com/details/25/audio\n",
      "https://www.hlyykp.com/details/26/audio\n",
      "https://www.hlyykp.com/details/27/audio\n",
      "https://www.hlyykp.com/details/28/audio\n",
      "https://www.hlyykp.com/details/29/audio\n",
      "https://www.hlyykp.com/details/30/audio\n",
      "https://www.hlyykp.com/details/31/audio\n",
      "https://www.hlyykp.com/details/32/audio\n",
      "https://www.hlyykp.com/details/33/audio\n",
      "https://www.hlyykp.com/details/34/audio\n",
      "https://www.hlyykp.com/details/35/audio\n",
      "https://www.hlyykp.com/details/36/audio\n",
      "https://www.hlyykp.com/details/37/audio\n",
      "https://www.hlyykp.com/details/38/audio\n",
      "https://www.hlyykp.com/details/39/audio\n",
      "https://www.hlyykp.com/details/40/audio\n",
      "https://www.hlyykp.com/details/41/audio\n"
     ]
    }
   ],
   "source": [
    "for link in getAudioUrlOfEveryPage('https://www.hlyykp.com/audio'):\n",
    "    print(link)"
   ]
  },
  {
   "cell_type": "code",
   "execution_count": 14,
   "metadata": {},
   "outputs": [
    {
     "name": "stdout",
     "output_type": "stream",
     "text": [
      "https://www.hlyykp.com/details/22/audio successful\n",
      "https://www.hlyykp.com/details/23/audio successful\n",
      "https://www.hlyykp.com/details/24/audio successful\n",
      "https://www.hlyykp.com/details/25/audio successful\n",
      "https://www.hlyykp.com/details/26/audio successful\n",
      "https://www.hlyykp.com/details/27/audio successful\n",
      "https://www.hlyykp.com/details/28/audio successful\n",
      "https://www.hlyykp.com/details/29/audio successful\n",
      "https://www.hlyykp.com/details/30/audio successful\n",
      "https://www.hlyykp.com/details/31/audio successful\n",
      "https://www.hlyykp.com/details/32/audio successful\n",
      "https://www.hlyykp.com/details/33/audio successful\n",
      "https://www.hlyykp.com/details/34/audio successful\n",
      "https://www.hlyykp.com/details/35/audio successful\n",
      "https://www.hlyykp.com/details/36/audio successful\n",
      "https://www.hlyykp.com/details/37/audio successful\n",
      "https://www.hlyykp.com/details/38/audio successful\n",
      "https://www.hlyykp.com/details/39/audio successful\n",
      "https://www.hlyykp.com/details/40/audio successful\n",
      "https://www.hlyykp.com/details/41/audio successful\n"
     ]
    }
   ],
   "source": [
    "for link in getAudioUrlOfEveryPage('https://www.hlyykp.com/audio'):\n",
    "    downloadAudioAndText(link)"
   ]
  },
  {
   "cell_type": "code",
   "execution_count": null,
   "metadata": {},
   "outputs": [],
   "source": []
  }
 ],
 "metadata": {
  "kernelspec": {
   "display_name": "Python 3",
   "language": "python",
   "name": "python3"
  },
  "language_info": {
   "codemirror_mode": {
    "name": "ipython",
    "version": 3
   },
   "file_extension": ".py",
   "mimetype": "text/x-python",
   "name": "python",
   "nbconvert_exporter": "python",
   "pygments_lexer": "ipython3",
   "version": "3.8.5"
  }
 },
 "nbformat": 4,
 "nbformat_minor": 4
}
