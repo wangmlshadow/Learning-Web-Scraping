{
 "cells": [
  {
   "cell_type": "code",
   "execution_count": 1,
   "metadata": {},
   "outputs": [],
   "source": [
    "import requests\n",
    "from bs4 import BeautifulSoup\n",
    "import re\n",
    "import json\n",
    "from selenium import webdriver"
   ]
  },
  {
   "cell_type": "code",
   "execution_count": 2,
   "metadata": {},
   "outputs": [],
   "source": [
    "def getResponse(url):\n",
    "    headers = {\n",
    "        'User-Agent':'Mozilla/5.0 (Windows NT 10.0; Win64; x64) AppleWebKit/537.36 (KHTML, like Gecko) Chrome/89.0.4389.90 Safari/537.36'\n",
    "    }\n",
    "    response = requests.get(url=url, headers=headers)\n",
    "    return response"
   ]
  },
  {
   "cell_type": "code",
   "execution_count": 3,
   "metadata": {},
   "outputs": [],
   "source": [
    "# 获取页面的html文件\n",
    "def getHTML(url):\n",
    "    return getResponse(url).text"
   ]
  },
  {
   "cell_type": "code",
   "execution_count": 4,
   "metadata": {},
   "outputs": [],
   "source": [
    "# 首页 https://www.ximalaya.com/zhubo/77536809/sound/\n",
    "# 获取更多 https://www.ximalaya.com/revision/user/track?page=1&pageSize=10&keyWord=&uid=77536809&orderType=2\n",
    "#          https://www.ximalaya.com/revision/user/track?page=10&pageSize=10&keyWord=&uid=77536809&orderType=2\n",
    "# page 1 -> 10 返回json\n",
    "# 音频播放页面 https://www.ximalaya.com/jiankang/8552774/40069912\n",
    "# 获取音频播放地址 https://www.ximalaya.com/revision/play/v1/audio?id=40069912&ptype=1\n",
    "# 音频下载地址 https://aod.cos.tx.xmcdn.com/group28/M05/9A/64/wKgJXFk3uDGTtEaaABZDSPDhZaM931.m4a"
   ]
  },
  {
   "cell_type": "code",
   "execution_count": 5,
   "metadata": {},
   "outputs": [],
   "source": [
    "# 通过音频源地址爬取音频\n",
    "def getAudio(url):\n",
    "    response = getResponse(url)\n",
    "    path = 'audio/'\n",
    "    fileName = url.split('/')[-1]\n",
    "    with open(path + fileName, 'wb') as fp:\n",
    "        fp.write(response.content)\n",
    "    print(fileName, \"  successful\")"
   ]
  },
  {
   "cell_type": "code",
   "execution_count": 6,
   "metadata": {},
   "outputs": [],
   "source": [
    "def getAllDownloadUrlOfEveryPage(url):\n",
    "    obj_json = getResponse(url=url).json()\n",
    "    linkList = []\n",
    "    for id in obj_json['data']['trackList']:\n",
    "        #linkList.append('https://www.ximalaya.com/jiankang/3263949/' + str(id['trackId']))\n",
    "        trackId = id['trackId']\n",
    "        forDownload = f'https://www.ximalaya.com/revision/play/v1/audio?id={trackId}&ptype=1'\n",
    "        temp_obj_json = getResponse(forDownload).json()\n",
    "        linkList.append(temp_obj_json['data']['src'])\n",
    "    return linkList"
   ]
  },
  {
   "cell_type": "code",
   "execution_count": 7,
   "metadata": {},
   "outputs": [
    {
     "name": "stdout",
     "output_type": "stream",
     "text": [
      "wKgJnVoXrtWRKumDAC3NzUeXkBg172.m4a   successful\n",
      "wKgJnVoXrtODOQ5yADBeIAeKYJI704.m4a   successful\n",
      "wKgJnVoXrtPRrQqjADfdYD63phQ045.m4a   successful\n",
      "wKgJnVoXrs7QsqhEADFzqcdOcMs961.m4a   successful\n",
      "wKgJnVoXrsmifYA0ACIxoHnD57o117.m4a   successful\n",
      "wKgJnFoXrsayyFuvACLBiVCXUM8507.m4a   successful\n",
      "wKgJnVoXrsSiyNgIAB39RP46b50193.m4a   successful\n",
      "wKgJnVoXrsTTrGmUACOJP0S9B1A241.m4a   successful\n",
      "wKgJnVoXrr-AYRoiABaW_N9VGdw555.m4a   successful\n",
      "wKgJnFoXrsGTvO82ACKc1aVl934322.m4a   successful\n",
      "page 1 succesful\n",
      "wKgJnVoXrsPC-4xjACn41BXkB7s598.m4a   successful\n",
      "wKgJnVoXrrzhlx1_ABYIpeTz3co693.m4a   successful\n",
      "wKgJnVoXrlLiDUGeACG6r3l0r8I162.m4a   successful\n",
      "wKgJnVoXrWWibCOaABxJIx0tLZg426.m4a   successful\n",
      "wKgJnVoXrUizxGb-ADHtjcK0uB0378.m4a   successful\n",
      "wKgJnVoXrGDChsvCACZ9fFFxuJc074.m4a   successful\n",
      "wKgJnVoXq4rCYQ_BACNl_4mC3Pk544.m4a   successful\n",
      "wKgJnFoXquzBNoHzAB4O4vxv0EI308.m4a   successful\n",
      "wKgJnFoXqOHj8OQaAA-Orrvu9HQ289.m4a   successful\n",
      "wKgJWVlZ81eBgVxkAB-olCGtTco990.m4a   successful\n",
      "page 2 succesful\n",
      "wKgJXVlZ81fRRVV8ACfuTZoWUmY598.m4a   successful\n",
      "wKgJWVlZ81SgECDbACAm39uLzgI554.m4a   successful\n",
      "wKgJXVlZ813D4sc5ABXljBomKs8403.m4a   successful\n",
      "wKgJXFlZ807S2EbMACKfxMHBS7U248.m4a   successful\n",
      "wKgJSFlZ80zybvQ2AA86aZ-cqZ8614.m4a   successful\n",
      "wKgJWVlZ81DRF8AjAD1sShO3nJU367.m4a   successful\n",
      "wKgJSFlZ80OjSs-qABTJ557h8Vc861.m4a   successful\n",
      "wKgJXFlZ8zygNpJQAAhvIYk-S5I860.m4a   successful\n",
      "wKgJXFlZ8z3zQcU3ABBXNZbNhAU855.m4a   successful\n",
      "wKgJSFlZ8zLwI-DzACJAT5a42Gc432.m4a   successful\n",
      "page 3 succesful\n",
      "wKgJSFlZ8y3j2ZTgAAumrd3TKhY373.m4a   successful\n",
      "wKgJXFlZ8zSQ5qKWADWkRK7hyPk801.m4a   successful\n",
      "wKgJSFlZ8zzTfGNgADLMwJDHIFI951.m4a   successful\n",
      "wKgJWVlZ8ymidYaIACdQ85B8hL0475.m4a   successful\n",
      "wKgJWVlZ8yrwZLbIACvh4HQIsA8644.m4a   successful\n",
      "wKgJWVlZ8x2Rz1iPAAltAcQwp50857.m4a   successful\n",
      "wKgJXFk-P82wHPGfAAfwnFtm5hE911.m4a   successful\n",
      "wKgJWVk-P9XSKwFhACMeCv_3d7g534.m4a   successful\n",
      "wKgJXVk-P8-xgeAAABVoe1m2luc905.m4a   successful\n",
      "wKgJSFk-P8vyK76RAAmMayqQW9s619.m4a   successful\n",
      "page 4 succesful\n",
      "wKgJSFk-P8WxZIgUAAM_bVJbUEs679.m4a   successful\n",
      "wKgJXFk-P8SyR611AAdTAJd_aTA024.m4a   successful\n",
      "wKgJSFk-P8iArjRYABoZquAzMw0487.m4a   successful\n",
      "wKgJSFk-P8niiuoAABUJC3AQPNM105.m4a   successful\n",
      "wKgJSFk-P8Siu6A7ABla4DkfjsQ442.m4a   successful\n",
      "wKgJXFk-P8KCXqeaABaD503Sxuo212.m4a   successful\n",
      "wKgJSFk-P8aBS1TvADNsHnewXo0416.m4a   successful\n",
      "wKgJSFk-P7SDQUW9AA8arHBLudA082.m4a   successful\n",
      "wKgJXFk-P7_hqjvfADWkz19vpno427.m4a   successful\n",
      "wKgJSFk6RibingHXAB0vsA8UUhM160.m4a   successful\n",
      "page 5 succesful\n",
      "wKgJXFk6RiTD0zDPABoYMxurfFA250.m4a   successful\n",
      "wKgJSFk6RiDw9vyyAA488EwDBI4087.m4a   successful\n",
      "wKgJSFk6RiSDRJmPACcRy5h6jTM906.m4a   successful\n",
      "wKgJXFk6Rhnwq5I5AAdTFHSUhI0576.m4a   successful\n",
      "wKgJXFk6RhqiP78EAA38o-YSOcU111.m4a   successful\n",
      "wKgJXFk6RhiCHpk2AAnK6Vu_UO0358.m4a   successful\n",
      "wKgJSFk4t6PSL88nACLKWoYu57I433.m4a   successful\n",
      "wKgJSFk4t5iTs5-sAB_QO9hHNtQ454.m4a   successful\n",
      "wKgJWVk4t4WwI_VmABPI6yAXoDk813.m4a   successful\n",
      "wKgJXVk4t4CRo2k3ACyX6BUOJIo511.m4a   successful\n",
      "page 6 succesful\n",
      "wKgJWVk4t2qzjYm_ABCMuyOxzBE436.m4a   successful\n",
      "wKgJXVk4t16w7DGTABF3ruDCe0w147.m4a   successful\n",
      "wKgJSFk4tzGjviFCAA897HBczz4343.m4a   successful\n",
      "wKgJSFk4sn2x6XB_ADExlwMQfss038.m4a   successful\n",
      "wKgJXVk4snLygzcTACQaoCkDAZ8933.m4a   successful\n",
      "wKgJWVk4smrx0Dv4ADZCNqJ0Keo799.m4a   successful\n",
      "wKgJWVk4snDxfcfKAHEPIkNyUK0343.m4a   successful\n",
      "wKgJSFk4skzSG4OGAA7biLaztI8088.m4a   successful\n",
      "wKgJXFk4skLjyU-SABXnY19Asy4884.m4a   successful\n",
      "wKgJXFk4skeQ3FlBADefJmwzPv8873.m4a   successful\n",
      "page 7 succesful\n",
      "wKgJWVk3upeAVTpqABcA8Q7Pqrk156.m4a   successful\n",
      "wKgJSFk3uOWj4V-FAB4LPbjLsQ8772.m4a   successful\n",
      "wKgJWVk3uNuQ8tecAB1OGM8MO9c612.m4a   successful\n",
      "wKgJWVk3uMuB0iW4AAvEG1iH2JA595.m4a   successful\n",
      "wKgJWVk3uMTylC9DABLuBZjG_Zk406.m4a   successful\n",
      "wKgJWVk3uMWBQMApABzQSvsxhP8835.m4a   successful\n",
      "wKgJSFk3uK2C6BqjAA1-b4v9fuw729.m4a   successful\n",
      "wKgJXFk3uKyAVFaKAB7IPn0eX6Y172.m4a   successful\n",
      "wKgJXFk3uJfhN8-eAAzg7lgI1d8547.m4a   successful\n",
      "wKgJWVk3uI2x96TbABJv2HUyp3w708.m4a   successful\n",
      "page 8 succesful\n",
      "wKgJSFk3uHvT6omVABlaRFWcDxk693.m4a   successful\n",
      "wKgJSFk3uG6CaqGgACMck7SbOOs857.m4a   successful\n",
      "wKgJWVk3uF_jYMAoABLtsczLOQw922.m4a   successful\n",
      "wKgJXVk3uFKzI4xbAAeQzLS2_K4142.m4a   successful\n",
      "wKgJXFk3uD6xCdCMAAW1Y1Hi_2Y206.m4a   successful\n",
      "wKgJXFk3uDGTtEaaABZDSPDhZaM931.m4a   successful\n",
      "wKgJSFk3t7vTZAxoAAmLHNpToJ8876.m4a   successful\n",
      "wKgJXVk3t5-TtwlaAAZT9-56gEg153.m4a   successful\n",
      "wKgJSFk3tDDwa768AAZUFtDw870405.m4a   successful\n",
      "wKgJSFk3s-WgI8PxAArmUFMGQeU167.m4a   successful\n",
      "page 9 succesful\n",
      "wKgJWVk3sVbQKFrDAA47eUtmvBY301.m4a   successful\n",
      "page 10 succesful\n"
     ]
    }
   ],
   "source": [
    "for i in range(1, 11):\n",
    "    url = f'https://www.ximalaya.com/revision/user/track?page={i}&pageSize=10&keyWord=&uid=77536809&orderType=2'\n",
    "    linkList = getAllDownloadUrlOfEveryPage(url)\n",
    "    \n",
    "    for link in linkList:\n",
    "        getAudio(link)\n",
    "        \n",
    "    print(f'page {i} succesful')"
   ]
  },
  {
   "cell_type": "code",
   "execution_count": null,
   "metadata": {},
   "outputs": [],
   "source": []
  }
 ],
 "metadata": {
  "kernelspec": {
   "display_name": "Python 3",
   "language": "python",
   "name": "python3"
  },
  "language_info": {
   "codemirror_mode": {
    "name": "ipython",
    "version": 3
   },
   "file_extension": ".py",
   "mimetype": "text/x-python",
   "name": "python",
   "nbconvert_exporter": "python",
   "pygments_lexer": "ipython3",
   "version": "3.8.5"
  }
 },
 "nbformat": 4,
 "nbformat_minor": 4
}
