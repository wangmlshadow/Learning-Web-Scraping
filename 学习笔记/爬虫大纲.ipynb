{
 "cells": [
  {
   "cell_type": "markdown",
   "metadata": {},
   "source": [
    "# 目录"
   ]
  },
  {
   "cell_type": "code",
   "execution_count": null,
   "metadata": {},
   "outputs": [],
   "source": [
    "1. requests\n",
    "2. re\n",
    "3. xpath\n",
    "4. 模拟登录\n",
    "5. 打码平台\n",
    "6. ip代理"
   ]
  },
  {
   "cell_type": "markdown",
   "metadata": {},
   "source": [
    "# 细节问题"
   ]
  },
  {
   "cell_type": "code",
   "execution_count": 2,
   "metadata": {},
   "outputs": [
    {
     "data": {
      "text/plain": [
       "'\\n注意事项：\\n   UA\\n   Referer\\n   Cookie\\n   编码问题\\n   通过XHR获取数据\\n   json数据\\n   m3u8 + ts\\n   application/x-javascript转为json\\n   ts文件无法用windows自带的播放器播放\\n'"
      ]
     },
     "execution_count": 2,
     "metadata": {},
     "output_type": "execute_result"
    }
   ],
   "source": [
    "\"\"\"\n",
    "遇到的问题：\n",
    "   UA\n",
    "   Referer\n",
    "   Cookie\n",
    "   编码问题\n",
    "   通过XHR获取数据\n",
    "   json数据\n",
    "   m3u8 + ts\n",
    "   application/x-javascript转为json\n",
    "   ts文件无法用windows自带的播放器播放\n",
    "   ffmpeg\n",
    "   各种音频格式相互换\n",
    "   ts转MP4\n",
    "   视频转音频\n",
    "\"\"\""
   ]
  },
  {
   "cell_type": "markdown",
   "metadata": {},
   "source": [
    "# Tips"
   ]
  },
  {
   "cell_type": "code",
   "execution_count": 10,
   "metadata": {},
   "outputs": [],
   "source": [
    "# 对于数据量大的 如视频的爬取 可以先获取视频下载地址\n",
    "# 记得保存"
   ]
  },
  {
   "cell_type": "code",
   "execution_count": null,
   "metadata": {},
   "outputs": [],
   "source": [
    "# 多线程加速很好用"
   ]
  },
  {
   "cell_type": "code",
   "execution_count": null,
   "metadata": {},
   "outputs": [],
   "source": [
    "# "
   ]
  },
  {
   "cell_type": "markdown",
   "metadata": {},
   "source": [
    "# UA"
   ]
  },
  {
   "cell_type": "code",
   "execution_count": 6,
   "metadata": {},
   "outputs": [],
   "source": [
    "# 这个应该不用多说"
   ]
  },
  {
   "cell_type": "markdown",
   "metadata": {},
   "source": [
    "# Referer"
   ]
  },
  {
   "cell_type": "code",
   "execution_count": 7,
   "metadata": {},
   "outputs": [],
   "source": [
    "# 有时候除了UA之外还需要referer信息\n",
    "# 如懒人听书\n",
    "# 讽刺的是当你发现需要referer后 得到的音频下载地址任然只有部分有效"
   ]
  },
  {
   "cell_type": "markdown",
   "metadata": {},
   "source": [
    "# Cookie"
   ]
  },
  {
   "cell_type": "code",
   "execution_count": null,
   "metadata": {},
   "outputs": [],
   "source": [
    "# 对于需要登录的那些网站 不妨试试Cookie\n",
    "# 不过需要注意cookie的时效性"
   ]
  },
  {
   "cell_type": "markdown",
   "metadata": {},
   "source": [
    "# 所返回的json数据无法解析"
   ]
  },
  {
   "cell_type": "code",
   "execution_count": 1,
   "metadata": {},
   "outputs": [],
   "source": [
    "# 获取到的json数据无法使用response.json()解析\n",
    "# 错误原因 该网站返回的数据不符合json的格式\n",
    "# 解决方案\n",
    "# page_text = getResponse(url).text\n",
    "# sonObj = demjson.decode(page_text[42:-2])\n",
    "# 选取所返回的数据中数据json的部分 使用demjson解析"
   ]
  },
  {
   "cell_type": "markdown",
   "metadata": {},
   "source": [
    "# requests获取的网页和浏览器中看到的不一样"
   ]
  },
  {
   "cell_type": "code",
   "execution_count": null,
   "metadata": {},
   "outputs": [],
   "source": [
    "# 一般第一步就需要分析我们通过requests获取的网页HTML代码是否和浏览器中看到的网页一样\n",
    "# 如果不一样 \n",
    "# 最直接的办法就是使用selenium模拟"
   ]
  },
  {
   "cell_type": "markdown",
   "metadata": {},
   "source": [
    "# 文本爬取"
   ]
  },
  {
   "cell_type": "code",
   "execution_count": 2,
   "metadata": {},
   "outputs": [],
   "source": [
    "# 一般步骤\n",
    "# 使用浏览器HTML分析工具选取所需文本对应区域即可\n",
    "# 可用方式\n",
    "# bs4、re、xpath"
   ]
  },
  {
   "cell_type": "code",
   "execution_count": 3,
   "metadata": {},
   "outputs": [
    {
     "data": {
      "text/plain": [
       "\"\\nresponse = requests.get(...)\\nresponse.encoding = 'utf-8'\\n\""
      ]
     },
     "execution_count": 3,
     "metadata": {},
     "output_type": "execute_result"
    }
   ],
   "source": [
    "# 常见问题\n",
    "# 编码问题\n",
    "# 解决方案举例\n",
    "\"\"\"\n",
    "response = requests.get(...)\n",
    "response.encoding = 'utf-8'\n",
    "\"\"\""
   ]
  },
  {
   "cell_type": "markdown",
   "metadata": {},
   "source": [
    "# 音频爬取"
   ]
  },
  {
   "cell_type": "code",
   "execution_count": 4,
   "metadata": {},
   "outputs": [],
   "source": [
    "# 查找音频\n",
    "# 浏览器分析工具选取\n",
    "# 浏览器分析工具 ctrl+F 搜索 mp3 wav m4a\n",
    "\n",
    "# 首先查看音频播放地址是否可以直接在HTML代码中找到\n",
    "# 如果可以找到 提取 下载即可\n",
    "\n",
    "# 注意：HTML中存在的播放地址可能不完整 需要自行根据各个网站添加一部分\n",
    "\n",
    "# 找不到\n",
    "# 分析网站是否是通过XHR请求获取的音频地址\n",
    "# 打开浏览器中网页分析工具 NetWork部分 查看每一个请求以及收到的数据\n",
    "\n",
    "# 最后 可能你找了半天得到的地址还是假的 \n",
    "# 所以下载到的音频最好打开测试一下是否有效 \n",
    "# 此条适用于视频"
   ]
  },
  {
   "cell_type": "markdown",
   "metadata": {},
   "source": [
    "# 视频爬取"
   ]
  },
  {
   "cell_type": "code",
   "execution_count": 5,
   "metadata": {},
   "outputs": [],
   "source": [
    "# 查找视频\n",
    "# 寻找 mp4\n",
    "# 同音频爬取\n",
    "\n"
   ]
  },
  {
   "cell_type": "code",
   "execution_count": 8,
   "metadata": {},
   "outputs": [],
   "source": [
    "# 部分网站采用的时 ts 流媒体形式\n",
    "# 需要通过m3u8文件下载每一个ts文件再进行文件合并\n",
    "# 可以参考爬取cctv的例子 如cctv 经济半小时\n",
    "#"
   ]
  },
  {
   "cell_type": "markdown",
   "metadata": {},
   "source": [
    "# 各种不同格式的音频、视频的转换问题"
   ]
  },
  {
   "cell_type": "code",
   "execution_count": 9,
   "metadata": {},
   "outputs": [],
   "source": [
    "# 可以在转换文件夹看到\n",
    "# 可以通过多线程加速转换"
   ]
  },
  {
   "cell_type": "code",
   "execution_count": null,
   "metadata": {},
   "outputs": [],
   "source": []
  }
 ],
 "metadata": {
  "kernelspec": {
   "display_name": "Python 3",
   "language": "python",
   "name": "python3"
  },
  "language_info": {
   "codemirror_mode": {
    "name": "ipython",
    "version": 3
   },
   "file_extension": ".py",
   "mimetype": "text/x-python",
   "name": "python",
   "nbconvert_exporter": "python",
   "pygments_lexer": "ipython3",
   "version": "3.8.5"
  }
 },
 "nbformat": 4,
 "nbformat_minor": 4
}
