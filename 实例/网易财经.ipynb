{
 "cells": [
  {
   "cell_type": "code",
   "execution_count": 1,
   "metadata": {},
   "outputs": [],
   "source": [
    "import requests\n",
    "from bs4 import BeautifulSoup\n",
    "import re\n",
    "import json\n",
    "from selenium import webdriver\n",
    "from lxml import etree\n",
    "import os\n",
    "from os import path\n",
    "import shutil\n",
    "import time\n",
    "import demjson\n",
    "from selenium.webdriver.chrome.options import Options\n",
    "from multiprocessing.dummy import Pool"
   ]
  },
  {
   "cell_type": "code",
   "execution_count": 2,
   "metadata": {},
   "outputs": [],
   "source": [
    "def getResponse(url):\n",
    "    headers = {\n",
    "        'User-Agent':'Mozilla/5.0 (Windows NT 10.0; Win64; x64) AppleWebKit/537.36 (KHTML, like Gecko) Chrome/88.0.4324.182 Safari/537.36'\n",
    "    }\n",
    "    response = requests.get(url=url, headers=headers)\n",
    "    return response"
   ]
  },
  {
   "cell_type": "code",
   "execution_count": 3,
   "metadata": {},
   "outputs": [],
   "source": [
    "def getHTML(url):\n",
    "    response = getResponse(url)\n",
    "    response.encoding = 'utf-8'\n",
    "    return response.text"
   ]
  },
  {
   "cell_type": "code",
   "execution_count": 4,
   "metadata": {},
   "outputs": [],
   "source": [
    "# 通过selenium获取page_text\n",
    "def getHTMLBySelenium(url):\n",
    "    chrome_options =Options()\n",
    "    chrome_options.add_argument('--headless')\n",
    "    browser = webdriver.Chrome(options=chrome_options)\n",
    "    browser.get(url)\n",
    "    time.sleep(2)\n",
    "    page_text = browser.page_source\n",
    "    browser.quit()\n",
    "    return page_text"
   ]
  },
  {
   "cell_type": "code",
   "execution_count": 4,
   "metadata": {},
   "outputs": [],
   "source": [
    "# https://v.163.com/static/3/VB8TUVVKN.html\n",
    "# http://flv.bn.netease.com/d954d53105dc303ad5e7acd5feea841357a0a32d97d998d71d7ff6889ccbe7093823148f822176b5c99dd5c6a0fd50a57ed5af868fe2677a935459a624a707c8e3ef3c2ba8042a268b2720a897c66cf75d89341fce1ca3c9d631001b1fc41a2d631af8fe70e31d348f7a5d48c140d421a01fd3bf6c9e073a.mp4"
   ]
  },
  {
   "cell_type": "code",
   "execution_count": 5,
   "metadata": {},
   "outputs": [],
   "source": [
    "def getSrcUrl(url):\n",
    "    page_text = getHTMLBySelenium(url)\n",
    "    tree = etree.HTML(page_text)\n",
    "    srcUrl = tree.xpath('//video/@src')\n",
    "    if len(srcUrl) == 0:\n",
    "        return \"\"\n",
    "    #print(srcUrl)\n",
    "    return srcUrl[0]"
   ]
  },
  {
   "cell_type": "code",
   "execution_count": 12,
   "metadata": {},
   "outputs": [
    {
     "name": "stdout",
     "output_type": "stream",
     "text": [
      "http://flv.bn.netease.com/d954d53105dc303ad422b5cb02c6d79055b43c9190c13f4b70c953d45d3bf23a7c4b7669b02f422a5bf562072310f149cb4be450adaa1761fbfcdb565061c13d47c8806aef764f8eda44bafc862930ccfc32588bc3341d32af2a7f9ef02e8942184ab5f75395cc7e33bcc5804cad6a21abc4819d5f8a19ac.mp4\n"
     ]
    }
   ],
   "source": [
    "print(getSrcUrl('https://v.163.com/static/3/VB8VRCQSG.html'))"
   ]
  },
  {
   "cell_type": "code",
   "execution_count": 6,
   "metadata": {},
   "outputs": [
    {
     "name": "stdout",
     "output_type": "stream",
     "text": [
      "6\n"
     ]
    }
   ],
   "source": [
    "# http://money.163.com/special/yuanchuang/\n",
    "url = 'http://money.163.com/special/yuanchuang/'\n",
    "page_text = getHTMLBySelenium(url)\n",
    "tree = etree.HTML(page_text)\n",
    "all_ul = tree.xpath('//div[@class=\"videolist\"]/ul')\n",
    "print(len(all_ul))"
   ]
  },
  {
   "cell_type": "code",
   "execution_count": 7,
   "metadata": {
    "scrolled": true
   },
   "outputs": [
    {
     "name": "stdout",
     "output_type": "stream",
     "text": [
      "6\n",
      "http://v.money.163.com/video/2015/12/K/N/VB8TUVVKN.html\n",
      "http://v.money.163.com/video/2015/10/U/P/VB5TRUJUP.html\n",
      "http://v.money.163.com/video/2015/12/S/G/VB8VRCQSG.html\n",
      "http://v.money.163.com/video/2014/9/8/2/VA49VH082.html\n",
      "http://v.money.163.com/video/2014/10/H/S/VA7OFHPHS.html\n",
      "http://v.money.163.com/video/2014/8/G/H/VA3O0R5GH.html\n",
      "6\n",
      "http://v.money.163.com/video/2014/9/C/5/VA4CV5GC5.html\n",
      "http://v.money.163.com/video/2014/11/F/0/VAAJ2FLF0.html\n",
      "http://v.money.163.com/video/2014/11/L/J/VAAGJLQLJ.html\n",
      "http://v.money.163.com/video/2014/8/I/V/VA3QUHSIV.html\n",
      "http://v.money.163.com/video/2014/8/7/5/VA2H6BD75.html\n",
      "http://v.money.163.com/video/2014/8/M/P/VA1VCCDMP.html\n",
      "6\n",
      "http://v.money.163.com/video/2014/6/J/Q/V9UODFLJQ.html\n",
      "http://v.money.163.com/video/2014/5/G/N/V9SDMU7GN.html\n",
      "http://v.money.163.com/video/2014/5/J/2/V9ROUNAJ2.html\n",
      "http://v.money.163.com/video/2014/5/U/7/V9R6H66U7.html\n",
      "http://v.money.163.com/video/2014/5/9/9/V9QL2S399.html\n",
      "http://v.money.163.com/video/2014/3/7/P/V9NG6257P.html\n",
      "6\n",
      "http://v.money.163.com/video/2014/3/O/B/V9M4VJHOB.html\n",
      "http://v.money.163.com/video/2013/12/G/L/V9G18HVGL.html\n",
      "http://v.money.163.com/video/2013/12/P/G/V9G1497PG.html\n",
      "http://v.money.163.com/video/2013/12/3/J/V9FUE9I3J.html\n",
      "http://v.money.163.com/video/2013/12/9/I/V9FKHC59I.html\n",
      "http://v.money.163.com/video/2013/12/C/L/V9ET51OCL.html\n",
      "6\n",
      "http://v.money.163.com/video/2013/12/2/N/V9EO8LS2N.html\n",
      "http://v.money.163.com/video/2013/11/L/R/V9D4DCRLR.html\n",
      "http://v.money.163.com/video/2013/10/F/B/V9BH0ENFB.html\n",
      "http://v.money.163.com/video/2013/10/Q/7/V9AI0DAQ7.html\n",
      "http://v.money.163.com/video/2013/10/A/F/V99OGIUAF.html\n",
      "http://v.money.163.com/video/2013/9/S/O/V98PA2ISO.html\n",
      "6\n",
      "http://v.money.163.com/video/2013/9/A/K/V98K5KEAK.html\n",
      "http://v.money.163.com/video/2013/9/Q/D/V982VDOQD.html\n",
      "http://v.money.163.com/video/2013/10/P/A/V99OFPJPA.html\n",
      "http://v.money.163.com/video/2013/10/U/S/V99OFLAUS.html\n",
      "http://v.money.163.com/video/2013/9/S/F/V97335JSF.html\n",
      "http://v.money.163.com/video/2013/9/O/G/V973CMUOG.html\n"
     ]
    }
   ],
   "source": [
    "pageUrls = []\n",
    "for ul in all_ul:\n",
    "    all_li = ul.xpath('./li')\n",
    "    print(len(all_li))\n",
    "    for li in all_li:\n",
    "        pageUrl = li.xpath('./a/@href')\n",
    "        if len(pageUrl) == 0:\n",
    "            continue\n",
    "        print(pageUrl[0])\n",
    "        pageUrls.append(pageUrl[0])"
   ]
  },
  {
   "cell_type": "code",
   "execution_count": 8,
   "metadata": {},
   "outputs": [
    {
     "name": "stdout",
     "output_type": "stream",
     "text": [
      "36\n"
     ]
    }
   ],
   "source": [
    "print(len(pageUrls))"
   ]
  },
  {
   "cell_type": "code",
   "execution_count": 9,
   "metadata": {},
   "outputs": [],
   "source": [
    "with open('pageUrl.txt', 'w', encoding='utf-8') as fp:\n",
    "    data = '\\n'.join(pageUrls)\n",
    "    fp.write(data)"
   ]
  },
  {
   "cell_type": "code",
   "execution_count": 10,
   "metadata": {
    "scrolled": true
   },
   "outputs": [
    {
     "name": "stdout",
     "output_type": "stream",
     "text": [
      "http://flv.bn.netease.com/d954d53105dc303ae2a405a0c5c98113877a129e2a24875b3d9c92f4dcdee7268ca6a82a76de81a4755f37bd210dfbea0a09b5f6bed7e34c7e411736002dfb4ce5db0bba5864db768d8dbeb142dbbee9ec023697dd36f2ef9c0075784079846faae1968f0014f4762b38e5dba0f6c4a9b431f279c6b54f07.mp4\n",
      "http://flv.bn.netease.com/d954d53105dc303a08a8537be81814da4d9ccdfaf6876539db5c82f88415f4f228117f586ce28a52b61bac3290946494da21ad06ac8f9b847bcfa6abf022b5e554e7efc8a8d90c1fb51935eb45455104010a34f42bd12fc62e21bf3837d0a3e24810a959100ec6fdd579ec93eff7fa4cd9f24efc065961a8.mp4\n",
      "http://flv.bn.netease.com/d954d53105dc303a5ea171f4129a5926722057cf95625dcee90955d03465b8120a747cf5fb773dabf6f44268438224585544718ae6d08add046a16a4d8866a8b4bfb0b0498ba4df8c7df4ea6edae9052e7e7880729c5f68338e6d6bcdb6b738e153b97f407eac42a506c1ba5ba2feafc13ac0b2c33ebc790.mp4\n",
      "http://flv.bn.netease.com/d954d53105dc303a5d630d586c9509fbe998d13ed4f9bdae3fe0b54b78e729de1182283b00069681645cde63e9c98705a47e3f4a46440118018adcea9c20d5404f16668aa6e99385001640a0ebe10944a4e0aa38058a614c27737005d97b1269baeee08cf5ad9d4f3d1b409bfedbf0a127111f7901d7509e.mp4\n",
      "http://flv.bn.netease.com/d954d53105dc303a29bfbec09d84eeb5bc6981068075484d11d932f49c0768429e976ad956be865dd44a19a36ac98351bf7bdc1ad7cd61790c0adc6a4390b2586613ab46c6729dc987f57ec6a45daee0716a0ba09b9e33c5c403526c75d85200e04f10d09fd5772a6b532e34d5927b0d4eb01b82fadd087c.mp4\n",
      "http://flv.bn.netease.com/d954d53105dc303a8ecf9c35b7f3a015510a242520d716e89fa55dd6465f8c1ddbe287c320a249b7ab3f945f0cb3b45dffd8b17c9b5b7346911811b859fc8c425bf762b8986e88791eef3e87a9fbcb616574bae47ff00593676b721ec2e9f8a3937b5f7027ece16916c4cf1d1e470583cb7584a363c03d24.mp4\n",
      "http://flv.bn.netease.com/d954d53105dc303adff7c2d8b5f70483d2623e5cc260f5663a8fd3f45f2e2de7eae7f711647f1a6c77fd16d6c99291983b7a0f847804d463220bb0d6e960f07ad22eba3084de831f0cbf9935ece652070a59dbd51c5561a1f33e770b6e84d4cec1948a0b3c6fb1c29e51b1f7d63fb25b977da2ac6bbaff31.mp4\n",
      "http://flv.bn.netease.com/d954d53105dc303a78326abcb366fa84f0fa5ae99be45a926dc413ecd047c1551d270390b73deaa3cc500221a5161726d70a458e3528e0ea4f351987ef49038bae78ae18623e3627d15ae2bff684f88a8770a3f67e499fc8586a3864a657e9190b2b7fb02b675d513916626f4dfe77d610c9dab623debda5.mp4\n",
      "http://flv.bn.netease.com/d954d53105dc303aed0ed6063cb206c80e8c3c5bcf0006e7648d8c68e7fd1cb43ca269b6efbef5a8520372084c6aab66bfbdaf75b99587728c8ec4ff27b02ecf9b842e7ace8dd962b2ee2c164115e92995a392f8b99054270298df58cd233edbf722a88f869bcfce6eb1cc0c7ca1bf6472ea1ce0831d0b96.mp4\n",
      "http://flv.bn.netease.com/d954d53105dc303a664972049b5868072a8f5e34cad916b4277e1ddc7fef7f104a8cd9d8fe2a39212fa4c9e3c97fabce86ec155268cce2ffc8545e7eebdd2f574974e2406525b3acf76683f56fdc199e546155de3e2365d8741c85407abd928e8b22d722623f4553bc8556803785cd15fd6960b0b37d134e.mp4\n",
      "http://flv.bn.netease.com/d954d53105dc303a49d4f6ba98c8aa5b86fa44b95252f52f4105c004100eb4d3480abe788bd2fbf760249078720e540968103097578e8d3263efcf0261092906964d3a67b9cf6de01cc4fdaff09f523a4c937e1f588efe8015b2073ccb1c57beb0b63aaf335206771dd0eba57f50bc149930efd9e42cd8d8.mp4\n",
      "http://flv.bn.netease.com/d954d53105dc303aad0e18c781e14b7530fc24fe55c136a5f91da095a1801369094aa647a7cc1c2158e4023d85a5fb645337b676e5a807c76fd18faa11a3d78c3966a78ad25eabb8444cb80a4c0206a2da617dea894e7d81b2e1f0bc71ae7bdc1f3047f26c2a42f51560a7ea01d03cbebe38b5f74fb8748d.mp4\n",
      "http://flv.bn.netease.com/d954d53105dc303a5bb5eedf2d815cb92d6091607c2c9deb1c6c8ecfb14b0fa01cc907a0557f1b8e6d4aca3e40863c22fab9c7f2181ca72dfab6230cc3b7b2085e1d0bd78c8eb232625584d09b05efe0e90246e183b8a2d08f92efdd487146588b8546f07c9e86d70ed557d6eaf518a41ed54b3977237212.mp4\n",
      "http://flv.bn.netease.com/d954d53105dc303a004a886eed3a3769d5309fa4b0a4daec5848a7792e24daf97260f7f2849daeb28f6eb05d598e2dea81b9d9cc0a3a562d0537e5807d5c58c9dbecf3fa4f9a9ad007d1f341d56ef94d5f4f18b8a11bef4521a21136d8c79d1ea894045e43fa659ab4ff954f3f08405a25a7a954a031f182.mp4\n",
      "http://flv.bn.netease.com/d954d53105dc303a453b31e1ce326044fb35b7fdc1b4bb8b6728305b2d072bb8d46bc023a421ea07c0ef2cf14b68f0069cf76e7c536c969f224a8db6731d8075876a25cb54585a09dfae0264f03fdca5471d159a9651b047be1fff22faa15baee9685927fd9441ceaca3fb79f7ebe5834ac69dcf2d2962c0.mp4\n",
      "http://flv.bn.netease.com/d954d53105dc303aa8c4e967a37b32e3c5c0c74b89b10d392fa2b2849ff0f1ea42808145baf1a43bb0e2404a901010bcaea1b984b1012c95216a00c66e16b9a832f70d86714652d531f548ca2224ff2036fe326de7312374529429f610fb541f1614e52ad980504375aafc2578a2eb0f231f336e5567d4b9.mp4\n",
      "http://flv.bn.netease.com/d954d53105dc303a117a829acc8c4b9b74db2cffa57df367529cf9800d4dad23e6faf21c46568458dadeb7b32b7c5fb6e7784af5cbd1ef7fbffa32a34c6be9282f145afb0b1ba573d0c8ae7a41c0ba112af132350c31f8c3d068f0101e77ab94869ca611e9fb17f5c0871ba78fb2df86124a825de9672f34.mp4\n",
      "http://flv.bn.netease.com/d954d53105dc303a41e62bc0dac7edb8cf3eb14afd0ee572c85c7f5e41457e1f09b5a9aec334523f004e4bb40acee41d18a8ce2b4fdbb33ecd5774b7c222bf7bf55612a8bbfad5e73da03b41467b07f82a503bcc243fb9b56a9d19f856337193d47c81b0f3a601d44105a6584bb38276f6863ce66774f9ba.mp4\n",
      "http://flv.bn.netease.com/d954d53105dc303a4a11691fe543c3ef535645b6eef5c68e53b870ffc2fc9fd0137c83bf7477027b6bc77ca3ebcdbfb700cb54d2b5314e34d8f72a9b36f2f1373fcb258f6ac6b80dbf0b189cbdf6441aaa3ff18e33869a13887531246f4a5757797353028a94697ec75f69dc68ac9e64a83aad10b3afb934.mp4\n",
      "http://flv.bn.netease.com/d954d53105dc303a3a6685dbb456d80f661010b1a307cc4940c503a6303098c09b908cb1509bf316f4c82d3c216b3b0ffa5d44dce5eccd7912a8a7e2e40b3dc015200e1e2aa7801fd7c69143262ed443a6d13176c50eec3562e528563b52511e4961caaa9fb55d3c26a10b7e35acd1c94feabf7439268bc0.mp4\n",
      "http://flv.bn.netease.com/d954d53105dc303a4298a2aa1b1203ea774cc968225a2094289a059d3db48fb995f11b18f7d05d15fa96ffbc89cf16e3b1e8619dd2bd0dc65415f08467e633561f456eba79c6e58d8fbbfcfc333047daa57ad10e5e6cec0a4fd65b250d1218cfccba585c1b967d6453d53db22f7df6bb778b0c11c37b4451.mp4\n",
      "http://flv.bn.netease.com/d954d53105dc303adf4e70662d118d31f12429a17a5881c1d39411f2cc4a5c66164ea84add09493531dc1faa57bf151a39af83afcad205d66cc1bf7d9b75c4e008eaf075a6d04a2ca950aa1b05cc07f49759abb823f3fcbd214089e09b8b9b5515b8387aca908af915e8de91b25a21345b3b006a27376f7e.mp4\n",
      "http://flv.bn.netease.com/d954d53105dc303abebb312b100a9439a479ad86148d9996c7c0159a70e906e34b06f5b6e237876e0dcddbd26011a981988133c4b05d4ddf5e015d30f9d9ed9e41d3eb7f338f04f2434876a6b8b8e4d637e60bb97b1792c95ff740d22590f33d2766a16238f9667c49f6e1b2a1d03ed51e1ebfb23c6402e6.mp4\n",
      "http://flv.bn.netease.com/d954d53105dc303aef59fea2d805666dc7218e5670ece4f4d815baba0c4d5c17626e7c5d6fc73b0b0420f5431eecae8eec3e1c08fdfcdb99dc82f7ac0733ff07ebabe9fb26bd32ff3a89349ecb2c603ade35be35c3a01657ea1c87fde918e37d951924de1c1390dde1240672d88d502f45cb240c401d3a24.mp4\n",
      "http://flv.bn.netease.com/d954d53105dc303a809d617001a69a0d30c6d5c95eacd6f5c1ac8f6a7fe84cf8db714a2b49df38c44b4bf7babd2dbebd8cc50332907916eafcf7a2ff34d3c0fe8d31248e2de971ecb7c06b17b4021b77aa69f79ffc779563b89ca9d3895a5dc70a7a4fc5442af955235c94e05fa583396ad5eb3bc55929a1.mp4\n",
      "http://flv.bn.netease.com/d954d53105dc303a0017cd9f0d9189eaf1ab75a272f7e40686157281f59e5265ce3aa937b89f8ce1183130e9598a575db52db2c26594755d68193898fc45fa5644497a0583e8420742a22d09b7df963d6eefd2d7b7016c260f119fa37d54482380773e683f574de143e5585028e49c776710c19cb0f7c087.mp4\n",
      "http://flv.bn.netease.com/d954d53105dc303ab1678e89e472cd42c9bb23e71bc08bc01705810612e08e154af602755caf4de4bc4db49efb17b4fa6475bd7bd5f48d5569700368c3fb99b6dbfcaf6ef5484094a7101c32a517e21e12456cf713101a1e09d2477ea73eda4566d96e8fe036d2b79a63be55138176e62092233e90264eed.mp4\n",
      "http://flv.bn.netease.com/d954d53105dc303ac62b19eaf1910f29c856802efb2d018d8bcd000ace99c137c6227efcd7f429739117046e4e31f97a2d0ae11bdb3562f26807f9e846d4ed413c1372e5c2ff846898a4a25b9085b88dab3fa75b6f2932154c4e544c9a5c4380159b36165979d3346695219f398a700c4f6d5f6264323917.mp4\n",
      "http://flv.bn.netease.com/d954d53105dc303a4085406bfc18f59ffb75c64036dd66ece2bb08e86179e31c70ebf1a91ec8b8a5225914f0aef759df7d4d7774fea9fa1278bef77579de9fed23e5c9d62c1092a495fc1855e7270d32bd147c37ce2459984f1108d02dcecf743915a3cf681eb981af16ff189605e7ea7c24a7c247a69d8b.mp4\n",
      "http://flv.bn.netease.com/d954d53105dc303a9a427d50012c8d0e0e2aa48c4a3497cd856e204f5e0cd5d6f8bf9567b32c71205038b32c8543bcac6a655358424b1502fedb7f08d583231b5f0e3d52007ee1de6a331c2a3c8b9f01f0a776e595ae24440a5598db9ad7c184dbbc0524afffad5e0699bee475e9dd7b96f25641e3e1d3bc.mp4\n",
      "http://flv.bn.netease.com/d954d53105dc303ac6aa11c289aae47c2c392f9e4d8436a548a6e4f91e54d724b5ede84dec7beafed038beef1fa370062c2c1d778929bbb442d20a45c1c9b21a076bfe253727149fb5573085f7fa580c181867c4e7298a9ced7794e325708a312cf979ebb35e3f8673dfe213943b3e54719c889bd3f1d0da.mp4\n"
     ]
    },
    {
     "name": "stdout",
     "output_type": "stream",
     "text": [
      "http://flv.bn.netease.com/d954d53105dc303af6207cfd93ee2e8ac57f479406e9308d994198f5c30fcbacac09a2837390a27d58879e9513e807c2a7bb96931f816118ad5cea5e60c0be01f540fd1ade3205653bcf43659776bc6bf842fa9426e9a3b21204e5987f388a60fd7d79772346903c1df6f6410cf31d6a374e07c496d8cf15.mp4\n",
      "http://flv.bn.netease.com/d954d53105dc303ac8907a8a919a066ffb437812be710a9cd8a7246205550411bb09a03db5a8b055e2cdb556be16a6e796681539d96c298550683a3506f70d0ba7591b61977b136a232de6b82d716ea57403d4e1a63361b758d44cd0bdc380895463d8fd4ddbebf2f8c7db64fe6807b655649e7b0ed8d22b.mp4\n",
      "http://flv.bn.netease.com/d954d53105dc303ada4cdc922ab6affc52e04d9c4a4589fb4d24043b4734a5e3b546c8f4208e66a93d95905cb16c5ef827053fb0f76fb36a40ba104ac054237e0f9b744bec07b78a1d23edfb90f0636f5da747fbd770b94c6cb54990ecc24bf3bf3a478c9cb70f5e0d6991c9311909882e45ffce68fc1145.mp4\n",
      "http://flv.bn.netease.com/d954d53105dc303a8a78208a07b494150a32c71567c28b9e24dcc63690bcddff08c163f103665366755bd0976b7d7f1b0ed2a10396a56e3c952c3eb5122110a6debf3ac98ac3828f13f48c7fb02dff9e03e5c013043e8087e649163431fcfcb53b3a6ba6770bdd12024fb317056862559843408279ea4a32.mp4\n",
      "http://flv.bn.netease.com/d954d53105dc303a1b46e1b337c0de97cf830da893644c1f3080da4932e180eeb94f3edb9d7b115de2d142852d8ed2dbddcb61ca6249fcf9722d9519a35a0820b21680e5fcddcb21898a1f80326bdb9aa89dbb540154f16b0d22c7241edaa3caf197b2d6a02a8dc7a4241148e59814ff11a0645828b50d67.mp4\n"
     ]
    }
   ],
   "source": [
    "srcUrls = []\n",
    "for pageUrl in pageUrls:\n",
    "    srcUrl = getSrcUrl(pageUrl)\n",
    "    print(srcUrl)\n",
    "    srcUrls.append(srcUrl)"
   ]
  },
  {
   "cell_type": "code",
   "execution_count": 11,
   "metadata": {},
   "outputs": [],
   "source": [
    "with open('srcUrl.txt', 'w', encoding='utf-8') as fp:\n",
    "    data = '\\n'.join(srcUrls)\n",
    "    fp.write(data)"
   ]
  },
  {
   "cell_type": "code",
   "execution_count": 21,
   "metadata": {},
   "outputs": [],
   "source": [
    "def download(url, fileName):\n",
    "    #fileName = url.rsplit('/', 1)[-1]\n",
    "    #print(fileName)\n",
    "    path = 'video/'\n",
    "    try:        \n",
    "        content = getResponse(url).content\n",
    "        with open(path + fileName, 'wb') as fp:\n",
    "            fp.write(content)\n",
    "        print(fileName, 'successful')\n",
    "    except Exception as e:\n",
    "        print(\"error\")"
   ]
  },
  {
   "cell_type": "code",
   "execution_count": 13,
   "metadata": {},
   "outputs": [
    {
     "name": "stdout",
     "output_type": "stream",
     "text": [
      "d954d53105dc303aee66920b48b99133bc2e9b3fcde4344effca8ac90dcea01d243390271664159273304838e441fb28ecdd740d2e16c74bf389f4655ed150745c6937fa8b152400808e320d36aee13fa4a6f048fe8a56c2635b5c93c6c67d54b4488fd32cbd93a5afe5cd8a4c84210883b8fc5fa10c052d.mp4 successful\n"
     ]
    }
   ],
   "source": [
    "download('http://flv.bn.netease.com/d954d53105dc303aee66920b48b99133bc2e9b3fcde4344effca8ac90dcea01d243390271664159273304838e441fb28ecdd740d2e16c74bf389f4655ed150745c6937fa8b152400808e320d36aee13fa4a6f048fe8a56c2635b5c93c6c67d54b4488fd32cbd93a5afe5cd8a4c84210883b8fc5fa10c052d.mp4')"
   ]
  },
  {
   "cell_type": "code",
   "execution_count": 14,
   "metadata": {},
   "outputs": [
    {
     "name": "stdout",
     "output_type": "stream",
     "text": [
      "36\n"
     ]
    }
   ],
   "source": [
    "allObj = []\n",
    "for i, url in enumerate(srcUrls):\n",
    "    obj = {\n",
    "        'id':i,\n",
    "        'url':url\n",
    "    }\n",
    "    allObj.append(obj)\n",
    "print(len(allObj))"
   ]
  },
  {
   "cell_type": "code",
   "execution_count": 20,
   "metadata": {},
   "outputs": [],
   "source": [
    "def multithreadDownload(obj):\n",
    "    ID = obj['id']\n",
    "    url = obj['url']\n",
    "    print(f'start download {ID}')\n",
    "    download(url, str(ID)+'.mp4')"
   ]
  },
  {
   "cell_type": "code",
   "execution_count": 22,
   "metadata": {
    "scrolled": true
   },
   "outputs": [
    {
     "name": "stdout",
     "output_type": "stream",
     "text": [
      "start download 0\n",
      "start download 3\n",
      "start download 6\n",
      "start download 9\n",
      "0.mp4 successful\n",
      "start download 1\n",
      "9.mp4 successful\n",
      "start download 10\n",
      "10.mp4 successful\n",
      "start download 11\n",
      "3.mp4 successful\n",
      "start download 4\n",
      "6.mp4 successful\n",
      "start download 7\n",
      "4.mp4 successful\n",
      "start download 5\n",
      "1.mp4 successful\n",
      "start download 2\n",
      "5.mp4 successful\n",
      "start download 12\n",
      "7.mp4 successful\n",
      "start download 8\n",
      "12.mp4 successful\n",
      "start download 13\n",
      "8.mp4 successful\n",
      "start download 15\n",
      "2.mp4 successful\n",
      "start download 18\n",
      "11.mp4 successful\n",
      "start download 21\n",
      "18.mp4 successful\n",
      "start download 19\n",
      "15.mp4 successful\n",
      "start download 16\n",
      "16.mp4 successful\n",
      "start download 17\n",
      "21.mp4 successful\n",
      "start download 22\n",
      "13.mp4 successful\n",
      "start download 14\n",
      "17.mp4 successful\n",
      "start download 24\n",
      "24.mp4 successful\n",
      "start download 25\n",
      "14.mp4 successful\n",
      "start download 27\n",
      "19.mp4 successful\n",
      "start download 20\n",
      "22.mp4 successful\n",
      "start download 23\n",
      "27.mp4 successful\n",
      "start download 28\n",
      "28.mp4 successful\n",
      "start download 29\n",
      "23.mp4 successful\n",
      "start download 30\n",
      "25.mp4 successful\n",
      "start download 26\n",
      "20.mp4 successful\n",
      "start download 33\n",
      "29.mp4 successful\n",
      "26.mp4 successful\n",
      "30.mp4 successful\n",
      "start download 31\n",
      "33.mp4 successful\n",
      "start download 34\n",
      "34.mp4 successful\n",
      "start download 35\n",
      "35.mp4 successful\n",
      "31.mp4 successful\n",
      "start download 32\n",
      "32.mp4 successful\n"
     ]
    }
   ],
   "source": [
    "pool = Pool(4)\n",
    "pool.map(multithreadDownload, allObj)\n",
    "pool.close()\n",
    "pool.join()"
   ]
  },
  {
   "cell_type": "code",
   "execution_count": null,
   "metadata": {},
   "outputs": [],
   "source": []
  }
 ],
 "metadata": {
  "kernelspec": {
   "display_name": "Python 3",
   "language": "python",
   "name": "python3"
  },
  "language_info": {
   "codemirror_mode": {
    "name": "ipython",
    "version": 3
   },
   "file_extension": ".py",
   "mimetype": "text/x-python",
   "name": "python",
   "nbconvert_exporter": "python",
   "pygments_lexer": "ipython3",
   "version": "3.8.5"
  }
 },
 "nbformat": 4,
 "nbformat_minor": 4
}
