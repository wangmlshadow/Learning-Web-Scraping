{
 "cells": [
  {
   "cell_type": "markdown",
   "metadata": {},
   "source": [
    "# 代理"
    "# 自己用的话 IP备份 开个加速器就可以了"
   ]
  },
  {
   "cell_type": "code",
   "execution_count": 1,
   "metadata": {},
   "outputs": [],
   "source": [
    "# 破解封IP这种反爬机制\n",
    "\n",
    "# 什么是代理\n",
    "# 代理服务器 \n",
    "\n",
    "# 代理的左右\n",
    "# 突破自身IP访问的限制\n",
    "# 可以隐藏自身真实的IP\n",
    "\n",
    "# 代理网站\n",
    "# 快代理  https://www.kuaidaili.com/\n",
    "# 西刺代理  https://mtop.chinaz.com/site_www.xici.net.co.html\n",
    "# www.goubanjia.com\n",
    "\n",
    "# 代理ip的类型\n",
    "# http 应用到http协议对应的url中\n",
    "# https 应用到https协议对应的url中\n",
    "\n",
    "# 代理ip的匿名度\n",
    "# 透明 服务器知道该次请求使用了代理 也知道该次请求的真实ip\n",
    "# 匿名 知道使用了代理 但是不知道真实ip\n",
    "# 高匿名 不知道使用了代理 更不知道真实ip"
   ]
  },
  {
   "cell_type": "code",
   "execution_count": 2,
   "metadata": {},
   "outputs": [],
   "source": [
    "import requests\n"
   ]
  },
  {
   "cell_type": "code",
   "execution_count": 4,
   "metadata": {},
   "outputs": [],
   "source": [
    "url = 'https://www.baidu.com/'\n",
    "headers = {\n",
    "    'User-Agent':'Mozilla/5.0 (Windows NT 10.0; Win64; x64) AppleWebKit/537.36 (KHTML, like Gecko) Chrome/88.0.4324.182 Safari/537.36'\n",
    "}\n",
    "\n",
    "page_text = requests.get(url=url, headers=headers, proxies={\"https\":'222.110.147.50:3128'}).text\n",
    "\n",
    "with open('ip.html', 'w', encoding='utf-8') as fp:\n",
    "    fp.write(page_text)"
   ]
  },
  {
   "cell_type": "code",
   "execution_count": null,
   "metadata": {},
   "outputs": [],
   "source": []
  }
 ],
 "metadata": {
  "kernelspec": {
   "display_name": "Python 3",
   "language": "python",
   "name": "python3"
  },
  "language_info": {
   "codemirror_mode": {
    "name": "ipython",
    "version": 3
   },
   "file_extension": ".py",
   "mimetype": "text/x-python",
   "name": "python",
   "nbconvert_exporter": "python",
   "pygments_lexer": "ipython3",
   "version": "3.8.5"
  }
 },
 "nbformat": 4,
 "nbformat_minor": 4
}
