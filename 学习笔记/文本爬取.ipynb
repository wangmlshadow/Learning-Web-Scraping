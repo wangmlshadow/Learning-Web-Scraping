{
 "cells": [
  {
   "cell_type": "code",
   "execution_count": 1,
   "metadata": {},
   "outputs": [],
   "source": [
    "# 中文财经"
   ]
  },
  {
   "cell_type": "code",
   "execution_count": 9,
   "metadata": {},
   "outputs": [],
   "source": [
    "import requests\n",
    "from bs4 import BeautifulSoup\n",
    "import re"
   ]
  },
  {
   "cell_type": "code",
   "execution_count": 10,
   "metadata": {},
   "outputs": [],
   "source": [
    "# 根据给定url链接 返回对应页面的HTML\n",
    "def getHTML(url):\n",
    "    s = requests.session()\n",
    "    s.keep_alive = False\n",
    "    r = requests.get(url, timeout=30, headers={'Connection':'close'}, stream=True, verify=False)\n",
    "    r.encoding = r.apparent_encoding\n",
    "    return r.text"
   ]
  },
  {
   "cell_type": "code",
   "execution_count": 11,
   "metadata": {},
   "outputs": [],
   "source": [
    "# 东亚日报 财经频道地址\n",
    "srcUrl = 'https://www.donga.com/cn/List?c=02'"
   ]
  },
  {
   "cell_type": "code",
   "execution_count": 12,
   "metadata": {},
   "outputs": [
    {
     "name": "stderr",
     "output_type": "stream",
     "text": [
      "E:\\Anaconda3\\lib\\site-packages\\urllib3\\connectionpool.py:981: InsecureRequestWarning: Unverified HTTPS request is being made to host 'www.donga.com'. Adding certificate verification is strongly advised. See: https://urllib3.readthedocs.io/en/latest/advanced-usage.html#ssl-warnings\n",
      "  warnings.warn(\n"
     ]
    }
   ],
   "source": [
    "# 获取文章列表中每篇文章的链接地址\n",
    "srcHtml = getHTML(srcUrl)"
   ]
  },
  {
   "cell_type": "code",
   "execution_count": 13,
   "metadata": {},
   "outputs": [],
   "source": [
    "# 分析HTML页面获取对应链接地址列表\n",
    "soup = BeautifulSoup(srcHtml, 'html.parser')\n",
    "all_a_href = soup.find_all('a')\n",
    "\n",
    "linkLists = []\n",
    "for href in all_a_href:\n",
    "    temp = str(href)\n",
    "    matchObj = re.match(r'<a href=\"https://www.donga.com/cn/List/article/all/', temp, re.M|re.I)\n",
    "    if matchObj:\n",
    "        linkLists.append(temp)"
   ]
  },
  {
   "cell_type": "code",
   "execution_count": 14,
   "metadata": {},
   "outputs": [],
   "source": [
    "# 处理得到url\n",
    "for i in range(len(linkLists)):\n",
    "    temp = linkLists[i]\n",
    "    temp = re.sub(r'<a href=\"', \"\", temp)\n",
    "    temp = re.sub(r'\">.*', \"\", temp)\n",
    "    #print(temp)\n",
    "    linkLists[i] = temp\n",
    "\n",
    "# 去重\n",
    "linkLists = list(set(linkLists))"
   ]
  },
  {
   "cell_type": "code",
   "execution_count": 15,
   "metadata": {},
   "outputs": [
    {
     "name": "stdout",
     "output_type": "stream",
     "text": [
      "https://www.donga.com/cn/List/article/all/20210319/2511760/1/13年不变的房产综合税-9亿韩元-标准，是时候重新讨论了\n",
      "https://www.donga.com/cn/List/article/all/20210310/2490166/1/美国国债利率暴涨冲击，国内股市动荡\n",
      "https://www.donga.com/cn/List/article/all/20210320/2514526/1/现代重工业举行郑周永会长20周年追悼会\n",
      "https://www.donga.com/cn/List/article/all/20210316/2503933/1/起亚首次公开配备E-GMP的电动汽车-EV6-设计\n",
      "https://www.donga.com/cn/List/article/all/20210308/2484916/1/特斯拉股价跌破600美元大关-西学蚂蚁的-不眠之夜\n",
      "https://www.donga.com/cn/List/article/all/20210310/2490226/1/海外股票投资创历史最高纪录，现在是防范利率、油价暴涨的时候了\n",
      "https://www.donga.com/cn/List/article/all/20210309/2487379/1/1月饭桌物价上涨6-5-，上涨率居OECD第4位\n",
      "https://www.donga.com/cn/List/article/all/20210313/2498290/1/LG为新建美国电池工厂投资5万亿韩元以上\n",
      "https://www.donga.com/cn/List/article/all/20210311/2493145/1/现代汽车首次公开-高性能SUV-科纳N预告图\n",
      "https://www.donga.com/cn/List/article/all/20210313/2498302/1/外卖的民族-金峰镇议长向餐饮业主支援200亿韩元的个人财产\n",
      "https://www.donga.com/cn/List/article/all/20210318/2509240/1/洪楠基副总理称-就业市场困难得到缓解-难道他听不到二三十岁年轻人的呐喊声吗？\n",
      "https://www.donga.com/cn/List/article/all/20210315/2501503/1/LG电视、洗衣机、冰箱获得美国《消费者报告》评价第一名\n",
      "https://www.donga.com/cn/List/article/all/20210312/2495641/1/外卖的民族-金峰镇议长向职员和骑士支付1000亿韩元私人财产\n",
      "https://www.donga.com/cn/List/article/all/20210316/2503951/1/利用虚拟货币隐匿财产，税务当局首次向2416名高额滞纳者征收366亿韩元税金\n",
      "https://www.donga.com/cn/List/article/all/20210311/2493085/1/谷歌霸道在全球遭遇铁锤，只有韩国默认不理？\n",
      "https://www.donga.com/cn/List/article/all/20210309/2487388/1/去年未拿到最低工资的劳动者319万人，创历史新高\n",
      "https://www.donga.com/cn/List/article/all/20210322/2517916/1/雪上加霜的-车载半导体大混乱\n",
      "https://www.donga.com/cn/List/article/all/20210319/2511769/1/韩国女性就业率为M型曲线\n",
      "https://www.donga.com/cn/List/article/all/20210319/2511754/1/现代汽车Staria官图发布，具有-太空飞船氛围\n",
      "https://www.donga.com/cn/List/article/all/20210318/2509312/1/国内31家大企业首次选拔女性社外理事\n"
     ]
    }
   ],
   "source": [
    "for url in linkLists:\n",
    "    print(url)"
   ]
  },
  {
   "cell_type": "code",
   "execution_count": 16,
   "metadata": {},
   "outputs": [],
   "source": [
    "# 获取对应文章内容\n",
    "def getContent(url):\n",
    "    html = getHTML(url)\n",
    "    # 分析html文件\n",
    "    # 文章内容在 <div class=\"news_view\">内\n",
    "    # 通过正则处理获取文章内容\n",
    "    res = re.findall(r' <div class=\"news_view\"(.*?)</div>', html)\n",
    "    res = str(res)\n",
    "    res = re.sub(r'id(.*?)<br>', \"\", res)\n",
    "    res = re.sub(r'<br>', '\\n', res)\n",
    "    return res"
   ]
  },
  {
   "cell_type": "code",
   "execution_count": 17,
   "metadata": {},
   "outputs": [],
   "source": [
    "# 将对应文章保存至文件\n",
    "# 文件名为 日期和文件编号\n",
    "def getText(url):\n",
    "    content = getContent(url)\n",
    "    arr = url.split(\"/\")\n",
    "    fileName = arr[-4] + \"-\" + arr[-3]\n",
    "    file = open(\"text/\" + fileName + \".txt\", \"w+\", encoding='utf-8')\n",
    "    file.write(content)\n",
    "    file.close()"
   ]
  },
  {
   "cell_type": "code",
   "execution_count": 37,
   "metadata": {},
   "outputs": [],
   "source": [
    "# 测试\n",
    "#getText(linkLists[0])"
   ]
  },
  {
   "cell_type": "code",
   "execution_count": 57,
   "metadata": {},
   "outputs": [],
   "source": [
    "for i in range(len(linkLists)):\n",
    "    getText(linkLists[i])\n",
    "    \n",
    "    if i == 4:\n",
    "        break"
   ]
  },
  {
   "cell_type": "code",
   "execution_count": 39,
   "metadata": {},
   "outputs": [],
   "source": [
    "#print(srcHtml)"
   ]
  },
  {
   "cell_type": "code",
   "execution_count": null,
   "metadata": {},
   "outputs": [],
   "source": [
    "# Request URL: https://www.donga.com/cn/List?p0=j&p=21&l=20&c=02\n",
    "# Request URL: https://www.donga.com/cn/List?p0=j&p=41&l=20&c=02"
   ]
  },
  {
   "cell_type": "code",
   "execution_count": 40,
   "metadata": {},
   "outputs": [],
   "source": [
    "newPage = getHTML('https://www.donga.com/cn/List?p0=j&p=21&l=20&c=02')\n",
    "#print(newPage)"
   ]
  },
  {
   "cell_type": "code",
   "execution_count": 15,
   "metadata": {},
   "outputs": [],
   "source": [
    "# 通过浏览器分析 更多按钮 \n",
    "# 发现每次点击后会发起新 请求request URL：https://www.donga.com/cn/List?p0=j&p=21&l=20&c=02 \n",
    "# 且请求的依次变化为 https://www.donga.com/cn/List?p0=j&p=41&l=20&c=02 \n",
    "# https://www.donga.com/cn/List?p0=j&p=61&l=20&c=02 "
   ]
  },
  {
   "cell_type": "code",
   "execution_count": 18,
   "metadata": {},
   "outputs": [],
   "source": [
    "# 通过first+second+third 拼接每次more request的url\n",
    "# first = \"https://www.donga.com/cn/List?p0=j&p=\"\n",
    "# second = 2\n",
    "# third = \"1&l=20&c=02\"\n",
    "\n",
    "# 下面通过函数实现获取下一次的url\n",
    "def getNextClickMoreUrl():\n",
    "    if not hasattr(getNextClickMoreUrl, 'second'):\n",
    "        getNextClickMoreUrl.second = 0\n",
    "    first = \"https://www.donga.com/cn/List?p0=j&p=\"\n",
    "    third = \"1&l=20&c=02\"\n",
    "    getNextClickMoreUrl.second += 2\n",
    "    return first + str(getNextClickMoreUrl.second) + third"
   ]
  },
  {
   "cell_type": "code",
   "execution_count": 19,
   "metadata": {},
   "outputs": [],
   "source": [
    "#print(getNextClickMoreUrl())\n",
    "#print(getNextClickMoreUrl())\n",
    "#print(getNextClickMoreUrl())\n",
    "#print(getNextClickMoreUrl())\n",
    "#print(getNextClickMoreUrl())"
   ]
  },
  {
   "cell_type": "code",
   "execution_count": 20,
   "metadata": {},
   "outputs": [],
   "source": [
    "# 通过生成的click more 的url获取新得到的相关文章的url\n",
    "def getUrlAfterClickMore(url):\n",
    "    html = getHTML(url)\n",
    "    sp = BeautifulSoup(html, 'html.parser')\n",
    "    all_a_href = sp.find_all('a')\n",
    "    \n",
    "    linkLists = []\n",
    "\n",
    "    for href in all_a_href:\n",
    "        temp = str(href)\n",
    "        matchObj = re.match(r'<a href=\"https://www.donga.com/cn/List/article/all/', temp, re.M|re.I)\n",
    "        if matchObj:# 符合条件 是所需的文章的URL\n",
    "            temp = re.sub(r'<a href=\"', \"\", temp)\n",
    "            temp = re.sub(r'\">.*', \"\", temp)\n",
    "            linkLists.append(temp)\n",
    "    # 去重        \n",
    "    linkLists = list(set(linkLists))\n",
    "    return linkLists"
   ]
  },
  {
   "cell_type": "code",
   "execution_count": 38,
   "metadata": {},
   "outputs": [
    {
     "name": "stdout",
     "output_type": "stream",
     "text": [
      "https://www.donga.com/cn/List/article/all/20210219/2446990/1/股票代替零花钱-，未成年账户1年内翻番\n",
      "https://www.donga.com/cn/List/article/all/20210223/2455363/1/特斯拉-5999万韩元-Model-Y突然停售\n",
      "https://www.donga.com/cn/List/article/all/20210227/2465719/1/韩华集团会长金升渊3月时隔7年重返经营舞台\n",
      "https://www.donga.com/cn/List/article/all/20210222/2452888/1/现代汽车集团名誉会长郑梦九完全退出经营层\n",
      "https://www.donga.com/cn/List/article/all/20210306/2481667/1/美国ITC认定：-SK侵犯LG-22项商业秘密\n",
      "https://www.donga.com/cn/List/article/all/20210305/2478793/1/高档的内饰-就像来到了头等舱休息室一样\n",
      "https://www.donga.com/cn/List/article/all/20210301/2469073/1/汽车半导体大乱-，现代汽车蔚山工厂也-减少加班\n",
      "https://www.donga.com/cn/List/article/all/20210226/2463064/1/公共设施的电动汽车充电机所有人都可以使用\n",
      "https://www.donga.com/cn/List/article/all/20210220/2449552/1/SK会长崔泰源：-在电池生态系统合作非常重要\n",
      "https://www.donga.com/cn/List/article/all/20210302/2470795/1/三星-Neo-QLED-TV-在美国被称赞为-最佳产品\n",
      "https://www.donga.com/cn/List/article/all/20210216/2439769/1/LG与SK的电池争端，国家未来竞争力取决于后续协议\n",
      "https://www.donga.com/cn/List/article/all/20210226/2463049/1/脸书：-3年内将在利用新闻资讯上投资1万亿韩元-纽\n",
      "https://www.donga.com/cn/List/article/all/20210217/2442226/1/继电池之后，氢气事业也展开合作-郑义宣会长的宽幅步伐\n",
      "https://www.donga.com/cn/List/article/all/20210304/2476459/1/到2030年三星电子等50家公司的车辆将全部换成电动汽车或氢燃料汽车\n",
      "https://www.donga.com/cn/List/article/all/20210225/2460457/1/三星电视机全世界占有率31-9-，-创历史新高\n",
      "https://www.donga.com/cn/List/article/all/20210303/2473705/1/前往美国股市的Coupang：-通过IPO最多可筹集4万亿韩元\n",
      "https://www.donga.com/cn/List/article/all/20210224/2457955/1/世界电动车大战正式拉开帷幕-通用汽车：-将停止生产汽油车\n",
      "https://www.donga.com/cn/List/article/all/20210304/2476453/1/现代重工业与沙特阿美石油公司缔结-氢-氨联盟\n",
      "https://www.donga.com/cn/List/article/all/20210219/2446993/1/与法人税不差上下的准税金-在韩国创业\n",
      "https://www.donga.com/cn/List/article/all/20210222/2452933/1/首尔市将老旧柴油车报废补贴提高到600万韩元\n"
     ]
    }
   ],
   "source": [
    "newPageUrls = getUrlAfterClickMore('https://www.donga.com/cn/List?p0=j&p=21&l=20&c=02')\n",
    "\n",
    "for url in newPageUrls:\n",
    "    print(url)"
   ]
  },
  {
   "cell_type": "code",
   "execution_count": 21,
   "metadata": {},
   "outputs": [],
   "source": [
    "import time"
   ]
  },
  {
   "cell_type": "code",
   "execution_count": 22,
   "metadata": {},
   "outputs": [],
   "source": [
    "# 将list数据写入文件\n",
    "def listToText(listValue):\n",
    "    # 文件名用此时时间戳\n",
    "    fileName = str(time.time())\n",
    "    \n",
    "    with open(\"pageUrl/\" + fileName + \".txt\", 'w+', encoding='utf-8') as f:\n",
    "        f.write('\\n'.join(listValue))"
   ]
  },
  {
   "cell_type": "code",
   "execution_count": 61,
   "metadata": {},
   "outputs": [],
   "source": [
    "for i in range(5):\n",
    "    url = getNextClickMoreUrl()\n",
    "    linkLists = getUrlAfterClickMore(url)\n",
    "    listToText(linkLists)# 将获取到的每篇文章的url写入文件"
   ]
  },
  {
   "cell_type": "code",
   "execution_count": 63,
   "metadata": {},
   "outputs": [],
   "source": [
    "# 获取对应文章内容\n",
    "# print(getContent('https://www.donga.com/cn/List/article/all/20210222/2452933/1/首尔市将老旧柴油车报废补贴提高到600万韩元'))"
   ]
  },
  {
   "cell_type": "code",
   "execution_count": 23,
   "metadata": {},
   "outputs": [
    {
     "name": "stderr",
     "output_type": "stream",
     "text": [
      "E:\\Anaconda3\\lib\\site-packages\\urllib3\\connectionpool.py:981: InsecureRequestWarning: Unverified HTTPS request is being made to host 'www.donga.com'. Adding certificate verification is strongly advised. See: https://urllib3.readthedocs.io/en/latest/advanced-usage.html#ssl-warnings\n",
      "  warnings.warn(\n"
     ]
    },
    {
     "name": "stdout",
     "output_type": "stream",
     "text": [
      "getLinkList    0\n",
      "get Page\n"
     ]
    },
    {
     "name": "stderr",
     "output_type": "stream",
     "text": [
      "E:\\Anaconda3\\lib\\site-packages\\urllib3\\connectionpool.py:981: InsecureRequestWarning: Unverified HTTPS request is being made to host 'www.donga.com'. Adding certificate verification is strongly advised. See: https://urllib3.readthedocs.io/en/latest/advanced-usage.html#ssl-warnings\n",
      "  warnings.warn(\n"
     ]
    },
    {
     "name": "stdout",
     "output_type": "stream",
     "text": [
      "get Page\n"
     ]
    },
    {
     "name": "stderr",
     "output_type": "stream",
     "text": [
      "E:\\Anaconda3\\lib\\site-packages\\urllib3\\connectionpool.py:981: InsecureRequestWarning: Unverified HTTPS request is being made to host 'www.donga.com'. Adding certificate verification is strongly advised. See: https://urllib3.readthedocs.io/en/latest/advanced-usage.html#ssl-warnings\n",
      "  warnings.warn(\n"
     ]
    },
    {
     "name": "stdout",
     "output_type": "stream",
     "text": [
      "get Page\n"
     ]
    },
    {
     "name": "stderr",
     "output_type": "stream",
     "text": [
      "E:\\Anaconda3\\lib\\site-packages\\urllib3\\connectionpool.py:981: InsecureRequestWarning: Unverified HTTPS request is being made to host 'www.donga.com'. Adding certificate verification is strongly advised. See: https://urllib3.readthedocs.io/en/latest/advanced-usage.html#ssl-warnings\n",
      "  warnings.warn(\n"
     ]
    },
    {
     "name": "stdout",
     "output_type": "stream",
     "text": [
      "get Page\n"
     ]
    },
    {
     "name": "stderr",
     "output_type": "stream",
     "text": [
      "E:\\Anaconda3\\lib\\site-packages\\urllib3\\connectionpool.py:981: InsecureRequestWarning: Unverified HTTPS request is being made to host 'www.donga.com'. Adding certificate verification is strongly advised. See: https://urllib3.readthedocs.io/en/latest/advanced-usage.html#ssl-warnings\n",
      "  warnings.warn(\n"
     ]
    },
    {
     "name": "stdout",
     "output_type": "stream",
     "text": [
      "get Page\n"
     ]
    },
    {
     "name": "stderr",
     "output_type": "stream",
     "text": [
      "E:\\Anaconda3\\lib\\site-packages\\urllib3\\connectionpool.py:981: InsecureRequestWarning: Unverified HTTPS request is being made to host 'www.donga.com'. Adding certificate verification is strongly advised. See: https://urllib3.readthedocs.io/en/latest/advanced-usage.html#ssl-warnings\n",
      "  warnings.warn(\n"
     ]
    },
    {
     "name": "stdout",
     "output_type": "stream",
     "text": [
      "get Page\n"
     ]
    },
    {
     "name": "stderr",
     "output_type": "stream",
     "text": [
      "E:\\Anaconda3\\lib\\site-packages\\urllib3\\connectionpool.py:981: InsecureRequestWarning: Unverified HTTPS request is being made to host 'www.donga.com'. Adding certificate verification is strongly advised. See: https://urllib3.readthedocs.io/en/latest/advanced-usage.html#ssl-warnings\n",
      "  warnings.warn(\n"
     ]
    },
    {
     "name": "stdout",
     "output_type": "stream",
     "text": [
      "get Page\n"
     ]
    },
    {
     "name": "stderr",
     "output_type": "stream",
     "text": [
      "E:\\Anaconda3\\lib\\site-packages\\urllib3\\connectionpool.py:981: InsecureRequestWarning: Unverified HTTPS request is being made to host 'www.donga.com'. Adding certificate verification is strongly advised. See: https://urllib3.readthedocs.io/en/latest/advanced-usage.html#ssl-warnings\n",
      "  warnings.warn(\n"
     ]
    },
    {
     "name": "stdout",
     "output_type": "stream",
     "text": [
      "get Page\n"
     ]
    },
    {
     "name": "stderr",
     "output_type": "stream",
     "text": [
      "E:\\Anaconda3\\lib\\site-packages\\urllib3\\connectionpool.py:981: InsecureRequestWarning: Unverified HTTPS request is being made to host 'www.donga.com'. Adding certificate verification is strongly advised. See: https://urllib3.readthedocs.io/en/latest/advanced-usage.html#ssl-warnings\n",
      "  warnings.warn(\n"
     ]
    },
    {
     "name": "stdout",
     "output_type": "stream",
     "text": [
      "get Page\n"
     ]
    },
    {
     "name": "stderr",
     "output_type": "stream",
     "text": [
      "E:\\Anaconda3\\lib\\site-packages\\urllib3\\connectionpool.py:981: InsecureRequestWarning: Unverified HTTPS request is being made to host 'www.donga.com'. Adding certificate verification is strongly advised. See: https://urllib3.readthedocs.io/en/latest/advanced-usage.html#ssl-warnings\n",
      "  warnings.warn(\n"
     ]
    },
    {
     "name": "stdout",
     "output_type": "stream",
     "text": [
      "get Page\n"
     ]
    },
    {
     "name": "stderr",
     "output_type": "stream",
     "text": [
      "E:\\Anaconda3\\lib\\site-packages\\urllib3\\connectionpool.py:981: InsecureRequestWarning: Unverified HTTPS request is being made to host 'www.donga.com'. Adding certificate verification is strongly advised. See: https://urllib3.readthedocs.io/en/latest/advanced-usage.html#ssl-warnings\n",
      "  warnings.warn(\n"
     ]
    },
    {
     "name": "stdout",
     "output_type": "stream",
     "text": [
      "get Page\n"
     ]
    },
    {
     "name": "stderr",
     "output_type": "stream",
     "text": [
      "E:\\Anaconda3\\lib\\site-packages\\urllib3\\connectionpool.py:981: InsecureRequestWarning: Unverified HTTPS request is being made to host 'www.donga.com'. Adding certificate verification is strongly advised. See: https://urllib3.readthedocs.io/en/latest/advanced-usage.html#ssl-warnings\n",
      "  warnings.warn(\n"
     ]
    },
    {
     "name": "stdout",
     "output_type": "stream",
     "text": [
      "get Page\n"
     ]
    },
    {
     "name": "stderr",
     "output_type": "stream",
     "text": [
      "E:\\Anaconda3\\lib\\site-packages\\urllib3\\connectionpool.py:981: InsecureRequestWarning: Unverified HTTPS request is being made to host 'www.donga.com'. Adding certificate verification is strongly advised. See: https://urllib3.readthedocs.io/en/latest/advanced-usage.html#ssl-warnings\n",
      "  warnings.warn(\n"
     ]
    },
    {
     "name": "stdout",
     "output_type": "stream",
     "text": [
      "get Page\n"
     ]
    },
    {
     "name": "stderr",
     "output_type": "stream",
     "text": [
      "E:\\Anaconda3\\lib\\site-packages\\urllib3\\connectionpool.py:981: InsecureRequestWarning: Unverified HTTPS request is being made to host 'www.donga.com'. Adding certificate verification is strongly advised. See: https://urllib3.readthedocs.io/en/latest/advanced-usage.html#ssl-warnings\n",
      "  warnings.warn(\n"
     ]
    },
    {
     "name": "stdout",
     "output_type": "stream",
     "text": [
      "get Page\n"
     ]
    },
    {
     "name": "stderr",
     "output_type": "stream",
     "text": [
      "E:\\Anaconda3\\lib\\site-packages\\urllib3\\connectionpool.py:981: InsecureRequestWarning: Unverified HTTPS request is being made to host 'www.donga.com'. Adding certificate verification is strongly advised. See: https://urllib3.readthedocs.io/en/latest/advanced-usage.html#ssl-warnings\n",
      "  warnings.warn(\n"
     ]
    },
    {
     "name": "stdout",
     "output_type": "stream",
     "text": [
      "get Page\n"
     ]
    },
    {
     "name": "stderr",
     "output_type": "stream",
     "text": [
      "E:\\Anaconda3\\lib\\site-packages\\urllib3\\connectionpool.py:981: InsecureRequestWarning: Unverified HTTPS request is being made to host 'www.donga.com'. Adding certificate verification is strongly advised. See: https://urllib3.readthedocs.io/en/latest/advanced-usage.html#ssl-warnings\n",
      "  warnings.warn(\n"
     ]
    },
    {
     "name": "stdout",
     "output_type": "stream",
     "text": [
      "get Page\n"
     ]
    },
    {
     "name": "stderr",
     "output_type": "stream",
     "text": [
      "E:\\Anaconda3\\lib\\site-packages\\urllib3\\connectionpool.py:981: InsecureRequestWarning: Unverified HTTPS request is being made to host 'www.donga.com'. Adding certificate verification is strongly advised. See: https://urllib3.readthedocs.io/en/latest/advanced-usage.html#ssl-warnings\n",
      "  warnings.warn(\n"
     ]
    },
    {
     "name": "stdout",
     "output_type": "stream",
     "text": [
      "get Page\n"
     ]
    },
    {
     "name": "stderr",
     "output_type": "stream",
     "text": [
      "E:\\Anaconda3\\lib\\site-packages\\urllib3\\connectionpool.py:981: InsecureRequestWarning: Unverified HTTPS request is being made to host 'www.donga.com'. Adding certificate verification is strongly advised. See: https://urllib3.readthedocs.io/en/latest/advanced-usage.html#ssl-warnings\n",
      "  warnings.warn(\n"
     ]
    },
    {
     "name": "stdout",
     "output_type": "stream",
     "text": [
      "get Page\n"
     ]
    },
    {
     "name": "stderr",
     "output_type": "stream",
     "text": [
      "E:\\Anaconda3\\lib\\site-packages\\urllib3\\connectionpool.py:981: InsecureRequestWarning: Unverified HTTPS request is being made to host 'www.donga.com'. Adding certificate verification is strongly advised. See: https://urllib3.readthedocs.io/en/latest/advanced-usage.html#ssl-warnings\n",
      "  warnings.warn(\n"
     ]
    },
    {
     "name": "stdout",
     "output_type": "stream",
     "text": [
      "get Page\n"
     ]
    },
    {
     "name": "stderr",
     "output_type": "stream",
     "text": [
      "E:\\Anaconda3\\lib\\site-packages\\urllib3\\connectionpool.py:981: InsecureRequestWarning: Unverified HTTPS request is being made to host 'www.donga.com'. Adding certificate verification is strongly advised. See: https://urllib3.readthedocs.io/en/latest/advanced-usage.html#ssl-warnings\n",
      "  warnings.warn(\n"
     ]
    },
    {
     "name": "stdout",
     "output_type": "stream",
     "text": [
      "get Page\n"
     ]
    },
    {
     "name": "stderr",
     "output_type": "stream",
     "text": [
      "E:\\Anaconda3\\lib\\site-packages\\urllib3\\connectionpool.py:981: InsecureRequestWarning: Unverified HTTPS request is being made to host 'www.donga.com'. Adding certificate verification is strongly advised. See: https://urllib3.readthedocs.io/en/latest/advanced-usage.html#ssl-warnings\n",
      "  warnings.warn(\n",
      "E:\\Anaconda3\\lib\\site-packages\\urllib3\\connectionpool.py:981: InsecureRequestWarning: Unverified HTTPS request is being made to host 'www.donga.com'. Adding certificate verification is strongly advised. See: https://urllib3.readthedocs.io/en/latest/advanced-usage.html#ssl-warnings\n",
      "  warnings.warn(\n"
     ]
    },
    {
     "name": "stdout",
     "output_type": "stream",
     "text": [
      "getLinkList    1\n",
      "get Page\n"
     ]
    },
    {
     "name": "stderr",
     "output_type": "stream",
     "text": [
      "E:\\Anaconda3\\lib\\site-packages\\urllib3\\connectionpool.py:981: InsecureRequestWarning: Unverified HTTPS request is being made to host 'www.donga.com'. Adding certificate verification is strongly advised. See: https://urllib3.readthedocs.io/en/latest/advanced-usage.html#ssl-warnings\n",
      "  warnings.warn(\n"
     ]
    },
    {
     "name": "stdout",
     "output_type": "stream",
     "text": [
      "get Page\n"
     ]
    },
    {
     "name": "stderr",
     "output_type": "stream",
     "text": [
      "E:\\Anaconda3\\lib\\site-packages\\urllib3\\connectionpool.py:981: InsecureRequestWarning: Unverified HTTPS request is being made to host 'www.donga.com'. Adding certificate verification is strongly advised. See: https://urllib3.readthedocs.io/en/latest/advanced-usage.html#ssl-warnings\n",
      "  warnings.warn(\n"
     ]
    },
    {
     "name": "stdout",
     "output_type": "stream",
     "text": [
      "get Page\n"
     ]
    },
    {
     "name": "stderr",
     "output_type": "stream",
     "text": [
      "E:\\Anaconda3\\lib\\site-packages\\urllib3\\connectionpool.py:981: InsecureRequestWarning: Unverified HTTPS request is being made to host 'www.donga.com'. Adding certificate verification is strongly advised. See: https://urllib3.readthedocs.io/en/latest/advanced-usage.html#ssl-warnings\n",
      "  warnings.warn(\n"
     ]
    },
    {
     "name": "stdout",
     "output_type": "stream",
     "text": [
      "get Page\n"
     ]
    },
    {
     "name": "stderr",
     "output_type": "stream",
     "text": [
      "E:\\Anaconda3\\lib\\site-packages\\urllib3\\connectionpool.py:981: InsecureRequestWarning: Unverified HTTPS request is being made to host 'www.donga.com'. Adding certificate verification is strongly advised. See: https://urllib3.readthedocs.io/en/latest/advanced-usage.html#ssl-warnings\n",
      "  warnings.warn(\n"
     ]
    },
    {
     "name": "stdout",
     "output_type": "stream",
     "text": [
      "get Page\n"
     ]
    },
    {
     "name": "stderr",
     "output_type": "stream",
     "text": [
      "E:\\Anaconda3\\lib\\site-packages\\urllib3\\connectionpool.py:981: InsecureRequestWarning: Unverified HTTPS request is being made to host 'www.donga.com'. Adding certificate verification is strongly advised. See: https://urllib3.readthedocs.io/en/latest/advanced-usage.html#ssl-warnings\n",
      "  warnings.warn(\n"
     ]
    },
    {
     "name": "stdout",
     "output_type": "stream",
     "text": [
      "get Page\n"
     ]
    },
    {
     "name": "stderr",
     "output_type": "stream",
     "text": [
      "E:\\Anaconda3\\lib\\site-packages\\urllib3\\connectionpool.py:981: InsecureRequestWarning: Unverified HTTPS request is being made to host 'www.donga.com'. Adding certificate verification is strongly advised. See: https://urllib3.readthedocs.io/en/latest/advanced-usage.html#ssl-warnings\n",
      "  warnings.warn(\n"
     ]
    },
    {
     "name": "stdout",
     "output_type": "stream",
     "text": [
      "get Page\n"
     ]
    },
    {
     "name": "stderr",
     "output_type": "stream",
     "text": [
      "E:\\Anaconda3\\lib\\site-packages\\urllib3\\connectionpool.py:981: InsecureRequestWarning: Unverified HTTPS request is being made to host 'www.donga.com'. Adding certificate verification is strongly advised. See: https://urllib3.readthedocs.io/en/latest/advanced-usage.html#ssl-warnings\n",
      "  warnings.warn(\n"
     ]
    },
    {
     "name": "stdout",
     "output_type": "stream",
     "text": [
      "get Page\n"
     ]
    },
    {
     "name": "stderr",
     "output_type": "stream",
     "text": [
      "E:\\Anaconda3\\lib\\site-packages\\urllib3\\connectionpool.py:981: InsecureRequestWarning: Unverified HTTPS request is being made to host 'www.donga.com'. Adding certificate verification is strongly advised. See: https://urllib3.readthedocs.io/en/latest/advanced-usage.html#ssl-warnings\n",
      "  warnings.warn(\n"
     ]
    },
    {
     "name": "stdout",
     "output_type": "stream",
     "text": [
      "get Page\n"
     ]
    },
    {
     "name": "stderr",
     "output_type": "stream",
     "text": [
      "E:\\Anaconda3\\lib\\site-packages\\urllib3\\connectionpool.py:981: InsecureRequestWarning: Unverified HTTPS request is being made to host 'www.donga.com'. Adding certificate verification is strongly advised. See: https://urllib3.readthedocs.io/en/latest/advanced-usage.html#ssl-warnings\n",
      "  warnings.warn(\n"
     ]
    },
    {
     "name": "stdout",
     "output_type": "stream",
     "text": [
      "get Page\n"
     ]
    },
    {
     "name": "stderr",
     "output_type": "stream",
     "text": [
      "E:\\Anaconda3\\lib\\site-packages\\urllib3\\connectionpool.py:981: InsecureRequestWarning: Unverified HTTPS request is being made to host 'www.donga.com'. Adding certificate verification is strongly advised. See: https://urllib3.readthedocs.io/en/latest/advanced-usage.html#ssl-warnings\n",
      "  warnings.warn(\n"
     ]
    },
    {
     "name": "stdout",
     "output_type": "stream",
     "text": [
      "get Page\n"
     ]
    },
    {
     "name": "stderr",
     "output_type": "stream",
     "text": [
      "E:\\Anaconda3\\lib\\site-packages\\urllib3\\connectionpool.py:981: InsecureRequestWarning: Unverified HTTPS request is being made to host 'www.donga.com'. Adding certificate verification is strongly advised. See: https://urllib3.readthedocs.io/en/latest/advanced-usage.html#ssl-warnings\n",
      "  warnings.warn(\n"
     ]
    },
    {
     "name": "stdout",
     "output_type": "stream",
     "text": [
      "get Page\n"
     ]
    },
    {
     "name": "stderr",
     "output_type": "stream",
     "text": [
      "E:\\Anaconda3\\lib\\site-packages\\urllib3\\connectionpool.py:981: InsecureRequestWarning: Unverified HTTPS request is being made to host 'www.donga.com'. Adding certificate verification is strongly advised. See: https://urllib3.readthedocs.io/en/latest/advanced-usage.html#ssl-warnings\n",
      "  warnings.warn(\n"
     ]
    },
    {
     "name": "stdout",
     "output_type": "stream",
     "text": [
      "get Page\n"
     ]
    },
    {
     "name": "stderr",
     "output_type": "stream",
     "text": [
      "E:\\Anaconda3\\lib\\site-packages\\urllib3\\connectionpool.py:981: InsecureRequestWarning: Unverified HTTPS request is being made to host 'www.donga.com'. Adding certificate verification is strongly advised. See: https://urllib3.readthedocs.io/en/latest/advanced-usage.html#ssl-warnings\n",
      "  warnings.warn(\n"
     ]
    },
    {
     "name": "stdout",
     "output_type": "stream",
     "text": [
      "get Page\n"
     ]
    },
    {
     "name": "stderr",
     "output_type": "stream",
     "text": [
      "E:\\Anaconda3\\lib\\site-packages\\urllib3\\connectionpool.py:981: InsecureRequestWarning: Unverified HTTPS request is being made to host 'www.donga.com'. Adding certificate verification is strongly advised. See: https://urllib3.readthedocs.io/en/latest/advanced-usage.html#ssl-warnings\n",
      "  warnings.warn(\n"
     ]
    },
    {
     "name": "stdout",
     "output_type": "stream",
     "text": [
      "get Page\n"
     ]
    },
    {
     "name": "stderr",
     "output_type": "stream",
     "text": [
      "E:\\Anaconda3\\lib\\site-packages\\urllib3\\connectionpool.py:981: InsecureRequestWarning: Unverified HTTPS request is being made to host 'www.donga.com'. Adding certificate verification is strongly advised. See: https://urllib3.readthedocs.io/en/latest/advanced-usage.html#ssl-warnings\n",
      "  warnings.warn(\n"
     ]
    },
    {
     "name": "stdout",
     "output_type": "stream",
     "text": [
      "get Page\n"
     ]
    },
    {
     "name": "stderr",
     "output_type": "stream",
     "text": [
      "E:\\Anaconda3\\lib\\site-packages\\urllib3\\connectionpool.py:981: InsecureRequestWarning: Unverified HTTPS request is being made to host 'www.donga.com'. Adding certificate verification is strongly advised. See: https://urllib3.readthedocs.io/en/latest/advanced-usage.html#ssl-warnings\n",
      "  warnings.warn(\n"
     ]
    },
    {
     "name": "stdout",
     "output_type": "stream",
     "text": [
      "get Page\n"
     ]
    },
    {
     "name": "stderr",
     "output_type": "stream",
     "text": [
      "E:\\Anaconda3\\lib\\site-packages\\urllib3\\connectionpool.py:981: InsecureRequestWarning: Unverified HTTPS request is being made to host 'www.donga.com'. Adding certificate verification is strongly advised. See: https://urllib3.readthedocs.io/en/latest/advanced-usage.html#ssl-warnings\n",
      "  warnings.warn(\n"
     ]
    },
    {
     "name": "stdout",
     "output_type": "stream",
     "text": [
      "get Page\n"
     ]
    },
    {
     "name": "stderr",
     "output_type": "stream",
     "text": [
      "E:\\Anaconda3\\lib\\site-packages\\urllib3\\connectionpool.py:981: InsecureRequestWarning: Unverified HTTPS request is being made to host 'www.donga.com'. Adding certificate verification is strongly advised. See: https://urllib3.readthedocs.io/en/latest/advanced-usage.html#ssl-warnings\n",
      "  warnings.warn(\n"
     ]
    },
    {
     "name": "stdout",
     "output_type": "stream",
     "text": [
      "get Page\n"
     ]
    },
    {
     "name": "stderr",
     "output_type": "stream",
     "text": [
      "E:\\Anaconda3\\lib\\site-packages\\urllib3\\connectionpool.py:981: InsecureRequestWarning: Unverified HTTPS request is being made to host 'www.donga.com'. Adding certificate verification is strongly advised. See: https://urllib3.readthedocs.io/en/latest/advanced-usage.html#ssl-warnings\n",
      "  warnings.warn(\n"
     ]
    },
    {
     "name": "stdout",
     "output_type": "stream",
     "text": [
      "get Page\n"
     ]
    },
    {
     "name": "stderr",
     "output_type": "stream",
     "text": [
      "E:\\Anaconda3\\lib\\site-packages\\urllib3\\connectionpool.py:981: InsecureRequestWarning: Unverified HTTPS request is being made to host 'www.donga.com'. Adding certificate verification is strongly advised. See: https://urllib3.readthedocs.io/en/latest/advanced-usage.html#ssl-warnings\n",
      "  warnings.warn(\n"
     ]
    }
   ],
   "source": [
    "# 爬取两个页面所有文章数据\n",
    "for i in range(2):\n",
    "    linkLists = getUrlAfterClickMore(getNextClickMoreUrl())\n",
    "    print(\"getLinkList    \" + str(i))\n",
    "    for link in linkLists:\n",
    "        print(\"get Page\")\n",
    "        getText(link)"
   ]
  },
  {
   "cell_type": "code",
   "execution_count": 1,
   "metadata": {},
   "outputs": [],
   "source": []
  }
 ],
 "metadata": {
  "kernelspec": {
   "display_name": "Python 3",
   "language": "python",
   "name": "python3"
  },
  "language_info": {
   "codemirror_mode": {
    "name": "ipython",
    "version": 3
   },
   "file_extension": ".py",
   "mimetype": "text/x-python",
   "name": "python",
   "nbconvert_exporter": "python",
   "pygments_lexer": "ipython3",
   "version": "3.8.5"
  }
 },
 "nbformat": 4,
 "nbformat_minor": 4
}
