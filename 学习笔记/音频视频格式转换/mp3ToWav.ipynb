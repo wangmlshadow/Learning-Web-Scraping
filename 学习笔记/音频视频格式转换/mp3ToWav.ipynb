{
 "cells": [
  {
   "cell_type": "code",
   "execution_count": 2,
   "metadata": {
    "scrolled": false
   },
   "outputs": [],
   "source": [
    "import os\n",
    "from multiprocessing import Pool\n",
    "from pydub import AudioSegment\n",
    "from multiprocessing.dummy import Pool"
   ]
  },
  {
   "cell_type": "code",
   "execution_count": 2,
   "metadata": {},
   "outputs": [],
   "source": [
    "mp3_list = os.listdir(\"audio\") # MP3所在位置\n",
    "print(len(mp3_list))"
   ]
  },
  {
   "cell_type": "code",
   "execution_count": 3,
   "metadata": {},
   "outputs": [],
   "source": [
    "allMusic = []\n",
    "for i, name in enumerate(mp3_list):\n",
    "    dic = {\n",
    "        'id':i,\n",
    "        'name':name\n",
    "    }\n",
    "    allMusic.append(dic)"
   ]
  },
  {
   "cell_type": "code",
   "execution_count": null,
   "metadata": {},
   "outputs": [],
   "source": [
    "def tran(dic):\n",
    "    num = dic['id']\n",
    "    print(f'第 {num} 首音乐开始转换:')\n",
    "    mp3Audio = dic['name']\n",
    "    try:\n",
    "        song = AudioSegment.from_mp3('audio/' + mp3Audio).set_channels(1).set_frame_rate(16000)\n",
    "        song.export('wav/' + mp3Audio.replace(\".mp3\", \".wav\"), format=\"wav\", bitrate='16k')\n",
    "        print(mp3Audio, \"转换完成\")\n",
    "    except Exception as e:\n",
    "        print(mp3Audio, ' error')"
   ]
  },
  {
   "cell_type": "code",
   "execution_count": null,
   "metadata": {},
   "outputs": [],
   "source": [
    "pool = Pool(4)\n",
    "pool.map(tran, allMusic)\n",
    "pool.close()\n",
    "pool.join()"
   ]
  }
 ],
 "metadata": {
  "kernelspec": {
   "display_name": "Python 3",
   "language": "python",
   "name": "python3"
  },
  "language_info": {
   "codemirror_mode": {
    "name": "ipython",
    "version": 3
   },
   "file_extension": ".py",
   "mimetype": "text/x-python",
   "name": "python",
   "nbconvert_exporter": "python",
   "pygments_lexer": "ipython3",
   "version": "3.8.5"
  }
 },
 "nbformat": 4,
 "nbformat_minor": 4
}
