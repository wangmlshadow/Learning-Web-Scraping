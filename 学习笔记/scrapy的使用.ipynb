{
 "cells": [
  {
   "cell_type": "markdown",
   "metadata": {},
   "source": [
    "# scrapy"
   ]
  },
  {
   "cell_type": "code",
   "execution_count": 1,
   "metadata": {},
   "outputs": [],
   "source": [
    "# scrapy框架\n",
    "# scrapy框架的基本使用\n",
    "# 环境安装：\n",
    "# pip install wheel\n",
    "# 下载twisted http://www.lfd.uci.edu/~gohlke/pythonlibs/#twisted\n",
    "# pip install twisted\n",
    "# pip install pywin32\n",
    "# pip install scrapy"
   ]
  },
  {
   "cell_type": "code",
   "execution_count": null,
   "metadata": {},
   "outputs": [],
   "source": [
    "# scrapy的基本使用\n",
    "# 创建一个工程：scrapy startproject xxxPro\n",
    "# 在spiders子目录中创建一个爬虫文件\n",
    "# scrapy genspider spiderName www.xxx.com\n",
    "# 执行工程\n",
    "# scrapy crawl spiderName\n",
    "# 执行\n",
    "# scrapy crawl spiderName\n",
    "# 不输出日志 scrapy crawl spiderName --nolog\n",
    "\n",
    "# settinga.py\n",
    "# Obey robots.txt rules\n",
    "# ROBOTSTXT_OBEY = False\n",
    "# 显示指定类型的日志信息\n",
    "# LOG_LEVEL = 'ERROR'"
   ]
  }
 ],
 "metadata": {
  "kernelspec": {
   "display_name": "Python 3",
   "language": "python",
   "name": "python3"
  },
  "language_info": {
   "codemirror_mode": {
    "name": "ipython",
    "version": 3
   },
   "file_extension": ".py",
   "mimetype": "text/x-python",
   "name": "python",
   "nbconvert_exporter": "python",
   "pygments_lexer": "ipython3",
   "version": "3.8.5"
  }
 },
 "nbformat": 4,
 "nbformat_minor": 4
}
