{
 "cells": [
  {
   "cell_type": "markdown",
   "metadata": {},
   "source": [
    "# 异步爬虫"
   ]
  },
  {
   "cell_type": "code",
   "execution_count": 1,
   "metadata": {},
   "outputs": [],
   "source": [
    "# 高性能异步爬虫\n",
    "# 目的：在爬虫中使用异步实现高性能的数据爬取操作\n",
    "\n",
    "# requestes.get 是一个阻塞的方法 "
   ]
  },
  {
   "cell_type": "code",
   "execution_count": 8,
   "metadata": {},
   "outputs": [],
   "source": [
    "import requests"
   ]
  },
  {
   "cell_type": "code",
   "execution_count": 9,
   "metadata": {},
   "outputs": [],
   "source": [
    "headers = {\n",
    "    'User-Agent':'Mozilla/5.0 (Windows NT 10.0; Win64; x64) AppleWebKit/537.36 (KHTML, like Gecko) Chrome/88.0.4324.182 Safari/537.36'\n",
    "}"
   ]
  },
  {
   "cell_type": "code",
   "execution_count": 10,
   "metadata": {},
   "outputs": [],
   "source": [
    "urls = [\n",
    "    'http://wenjian.jkb.com.cn/video/20140916xuetangguanli.mp4',\n",
    "    'http://wenjian.jkb.com.cn/video/20140916yidaosuzhiliaodechangyongfangan.mp4',\n",
    "    'http://wenjian.jkb.com.cn/video/20140910manxingbingheliyongyao.mp4'\n",
    "]"
   ]
  },
  {
   "cell_type": "code",
   "execution_count": 11,
   "metadata": {},
   "outputs": [],
   "source": [
    "def get_content(url):\n",
    "    print(\"正在爬取： \", url)\n",
    "    response = requests.get(url=url, headers=headers)\n",
    "    if response.status_code == 200:\n",
    "        return response.content"
   ]
  },
  {
   "cell_type": "code",
   "execution_count": 12,
   "metadata": {},
   "outputs": [],
   "source": [
    "def parse_content(content):\n",
    "    print('相应数据的长度为： ', len(content))"
   ]
  },
  {
   "cell_type": "code",
   "execution_count": null,
   "metadata": {},
   "outputs": [],
   "source": [
    "for url in urls:\n",
    "    content = get_content(url)\n",
    "    parse_content(content)"
   ]
  },
  {
   "cell_type": "markdown",
   "metadata": {},
   "source": [
    "# 异步爬虫的方式"
   ]
  },
  {
   "cell_type": "code",
   "execution_count": 13,
   "metadata": {},
   "outputs": [],
   "source": [
    "# 多线程 多进程\n",
    "# 好处：可以为相关阻塞操作单独开启线程或进程 阻塞操作可以异步执行\n",
    "# 弊端：无法无限制的开启多线程或者多进程\n"
   ]
  },
  {
   "cell_type": "code",
   "execution_count": 14,
   "metadata": {},
   "outputs": [],
   "source": [
    "# 线程池 进程池（适当使用）\n",
    "# 好处：我们可以降低系统对进程或线程创建和销毁的频率 从而很好的降低系统的开销\n",
    "# 弊端：池中线程或进程的数量是有上限的"
   ]
  },
  {
   "cell_type": "code",
   "execution_count": 15,
   "metadata": {},
   "outputs": [],
   "source": [
    "import time\n"
   ]
  },
  {
   "cell_type": "code",
   "execution_count": 19,
   "metadata": {},
   "outputs": [],
   "source": [
    "def get_page(str):# 模拟\n",
    "    print(\"正在下载：\", str)\n",
    "    time.sleep(2)\n",
    "    print('下载成功：', str)"
   ]
  },
  {
   "cell_type": "code",
   "execution_count": 20,
   "metadata": {},
   "outputs": [],
   "source": [
    "name_list = ['xiaozi', 'aa', 'bb', 'cc']"
   ]
  },
  {
   "cell_type": "code",
   "execution_count": 21,
   "metadata": {},
   "outputs": [
    {
     "name": "stdout",
     "output_type": "stream",
     "text": [
      "正在下载： xiaozi\n",
      "下载成功： xiaozi\n",
      "正在下载： aa\n",
      "下载成功： aa\n",
      "正在下载： bb\n",
      "下载成功： bb\n",
      "正在下载： cc\n",
      "下载成功： cc\n",
      "8 second\n"
     ]
    }
   ],
   "source": [
    "# 使用单线程串行方式执行\n",
    "start_time = time.time()\n",
    "\n",
    "for i in range(len(name_list)):\n",
    "    get_page(name_list[i])\n",
    "    \n",
    "end_time = time.time()\n",
    "print('%d second'% (end_time - start_time))"
   ]
  },
  {
   "cell_type": "code",
   "execution_count": 22,
   "metadata": {},
   "outputs": [],
   "source": [
    "# 基于线程池的方式执行"
   ]
  },
  {
   "cell_type": "code",
   "execution_count": 23,
   "metadata": {},
   "outputs": [],
   "source": [
    "# 导入线程池模块对应的类\n",
    "from multiprocessing.dummy import Pool"
   ]
  },
  {
   "cell_type": "code",
   "execution_count": 24,
   "metadata": {},
   "outputs": [
    {
     "name": "stdout",
     "output_type": "stream",
     "text": [
      "正在下载： xiaozi\n",
      "正在下载： aa\n",
      "正在下载： bb\n",
      "正在下载： cc\n",
      "下载成功： xiaozi\n",
      "下载成功： aa\n",
      "下载成功： bb\n",
      "下载成功： cc\n",
      "2 second\n"
     ]
    }
   ],
   "source": [
    "start_time = time.time()\n",
    "# 实例化一个线程池对象\n",
    "pool = Pool(4)\n",
    "# 将列表中每一个元素传递给get_page进行处理\n",
    "pool.map(get_page, name_list)\n",
    "end_time = time.time()\n",
    "print('%d second'% (end_time - start_time))"
   ]
  },
  {
   "cell_type": "code",
   "execution_count": 25,
   "metadata": {},
   "outputs": [],
   "source": [
    "# 线程池使用原则\n",
    "# 线程池处理的是阻塞且较为耗时的操作\n"
   ]
  },
  {
   "cell_type": "code",
   "execution_count": 46,
   "metadata": {},
   "outputs": [],
   "source": [
    "from lxml import etree\n",
    "import random\n",
    "import re"
   ]
  },
  {
   "cell_type": "code",
   "execution_count": 26,
   "metadata": {},
   "outputs": [],
   "source": [
    "# 爬取梨视频的视频数据\n",
    "# https://www.pearvideo.com/category_5"
   ]
  },
  {
   "cell_type": "code",
   "execution_count": 56,
   "metadata": {},
   "outputs": [],
   "source": [
    "# 可以参考 https://blog.csdn.net/General_zy/article/details/114791619\n",
    "# # 动态加载 通过XHR得到视频地址\n",
    "def getVideoUrl(detail_url):\n",
    "    # https://www.pearvideo.com/videoStatus.jsp\n",
    "    url = 'https://www.pearvideo.com/videoStatus.jsp'\n",
    "    # 需要UA Cookie Referer\n",
    "    # 否则出现该文章已删除的反爬问题\n",
    "    headers = {\n",
    "        'User-Agent':'Mozilla/5.0 (Windows NT 10.0; Win64; x64) AppleWebKit/537.36 (KHTML, like Gecko) Chrome/88.0.4324.182 Safari/537.36',\n",
    "        'Cookie':'__secdyid=16e132a5380e9acf9e8ef97a306c51163c1b18ec78ef1e55021617337941; JSESSIONID=0287BC9F031F6318EB35D723F1FD05AD; PEAR_UUID=577037eb-26a6-4a93-969b-f5b689bd2446; _uab_collina=161733794176512684106548; UM_distinctid=17890da802c853-0f1a66b5a48631-5771031-1fa400-17890da802de18; Hm_lvt_9707bc8d5f6bba210e7218b8496f076a=1617337942; p_h5_u=5AAFC631-D04D-4263-A8F8-1C4EA78E68A6; acw_tc=781bad2916173399152028460e5d9ec352fd8e7cce2d0e03ba85417275dcbe; CNZZDATA1260553744=706518655-1617334338-https%253A%252F%252Fwww.baidu.com%252F%7C1617339739; Hm_lpvt_9707bc8d5f6bba210e7218b8496f076a=1617339923; SERVERID=a6169b2e0636a71b774d6641c064eb8c|1617339990|1617337941',\n",
    "        'Referer':detail_url\n",
    "    }\n",
    "    videoId = (detail_url.split('/')[-1]).split('_')[-1]\n",
    "    param = {\n",
    "        'contId': videoId,\n",
    "        'mrd': str(random.random())\n",
    "    }\n",
    "    # json获取\n",
    "    # https://video.pearvideo.com/mp4/short/20210402/1617342588941-15646275-hd.mp4\n",
    "    obj_json = requests.get(url=url, headers=headers, params=param).json()\n",
    "    #print(obj_json)\n",
    "    # 这里获得的srcUrl还不是实际播放地址 还需要处理\n",
    "    srcUrl = obj_json['videoInfo']['videos']['srcUrl']\n",
    "    # 真实\n",
    "    # https://video.pearvideo.com/mp4/short/20210402/cont-1724857-15646275-hd.mp4\n",
    "    realUrl = srcUrl.replace((srcUrl.split('/')[-1]).split('-')[0], 'cont-'+videoId)\n",
    "    return realUrl"
   ]
  },
  {
   "cell_type": "code",
   "execution_count": 55,
   "metadata": {},
   "outputs": [
    {
     "name": "stdout",
     "output_type": "stream",
     "text": [
      "https://video.pearvideo.com/mp4/short/20210402/cont-1724857-15646275-hd.mp4\n"
     ]
    }
   ],
   "source": [
    "print(getVideoUrl('https://www.pearvideo.com/video_1724857'))"
   ]
  },
  {
   "cell_type": "code",
   "execution_count": 58,
   "metadata": {},
   "outputs": [],
   "source": [
    "# 对下述url发请求 解析出视频详情页的url和视频名称\n",
    "url = 'https://www.pearvideo.com/category_5'\n",
    "page_text = requests.get(url=url, headers=headers).text\n",
    "\n",
    "tree = etree.HTML(page_text)\n",
    "li_list = tree.xpath('//ul[@id=\"listvideoListUl\"]/li')\n",
    "urls = []# 存储所有视频的链接\n",
    "for li in li_list:\n",
    "    detail_url = 'https://www.pearvideo.com/' + li.xpath('./div/a/@href')[0]\n",
    "    name = li.xpath('./div/a/div[2]/text()')[0] + '.mp4'\n",
    "    #print(detail_url)\n",
    "    #print(name)\n",
    "    # 对详情页的url发起请求\n",
    "    detail_page_text = requests.get(url=url, headers=headers).text\n",
    "    # 从详情页中解析出视频的地址 （url）\n",
    "    # https://video.pearvideo.com/mp4/short/20210402/cont-1724857-15646275-hd.mp4\n",
    "    # 动态加载 通过XHR得到视频地址\n",
    "    video_url = getVideoUrl(detail_url)\n",
    "    dic = {\n",
    "        'name':name,\n",
    "        'url':video_url\n",
    "    }\n",
    "    urls.append(dic)\n",
    "    "
   ]
  },
  {
   "cell_type": "code",
   "execution_count": 60,
   "metadata": {},
   "outputs": [],
   "source": [
    "# 使用线程池对视频数据进行请求 （较为耗时的阻塞操作）\n",
    "from multiprocessing.dummy import Pool"
   ]
  },
  {
   "cell_type": "code",
   "execution_count": 62,
   "metadata": {},
   "outputs": [],
   "source": [
    "def get_video_data(dic):\n",
    "    url = dic['url']\n",
    "    headers = {\n",
    "        'User-Agent':'Mozilla/5.0 (Windows NT 10.0; Win64; x64) AppleWebKit/537.36 (KHTML, like Gecko) Chrome/88.0.4324.182 Safari/537.36',\n",
    "    }\n",
    "    print(dic['name'], '正在下载')\n",
    "    data = requests.get(url=url, headers=headers).content\n",
    "    with open(dic['name'], 'wb') as fp:\n",
    "        fp.write(data)\n",
    "        print(dic['name'], '下载成功')"
   ]
  },
  {
   "cell_type": "code",
   "execution_count": 63,
   "metadata": {},
   "outputs": [
    {
     "name": "stdout",
     "output_type": "stream",
     "text": [
      "马晔宁：画虎路上不停歇.mp4 正在下载\n",
      "全季CEO沈怡均带头接种疫苗：领导就要带头打.mp4 正在下载\n",
      "DIY迷你娃娃屋，田园中的小风车彩虹别墅.mp4 正在下载\n",
      "阿富汗青金石的美丽传说.mp4 正在下载\n",
      "马晔宁：画虎路上不停歇.mp4 下载成功\n",
      "全季CEO沈怡均带头接种疫苗：领导就要带头打.mp4 下载成功\n",
      "阿富汗青金石的美丽传说.mp4 下载成功\n",
      "DIY迷你娃娃屋，田园中的小风车彩虹别墅.mp4 下载成功\n"
     ]
    }
   ],
   "source": [
    "pool = Pool(4)\n",
    "pool.map(get_video_data, urls)\n",
    "pool.close()\n",
    "pool.join()"
   ]
  },
  {
   "cell_type": "code",
   "execution_count": 1,
   "metadata": {},
   "outputs": [],
   "source": [
    "# 单线程+异步协程（推荐）\n",
    "# 协程\n",
    "# event_loop: 事件循环 相当于一个无线循环 我们可以把一些函数注册到这个事件循环上 当满足某些条件的时候 函数就会被循环执行\n",
    "# coroutine：协程对象 我们可以将协程对象注册到事件循环中 它会被事件循环调用\n",
    "# 我们可以使用 async 关键字来定义一个方法 这个方法在调用时不会被立即执行 而是返回一个协程对象 \n",
    "# task：任务 它是对协程对象的进一步封装 实际上和 task 没有本质区别\n",
    "# future：代表将来执行或还没有执行的任务 实际上和task没有本质区别\n",
    "# async：定义一个协程\n",
    "# await：用来挂起阻塞方法的执行"
   ]
  },
  {
   "cell_type": "code",
   "execution_count": 1,
   "metadata": {},
   "outputs": [],
   "source": [
    "import asyncio"
   ]
  },
  {
   "cell_type": "code",
   "execution_count": 2,
   "metadata": {},
   "outputs": [],
   "source": [
    "# async 修饰的函数 调用之后返回的一个协程对象\n",
    "async def request(url):\n",
    "    print('正在请求的url是', url)\n",
    "    print('请求成功，', url)"
   ]
  },
  {
   "cell_type": "code",
   "execution_count": 3,
   "metadata": {},
   "outputs": [],
   "source": [
    "c = request('www.baidu.com')# 没有马上执行 而是生成了一个协程对象"
   ]
  },
  {
   "cell_type": "code",
   "execution_count": 5,
   "metadata": {},
   "outputs": [
    {
     "ename": "RuntimeError",
     "evalue": "This event loop is already running",
     "output_type": "error",
     "traceback": [
      "\u001b[1;31m---------------------------------------------------------------------------\u001b[0m",
      "\u001b[1;31mRuntimeError\u001b[0m                              Traceback (most recent call last)",
      "\u001b[1;32m<ipython-input-5-2373cfb22e92>\u001b[0m in \u001b[0;36m<module>\u001b[1;34m\u001b[0m\n\u001b[0;32m      2\u001b[0m \u001b[0mEventLoop\u001b[0m \u001b[1;33m=\u001b[0m \u001b[0masyncio\u001b[0m\u001b[1;33m.\u001b[0m\u001b[0mget_event_loop\u001b[0m\u001b[1;33m(\u001b[0m\u001b[1;33m)\u001b[0m\u001b[1;33m\u001b[0m\u001b[1;33m\u001b[0m\u001b[0m\n\u001b[0;32m      3\u001b[0m \u001b[1;31m# 将协程对象注册到loop中 然后启动loop\u001b[0m\u001b[1;33m\u001b[0m\u001b[1;33m\u001b[0m\u001b[1;33m\u001b[0m\u001b[0m\n\u001b[1;32m----> 4\u001b[1;33m \u001b[0mEventLoop\u001b[0m\u001b[1;33m.\u001b[0m\u001b[0mrun_until_complete\u001b[0m\u001b[1;33m(\u001b[0m\u001b[0mc\u001b[0m\u001b[1;33m)\u001b[0m\u001b[1;33m\u001b[0m\u001b[1;33m\u001b[0m\u001b[0m\n\u001b[0m",
      "\u001b[1;32mE:\\Users\\Administrator\\anaconda3\\lib\\asyncio\\base_events.py\u001b[0m in \u001b[0;36mrun_until_complete\u001b[1;34m(self, future)\u001b[0m\n\u001b[0;32m    590\u001b[0m         \"\"\"\n\u001b[0;32m    591\u001b[0m         \u001b[0mself\u001b[0m\u001b[1;33m.\u001b[0m\u001b[0m_check_closed\u001b[0m\u001b[1;33m(\u001b[0m\u001b[1;33m)\u001b[0m\u001b[1;33m\u001b[0m\u001b[1;33m\u001b[0m\u001b[0m\n\u001b[1;32m--> 592\u001b[1;33m         \u001b[0mself\u001b[0m\u001b[1;33m.\u001b[0m\u001b[0m_check_running\u001b[0m\u001b[1;33m(\u001b[0m\u001b[1;33m)\u001b[0m\u001b[1;33m\u001b[0m\u001b[1;33m\u001b[0m\u001b[0m\n\u001b[0m\u001b[0;32m    593\u001b[0m \u001b[1;33m\u001b[0m\u001b[0m\n\u001b[0;32m    594\u001b[0m         \u001b[0mnew_task\u001b[0m \u001b[1;33m=\u001b[0m \u001b[1;32mnot\u001b[0m \u001b[0mfutures\u001b[0m\u001b[1;33m.\u001b[0m\u001b[0misfuture\u001b[0m\u001b[1;33m(\u001b[0m\u001b[0mfuture\u001b[0m\u001b[1;33m)\u001b[0m\u001b[1;33m\u001b[0m\u001b[1;33m\u001b[0m\u001b[0m\n",
      "\u001b[1;32mE:\\Users\\Administrator\\anaconda3\\lib\\asyncio\\base_events.py\u001b[0m in \u001b[0;36m_check_running\u001b[1;34m(self)\u001b[0m\n\u001b[0;32m    550\u001b[0m     \u001b[1;32mdef\u001b[0m \u001b[0m_check_running\u001b[0m\u001b[1;33m(\u001b[0m\u001b[0mself\u001b[0m\u001b[1;33m)\u001b[0m\u001b[1;33m:\u001b[0m\u001b[1;33m\u001b[0m\u001b[1;33m\u001b[0m\u001b[0m\n\u001b[0;32m    551\u001b[0m         \u001b[1;32mif\u001b[0m \u001b[0mself\u001b[0m\u001b[1;33m.\u001b[0m\u001b[0mis_running\u001b[0m\u001b[1;33m(\u001b[0m\u001b[1;33m)\u001b[0m\u001b[1;33m:\u001b[0m\u001b[1;33m\u001b[0m\u001b[1;33m\u001b[0m\u001b[0m\n\u001b[1;32m--> 552\u001b[1;33m             \u001b[1;32mraise\u001b[0m \u001b[0mRuntimeError\u001b[0m\u001b[1;33m(\u001b[0m\u001b[1;34m'This event loop is already running'\u001b[0m\u001b[1;33m)\u001b[0m\u001b[1;33m\u001b[0m\u001b[1;33m\u001b[0m\u001b[0m\n\u001b[0m\u001b[0;32m    553\u001b[0m         \u001b[1;32mif\u001b[0m \u001b[0mevents\u001b[0m\u001b[1;33m.\u001b[0m\u001b[0m_get_running_loop\u001b[0m\u001b[1;33m(\u001b[0m\u001b[1;33m)\u001b[0m \u001b[1;32mis\u001b[0m \u001b[1;32mnot\u001b[0m \u001b[1;32mNone\u001b[0m\u001b[1;33m:\u001b[0m\u001b[1;33m\u001b[0m\u001b[1;33m\u001b[0m\u001b[0m\n\u001b[0;32m    554\u001b[0m             raise RuntimeError(\n",
      "\u001b[1;31mRuntimeError\u001b[0m: This event loop is already running"
     ]
    }
   ],
   "source": [
    "# 创建一个事件循环对象\n",
    "EventLoop = asyncio.get_event_loop()\n",
    "# 将协程对象注册到loop中 然后启动loop\n",
    "EventLoop.run_until_complete(c)\n",
    "# jupyter notebook其连接着 IPython 内核，而 IPython 内核本身在事件循环上运行\n",
    "# 而 asyncio 不允许嵌套其事件​​循环，因此会出现如上图的错误信息。"
   ]
  },
  {
   "cell_type": "code",
   "execution_count": null,
   "metadata": {},
   "outputs": [],
   "source": [
    "# task的使用\n",
    "loop = asyncio.get_event_loop()\n",
    "# 基于loop创建了一个task对象\n",
    "task = loop.create_task(c)\n",
    "print(task)# task未执行\n",
    "\n",
    "loop.run_until_complete(task)\n",
    "\n",
    "print(task)# task已执行"
   ]
  },
  {
   "cell_type": "code",
   "execution_count": null,
   "metadata": {},
   "outputs": [],
   "source": [
    "# future的使用\n",
    "loop = asyncio.get_event_loop()\n",
    "task = asyncio.ensure_future(c)\n",
    "print(task)\n",
    "\n",
    "loop.run_until_complete(task)\n",
    "\n",
    "print(task)"
   ]
  },
  {
   "cell_type": "code",
   "execution_count": null,
   "metadata": {},
   "outputs": [],
   "source": [
    "# 绑定回调\n",
    "async def request(url):\n",
    "    print('正在请求的url是', url)\n",
    "    print('请求成功，', url)\n",
    "    return url\n",
    "\n",
    "# 回调函数 任务对象执行成功后执行回调函数\n",
    "def callback_func(task):\n",
    "    # result 返回的就是任务对象中封装的协程对象对应的函数的返回值\n",
    "    print(task.result())\n",
    "\n",
    "c = request('www.baidu.com')\n",
    "\n",
    "loop = asyncio.get_event_loop()\n",
    "task = asyncio.ensure_future(c)\n",
    "# 将回调函数绑定到任务对象中\n",
    "task.add_done_callback(callback_func)\n",
    "loop.run_until_complete(task)\n"
   ]
  },
  {
   "cell_type": "code",
   "execution_count": 6,
   "metadata": {},
   "outputs": [],
   "source": [
    "# 多任务异步协程实现"
   ]
  },
  {
   "cell_type": "code",
   "execution_count": 7,
   "metadata": {},
   "outputs": [],
   "source": [
    "import asyncio\n",
    "import time"
   ]
  },
  {
   "cell_type": "code",
   "execution_count": null,
   "metadata": {},
   "outputs": [],
   "source": [
    "async def request(url):\n",
    "    print('正在下载',url)\n",
    "    # 在异步协程中如果出现了同步模块相关的代码 那么就无法实现异步\n",
    "    # time.sleep(2)\n",
    "    # 当在asyncio中遇到阻塞操作 必须进行手动挂起\n",
    "    await asyncio.sleep(2)\n",
    "    print('下载完毕，', url)\n",
    "    return url"
   ]
  },
  {
   "cell_type": "code",
   "execution_count": null,
   "metadata": {},
   "outputs": [],
   "source": [
    "start = time.time()\n",
    "urls = [\n",
    "    'www.baidu.com',\n",
    "    'www.sougou.com',\n",
    "    'www.doubanjia.com'\n",
    "]"
   ]
  },
  {
   "cell_type": "code",
   "execution_count": null,
   "metadata": {},
   "outputs": [],
   "source": [
    "# 任务列表：存放多个任务对象\n",
    "stasks = []\n",
    "for url in urls:\n",
    "    c = request(url)\n",
    "    task = asyncio.ensure_future(c)\n",
    "    stasks.append(task)\n",
    "    \n",
    "loop = asyncio.get_event_loop()\n",
    "# 需要将任务列表封装到wait中\n",
    "loop.run_until_complete(asyncio.wait(stasks))\n",
    "\n",
    "print(time.time() - start)"
   ]
  },
  {
   "cell_type": "code",
   "execution_count": null,
   "metadata": {},
   "outputs": [],
   "source": [
    "# 多任务异步协程的应用"
   ]
  },
  {
   "cell_type": "code",
   "execution_count": 10,
   "metadata": {},
   "outputs": [],
   "source": [
    "# 使用flask搭建一个web服务器 其中包括三个路由 每个的响应时间都是2秒\n",
    "from flask import Flask\n",
    "import time\n",
    "\n",
    "app = Flask(__name__)\n",
    "\n",
    "@app.route('/bobo')\n",
    "def index_bobo():\n",
    "    time.sleep(2)\n",
    "    return 'Hello bobo'\n",
    "\n",
    "@app.route('/jay')\n",
    "def index_jay():\n",
    "    time.sleep(2)\n",
    "    return 'Hello jay'\n",
    "\n",
    "@app.route('/tom')\n",
    "def index_tom():\n",
    "    time.sleep(2)\n",
    "    return 'Hello tom'"
   ]
  },
  {
   "cell_type": "code",
   "execution_count": 12,
   "metadata": {},
   "outputs": [],
   "source": [
    "import requests\n",
    "import asyncio\n",
    "import time\n",
    "import aiohttp# 使用该模块中的ClientSession"
   ]
  },
  {
   "cell_type": "code",
   "execution_count": null,
   "metadata": {},
   "outputs": [],
   "source": [
    "start = time.time()\n",
    "\n",
    "urls = [\n",
    "    'http://127.0.0.1:5000/bobo', 'http://127.0.0.1:5000/jay', 'http://127.0.0.1:5000/tom'\n",
    "]\n",
    "\n",
    "def getPage(url):\n",
    "    #print('正在下载', url)\n",
    "    # requests.get 是基于同步的\n",
    "    # 必须使用基于异步的网络请求模块进行指定url的请求发送\n",
    "    # aiohttp 基于异步网络请求的模块\n",
    "    #response = requests.get(url=url)\n",
    "    #print('下载完毕', response.text)\n",
    "    async with aiohttp.ClientSession() as session:\n",
    "        # get、post\n",
    "        # headers、params、data、proxy='http://ip:port'\n",
    "        async with await session.get(url) as response:\n",
    "            # text() 返回字符串形式的响应数据\n",
    "            # read() 返回二进制形式的响应数据\n",
    "            # json() 返回的就是json对象\n",
    "            # 注意：获取响应数据操作之前一定要使用await进行手动挂起\n",
    "            page_text = await response.text()\n",
    "            print(page_text)\n",
    "\n",
    "tasks = []\n",
    "\n",
    "for url in urls:\n",
    "    c = getPage(url)\n",
    "    task = asyncio.ensure_future(c)\n",
    "    tasks.append(task)\n",
    "    \n",
    "loop = asyncio.get_event_loop()\n",
    "loop.run_until_complete(asyncio.wait(tasks))\n",
    "\n",
    "end = time.time()\n",
    "\n",
    "print('总耗时', end - start)"
   ]
  },
  {
   "cell_type": "code",
   "execution_count": null,
   "metadata": {},
   "outputs": [],
   "source": []
  }
 ],
 "metadata": {
  "kernelspec": {
   "display_name": "Python 3",
   "language": "python",
   "name": "python3"
  },
  "language_info": {
   "codemirror_mode": {
    "name": "ipython",
    "version": 3
   },
   "file_extension": ".py",
   "mimetype": "text/x-python",
   "name": "python",
   "nbconvert_exporter": "python",
   "pygments_lexer": "ipython3",
   "version": "3.8.5"
  }
 },
 "nbformat": 4,
 "nbformat_minor": 4
}
