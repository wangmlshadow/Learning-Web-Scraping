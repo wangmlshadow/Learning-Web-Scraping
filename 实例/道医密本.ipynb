{
 "cells": [
  {
   "cell_type": "code",
   "execution_count": 1,
   "metadata": {},
   "outputs": [],
   "source": [
    "import requests\n",
    "from bs4 import BeautifulSoup\n",
    "import re\n",
    "import json\n",
    "from selenium import webdriver"
   ]
  },
  {
   "cell_type": "code",
   "execution_count": 2,
   "metadata": {},
   "outputs": [],
   "source": [
    "def getResponse(url, param = {}):\n",
    "    headers = {\n",
    "        'User-Agent':'Mozilla/5.0 (Windows NT 10.0; Win64; x64) AppleWebKit/537.36 (KHTML, like Gecko) Chrome/89.0.4389.90 Safari/537.36'\n",
    "    }\n",
    "    response = requests.get(url=url, headers=headers, params=param)\n",
    "    return response"
   ]
  },
  {
   "cell_type": "code",
   "execution_count": 3,
   "metadata": {},
   "outputs": [],
   "source": [
    "# 获取页面的html文件\n",
    "def getHTML(url):\n",
    "    return getResponse(url).text"
   ]
  },
  {
   "cell_type": "code",
   "execution_count": 4,
   "metadata": {},
   "outputs": [],
   "source": [
    "# 通过音频源地址爬取音频\n",
    "def getAudio(url):\n",
    "    response = getResponse(url)\n",
    "    path = 'audio/'\n",
    "    fileName = url.split('/')[-1]\n",
    "    with open(path + fileName, 'wb') as fp:\n",
    "        fp.write(response.content)\n",
    "    print(fileName, \"  successful\")"
   ]
  },
  {
   "cell_type": "code",
   "execution_count": 8,
   "metadata": {},
   "outputs": [],
   "source": [
    "def getAllUrlOfEveryPage(url):\n",
    "    html = getHTML(url)\n",
    "    soup = BeautifulSoup(html, 'lxml')\n",
    "    linkLists = []\n",
    "    for a in soup.find_all('a', href=True): \n",
    "        if a.get_text(strip=True):\n",
    "            #print(a['href'])\n",
    "            matchObj = re.match(r'/youshengshu/46117522/[1-9]', a['href'], re.I)\n",
    "            if matchObj:\n",
    "                #print(a['href'])\n",
    "                linkLists.append('https://www.ximalaya.com'+a['href'])\n",
    "    return linkLists"
   ]
  },
  {
   "cell_type": "code",
   "execution_count": 9,
   "metadata": {},
   "outputs": [
    {
     "name": "stdout",
     "output_type": "stream",
     "text": [
      "https://www.ximalaya.com/youshengshu/46117522/379630280\n",
      "https://www.ximalaya.com/youshengshu/46117522/380040543\n",
      "https://www.ximalaya.com/youshengshu/46117522/380436741\n",
      "https://www.ximalaya.com/youshengshu/46117522/380826131\n",
      "https://www.ximalaya.com/youshengshu/46117522/381225268\n",
      "https://www.ximalaya.com/youshengshu/46117522/381654207\n",
      "https://www.ximalaya.com/youshengshu/46117522/382075128\n",
      "https://www.ximalaya.com/youshengshu/46117522/382492726\n",
      "https://www.ximalaya.com/youshengshu/46117522/382888225\n",
      "https://www.ximalaya.com/youshengshu/46117522/383272532\n",
      "https://www.ximalaya.com/youshengshu/46117522/383639757\n",
      "https://www.ximalaya.com/youshengshu/46117522/384003468\n",
      "https://www.ximalaya.com/youshengshu/46117522/384365163\n",
      "https://www.ximalaya.com/youshengshu/46117522/384708005\n",
      "https://www.ximalaya.com/youshengshu/46117522/385009543\n",
      "https://www.ximalaya.com/youshengshu/46117522/385195932\n",
      "https://www.ximalaya.com/youshengshu/46117522/385412799\n",
      "https://www.ximalaya.com/youshengshu/46117522/385649425\n",
      "https://www.ximalaya.com/youshengshu/46117522/385909709\n",
      "https://www.ximalaya.com/youshengshu/46117522/386192201\n",
      "https://www.ximalaya.com/youshengshu/46117522/386488374\n",
      "https://www.ximalaya.com/youshengshu/46117522/386812825\n",
      "https://www.ximalaya.com/youshengshu/46117522/387167052\n",
      "https://www.ximalaya.com/youshengshu/46117522/387523360\n",
      "https://www.ximalaya.com/youshengshu/46117522/387865092\n",
      "https://www.ximalaya.com/youshengshu/46117522/388201908\n",
      "https://www.ximalaya.com/youshengshu/46117522/388552084\n",
      "https://www.ximalaya.com/youshengshu/46117522/388906346\n",
      "https://www.ximalaya.com/youshengshu/46117522/389252967\n",
      "https://www.ximalaya.com/youshengshu/46117522/389596460\n"
     ]
    }
   ],
   "source": [
    "for link in getAllUrlOfEveryPage('https://www.ximalaya.com/youshengshu/46117522/p1/'):\n",
    "    print(link)"
   ]
  },
  {
   "cell_type": "code",
   "execution_count": 10,
   "metadata": {},
   "outputs": [],
   "source": [
    "def getAudioDownloadUrl(url):\n",
    "    obj_json = getResponse(url).json()\n",
    "    return obj_json['data']['src']"
   ]
  },
  {
   "cell_type": "code",
   "execution_count": 11,
   "metadata": {},
   "outputs": [
    {
     "name": "stdout",
     "output_type": "stream",
     "text": [
      "https://www.ximalaya.com/youshengshu/46117522/p1/\n",
      "30\n",
      "CMCoOSQD593XAFy4CACAtpH9.m4a   successful\n",
      "CMCoOSAD6S9MAC_7tQCBHG8_.m4a   successful\n",
      "CMCoOSED6oDGADEkVACBg1zO.m4a   successful\n",
      "CMCoOSUD69JNAC9KBwCB2lbw.m4a   successful\n",
      "CMCoOSQD7SPLACzbZwCCNaca.m4a   successful\n",
      "CKwRIJED7nWLAC_ufACCuoLq.m4a   successful\n",
      "CMCoOSAD78ayABjiUQCDQC3U.m4a   successful\n",
      "CKwRIaID8RhnAEQvhgCDuuS5.m4a   successful\n",
      "CKwRINsD8mnqAC6p9gCENGDh.m4a   successful\n",
      "CMCoOR8D87syADfgRACEp0F_.m4a   successful\n",
      "CMCoOSAD9Qy1AC3WgQCFAyIX.m4a   successful\n",
      "CMCoOSYD9l45AEeyNgCFYEsL.m4a   successful\n",
      "CKwRIMAD96_SADBifgCF1uat.m4a   successful\n",
      "CMCoOSQD-QE6AEMIYQCGRsPI.m4a   successful\n",
      "CKwRIW4D-lLJADKsZgCGoO0T.m4a   successful\n",
      "CMCoOScD-6RCAGI_mQCG3cfH.m4a   successful\n",
      "CMCoOSYD_PW8AERozQCHI05G.m4a   successful\n",
      "CMCoOScD_kcxACHH2wCHYFKG.m4a   successful\n",
      "CKwRIW4D_5jBACL2WgCHoxlK.m4a   successful\n",
      "CKwRIDoEAOpNAC_c3QCIA_bh.m4a   successful\n",
      "CKwRIDoEAjvKAC852wCIaRSk.m4a   successful\n",
      "CMCoOSAEA400ADJuuACIxPDA.m4a   successful\n",
      "CMCoOSMEBN62ADSnAgCJKaA4.m4a   successful\n",
      "CMCoOSEEBjBAAESDPQCJjdso.m4a   successful\n",
      "CKwRIW4EB4HDADCgKQCJ4Smw.m4a   successful\n",
      "CMCoOSUECNMyADHaaACKMig8.m4a   successful\n",
      "CKwRIaIECiS4ADWn_ACKqhlv.m4a   successful\n",
      "CKwRINsEC3Y9ADnNqACLJIpT.m4a   successful\n",
      "CMCoOSAEDMe5ADF1FgCLj3Dq.m4a   successful\n",
      "CKwRINsEDhlgADbrCgCL9uMe.m4a   successful\n",
      "page 1 successful\n",
      "https://www.ximalaya.com/youshengshu/46117522/p2/\n",
      "30\n",
      "CMCoOSUED2qzADWGNQCMVE_E.m4a   successful\n",
      "CKwRIJEEELxWACvdXACMoeI4.m4a   successful\n",
      "CMCoOSEEEg20ADHwcQCM7phq.m4a   successful\n",
      "CKwRIaIEE191AD-IoACNaP21.m4a   successful\n",
      "CKwRIUEEFLDxADq-eQCN4v6m.m4a   successful\n",
      "CKwRIDoEFgKCADNAtQCOTTkQ.m4a   successful\n",
      "CKwRIDoEF1QEACuDygCOtC_I.m4a   successful\n",
      "CKwRIaIEGKWEACubRgCPFRLB.m4a   successful\n",
      "CKwRIRwEGfb4ACIaFwCPZUMT.m4a   successful\n",
      "CKwRINsEG0iDACbJygCPsomv.m4a   successful\n",
      "CKwRIW4EHJoAACcNWACQJSHb.m4a   successful\n",
      "CKwRIUEEHdYQACs45gCQlP6q.m4a   successful\n",
      "CKwRIRwEHyeQACLHWgCQ_SDj.m4a   successful\n",
      "CKwRIDoEIHkNACBhjwCRYHBg.m4a   successful\n",
      "CKwRIMAEIcqUADJ4_wCRuAeh.m4a   successful\n",
      "CKwRIUEEIxwUADBVRgCSBaeF.m4a   successful\n",
      "CKwRIRwEJG2QACpp2gCSUqP1.m4a   successful\n",
      "CKwRIJEEJb8TACzVhwCSy8Ky.m4a   successful\n",
      "CKwRIW4EJxCTADGFOgCTSATy.m4a   successful\n",
      "CKwRIMAEKGIRACMuJACTsAZM.m4a   successful\n",
      "CKwRIMAEKbORACnPqACUF8of.m4a   successful\n",
      "CKwRINsEKwURADNDpACUc2Cc.m4a   successful\n",
      "CKwRIMAELFaUADrwaQCUwsfE.m4a   successful\n",
      "CKwRIUEELagSAEUe4ACVFjSu.m4a   successful\n",
      "CKwRIW4ELvmRADj6MQCVkTQk.m4a   successful\n",
      "CKwRIUEEMEsQAC8lTQCWDeus.m4a   successful\n",
      "CKwRIMAEMZySAC1cnwCWdb_j.m4a   successful\n",
      "CKwRIUEEMu4PACzeVACW3A3W.m4a   successful\n",
      "CKwRIDoEND-RAC_bYgCXN8w0.m4a   successful\n",
      "CKwRIMAENZETAEKLjACXiNGS.m4a   successful\n",
      "page 2 successful\n",
      "https://www.ximalaya.com/youshengshu/46117522/p3/\n",
      "1\n",
      "CKwRIDoENuKSADT3xQCX2Fnk.m4a   successful\n",
      "page 3 successful\n"
     ]
    }
   ],
   "source": [
    "for i in range(1, 4):\n",
    "    pageUrl = f'https://www.ximalaya.com/youshengshu/46117522/p{i}/'\n",
    "    print(pageUrl)\n",
    "    linkLists = getAllUrlOfEveryPage(pageUrl)\n",
    "    print(len(linkLists))\n",
    "    for link in linkLists:\n",
    "        id = link.split('/')[-1]\n",
    "        # https://www.ximalaya.com/revision/play/v1/audio?id=86961129&ptype=1\n",
    "        audioUrl = f'https://www.ximalaya.com/revision/play/v1/audio?id={id}&ptype=1'\n",
    "        downloadUrl = getAudioDownloadUrl(audioUrl)\n",
    "        #print(downloadUrl)\n",
    "        getAudio(downloadUrl)\n",
    "    print(f'page {i} successful')"
   ]
  },
  {
   "cell_type": "code",
   "execution_count": null,
   "metadata": {},
   "outputs": [],
   "source": []
  }
 ],
 "metadata": {
  "kernelspec": {
   "display_name": "Python 3",
   "language": "python",
   "name": "python3"
  },
  "language_info": {
   "codemirror_mode": {
    "name": "ipython",
    "version": 3
   },
   "file_extension": ".py",
   "mimetype": "text/x-python",
   "name": "python",
   "nbconvert_exporter": "python",
   "pygments_lexer": "ipython3",
   "version": "3.8.5"
  }
 },
 "nbformat": 4,
 "nbformat_minor": 4
}
