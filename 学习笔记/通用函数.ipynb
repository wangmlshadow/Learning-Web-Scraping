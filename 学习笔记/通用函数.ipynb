{
 "cells": [
  {
   "cell_type": "code",
   "execution_count": 1,
   "metadata": {},
   "outputs": [],
   "source": [
    "import requests\n",
    "from bs4 import BeautifulSoup\n",
    "import re\n",
    "import json\n",
    "from selenium import webdriver\n",
    "from lxml import etree\n",
    "import os\n",
    "from os import path\n",
    "import shutil\n",
    "import time\n",
    "import demjson\n",
    "from selenium.webdriver.chrome.options import Options\n",
    "from multiprocessing.dummy import Pool"
   ]
  },
  {
   "cell_type": "code",
   "execution_count": 4,
   "metadata": {},
   "outputs": [],
   "source": [
    "def getResponse(url):\n",
    "    headers = {\n",
    "        'User-Agent':'Mozilla/5.0 (Windows NT 10.0; Win64; x64) AppleWebKit/537.36 (KHTML, like Gecko) Chrome/88.0.4324.182 Safari/537.36'\n",
    "    }\n",
    "    response = requests.get(url=url, headers=headers)\n",
    "    return response"
   ]
  },
  {
   "cell_type": "code",
   "execution_count": 5,
   "metadata": {},
   "outputs": [],
   "source": [
    "def getHTML(url):\n",
    "    response = getResponse(url)\n",
    "    response.encoding = 'utf-8'\n",
    "    return response.text"
   ]
  },
  {
   "cell_type": "code",
   "execution_count": 6,
   "metadata": {},
   "outputs": [],
   "source": [
    "# 通过selenium获取page_text\n",
    "def getHTMLBySelenium(url):\n",
    "    chrome_options =Options()\n",
    "    chrome_options.add_argument('--headless')\n",
    "    browser = webdriver.Chrome(executable_path='C:/Users/Administrator/Desktop/chromedriver_win32/chromedriver.exe', options=chrome_options)\n",
    "    browser.get(url)\n",
    "    time.sleep(2)\n",
    "    page_text = browser.page_source\n",
    "    browser.quit()\n",
    "    return page_text"
   ]
  },
  {
   "cell_type": "code",
   "execution_count": null,
   "metadata": {},
   "outputs": [],
   "source": [
    "# 正则\n",
    "# 使用聚焦爬虫将页面中所有的图片解析提取\n",
    "# ex = '<div class=\"thumb\">.*?<img src=\"(.*?)\" alt.*?</div>'\n",
    "# re.S单行匹配\n",
    "# re.M多行匹配\n",
    "# img_src_list = re.findall(ex, page_text, re.S)"
   ]
  },
  {
   "cell_type": "code",
   "execution_count": null,
   "metadata": {},
   "outputs": [],
   "source": [
    "# 多线程\n",
    "# pool = Pool(4)\n",
    "# pool.map(video2audio, allVideo)\n",
    "# pool.close()\n",
    "# pool.join()"
   ]
  },
  {
   "cell_type": "code",
   "execution_count": null,
   "metadata": {},
   "outputs": [],
   "source": [
    "# 多线程下载"
   ]
  },
  {
   "cell_type": "code",
   "execution_count": 1,
   "metadata": {},
   "outputs": [],
   "source": [
    "def download(url):\n",
    "    fileName = (url.rsplit('/', 1)[-1]).split('?', 1)[0]\n",
    "    path = 'audio/'\n",
    "    try:\n",
    "        content = getResponse(url).content\n",
    "        with open(path + fileName, 'wb') as fp:\n",
    "            fp.write(content)\n",
    "        print(fileName, 'successful')\n",
    "    except Exception as e:\n",
    "        print(\"error\")"
   ]
  },
  {
   "cell_type": "code",
   "execution_count": null,
   "metadata": {},
   "outputs": [],
   "source": [
    "allObj = []\n",
    "for i, url in enumerate(srcUrls):\n",
    "    obj = {\n",
    "        'id':i,\n",
    "        'url':url\n",
    "    }\n",
    "    allObj.append(obj)\n",
    "print(len(allObj))"
   ]
  },
  {
   "cell_type": "code",
   "execution_count": null,
   "metadata": {},
   "outputs": [],
   "source": [
    "def multithreadDownload(obj):\n",
    "    ID = obj['id']\n",
    "    url = obj['url']\n",
    "    print(f'start download {ID}')\n",
    "    download(url)"
   ]
  },
  {
   "cell_type": "code",
   "execution_count": null,
   "metadata": {},
   "outputs": [],
   "source": [
    "# 爬取ts\n",
    "def downloadEveryTs(url):\n",
    "    allContent = getResponse(url).text\n",
    "    fileLine = allContent.split('\\n')\n",
    "    downloadPath = 'download'\n",
    "    if not os.path.exists(downloadPath):\n",
    "        os.mkdir(downloadPath)\n",
    "    # 通过判断文件头来确定是否是M3U8文件\n",
    "    if fileLine[0] != \"#EXTM3U\":\n",
    "        raise BaseException(u\"非M3U8的链接\")\n",
    "    else:\n",
    "        unknow = True# 用来判断是否找到了下载地址\n",
    "        for index, line in enumerate(fileLine):\n",
    "            if \"EXTINF\" in line:\n",
    "                unknow = False\n",
    "                # 拼出ts片段的URL\n",
    "                tsUrl = url.rsplit('/', 1)[0] + '/' + fileLine[index + 1]# i.ts在下一行\n",
    "                #print(tsUrl)\n",
    "                res = getResponse(tsUrl)\n",
    "                cFuleName = (str(fileLine[index + 1])).split('?')[0]\n",
    "                with open(downloadPath + '/' + cFuleName, 'ab') as fp:\n",
    "                    fp.write(res.content)\n",
    "                    fp.flush()\n",
    "        if unknow:\n",
    "            raise BaseException(u\"未找到对应的下载地址\")\n",
    "        else:\n",
    "            print(\"ts 下载完成\")"
   ]
  },
  {
   "cell_type": "code",
   "execution_count": null,
   "metadata": {},
   "outputs": [],
   "source": [
    "# ts文件合并\n",
    "def file_walker(path):\n",
    "    file_list = []\n",
    "    for root, dirs, files in os.walk(path): # 生成器\n",
    "        for fn in files:\n",
    "            p = str(root+'/'+fn)\n",
    "            file_list.append(p)\n",
    " \n",
    "    #print(file_list)\n",
    "    return file_list\n",
    " \n",
    "# def combine(ts_path, combine_path, file_name):\n",
    "#     file_list = file_walker(ts_path)\n",
    "#     file_path = combine_path + file_name + '.ts'\n",
    "#     with open(file_path, 'wb+') as fw:\n",
    "#         for i in range(len(file_list)): \n",
    "#             fw.write(open(file_list[i], 'rb').read())\n",
    "\n",
    "def combine(ts_path, combine_path, file_name):\n",
    "    file_list = file_walker(ts_path)\n",
    "    cnt = 1\n",
    "    Name = f'_{cnt}'\n",
    "    file_path = combine_path + file_name + Name + '.ts'\n",
    "    fp = open(file_path, 'wb+')\n",
    "    for i in range(len(file_list)):\n",
    "        fp.write(open(file_list[i], 'rb').read())\n",
    "        if (i + 1) % 500 == 0:\n",
    "            fp.close()\n",
    "            cnt += 1\n",
    "            Name = f'_{cnt}'\n",
    "            file_path = combine_path + file_name + Name + '.ts'\n",
    "            fp = open(file_path, 'wb+')\n",
    "    fp.close()\n",
    "    \n",
    "            \n",
    "# 删除之前下载的一段段的ts文件\n",
    "def clear():\n",
    "    shutil.rmtree('./download3')\n",
    "    time.sleep(1)\n",
    "    os.mkdir('download3')\n",
    "    \n",
    "def downloadTs(url, fileName):\n",
    "    downloadEveryTs(url)\n",
    "    combine('./download', 'E:/work/ts/', fileName)\n",
    "    print(fileName, ' successful')\n",
    "    clear()"
   ]
  },
  {
   "cell_type": "code",
   "execution_count": null,
   "metadata": {},
   "outputs": [],
   "source": [
    "# 获取视频下载地址以及对应文本内容\n",
    "def getMp4UrlAndText(url):\n",
    "    page_text = getHTMLBySelenium(url)\n",
    "    tree = etree.HTML(page_text)\n",
    "    # https://d03.lawtimeimg.com/video/48/27676.mp4\n",
    "    temp = tree.xpath('//div[@class=\"video-box\"]/video/@src')\n",
    "    if len(temp) == 0:\n",
    "        return '', ''\n",
    "    mp4Url = 'https:' + temp[0]\n",
    "    allText = tree.xpath('//div[@class=\"video-text\"]//text()')\n",
    "    text = '\\n'.join(allText)\n",
    "    return mp4Url, text"
   ]
  },
  {
   "cell_type": "code",
   "execution_count": null,
   "metadata": {},
   "outputs": [],
   "source": [
    "# 下载视频以及对应文本\n",
    "def downloadVideoAndText(url, fileName):\n",
    "    try:\n",
    "        mp4Url, text = getMp4UrlAndText(url)\n",
    "        if mp4Url == '':\n",
    "            print(fileName, ' empty')\n",
    "            return\n",
    "        with open('text/' + fileName + '.txt', 'w', encoding='utf-8') as fp:\n",
    "            fp.write(text)\n",
    "            print(fileName, ' text successful')\n",
    "        content = getResponse(mp4Url).content\n",
    "        with open('mp4/' + fileName + '.mp4', 'wb') as fp:\n",
    "            fp.write(content)\n",
    "            print(fileName, ' mp4 successful')\n",
    "    except Exception as e:\n",
    "        print(fileName, 'error')"
   ]
  },
  {
   "cell_type": "code",
   "execution_count": null,
   "metadata": {},
   "outputs": [],
   "source": [
    "# 针对验证码不需要对错 子需要Enter即可的情况\n",
    "def retry(url):\n",
    "    try:\n",
    "        print('retry')\n",
    "        browser = webdriver.Chrome(executable_path='C:/Users/Administrator/Desktop/chromedriver_win32/chromedriver.exe')\n",
    "        browser.get(url)\n",
    "        time.sleep(2)\n",
    "        \"\"\"\n",
    "        inputLine = browser.find_element_by_id('vgcode')\n",
    "        inputLine.send_keys('1234')\n",
    "        btn = browser.find_element_by_id('resubimt')\n",
    "        time.sleep(20)\n",
    "        btn.click()\n",
    "        time.sleep(60)\n",
    "        \"\"\"\n",
    "        ActionChains(browser).send_keys(Keys.ENTER).perform()\n",
    "        time.sleep(2)\n",
    "        browser.quit()\n",
    "    except Exception as e:\n",
    "        return"
   ]
  }
 ],
 "metadata": {
  "kernelspec": {
   "display_name": "Python 3",
   "language": "python",
   "name": "python3"
  },
  "language_info": {
   "codemirror_mode": {
    "name": "ipython",
    "version": 3
   },
   "file_extension": ".py",
   "mimetype": "text/x-python",
   "name": "python",
   "nbconvert_exporter": "python",
   "pygments_lexer": "ipython3",
   "version": "3.8.5"
  }
 },
 "nbformat": 4,
 "nbformat_minor": 4
}
