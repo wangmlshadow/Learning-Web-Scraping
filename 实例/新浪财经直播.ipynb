{
 "cells": [
  {
   "cell_type": "code",
   "execution_count": 1,
   "metadata": {},
   "outputs": [],
   "source": [
    "import requests\n",
    "from bs4 import BeautifulSoup\n",
    "import re\n",
    "import json\n",
    "from selenium import webdriver\n",
    "from lxml import etree\n",
    "import os\n",
    "from os import path\n",
    "import shutil\n",
    "import time\n",
    "import demjson\n",
    "from selenium.webdriver.chrome.options import Options\n",
    "from multiprocessing.dummy import Pool"
   ]
  },
  {
   "cell_type": "code",
   "execution_count": 2,
   "metadata": {},
   "outputs": [],
   "source": [
    "def getResponse(url):\n",
    "    headers = {\n",
    "        'User-Agent':'Mozilla/5.0 (Windows NT 10.0; Win64; x64) AppleWebKit/537.36 (KHTML, like Gecko) Chrome/88.0.4324.182 Safari/537.36'\n",
    "    }\n",
    "    response = requests.get(url=url, headers=headers)\n",
    "    return response"
   ]
  },
  {
   "cell_type": "code",
   "execution_count": 3,
   "metadata": {},
   "outputs": [],
   "source": [
    "# 通过selenium获取page_text\n",
    "def getHTMLBySelenium(url):\n",
    "    chrome_options =Options()\n",
    "    chrome_options.add_argument('--headless')\n",
    "    browser = webdriver.Chrome(executable_path='C:/Users/Administrator/Desktop/chromedriver_win32/chromedriver.exe', options=chrome_options)\n",
    "    browser.get(url)\n",
    "    time.sleep(2)\n",
    "    page_text = browser.page_source\n",
    "    browser.quit()\n",
    "    return page_text"
   ]
  },
  {
   "cell_type": "code",
   "execution_count": 4,
   "metadata": {},
   "outputs": [],
   "source": [
    "# 有ts也有MP4"
   ]
  },
  {
   "cell_type": "code",
   "execution_count": 5,
   "metadata": {},
   "outputs": [],
   "source": [
    "def getDetailM3U8(url):\n",
    "    page_text = getHTMLBySelenium(url)\n",
    "    tree = etree.HTML(page_text)\n",
    "    m3u8Url = tree.xpath('//*[@id=\"program_type_1\"]/div/div/@v-live')\n",
    "    if len(m3u8Url) == 0:\n",
    "        return ''\n",
    "    return m3u8Url[0]"
   ]
  },
  {
   "cell_type": "code",
   "execution_count": 6,
   "metadata": {},
   "outputs": [],
   "source": [
    "def getMp4Url(url):\n",
    "    page_text = getHTMLBySelenium(url)\n",
    "    #print(page_text)\n",
    "    tree = etree.HTML(page_text)\n",
    "    mp4Url = tree.xpath('//div[@class=\"videoWrap\"]//video/@src')\n",
    "    if len(mp4Url) == 0:\n",
    "        return ''\n",
    "    return mp4Url[0]"
   ]
  },
  {
   "cell_type": "code",
   "execution_count": 7,
   "metadata": {},
   "outputs": [],
   "source": [
    "# http:\\/\\/live.finance.sina.cn\\/bozhu\\/1877471117\\/114447?client_url=sinafinance%3A%2F%2Ftype%3D25%26program_type%3D8%26bid%3D1877471117%26cid%3D114447"
   ]
  },
  {
   "cell_type": "code",
   "execution_count": 8,
   "metadata": {},
   "outputs": [],
   "source": [
    "def getNewsUrl(page):\n",
    "    url = f'http://app.finance.sina.com.cn/course/index.php?callback=jsonp_1618881501936351&p=course&s=program&a=lists&format=json&extra=&page={page}&pagesize=20&live_status=&program_type=1%2C7%2C8&ordertype=&buid=&_=1618879123928'\n",
    "    res = getResponse(url)\n",
    "    res.encoding = 'utf-8'\n",
    "    page_text = res.text\n",
    "    linkList = []\n",
    "    sonObj = demjson.decode(page_text[27:-14])\n",
    "    for temp in sonObj['result']['data']:\n",
    "        newsUrl = temp['newsUrl']\n",
    "        #print(newsUrl)\n",
    "        linkList.append(newsUrl)\n",
    "    return linkList"
   ]
  },
  {
   "cell_type": "code",
   "execution_count": 9,
   "metadata": {},
   "outputs": [],
   "source": [
    "def downloadEveryTs(url):\n",
    "    allContent = getResponse(url).text\n",
    "    fileLine = allContent.split('\\n')\n",
    "    downloadPath = 'download'\n",
    "    if not os.path.exists(downloadPath):\n",
    "        os.mkdir(downloadPath)\n",
    "    # 通过判断文件头来确定是否是M3U8文件\n",
    "    if fileLine[0] != \"#EXTM3U\":\n",
    "        #raise BaseException(u\"非M3U8的链接\")\n",
    "        print('非M3U8的链接')\n",
    "        return\n",
    "    else:\n",
    "        unknow = True# 用来判断是否找到了下载地址\n",
    "        for index, line in enumerate(fileLine):\n",
    "            if \"EXTINF\" in line:\n",
    "                unknow = False\n",
    "                # 拼出ts片段的URL\n",
    "                tsUrl = url.rsplit('/', 1)[0] + '/' + fileLine[index + 1]# i.ts在下一行\n",
    "                #print(tsUrl)\n",
    "                res = getResponse(tsUrl)\n",
    "                cFuleName = (str(fileLine[index + 1])).split('?')[0]\n",
    "                with open(downloadPath + '/' + cFuleName, 'ab') as fp:\n",
    "                    fp.write(res.content)\n",
    "                    fp.flush()\n",
    "        if unknow:\n",
    "            raise BaseException(u\"未找到对应的下载地址\")\n",
    "        else:\n",
    "            print(\"ts 下载完成\")"
   ]
  },
  {
   "cell_type": "code",
   "execution_count": 10,
   "metadata": {},
   "outputs": [],
   "source": [
    "# ts文件合并\n",
    "def file_walker(path):\n",
    "    file_list = []\n",
    "    for root, dirs, files in os.walk(path): # 生成器\n",
    "        for fn in files:\n",
    "            p = str(root+'/'+fn)\n",
    "            file_list.append(p)\n",
    " \n",
    "    #print(file_list)\n",
    "    return file_list\n",
    " \n",
    "def combine(ts_path, combine_path, file_name):\n",
    "    file_list = file_walker(ts_path)\n",
    "    cnt = 1\n",
    "    Name = f'_{cnt}'\n",
    "    file_path = combine_path + file_name + Name + '.ts'\n",
    "    fp = open(file_path, 'wb+')\n",
    "    for i in range(len(file_list)):\n",
    "        fp.write(open(file_list[i], 'rb').read())\n",
    "        if (i + 1) % 500 == 0:\n",
    "            fp.close()\n",
    "            cnt += 1\n",
    "            Name = f'_{cnt}'\n",
    "            file_path = combine_path + file_name + Name + '.ts'\n",
    "            fp = open(file_path, 'wb+')\n",
    "    fp.close()\n",
    "            \n",
    "# 删除之前下载的一段段的ts文件\n",
    "def clear():\n",
    "    shutil.rmtree('./download')\n",
    "    time.sleep(1)\n",
    "    os.mkdir('download')"
   ]
  },
  {
   "cell_type": "code",
   "execution_count": 11,
   "metadata": {},
   "outputs": [],
   "source": [
    "def downloadTs(url, fileName):\n",
    "    downloadEveryTs(url)\n",
    "    combine('./download', 'E:/work/ts/', fileName)\n",
    "    print(fileName, ' successful')\n",
    "    clear()"
   ]
  },
  {
   "cell_type": "code",
   "execution_count": 12,
   "metadata": {},
   "outputs": [],
   "source": [
    "def downloadMp4(url, fileName):\n",
    "    content = getResponse(url).content\n",
    "    path = 'mp4/'\n",
    "    with open(path + fileName + '.mp4', 'wb') as fp:\n",
    "        fp.write(content)\n",
    "    print(fileName, \" successful\")"
   ]
  },
  {
   "cell_type": "code",
   "execution_count": null,
   "metadata": {
    "scrolled": true
   },
   "outputs": [
    {
     "name": "stdout",
     "output_type": "stream",
     "text": [
      "page 27\n",
      "http://live.finance.sina.cn/bozhu/3207370702/109191?client_url=sinafinance%3A%2F%2Ftype%3D25%26program_type%3D1%26bid%3D3207370702%26cid%3D109191\n"
     ]
    }
   ],
   "source": [
    "total = 470\n",
    "for page in range(27, 101):\n",
    "    print(f'page {page}')\n",
    "    for link in getNewsUrl(page):\n",
    "        if total < 180:\n",
    "            total = total + 1\n",
    "            continue\n",
    "        print(link)\n",
    "        m3u8Url = getDetailM3U8(link)\n",
    "        if m3u8Url != '':\n",
    "            downloadTs(m3u8Url, str(total))\n",
    "            total = total + 1\n",
    "            continue\n",
    "        mp4Url = getMp4Url(link)\n",
    "        if mp4Url != '':\n",
    "            downloadMp4(mp4Url, str(total))\n",
    "            total = total + 1\n",
    "            continue\n",
    "        total = total + 1\n",
    "        print(str(total), ' empty')"
   ]
  },
  {
   "cell_type": "code",
   "execution_count": null,
   "metadata": {},
   "outputs": [],
   "source": []
  }
 ],
 "metadata": {
  "kernelspec": {
   "display_name": "Python 3",
   "language": "python",
   "name": "python3"
  },
  "language_info": {
   "codemirror_mode": {
    "name": "ipython",
    "version": 3
   },
   "file_extension": ".py",
   "mimetype": "text/x-python",
   "name": "python",
   "nbconvert_exporter": "python",
   "pygments_lexer": "ipython3",
   "version": "3.8.5"
  }
 },
 "nbformat": 4,
 "nbformat_minor": 4
}
