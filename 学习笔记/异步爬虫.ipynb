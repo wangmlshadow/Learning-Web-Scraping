{
 "cells": [
  {
   "cell_type": "markdown",
   "metadata": {},
   "source": [
    "# 异步爬虫"
   ]
  },
  {
   "cell_type": "code",
   "execution_count": 1,
   "metadata": {},
   "outputs": [],
   "source": [
    "# 高性能异步爬虫\n",
    "# 目的：在爬虫中使用异步实现高性能的数据爬取操作\n",
    "\n",
    "# requestes.get 是一个阻塞的方法 "
   ]
  },
  {
   "cell_type": "code",
   "execution_count": 8,
   "metadata": {},
   "outputs": [],
   "source": [
    "import requests"
   ]
  },
  {
   "cell_type": "code",
   "execution_count": 9,
   "metadata": {},
   "outputs": [],
   "source": [
    "headers = {\n",
    "    'User-Agent':'Mozilla/5.0 (Windows NT 10.0; Win64; x64) AppleWebKit/537.36 (KHTML, like Gecko) Chrome/88.0.4324.182 Safari/537.36'\n",
    "}"
   ]
  },
  {
   "cell_type": "code",
   "execution_count": 10,
   "metadata": {},
   "outputs": [],
   "source": [
    "urls = [\n",
    "    'http://wenjian.jkb.com.cn/video/20140916xuetangguanli.mp4',\n",
    "    'http://wenjian.jkb.com.cn/video/20140916yidaosuzhiliaodechangyongfangan.mp4',\n",
    "    'http://wenjian.jkb.com.cn/video/20140910manxingbingheliyongyao.mp4'\n",
    "]"
   ]
  },
  {
   "cell_type": "code",
   "execution_count": 11,
   "metadata": {},
   "outputs": [],
   "source": [
    "def get_content(url):\n",
    "    print(\"正在爬取： \", url)\n",
    "    response = requests.get(url=url, headers=headers)\n",
    "    if response.status_code == 200:\n",
    "        return response.content"
   ]
  },
  {
   "cell_type": "code",
   "execution_count": 12,
   "metadata": {},
   "outputs": [],
   "source": [
    "def parse_content(content):\n",
    "    print('相应数据的长度为： ', len(content))"
   ]
  },
  {
   "cell_type": "code",
   "execution_count": null,
   "metadata": {},
   "outputs": [],
   "source": [
    "for url in urls:\n",
    "    content = get_content(url)\n",
    "    parse_content(content)"
   ]
  },
  {
   "cell_type": "markdown",
   "metadata": {},
   "source": [
    "# 异步爬虫的方式"
   ]
  },
  {
   "cell_type": "code",
   "execution_count": 13,
   "metadata": {},
   "outputs": [],
   "source": [
    "# 多线程 多进程\n",
    "# 好处：可以为相关阻塞操作单独开启线程或进程 阻塞操作可以异步执行\n",
    "# 弊端：无法无限制的开启多线程或者多进程\n"
   ]
  },
  {
   "cell_type": "code",
   "execution_count": 14,
   "metadata": {},
   "outputs": [],
   "source": [
    "# 线程池 进程池（适当使用）\n",
    "# 好处：我们可以降低系统对进程或线程创建和销毁的频率 从而很好的降低系统的开销\n",
    "# 弊端：池中线程或进程的数量是有上限的"
   ]
  },
  {
   "cell_type": "code",
   "execution_count": 15,
   "metadata": {},
   "outputs": [],
   "source": [
    "import time\n"
   ]
  },
  {
   "cell_type": "code",
   "execution_count": 19,
   "metadata": {},
   "outputs": [],
   "source": [
    "def get_page(str):# 模拟\n",
    "    print(\"正在下载：\", str)\n",
    "    time.sleep(2)\n",
    "    print('下载成功：', str)"
   ]
  },
  {
   "cell_type": "code",
   "execution_count": 20,
   "metadata": {},
   "outputs": [],
   "source": [
    "name_list = ['xiaozi', 'aa', 'bb', 'cc']"
   ]
  },
  {
   "cell_type": "code",
   "execution_count": 21,
   "metadata": {},
   "outputs": [
    {
     "name": "stdout",
     "output_type": "stream",
     "text": [
      "正在下载： xiaozi\n",
      "下载成功： xiaozi\n",
      "正在下载： aa\n",
      "下载成功： aa\n",
      "正在下载： bb\n",
      "下载成功： bb\n",
      "正在下载： cc\n",
      "下载成功： cc\n",
      "8 second\n"
     ]
    }
   ],
   "source": [
    "# 使用单线程串行方式执行\n",
    "start_time = time.time()\n",
    "\n",
    "for i in range(len(name_list)):\n",
    "    get_page(name_list[i])\n",
    "    \n",
    "end_time = time.time()\n",
    "print('%d second'% (end_time - start_time))"
   ]
  },
  {
   "cell_type": "code",
   "execution_count": 22,
   "metadata": {},
   "outputs": [],
   "source": [
    "# 基于线程池的方式执行"
   ]
  },
  {
   "cell_type": "code",
   "execution_count": 23,
   "metadata": {},
   "outputs": [],
   "source": [
    "# 导入线程池模块对应的类\n",
    "from multiprocessing.dummy import Pool"
   ]
  },
  {
   "cell_type": "code",
   "execution_count": 24,
   "metadata": {},
   "outputs": [
    {
     "name": "stdout",
     "output_type": "stream",
     "text": [
      "正在下载： xiaozi\n",
      "正在下载： aa\n",
      "正在下载： bb\n",
      "正在下载： cc\n",
      "下载成功： xiaozi\n",
      "下载成功： aa\n",
      "下载成功： bb\n",
      "下载成功： cc\n",
      "2 second\n"
     ]
    }
   ],
   "source": [
    "start_time = time.time()\n",
    "# 实例化一个线程池对象\n",
    "pool = Pool(4)\n",
    "# 将列表中每一个元素传递给get_page进行处理\n",
    "pool.map(get_page, name_list)\n",
    "end_time = time.time()\n",
    "print('%d second'% (end_time - start_time))"
   ]
  },
  {
   "cell_type": "code",
   "execution_count": 25,
   "metadata": {},
   "outputs": [],
   "source": [
    "# 线程池使用原则\n",
    "# 线程池处理的是阻塞且较为耗时的操作\n"
   ]
  },
  {
   "cell_type": "code",
   "execution_count": 46,
   "metadata": {},
   "outputs": [],
   "source": [
    "from lxml import etree\n",
    "import random\n",
    "import re"
   ]
  },
  {
   "cell_type": "code",
   "execution_count": 26,
   "metadata": {},
   "outputs": [],
   "source": [
    "# 爬取梨视频的视频数据\n",
    "# https://www.pearvideo.com/category_5"
   ]
  },
  {
   "cell_type": "code",
   "execution_count": 56,
   "metadata": {},
   "outputs": [],
   "source": [
    "# 可以参考 https://blog.csdn.net/General_zy/article/details/114791619\n",
    "# # 动态加载 通过XHR得到视频地址\n",
    "def getVideoUrl(detail_url):\n",
    "    # https://www.pearvideo.com/videoStatus.jsp\n",
    "    url = 'https://www.pearvideo.com/videoStatus.jsp'\n",
    "    # 需要UA Cookie Referer\n",
    "    # 否则出现该文章已删除的反爬问题\n",
    "    headers = {\n",
    "        'User-Agent':'Mozilla/5.0 (Windows NT 10.0; Win64; x64) AppleWebKit/537.36 (KHTML, like Gecko) Chrome/88.0.4324.182 Safari/537.36',\n",
    "        'Cookie':'__secdyid=16e132a5380e9acf9e8ef97a306c51163c1b18ec78ef1e55021617337941; JSESSIONID=0287BC9F031F6318EB35D723F1FD05AD; PEAR_UUID=577037eb-26a6-4a93-969b-f5b689bd2446; _uab_collina=161733794176512684106548; UM_distinctid=17890da802c853-0f1a66b5a48631-5771031-1fa400-17890da802de18; Hm_lvt_9707bc8d5f6bba210e7218b8496f076a=1617337942; p_h5_u=5AAFC631-D04D-4263-A8F8-1C4EA78E68A6; acw_tc=781bad2916173399152028460e5d9ec352fd8e7cce2d0e03ba85417275dcbe; CNZZDATA1260553744=706518655-1617334338-https%253A%252F%252Fwww.baidu.com%252F%7C1617339739; Hm_lpvt_9707bc8d5f6bba210e7218b8496f076a=1617339923; SERVERID=a6169b2e0636a71b774d6641c064eb8c|1617339990|1617337941',\n",
    "        'Referer':detail_url\n",
    "    }\n",
    "    videoId = (detail_url.split('/')[-1]).split('_')[-1]\n",
    "    param = {\n",
    "        'contId': videoId,\n",
    "        'mrd': str(random.random())\n",
    "    }\n",
    "    # json获取\n",
    "    # https://video.pearvideo.com/mp4/short/20210402/1617342588941-15646275-hd.mp4\n",
    "    obj_json = requests.get(url=url, headers=headers, params=param).json()\n",
    "    #print(obj_json)\n",
    "    # 这里获得的srcUrl还不是实际播放地址 还需要处理\n",
    "    srcUrl = obj_json['videoInfo']['videos']['srcUrl']\n",
    "    # 真实\n",
    "    # https://video.pearvideo.com/mp4/short/20210402/cont-1724857-15646275-hd.mp4\n",
    "    realUrl = srcUrl.replace((srcUrl.split('/')[-1]).split('-')[0], 'cont-'+videoId)\n",
    "    return realUrl"
   ]
  },
  {
   "cell_type": "code",
   "execution_count": 55,
   "metadata": {},
   "outputs": [
    {
     "name": "stdout",
     "output_type": "stream",
     "text": [
      "https://video.pearvideo.com/mp4/short/20210402/cont-1724857-15646275-hd.mp4\n"
     ]
    }
   ],
   "source": [
    "print(getVideoUrl('https://www.pearvideo.com/video_1724857'))"
   ]
  },
  {
   "cell_type": "code",
   "execution_count": 58,
   "metadata": {},
   "outputs": [],
   "source": [
    "# 对下述url发请求 解析出视频详情页的url和视频名称\n",
    "url = 'https://www.pearvideo.com/category_5'\n",
    "page_text = requests.get(url=url, headers=headers).text\n",
    "\n",
    "tree = etree.HTML(page_text)\n",
    "li_list = tree.xpath('//ul[@id=\"listvideoListUl\"]/li')\n",
    "urls = []# 存储所有视频的链接\n",
    "for li in li_list:\n",
    "    detail_url = 'https://www.pearvideo.com/' + li.xpath('./div/a/@href')[0]\n",
    "    name = li.xpath('./div/a/div[2]/text()')[0] + '.mp4'\n",
    "    #print(detail_url)\n",
    "    #print(name)\n",
    "    # 对详情页的url发起请求\n",
    "    detail_page_text = requests.get(url=url, headers=headers).text\n",
    "    # 从详情页中解析出视频的地址 （url）\n",
    "    # https://video.pearvideo.com/mp4/short/20210402/cont-1724857-15646275-hd.mp4\n",
    "    # 动态加载 通过XHR得到视频地址\n",
    "    video_url = getVideoUrl(detail_url)\n",
    "    dic = {\n",
    "        'name':name,\n",
    "        'url':video_url\n",
    "    }\n",
    "    urls.append(dic)\n",
    "    "
   ]
  },
  {
   "cell_type": "code",
   "execution_count": 60,
   "metadata": {},
   "outputs": [],
   "source": [
    "# 使用线程池对视频数据进行请求 （较为耗时的阻塞操作）\n",
    "from multiprocessing.dummy import Pool"
   ]
  },
  {
   "cell_type": "code",
   "execution_count": 62,
   "metadata": {},
   "outputs": [],
   "source": [
    "def get_video_data(dic):\n",
    "    url = dic['url']\n",
    "    headers = {\n",
    "        'User-Agent':'Mozilla/5.0 (Windows NT 10.0; Win64; x64) AppleWebKit/537.36 (KHTML, like Gecko) Chrome/88.0.4324.182 Safari/537.36',\n",
    "    }\n",
    "    print(dic['name'], '正在下载')\n",
    "    data = requests.get(url=url, headers=headers).content\n",
    "    with open(dic['name'], 'wb') as fp:\n",
    "        fp.write(data)\n",
    "        print(dic['name'], '下载成功')"
   ]
  },
  {
   "cell_type": "code",
   "execution_count": 63,
   "metadata": {},
   "outputs": [
    {
     "name": "stdout",
     "output_type": "stream",
     "text": [
      "马晔宁：画虎路上不停歇.mp4 正在下载\n",
      "全季CEO沈怡均带头接种疫苗：领导就要带头打.mp4 正在下载\n",
      "DIY迷你娃娃屋，田园中的小风车彩虹别墅.mp4 正在下载\n",
      "阿富汗青金石的美丽传说.mp4 正在下载\n",
      "马晔宁：画虎路上不停歇.mp4 下载成功\n",
      "全季CEO沈怡均带头接种疫苗：领导就要带头打.mp4 下载成功\n",
      "阿富汗青金石的美丽传说.mp4 下载成功\n",
      "DIY迷你娃娃屋，田园中的小风车彩虹别墅.mp4 下载成功\n"
     ]
    }
   ],
   "source": [
    "pool = Pool(4)\n",
    "pool.map(get_video_data, urls)\n",
    "pool.close()\n",
    "pool.join()"
   ]
  },
  {
   "cell_type": "code",
   "execution_count": null,
   "metadata": {},
   "outputs": [],
   "source": []
  }
 ],
 "metadata": {
  "kernelspec": {
   "display_name": "Python 3",
   "language": "python",
   "name": "python3"
  },
  "language_info": {
   "codemirror_mode": {
    "name": "ipython",
    "version": 3
   },
   "file_extension": ".py",
   "mimetype": "text/x-python",
   "name": "python",
   "nbconvert_exporter": "python",
   "pygments_lexer": "ipython3",
   "version": "3.8.5"
  }
 },
 "nbformat": 4,
 "nbformat_minor": 4
}
